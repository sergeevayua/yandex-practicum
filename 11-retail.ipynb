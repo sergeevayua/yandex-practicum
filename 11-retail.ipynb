{
 "cells": [
  {
   "cell_type": "markdown",
   "metadata": {},
   "source": [
    "# Ритейл - анализ программ лояльности\n",
    "## Материалы\n",
    "* Презентация: https://drive.google.com/file/d/1mnYLfcybwcgQhPzxxG22Lg8b7bR42yEb/view?usp=sharing\n",
    "* Дашборд: https://public.tableau.com/views/retail_16271064673040/Dashboard1?:language=en-US&publish=yes&:display_count=n&:origin=viz_share_link\n",
    "\n",
    "\n",
    "Перед нами стоит задача - узнать на сколько хорошо или плохо работает программа лояльности в магазине строительных материалов. К нам поступили данные из отдела маркетинга, описание данных:\n",
    "\n",
    "Файл retail_dataset.csv:\n",
    "\n",
    "- `purchaseId` — id чека;\n",
    "- `item_ID` — id товара;\n",
    "- `purchasedate` — дата покупки;\n",
    "- `Quantity` — количество товара;\n",
    "- `CustomerID` — id покупателя;\n",
    "- `ShopID` — id магазина;\n",
    "- `loyalty_program` — участвует ли покупатель в программе лояльности;\n",
    "\n",
    "Файл product_codes.csv:\n",
    "\n",
    "- `productID` — id товара;\n",
    "- `price_per_one` — стоимость одной единицы товара;\n",
    "## Откроем файл с данными и изучим общую информацию\n"
   ]
  },
  {
   "cell_type": "code",
   "execution_count": 1,
   "metadata": {},
   "outputs": [
    {
     "data": {
      "text/html": [
       "<div>\n",
       "<style scoped>\n",
       "    .dataframe tbody tr th:only-of-type {\n",
       "        vertical-align: middle;\n",
       "    }\n",
       "\n",
       "    .dataframe tbody tr th {\n",
       "        vertical-align: top;\n",
       "    }\n",
       "\n",
       "    .dataframe thead th {\n",
       "        text-align: right;\n",
       "    }\n",
       "</style>\n",
       "<table border=\"1\" class=\"dataframe\">\n",
       "  <thead>\n",
       "    <tr style=\"text-align: right;\">\n",
       "      <th></th>\n",
       "      <th>purchaseid</th>\n",
       "      <th>item_ID</th>\n",
       "      <th>Quantity</th>\n",
       "      <th>purchasedate</th>\n",
       "      <th>CustomerID</th>\n",
       "      <th>ShopID</th>\n",
       "      <th>loyalty_program</th>\n",
       "    </tr>\n",
       "  </thead>\n",
       "  <tbody>\n",
       "    <tr>\n",
       "      <td>0</td>\n",
       "      <td>538280</td>\n",
       "      <td>21873</td>\n",
       "      <td>11</td>\n",
       "      <td>2016-12-10 12:50:00</td>\n",
       "      <td>18427.0</td>\n",
       "      <td>Shop 0</td>\n",
       "      <td>0.0</td>\n",
       "    </tr>\n",
       "    <tr>\n",
       "      <td>1</td>\n",
       "      <td>538862</td>\n",
       "      <td>22195</td>\n",
       "      <td>0</td>\n",
       "      <td>2016-12-14 14:11:00</td>\n",
       "      <td>22389.0</td>\n",
       "      <td>Shop 0</td>\n",
       "      <td>1.0</td>\n",
       "    </tr>\n",
       "    <tr>\n",
       "      <td>2</td>\n",
       "      <td>538855</td>\n",
       "      <td>21239</td>\n",
       "      <td>7</td>\n",
       "      <td>2016-12-14 13:50:00</td>\n",
       "      <td>22182.0</td>\n",
       "      <td>Shop 0</td>\n",
       "      <td>1.0</td>\n",
       "    </tr>\n",
       "    <tr>\n",
       "      <td>3</td>\n",
       "      <td>543543</td>\n",
       "      <td>22271</td>\n",
       "      <td>0</td>\n",
       "      <td>2017-02-09 15:33:00</td>\n",
       "      <td>23522.0</td>\n",
       "      <td>Shop 0</td>\n",
       "      <td>1.0</td>\n",
       "    </tr>\n",
       "    <tr>\n",
       "      <td>4</td>\n",
       "      <td>543812</td>\n",
       "      <td>79321</td>\n",
       "      <td>0</td>\n",
       "      <td>2017-02-13 14:40:00</td>\n",
       "      <td>23151.0</td>\n",
       "      <td>Shop 0</td>\n",
       "      <td>1.0</td>\n",
       "    </tr>\n",
       "    <tr>\n",
       "      <td>5</td>\n",
       "      <td>538379</td>\n",
       "      <td>22965</td>\n",
       "      <td>0</td>\n",
       "      <td>2016-12-12 11:26:00</td>\n",
       "      <td>22805.0</td>\n",
       "      <td>Shop 0</td>\n",
       "      <td>1.0</td>\n",
       "    </tr>\n",
       "    <tr>\n",
       "      <td>6</td>\n",
       "      <td>540468</td>\n",
       "      <td>22189</td>\n",
       "      <td>0</td>\n",
       "      <td>2017-01-07 13:55:00</td>\n",
       "      <td>NaN</td>\n",
       "      <td>Shop 0</td>\n",
       "      <td>0.0</td>\n",
       "    </tr>\n",
       "    <tr>\n",
       "      <td>7</td>\n",
       "      <td>541424</td>\n",
       "      <td>79321</td>\n",
       "      <td>1</td>\n",
       "      <td>2017-01-17 17:57:00</td>\n",
       "      <td>NaN</td>\n",
       "      <td>Shop 0</td>\n",
       "      <td>0.0</td>\n",
       "    </tr>\n",
       "    <tr>\n",
       "      <td>8</td>\n",
       "      <td>538883</td>\n",
       "      <td>22891</td>\n",
       "      <td>0</td>\n",
       "      <td>2016-12-14 15:56:00</td>\n",
       "      <td>NaN</td>\n",
       "      <td>Shop 0</td>\n",
       "      <td>0.0</td>\n",
       "    </tr>\n",
       "    <tr>\n",
       "      <td>9</td>\n",
       "      <td>539501</td>\n",
       "      <td>22372</td>\n",
       "      <td>0</td>\n",
       "      <td>2016-12-20 11:08:00</td>\n",
       "      <td>22764.0</td>\n",
       "      <td>Shop 0</td>\n",
       "      <td>1.0</td>\n",
       "    </tr>\n",
       "  </tbody>\n",
       "</table>\n",
       "</div>"
      ],
      "text/plain": [
       "  purchaseid item_ID  Quantity         purchasedate  CustomerID  ShopID  \\\n",
       "0     538280   21873        11  2016-12-10 12:50:00     18427.0  Shop 0   \n",
       "1     538862   22195         0  2016-12-14 14:11:00     22389.0  Shop 0   \n",
       "2     538855   21239         7  2016-12-14 13:50:00     22182.0  Shop 0   \n",
       "3     543543   22271         0  2017-02-09 15:33:00     23522.0  Shop 0   \n",
       "4     543812   79321         0  2017-02-13 14:40:00     23151.0  Shop 0   \n",
       "5     538379   22965         0  2016-12-12 11:26:00     22805.0  Shop 0   \n",
       "6     540468   22189         0  2017-01-07 13:55:00         NaN  Shop 0   \n",
       "7     541424   79321         1  2017-01-17 17:57:00         NaN  Shop 0   \n",
       "8     538883   22891         0  2016-12-14 15:56:00         NaN  Shop 0   \n",
       "9     539501   22372         0  2016-12-20 11:08:00     22764.0  Shop 0   \n",
       "\n",
       "   loyalty_program  \n",
       "0              0.0  \n",
       "1              1.0  \n",
       "2              1.0  \n",
       "3              1.0  \n",
       "4              1.0  \n",
       "5              1.0  \n",
       "6              0.0  \n",
       "7              0.0  \n",
       "8              0.0  \n",
       "9              1.0  "
      ]
     },
     "metadata": {},
     "output_type": "display_data"
    },
    {
     "name": "stdout",
     "output_type": "stream",
     "text": [
      "<class 'pandas.core.frame.DataFrame'>\n",
      "RangeIndex: 105335 entries, 0 to 105334\n",
      "Data columns (total 7 columns):\n",
      "purchaseid         105335 non-null object\n",
      "item_ID            105335 non-null object\n",
      "Quantity           105335 non-null int64\n",
      "purchasedate       105335 non-null object\n",
      "CustomerID         69125 non-null float64\n",
      "ShopID             105335 non-null object\n",
      "loyalty_program    105335 non-null float64\n",
      "dtypes: float64(2), int64(1), object(4)\n",
      "memory usage: 5.6+ MB\n",
      "None\n",
      "            Quantity    CustomerID  loyalty_program\n",
      "count  105335.000000  69125.000000    105335.000000\n",
      "mean        7.821218  21019.302047         0.226345\n",
      "std       327.946695   1765.444679         0.418467\n",
      "min    -74216.000000  18025.000000         0.000000\n",
      "25%         0.000000  19544.000000         0.000000\n",
      "50%         2.000000  20990.000000         0.000000\n",
      "75%         7.000000  22659.000000         0.000000\n",
      "max     74214.000000  23962.000000         1.000000\n"
     ]
    }
   ],
   "source": [
    "import pandas as pd\n",
    "import seaborn as sns\n",
    "import matplotlib.pyplot as plt\n",
    "import numpy as np\n",
    "import plotly.express as px\n",
    "\n",
    "\n",
    "\n",
    "\n",
    "retail_dataset=pd.read_csv('/datasets/retail_dataset.csv')\n",
    "product_codes=pd.read_csv('/datasets/product_codes.csv')\n",
    "display(retail_dataset.head(10))\n",
    "print(retail_dataset.info())\n",
    "print(retail_dataset.describe())\n",
    "\n"
   ]
  },
  {
   "cell_type": "markdown",
   "metadata": {},
   "source": [
    "После первого взгляда на данные уже можно заметить моменты, с которыми стоит разобраться перед началом анализа. Например, пропуски в столбце `CustomerID`, отрицательные значения в столбце `Quantity` - это могут быть возвраты, неудобные название столбцов, типы данных. \n",
    "Со всем этим мы разберемся дальше. "
   ]
  },
  {
   "cell_type": "code",
   "execution_count": 2,
   "metadata": {},
   "outputs": [
    {
     "data": {
      "text/html": [
       "<div>\n",
       "<style scoped>\n",
       "    .dataframe tbody tr th:only-of-type {\n",
       "        vertical-align: middle;\n",
       "    }\n",
       "\n",
       "    .dataframe tbody tr th {\n",
       "        vertical-align: top;\n",
       "    }\n",
       "\n",
       "    .dataframe thead th {\n",
       "        text-align: right;\n",
       "    }\n",
       "</style>\n",
       "<table border=\"1\" class=\"dataframe\">\n",
       "  <thead>\n",
       "    <tr style=\"text-align: right;\">\n",
       "      <th></th>\n",
       "      <th>productID</th>\n",
       "      <th>price_per_one</th>\n",
       "    </tr>\n",
       "  </thead>\n",
       "  <tbody>\n",
       "    <tr>\n",
       "      <td>0</td>\n",
       "      <td>85123A</td>\n",
       "      <td>2.55</td>\n",
       "    </tr>\n",
       "    <tr>\n",
       "      <td>1</td>\n",
       "      <td>71053</td>\n",
       "      <td>3.39</td>\n",
       "    </tr>\n",
       "    <tr>\n",
       "      <td>2</td>\n",
       "      <td>84406B</td>\n",
       "      <td>2.75</td>\n",
       "    </tr>\n",
       "    <tr>\n",
       "      <td>3</td>\n",
       "      <td>84029G</td>\n",
       "      <td>3.39</td>\n",
       "    </tr>\n",
       "    <tr>\n",
       "      <td>4</td>\n",
       "      <td>84029E</td>\n",
       "      <td>3.39</td>\n",
       "    </tr>\n",
       "  </tbody>\n",
       "</table>\n",
       "</div>"
      ],
      "text/plain": [
       "  productID  price_per_one\n",
       "0    85123A           2.55\n",
       "1     71053           3.39\n",
       "2    84406B           2.75\n",
       "3    84029G           3.39\n",
       "4    84029E           3.39"
      ]
     },
     "metadata": {},
     "output_type": "display_data"
    },
    {
     "name": "stdout",
     "output_type": "stream",
     "text": [
      "<class 'pandas.core.frame.DataFrame'>\n",
      "RangeIndex: 9969 entries, 0 to 9968\n",
      "Data columns (total 2 columns):\n",
      "productID        9969 non-null object\n",
      "price_per_one    9969 non-null float64\n",
      "dtypes: float64(1), object(1)\n",
      "memory usage: 155.9+ KB\n",
      "None\n",
      "       price_per_one\n",
      "count    9969.000000\n",
      "mean       19.503697\n",
      "std       330.880754\n",
      "min         0.000000\n",
      "25%         1.250000\n",
      "50%         2.550000\n",
      "75%         5.510000\n",
      "max     16888.020000\n"
     ]
    }
   ],
   "source": [
    "display(product_codes.head())\n",
    "print(product_codes.info())\n",
    "print(product_codes.describe())"
   ]
  },
  {
   "cell_type": "markdown",
   "metadata": {},
   "source": [
    "В этой таблицк так же предстоит изменить тип данных, и разобраться чем вызвано такое большое значение std и разница между 75% и max. Строки со значением цены за еденицу товара и количеством товара равной нулю можно удалить, скорее всего это ошибка или выброс. \n",
    "\n",
    "## Подготовим данные\n",
    "\n"
   ]
  },
  {
   "cell_type": "code",
   "execution_count": 3,
   "metadata": {},
   "outputs": [
    {
     "name": "stdout",
     "output_type": "stream",
     "text": [
      "0.03831878824355502\n",
      "0.31380832581762946\n",
      "0.0\n",
      "0.0\n"
     ]
    }
   ],
   "source": [
    "print(product_codes.loc[product_codes['price_per_one']==0,'price_per_one'].count()/product_codes.shape[0])\n",
    "print(retail_dataset.loc[retail_dataset['Quantity']==0,'loyalty_program'].count()/retail_dataset.shape[0])\n",
    "#удаляем нулевые значения, потому что они составляют небольшой процент от всех данных\n",
    "product_codes=product_codes.query('price_per_one!=0')\n",
    "#заменим нулевые значения на средние для количества товаров, потому что таких значений больше 30% и удалять их нельзя\n",
    "retail_dataset.loc[retail_dataset['Quantity']==0,'Quantity']=retail_dataset['Quantity'].median()\n",
    "print(product_codes.loc[product_codes['price_per_one']==0,'price_per_one'].count()/product_codes.shape[0])\n",
    "print(retail_dataset.loc[retail_dataset['Quantity']==0,'loyalty_program'].count()/retail_dataset.shape[0])\n"
   ]
  },
  {
   "cell_type": "markdown",
   "metadata": {},
   "source": [
    "### Переименуем столбцы\n"
   ]
  },
  {
   "cell_type": "code",
   "execution_count": 4,
   "metadata": {},
   "outputs": [],
   "source": [
    "retail_dataset=retail_dataset.rename(columns={'purchaseid':'purchase_id','item_ID':'item_id','Quantity':'quantity','purchasedate':'purchase_date','CustomerID':'customer_id','ShopID':'shop_id'})\n",
    "product_codes=product_codes.rename(columns={'productID':'item_id'})"
   ]
  },
  {
   "cell_type": "markdown",
   "metadata": {},
   "source": [
    "### Определим и заполним пропущенные значения. \n"
   ]
  },
  {
   "cell_type": "code",
   "execution_count": 41,
   "metadata": {},
   "outputs": [
    {
     "name": "stdout",
     "output_type": "stream",
     "text": [
      "purchase_id        0.0\n",
      "item_id            0.0\n",
      "quantity           0.0\n",
      "purchase_date      0.0\n",
      "customer_id        0.0\n",
      "shop_id            0.0\n",
      "loyalty_program    0.0\n",
      "dtype: float64\n",
      "item_id          0.0\n",
      "price_per_one    0.0\n",
      "dtype: float64\n"
     ]
    }
   ],
   "source": [
    "print(retail_dataset.isnull().sum()/retail_dataset.shape[0])\n",
    "print(product_codes.isnull().sum()/product_codes.shape[0])\n"
   ]
  },
  {
   "cell_type": "markdown",
   "metadata": {},
   "source": [
    "У нас присутвтуют пропуски только в столбцах с ID покупателя. Это могут быть неиденефицироанные пользователи. Удалять эти пропуски слишком опасно, их у нас больше 30%, так что заменим их на нули, а при дальнейшем анализе будем учитывать, что нули - это неидентифицироанные пользователи и в зависимости от ситуации брать их в расчет или нет. "
   ]
  },
  {
   "cell_type": "code",
   "execution_count": 6,
   "metadata": {},
   "outputs": [
    {
     "name": "stdout",
     "output_type": "stream",
     "text": [
      "purchase_id        0\n",
      "item_id            0\n",
      "quantity           0\n",
      "purchase_date      0\n",
      "customer_id        0\n",
      "shop_id            0\n",
      "loyalty_program    0\n",
      "dtype: int64\n"
     ]
    }
   ],
   "source": [
    "retail_dataset.loc[(retail_dataset['customer_id'].isna()),'customer_id']=0\n",
    "print(retail_dataset.isnull().sum())\n"
   ]
  },
  {
   "cell_type": "markdown",
   "metadata": {},
   "source": [
    "### Изменим типы данных\n",
    "\n",
    "Для более корректной работы приведем данные к нужным типам, сделаем дату - датой, а участие в программе лояльности сделаем int, потому что foat нам там не нужен. "
   ]
  },
  {
   "cell_type": "code",
   "execution_count": 7,
   "metadata": {},
   "outputs": [],
   "source": [
    "retail_dataset['purchase_date']=pd.to_datetime(retail_dataset['purchase_date'])\n",
    "#retail_dataset['customer_id']=retail_dataset['customer_id'].astype(int)\n",
    "retail_dataset['loyalty_program']=retail_dataset['loyalty_program'].astype(int)\n",
    "\n",
    "\n"
   ]
  },
  {
   "cell_type": "markdown",
   "metadata": {},
   "source": [
    "### Работа с дубликатами"
   ]
  },
  {
   "cell_type": "code",
   "execution_count": 42,
   "metadata": {},
   "outputs": [
    {
     "name": "stdout",
     "output_type": "stream",
     "text": [
      "0.0\n"
     ]
    },
    {
     "data": {
      "text/plain": [
       "0"
      ]
     },
     "execution_count": 42,
     "metadata": {},
     "output_type": "execute_result"
    }
   ],
   "source": [
    "print(retail_dataset.duplicated().sum()/retail_dataset.shape[0])\n",
    "retail_dataset =retail_dataset.drop_duplicates().reset_index(drop=True)\n",
    "retail_dataset.duplicated().sum()\n"
   ]
  },
  {
   "cell_type": "markdown",
   "metadata": {},
   "source": [
    "Безболезнено удаляем дубликаты, потому что их в нашем дата сете меньше одного процента. "
   ]
  },
  {
   "cell_type": "code",
   "execution_count": 9,
   "metadata": {
    "scrolled": true
   },
   "outputs": [
    {
     "name": "stdout",
     "output_type": "stream",
     "text": [
      "0\n"
     ]
    }
   ],
   "source": [
    "print(product_codes.duplicated().sum())\n"
   ]
  },
  {
   "cell_type": "code",
   "execution_count": 10,
   "metadata": {},
   "outputs": [
    {
     "data": {
      "text/plain": [
       "3102"
      ]
     },
     "execution_count": 10,
     "metadata": {},
     "output_type": "execute_result"
    }
   ],
   "source": [
    "len(product_codes['item_id'].unique())"
   ]
  },
  {
   "cell_type": "markdown",
   "metadata": {},
   "source": [
    "Полных дубликатов во втором датасете нет, однако уникальных ID всего 3159. Для каждого уникального ID посчитаем среднюю цену за еденицу товара. "
   ]
  },
  {
   "cell_type": "code",
   "execution_count": 11,
   "metadata": {},
   "outputs": [],
   "source": [
    "for every in product_codes['item_id'].unique():\n",
    "    mean=product_codes.loc[product_codes['item_id']==every,'price_per_one'].mean()\n",
    "    product_codes.loc[product_codes['item_id']==every,'price_per_one']=mean\n",
    "    \n"
   ]
  },
  {
   "cell_type": "markdown",
   "metadata": {},
   "source": [
    "Для каждого ID продукта посчитали среднее значение цены среди продуктов с таким же ID и заменили все значения в строках с таким ID на среднее значение. Теперь у нас образовались дубликаты, которые можно удалить, тем самым сократив наш датасет."
   ]
  },
  {
   "cell_type": "code",
   "execution_count": 12,
   "metadata": {},
   "outputs": [
    {
     "name": "stdout",
     "output_type": "stream",
     "text": [
      "6485\n"
     ]
    },
    {
     "data": {
      "text/plain": [
       "0"
      ]
     },
     "execution_count": 12,
     "metadata": {},
     "output_type": "execute_result"
    }
   ],
   "source": [
    "print(product_codes.duplicated().sum())\n",
    "product_codes =product_codes.drop_duplicates().reset_index(drop=True)\n",
    "product_codes.duplicated().sum()"
   ]
  },
  {
   "cell_type": "markdown",
   "metadata": {},
   "source": [
    "## Почитаем и добавим в таблицу\n",
    "Объеденим данные из двух таблиц, чтобы посчитать чек по покупке."
   ]
  },
  {
   "cell_type": "code",
   "execution_count": 13,
   "metadata": {},
   "outputs": [],
   "source": [
    "data = retail_dataset.merge(product_codes, on=['item_id'], how='left')\n"
   ]
  },
  {
   "cell_type": "code",
   "execution_count": 14,
   "metadata": {},
   "outputs": [
    {
     "data": {
      "text/html": [
       "<div>\n",
       "<style scoped>\n",
       "    .dataframe tbody tr th:only-of-type {\n",
       "        vertical-align: middle;\n",
       "    }\n",
       "\n",
       "    .dataframe tbody tr th {\n",
       "        vertical-align: top;\n",
       "    }\n",
       "\n",
       "    .dataframe thead th {\n",
       "        text-align: right;\n",
       "    }\n",
       "</style>\n",
       "<table border=\"1\" class=\"dataframe\">\n",
       "  <thead>\n",
       "    <tr style=\"text-align: right;\">\n",
       "      <th></th>\n",
       "      <th>purchase_id</th>\n",
       "      <th>item_id</th>\n",
       "      <th>quantity</th>\n",
       "      <th>purchase_date</th>\n",
       "      <th>customer_id</th>\n",
       "      <th>shop_id</th>\n",
       "      <th>loyalty_program</th>\n",
       "      <th>price_per_one</th>\n",
       "    </tr>\n",
       "  </thead>\n",
       "  <tbody>\n",
       "    <tr>\n",
       "      <td>0</td>\n",
       "      <td>538280</td>\n",
       "      <td>21873</td>\n",
       "      <td>11.0</td>\n",
       "      <td>2016-12-10 12:50:00</td>\n",
       "      <td>18427.0</td>\n",
       "      <td>Shop 0</td>\n",
       "      <td>0</td>\n",
       "      <td>1.810000</td>\n",
       "    </tr>\n",
       "    <tr>\n",
       "      <td>1</td>\n",
       "      <td>538862</td>\n",
       "      <td>22195</td>\n",
       "      <td>2.0</td>\n",
       "      <td>2016-12-14 14:11:00</td>\n",
       "      <td>22389.0</td>\n",
       "      <td>Shop 0</td>\n",
       "      <td>1</td>\n",
       "      <td>2.766667</td>\n",
       "    </tr>\n",
       "    <tr>\n",
       "      <td>2</td>\n",
       "      <td>538855</td>\n",
       "      <td>21239</td>\n",
       "      <td>7.0</td>\n",
       "      <td>2016-12-14 13:50:00</td>\n",
       "      <td>22182.0</td>\n",
       "      <td>Shop 0</td>\n",
       "      <td>1</td>\n",
       "      <td>1.474000</td>\n",
       "    </tr>\n",
       "    <tr>\n",
       "      <td>3</td>\n",
       "      <td>543543</td>\n",
       "      <td>22271</td>\n",
       "      <td>2.0</td>\n",
       "      <td>2017-02-09 15:33:00</td>\n",
       "      <td>23522.0</td>\n",
       "      <td>Shop 0</td>\n",
       "      <td>1</td>\n",
       "      <td>4.300000</td>\n",
       "    </tr>\n",
       "    <tr>\n",
       "      <td>4</td>\n",
       "      <td>543812</td>\n",
       "      <td>79321</td>\n",
       "      <td>2.0</td>\n",
       "      <td>2017-02-13 14:40:00</td>\n",
       "      <td>23151.0</td>\n",
       "      <td>Shop 0</td>\n",
       "      <td>1</td>\n",
       "      <td>7.715000</td>\n",
       "    </tr>\n",
       "  </tbody>\n",
       "</table>\n",
       "</div>"
      ],
      "text/plain": [
       "  purchase_id item_id  quantity       purchase_date  customer_id shop_id  \\\n",
       "0      538280   21873      11.0 2016-12-10 12:50:00      18427.0  Shop 0   \n",
       "1      538862   22195       2.0 2016-12-14 14:11:00      22389.0  Shop 0   \n",
       "2      538855   21239       7.0 2016-12-14 13:50:00      22182.0  Shop 0   \n",
       "3      543543   22271       2.0 2017-02-09 15:33:00      23522.0  Shop 0   \n",
       "4      543812   79321       2.0 2017-02-13 14:40:00      23151.0  Shop 0   \n",
       "\n",
       "   loyalty_program  price_per_one  \n",
       "0                0       1.810000  \n",
       "1                1       2.766667  \n",
       "2                1       1.474000  \n",
       "3                1       4.300000  \n",
       "4                1       7.715000  "
      ]
     },
     "metadata": {},
     "output_type": "display_data"
    },
    {
     "name": "stdout",
     "output_type": "stream",
     "text": [
      "<class 'pandas.core.frame.DataFrame'>\n",
      "Int64Index: 104167 entries, 0 to 104166\n",
      "Data columns (total 8 columns):\n",
      "purchase_id        104167 non-null object\n",
      "item_id            104167 non-null object\n",
      "quantity           104167 non-null float64\n",
      "purchase_date      104167 non-null datetime64[ns]\n",
      "customer_id        104167 non-null float64\n",
      "shop_id            104167 non-null object\n",
      "loyalty_program    104167 non-null int64\n",
      "price_per_one      104108 non-null float64\n",
      "dtypes: datetime64[ns](1), float64(3), int64(1), object(3)\n",
      "memory usage: 7.2+ MB\n"
     ]
    }
   ],
   "source": [
    "display(data.head())\n",
    "data.info()\n"
   ]
  },
  {
   "cell_type": "code",
   "execution_count": 15,
   "metadata": {},
   "outputs": [
    {
     "data": {
      "text/plain": [
       "0"
      ]
     },
     "execution_count": 15,
     "metadata": {},
     "output_type": "execute_result"
    }
   ],
   "source": [
    "data.duplicated().sum()\n"
   ]
  },
  {
   "cell_type": "markdown",
   "metadata": {},
   "source": [
    "### Добавим столбец с чеком - сколько заплатили за товары при покупке"
   ]
  },
  {
   "cell_type": "code",
   "execution_count": 16,
   "metadata": {},
   "outputs": [
    {
     "data": {
      "text/html": [
       "<div>\n",
       "<style scoped>\n",
       "    .dataframe tbody tr th:only-of-type {\n",
       "        vertical-align: middle;\n",
       "    }\n",
       "\n",
       "    .dataframe tbody tr th {\n",
       "        vertical-align: top;\n",
       "    }\n",
       "\n",
       "    .dataframe thead th {\n",
       "        text-align: right;\n",
       "    }\n",
       "</style>\n",
       "<table border=\"1\" class=\"dataframe\">\n",
       "  <thead>\n",
       "    <tr style=\"text-align: right;\">\n",
       "      <th></th>\n",
       "      <th>quantity</th>\n",
       "      <th>customer_id</th>\n",
       "      <th>loyalty_program</th>\n",
       "      <th>price_per_one</th>\n",
       "      <th>bill</th>\n",
       "    </tr>\n",
       "  </thead>\n",
       "  <tbody>\n",
       "    <tr>\n",
       "      <td>count</td>\n",
       "      <td>104167.000000</td>\n",
       "      <td>104167.000000</td>\n",
       "      <td>104167.000000</td>\n",
       "      <td>104108.000000</td>\n",
       "      <td>104108.000000</td>\n",
       "    </tr>\n",
       "    <tr>\n",
       "      <td>mean</td>\n",
       "      <td>8.511976</td>\n",
       "      <td>13721.644513</td>\n",
       "      <td>0.224207</td>\n",
       "      <td>6.129548</td>\n",
       "      <td>24.329315</td>\n",
       "    </tr>\n",
       "    <tr>\n",
       "      <td>std</td>\n",
       "      <td>329.765394</td>\n",
       "      <td>10101.984719</td>\n",
       "      <td>0.417061</td>\n",
       "      <td>96.383413</td>\n",
       "      <td>460.024192</td>\n",
       "    </tr>\n",
       "    <tr>\n",
       "      <td>min</td>\n",
       "      <td>-74216.000000</td>\n",
       "      <td>0.000000</td>\n",
       "      <td>0.000000</td>\n",
       "      <td>0.120000</td>\n",
       "      <td>-77184.640000</td>\n",
       "    </tr>\n",
       "    <tr>\n",
       "      <td>25%</td>\n",
       "      <td>2.000000</td>\n",
       "      <td>0.000000</td>\n",
       "      <td>0.000000</td>\n",
       "      <td>1.820000</td>\n",
       "      <td>4.740000</td>\n",
       "    </tr>\n",
       "    <tr>\n",
       "      <td>50%</td>\n",
       "      <td>2.000000</td>\n",
       "      <td>19421.000000</td>\n",
       "      <td>0.000000</td>\n",
       "      <td>2.985000</td>\n",
       "      <td>10.980000</td>\n",
       "    </tr>\n",
       "    <tr>\n",
       "      <td>75%</td>\n",
       "      <td>7.000000</td>\n",
       "      <td>21690.000000</td>\n",
       "      <td>0.000000</td>\n",
       "      <td>5.555000</td>\n",
       "      <td>22.806667</td>\n",
       "    </tr>\n",
       "    <tr>\n",
       "      <td>max</td>\n",
       "      <td>74214.000000</td>\n",
       "      <td>23962.000000</td>\n",
       "      <td>1.000000</td>\n",
       "      <td>9268.762222</td>\n",
       "      <td>77182.560000</td>\n",
       "    </tr>\n",
       "  </tbody>\n",
       "</table>\n",
       "</div>"
      ],
      "text/plain": [
       "            quantity    customer_id  loyalty_program  price_per_one  \\\n",
       "count  104167.000000  104167.000000    104167.000000  104108.000000   \n",
       "mean        8.511976   13721.644513         0.224207       6.129548   \n",
       "std       329.765394   10101.984719         0.417061      96.383413   \n",
       "min    -74216.000000       0.000000         0.000000       0.120000   \n",
       "25%         2.000000       0.000000         0.000000       1.820000   \n",
       "50%         2.000000   19421.000000         0.000000       2.985000   \n",
       "75%         7.000000   21690.000000         0.000000       5.555000   \n",
       "max     74214.000000   23962.000000         1.000000    9268.762222   \n",
       "\n",
       "                bill  \n",
       "count  104108.000000  \n",
       "mean       24.329315  \n",
       "std       460.024192  \n",
       "min    -77184.640000  \n",
       "25%         4.740000  \n",
       "50%        10.980000  \n",
       "75%        22.806667  \n",
       "max     77182.560000  "
      ]
     },
     "execution_count": 16,
     "metadata": {},
     "output_type": "execute_result"
    }
   ],
   "source": [
    "data['bill']=data['price_per_one']*data['quantity']\n",
    "data.describe()"
   ]
  },
  {
   "cell_type": "markdown",
   "metadata": {},
   "source": [
    "### Проверим столбцы на наличие выбросов и необычных значений, найдем им объяснение и решим учитывать ли их при анализе\n",
    "\n",
    "Построим боксплоты для суммы чека, количества товара, стоимости одной еденицы товара"
   ]
  },
  {
   "cell_type": "code",
   "execution_count": 17,
   "metadata": {},
   "outputs": [
    {
     "data": {
      "image/png": "[encoded data removed]",
      "text/plain": [
       "<Figure size 432x288 with 1 Axes>"
      ]
     },
     "metadata": {
      "needs_background": "light"
     },
     "output_type": "display_data"
    },
    {
     "data": {
      "image/png": "[encoded data removed]",
      "text/plain": [
       "<Figure size 1008x288 with 1 Axes>"
      ]
     },
     "metadata": {},
     "output_type": "display_data"
    },
    {
     "name": "stdout",
     "output_type": "stream",
     "text": [
      "-----------------------------------------------------------\n"
     ]
    }
   ],
   "source": [
    "fig = plt.figure()\n",
    "ax = fig.add_subplot(111)\n",
    "def num_of_bins(data,value):# определяем количество корзин \n",
    "    if data[value].max()>100:\n",
    "        return 70\n",
    "    elif data[value].max()>500:\n",
    "        return 150\n",
    "    elif data[value].max()>1000:\n",
    "        return 200\n",
    "    else: return 30\n",
    "\n",
    "def my_hist(data,col):# функция для построения ящика с усами и гистограммы\n",
    "    my_col=data.loc[(data[col]>=data[col].quantile(.05))&(data[col]<=data[col].quantile(.95)),col]# отбрасываем крайние значения\n",
    "    sns.set(rc={'figure.figsize':(10,6)})\n",
    "    sns.boxplot(x=my_col, palette=\"rainbow\")\n",
    "    ax.set_xlim(0,100)\n",
    "    sns.set(rc={'figure.figsize':(14,6)})\n",
    "    plt.title('Ящик с усами для столбца '+  col)\n",
    "    plt.show()\n",
    "    plt.figure(figsize=(14,4))\n",
    "    hist=my_col.plot(kind='hist',# гистограмма\n",
    "                    bins=num_of_bins(data,col),\n",
    "                    alpha=0.5,\n",
    "                    ec='black',\n",
    "                    color='green')\n",
    "    plt.axvline(x=my_col.median(),\n",
    "               linewidth=3,\n",
    "               color='red',\n",
    "               linestyle='--')\n",
    "    plt.axvline(x=my_col.mean(),\n",
    "               linewidth=3,\n",
    "               color='r',\n",
    "               linestyle='--')\n",
    "    plt.axvline(x=my_col.quantile(.25),\n",
    "               linewidth=3,\n",
    "               color='y',\n",
    "               linestyle='--')\n",
    "    plt.axvline(x=my_col.quantile(.75),\n",
    "               linewidth=3,\n",
    "               color='y',\n",
    "               linestyle='--')\n",
    "    plt.title('Распределение по столбцу '+col)\n",
    "    plt.xlabel('Значение')\n",
    "    plt.ylabel('Частота')\n",
    "    plt.grid()\n",
    "    plt.show()\n",
    "    print('-----------------------------------------------------------')\n",
    "    \n",
    "my_hist(data,'bill')"
   ]
  },
  {
   "cell_type": "markdown",
   "metadata": {},
   "source": [
    "Видно, что медианное значение и среднее достаточно сильно отличаются. Чаще всего чек достаточно маленький, скорее всего люди покупают единичные товары за небольшую цену, выбросов практичски нет, размер чека убывает равномерно, если не учитывать 1 столбец гистограммы.  Однако, посмотрев методом describe на среднее отклонение по этому столбцу, мы поняли, что данные распределены неравномерно относительно среднего значения, поэтому отбросим данные дальше правого уса и посмотрим на std. \n",
    "\n",
    "P.S. Тут нет явных выбросов судя по гистограмме, я не уверена, стоит ли отбрасывать значения за пределом правого уса. "
   ]
  },
  {
   "cell_type": "code",
   "execution_count": 43,
   "metadata": {},
   "outputs": [
    {
     "data": {
      "text/plain": [
       "count    1527.000000\n",
       "mean      -18.065138\n",
       "std        11.638770\n",
       "min       -46.670000\n",
       "25%       -26.476667\n",
       "50%       -15.075000\n",
       "75%        -8.401333\n",
       "max        -1.230000\n",
       "Name: bill, dtype: float64"
      ]
     },
     "execution_count": 43,
     "metadata": {},
     "output_type": "execute_result"
    }
   ],
   "source": [
    "data.loc[data['bill']<0,'bill'].describe()\n"
   ]
  },
  {
   "cell_type": "markdown",
   "metadata": {},
   "source": [
    "Тут я что-то немного запуталсь конечно, пыталась увидеть эти отрицательные чеки на гистограмме и боксплоте, но как бы не меняла xlim, это  не помогало. По describe решила убрать все что меньше -47, Это помогло усмирить стандартное отклоение и немного упорядочить данные. "
   ]
  },
  {
   "cell_type": "code",
   "execution_count": 19,
   "metadata": {
    "scrolled": true
   },
   "outputs": [
    {
     "data": {
      "text/plain": [
       "count    93389.000000\n",
       "mean        12.065651\n",
       "std         10.831048\n",
       "min        -46.670000\n",
       "25%          4.228000\n",
       "50%          9.100000\n",
       "75%         18.120000\n",
       "max         44.990000\n",
       "Name: bill, dtype: float64"
      ]
     },
     "execution_count": 19,
     "metadata": {},
     "output_type": "execute_result"
    }
   ],
   "source": [
    "data=data.query('bill<45')\n",
    "data=data.query('bill>-47')\n",
    "\n",
    "data['bill'].describe()"
   ]
  },
  {
   "cell_type": "markdown",
   "metadata": {},
   "source": [
    "Теперь стандартное отклонение не такое большое, данные усреднены, посмотрим на статистику по количеству товаров. "
   ]
  },
  {
   "cell_type": "code",
   "execution_count": 20,
   "metadata": {},
   "outputs": [
    {
     "data": {
      "image/png": "[encoded data removed]",
      "text/plain": [
       "<Figure size 720x432 with 1 Axes>"
      ]
     },
     "metadata": {},
     "output_type": "display_data"
    },
    {
     "data": {
      "image/png": "[encoded data removed]",
      "text/plain": [
       "<Figure size 1008x288 with 1 Axes>"
      ]
     },
     "metadata": {},
     "output_type": "display_data"
    },
    {
     "name": "stdout",
     "output_type": "stream",
     "text": [
      "-----------------------------------------------------------\n"
     ]
    },
    {
     "data": {
      "text/plain": [
       "count    93389.000000\n",
       "mean         4.618959\n",
       "std          6.498030\n",
       "min        -61.000000\n",
       "25%          2.000000\n",
       "50%          2.000000\n",
       "75%          5.000000\n",
       "max        143.000000\n",
       "Name: quantity, dtype: float64"
      ]
     },
     "execution_count": 20,
     "metadata": {},
     "output_type": "execute_result"
    }
   ],
   "source": [
    "\n",
    "my_hist(data,'quantity')\n",
    "data['quantity'].describe()"
   ]
  },
  {
   "cell_type": "markdown",
   "metadata": {},
   "source": [
    "Существуют выбросы в данных о количестве купленных товаров, это весьма логично. Это ведь строительный магазин. Там можно купиь 1 молоток, а можно купить 20 гвоздей. Я не стала отбрасывать значения за пределами усов, потому что в данном случае все данные важны, по описаным выше причинам и стандратное отклонение не такое большое, значит данные равномерно распределены относително среднего. "
   ]
  },
  {
   "cell_type": "code",
   "execution_count": 21,
   "metadata": {},
   "outputs": [],
   "source": [
    "#data=data.query('quantity<= 12')"
   ]
  },
  {
   "cell_type": "code",
   "execution_count": 22,
   "metadata": {
    "scrolled": true
   },
   "outputs": [
    {
     "data": {
      "image/png": "[encoded data removed]",
      "text/plain": [
       "<Figure size 720x432 with 1 Axes>"
      ]
     },
     "metadata": {},
     "output_type": "display_data"
    },
    {
     "data": {
      "image/png": "[encoded data removed]",
      "text/plain": [
       "<Figure size 1008x288 with 1 Axes>"
      ]
     },
     "metadata": {},
     "output_type": "display_data"
    },
    {
     "name": "stdout",
     "output_type": "stream",
     "text": [
      "-----------------------------------------------------------\n"
     ]
    },
    {
     "data": {
      "text/plain": [
       "count    93389.000000\n",
       "mean         4.084593\n",
       "std          3.608568\n",
       "min          0.120000\n",
       "25%          1.762500\n",
       "50%          2.948333\n",
       "75%          5.100000\n",
       "max         39.950000\n",
       "Name: price_per_one, dtype: float64"
      ]
     },
     "execution_count": 22,
     "metadata": {},
     "output_type": "execute_result"
    }
   ],
   "source": [
    "my_hist(data,'price_per_one')\n",
    "data['price_per_one'].describe()"
   ]
  },
  {
   "cell_type": "markdown",
   "metadata": {},
   "source": [
    "Вот тут уже гистограмма совсем не показывает нам нормальное распределение, график выглдяит очень неравномерным и неупорядоченым. Видно, что после 3 квартиля идет некоторое возрастание в частоте товаров с увеличением цены, но после 7 у.е. идет резкий спад и далее частота встречаемости товаров с увеличением цены почти не меняется - их совсем немного, меньше 1000. Если говорить о менее дорогих товарах, сложно выявить какую-то логику в их распределении, но видно, что дешевых товаров явно больше, чем дорогих - скорее всего это какие-то строительные мелочи, опять-таки гвозди, шурупы, скотч и т.д., частоста их встречаемости держится больше 2000. \n",
    "\n",
    "P.S. Не была уверена стоит ли убирать тут выбросы, ведь если убирать выбросы за пределами ящика с усами, то много это нет даст, их там не так много, больше всего резких изменений как раз внутри ящика, так что я решила отсавить как есть. \n",
    "\n",
    "## Исследовательский анализ данных\n",
    "Для начала давайте узнаем как отличается количество киентов с картой лояльности и без нее и проверим следующую гипотезу: \n",
    "### Количество клиентов с картой лояльности меньше, чем количество клиентов без нее"
   ]
  },
  {
   "cell_type": "code",
   "execution_count": 23,
   "metadata": {},
   "outputs": [],
   "source": [
    "#создаем два датасета с данными по лояльным клиентам и остальным\n",
    "loyal=data.query('loyalty_program==1')\n",
    "n_loyal=data.query('loyalty_program==0')\n"
   ]
  },
  {
   "cell_type": "code",
   "execution_count": 24,
   "metadata": {},
   "outputs": [
    {
     "data": {
      "image/png": "[encoded data removed]",
      "text/plain": [
       "<Figure size 864x576 with 1 Axes>"
      ]
     },
     "metadata": {},
     "output_type": "display_data"
    },
    {
     "data": {
      "text/html": [
       "<div>\n",
       "<style scoped>\n",
       "    .dataframe tbody tr th:only-of-type {\n",
       "        vertical-align: middle;\n",
       "    }\n",
       "\n",
       "    .dataframe tbody tr th {\n",
       "        vertical-align: top;\n",
       "    }\n",
       "\n",
       "    .dataframe thead th {\n",
       "        text-align: right;\n",
       "    }\n",
       "</style>\n",
       "<table border=\"1\" class=\"dataframe\">\n",
       "  <thead>\n",
       "    <tr style=\"text-align: right;\">\n",
       "      <th></th>\n",
       "      <th>index</th>\n",
       "      <th>loyalty_program</th>\n",
       "      <th>percent</th>\n",
       "    </tr>\n",
       "  </thead>\n",
       "  <tbody>\n",
       "    <tr>\n",
       "      <td>0</td>\n",
       "      <td>0</td>\n",
       "      <td>72473</td>\n",
       "      <td>0.776034</td>\n",
       "    </tr>\n",
       "    <tr>\n",
       "      <td>1</td>\n",
       "      <td>1</td>\n",
       "      <td>20916</td>\n",
       "      <td>0.223966</td>\n",
       "    </tr>\n",
       "  </tbody>\n",
       "</table>\n",
       "</div>"
      ],
      "text/plain": [
       "   index  loyalty_program   percent\n",
       "0      0            72473  0.776034\n",
       "1      1            20916  0.223966"
      ]
     },
     "execution_count": 24,
     "metadata": {},
     "output_type": "execute_result"
    }
   ],
   "source": [
    "loyal_data_1=data['loyalty_program'].value_counts().reset_index()\n",
    "\n",
    "sns.set(rc={'figure.figsize':(12,8)})\n",
    "sns.set(style='whitegrid')\n",
    "sns.barplot(x ='index',y='loyalty_program', data=loyal_data_1, palette = 'pastel')\n",
    "plt.title('Соотношение лояльных и не лояльных клеинтов')\n",
    "ax.tick_params(labelsize='large')\n",
    "ax.set_xlabel('Лояльный и нелояльный клиент',fontsize=14,fontweight=\"bold\")\n",
    "ax.set_ylabel('Количество',fontsize=14,fontweight=\"bold\")\n",
    "plt.show()\n",
    "\n",
    "loyal_data_1['percent']=loyal_data_1['loyalty_program']/(loyal_data_1['loyalty_program'][0]+loyal_data_1['loyalty_program'][1])\n",
    "loyal_data_1"
   ]
  },
  {
   "cell_type": "markdown",
   "metadata": {},
   "source": [
    "Видно, что не лояльных клиентов намного меньше, чем лояльных. Клиентов, пользующихся программой лояльности всего 21%. Это может быть связано с плохой рекламой карты лояльности, с тем, что участие в программе лояльности стоит денег, а так же с тем, кто клиенты не хотят учавствовать в программе лояльности, если они пришли в магазин один раз и больше никогда не возвращались, им могут быть неинтересны акции и скидки, если они делают покупки на небольшие суммы. Давайте же проверим как участие в программе лояльности зависит от среднего чека. \n",
    "### Средний чек у клиентов с картой лояльности больше\n"
   ]
  },
  {
   "cell_type": "code",
   "execution_count": 25,
   "metadata": {},
   "outputs": [
    {
     "data": {
      "text/plain": [
       "0.01635096210474467"
      ]
     },
     "execution_count": 25,
     "metadata": {},
     "output_type": "execute_result"
    }
   ],
   "source": [
    "data.loc[data['bill']<0,'bill'].count()/data.shape[0]\n"
   ]
  },
  {
   "cell_type": "markdown",
   "metadata": {},
   "source": [
    "Чеков с возвратами у нас около 2% - это немного, но посомтрим как это повляется на разницу по среднему чеку."
   ]
  },
  {
   "cell_type": "code",
   "execution_count": 26,
   "metadata": {
    "scrolled": true
   },
   "outputs": [
    {
     "data": {
      "image/png": "[encoded data removed]",
      "text/plain": [
       "<Figure size 864x576 with 1 Axes>"
      ]
     },
     "metadata": {},
     "output_type": "display_data"
    }
   ],
   "source": [
    "#с учетом возвратов\n",
    "sns.barplot(x='loyalty_program', y='bill', data=data) \n",
    "plt.title('Средний чек у клиентов с картой лояльности и без',fontsize=16,fontweight=\"bold\")\n",
    "plt.show()\n"
   ]
  },
  {
   "cell_type": "code",
   "execution_count": 27,
   "metadata": {},
   "outputs": [
    {
     "data": {
      "image/png": "[encoded data removed]",
      "text/plain": [
       "<Figure size 864x576 with 1 Axes>"
      ]
     },
     "metadata": {},
     "output_type": "display_data"
    }
   ],
   "source": [
    "#теперь посмотрим на средний чек без возвратов.\n",
    "data_without_return=data.query('bill>0')\n",
    "sns.barplot(x='loyalty_program', y='bill', data=data_without_return) \n",
    "plt.title('Средний чек у клиентов с картой лояльности и без',fontsize=16,fontweight=\"bold\")\n",
    "plt.show()"
   ]
  },
  {
   "cell_type": "markdown",
   "metadata": {},
   "source": [
    "У людей с картой лояльности средний чек больше и с учетом возвратов и без них. Ненамного, но все же больше, стоит помнить, что клиентов без карты лояльности больше, и даже такая разница показательна. Посмотрим на распределение чека для клиентов из наших двух групп. Выявлен первый плюс программы лояльности - клиенты покупают товары на большие суммы."
   ]
  },
  {
   "cell_type": "code",
   "execution_count": 53,
   "metadata": {
    "scrolled": true
   },
   "outputs": [
    {
     "data": {
      "image/png": "[encoded data removed]",
      "text/plain": [
       "<Figure size 864x576 with 1 Axes>"
      ]
     },
     "metadata": {},
     "output_type": "display_data"
    },
    {
     "name": "stdout",
     "output_type": "stream",
     "text": [
      "-----------------------------------------------------------\n"
     ]
    },
    {
     "data": {
      "image/png": "[encoded data removed]",
      "text/plain": [
       "<Figure size 864x576 with 1 Axes>"
      ]
     },
     "metadata": {},
     "output_type": "display_data"
    },
    {
     "name": "stdout",
     "output_type": "stream",
     "text": [
      "-----------------------------------------------------------\n"
     ]
    }
   ],
   "source": [
    "def only_hist(data,col,color):\n",
    "    my_col=data.loc[(data[col]>=data[col].quantile(.05))&(data[col]<=data[col].quantile(.95)),col]# отбрасываем крайние значения\n",
    "    hist=my_col.plot(kind='hist',# гистограмма\n",
    "                    bins=num_of_bins(data,col),\n",
    "                    alpha=0.5,\n",
    "                    ec='black',\n",
    "                    color=color)\n",
    "    plt.axvline(x=my_col.median(),\n",
    "               linewidth=3,\n",
    "               color='red',\n",
    "               linestyle='--')\n",
    "    plt.axvline(x=my_col.mean(),\n",
    "               linewidth=3,\n",
    "               color='y',\n",
    "               linestyle='--')\n",
    "    plt.axvline(x=my_col.quantile(.15),\n",
    "               linewidth=3,\n",
    "               color='y',\n",
    "               linestyle='--')\n",
    "    plt.axvline(x=my_col.quantile(.90),\n",
    "               linewidth=3,\n",
    "               color='y',\n",
    "               linestyle='--')\n",
    "    plt.title('Распределение по столбцу '+col)\n",
    "    plt.xlabel('Значение')\n",
    "    plt.ylabel('Частота')\n",
    "    plt.grid()\n",
    "    plt.show()\n",
    "    print('-----------------------------------------------------------')\n",
    "    \n",
    "    \n",
    "only_hist(loyal,'bill','green')\n",
    "only_hist(n_loyal,'bill','red')\n",
    "\n"
   ]
  },
  {
   "cell_type": "markdown",
   "metadata": {},
   "source": [
    "Видно конечно, что частота покупок у клиентов без карты лояльности выше, но это связано лишь с тем, что клиентов без карты лояльности больше в разы. Заметно, что если сравнивать графики, то клиентов с картой лояльности примерно одинаковое количество для чеков больше чем на 2 у.е.,  с учетом разницы в количестве клиентов в группах - это говорит о том, что клиенты с картой лояльности все-таки чаще(если смотреть в процентом соотношении), чем остальные делают покупки на большие суммы. \n",
    "\n",
    "\n",
    "### Клиенты с картой лояльности делают меньше возвратов.\n",
    "\n",
    "Когда мы смотрели данные методом  describe, то заметили, что в столбце с количеством товаров у нас были отрицательные значения. Скорее всего это возвраты. Чтобы проверить гипотезу о том, что клиенты с картой лояльности делают меньше возвратов, выберем из нашего датасета только те строки, где количество товаров в чеке отрицательное и сравним среднее количество возвратов для каждой группы. "
   ]
  },
  {
   "cell_type": "code",
   "execution_count": 29,
   "metadata": {
    "scrolled": true
   },
   "outputs": [
    {
     "data": {
      "image/png": "[encoded data removed]",
      "text/plain": [
       "<Figure size 864x576 with 1 Axes>"
      ]
     },
     "metadata": {},
     "output_type": "display_data"
    }
   ],
   "source": [
    "data_return=data.query('quantity<0')\n",
    "sns.barplot(x='loyalty_program', y='quantity', data=data_return) \n",
    "plt.title('Среднее количество возвратов у клиентов с картой лояльности и без',fontsize=16,fontweight=\"bold\")\n",
    "plt.show()"
   ]
  },
  {
   "cell_type": "markdown",
   "metadata": {},
   "source": [
    "По графику видно, что количество возвратов для клиентов с картой лояльности почти одинаковы, однако  клиенты с картой лояльности даже немного чаще делают возвраты. Давайте посмотрим методом describe и с группировкой по наличию карты лояльности на то насколько различен максимум, минимум, среднее и медиана для значения столбца quantity/\n"
   ]
  },
  {
   "cell_type": "code",
   "execution_count": 30,
   "metadata": {},
   "outputs": [
    {
     "data": {
      "text/html": [
       "<div>\n",
       "<style scoped>\n",
       "    .dataframe tbody tr th:only-of-type {\n",
       "        vertical-align: middle;\n",
       "    }\n",
       "\n",
       "    .dataframe tbody tr th {\n",
       "        vertical-align: top;\n",
       "    }\n",
       "\n",
       "    .dataframe thead th {\n",
       "        text-align: right;\n",
       "    }\n",
       "</style>\n",
       "<table border=\"1\" class=\"dataframe\">\n",
       "  <thead>\n",
       "    <tr style=\"text-align: right;\">\n",
       "      <th></th>\n",
       "      <th>count</th>\n",
       "      <th>mean</th>\n",
       "      <th>std</th>\n",
       "      <th>min</th>\n",
       "      <th>25%</th>\n",
       "      <th>50%</th>\n",
       "      <th>75%</th>\n",
       "      <th>max</th>\n",
       "    </tr>\n",
       "    <tr>\n",
       "      <th>loyalty_program</th>\n",
       "      <th></th>\n",
       "      <th></th>\n",
       "      <th></th>\n",
       "      <th></th>\n",
       "      <th></th>\n",
       "      <th></th>\n",
       "      <th></th>\n",
       "      <th></th>\n",
       "    </tr>\n",
       "  </thead>\n",
       "  <tbody>\n",
       "    <tr>\n",
       "      <td>0</td>\n",
       "      <td>1161.0</td>\n",
       "      <td>-4.808786</td>\n",
       "      <td>5.545233</td>\n",
       "      <td>-61.0</td>\n",
       "      <td>-5.0</td>\n",
       "      <td>-3.0</td>\n",
       "      <td>-2.0</td>\n",
       "      <td>-2.0</td>\n",
       "    </tr>\n",
       "    <tr>\n",
       "      <td>1</td>\n",
       "      <td>366.0</td>\n",
       "      <td>-4.857923</td>\n",
       "      <td>6.706491</td>\n",
       "      <td>-61.0</td>\n",
       "      <td>-4.0</td>\n",
       "      <td>-2.0</td>\n",
       "      <td>-2.0</td>\n",
       "      <td>-2.0</td>\n",
       "    </tr>\n",
       "  </tbody>\n",
       "</table>\n",
       "</div>"
      ],
      "text/plain": [
       "                  count      mean       std   min  25%  50%  75%  max\n",
       "loyalty_program                                                      \n",
       "0                1161.0 -4.808786  5.545233 -61.0 -5.0 -3.0 -2.0 -2.0\n",
       "1                 366.0 -4.857923  6.706491 -61.0 -4.0 -2.0 -2.0 -2.0"
      ]
     },
     "execution_count": 30,
     "metadata": {},
     "output_type": "execute_result"
    }
   ],
   "source": [
    "data_return.groupby('loyalty_program')['quantity'].describe()"
   ]
  },
  {
   "cell_type": "markdown",
   "metadata": {},
   "source": [
    "Видна небольшая разница между средним значением и стандартным отклонением, значит данные распределены равномерно. Можно сделать вывод, что клиенты делают возвраты с большей частотой, но и это не плохо. Может быть зайдут вернуть один товар и купят другой))\n"
   ]
  },
  {
   "cell_type": "markdown",
   "metadata": {},
   "source": [
    "\n",
    "\n",
    "### Наличие карты лояльности и даты\n",
    "#### Клиенты с картой лояльности делают покупки чаще\n",
    "\n",
    "Посмотрим на распределение количества покупок по времени, уберем временной показатель из столбца с датой и временем и возьмем только даты."
   ]
  },
  {
   "cell_type": "code",
   "execution_count": 31,
   "metadata": {},
   "outputs": [
    {
     "data": {
      "text/html": [
       "<div>\n",
       "<style scoped>\n",
       "    .dataframe tbody tr th:only-of-type {\n",
       "        vertical-align: middle;\n",
       "    }\n",
       "\n",
       "    .dataframe tbody tr th {\n",
       "        vertical-align: top;\n",
       "    }\n",
       "\n",
       "    .dataframe thead th {\n",
       "        text-align: right;\n",
       "    }\n",
       "</style>\n",
       "<table border=\"1\" class=\"dataframe\">\n",
       "  <thead>\n",
       "    <tr style=\"text-align: right;\">\n",
       "      <th></th>\n",
       "      <th>purchase_id</th>\n",
       "      <th>item_id</th>\n",
       "      <th>quantity</th>\n",
       "      <th>purchase_date</th>\n",
       "      <th>customer_id</th>\n",
       "      <th>shop_id</th>\n",
       "      <th>loyalty_program</th>\n",
       "      <th>price_per_one</th>\n",
       "      <th>bill</th>\n",
       "    </tr>\n",
       "  </thead>\n",
       "  <tbody>\n",
       "    <tr>\n",
       "      <td>0</td>\n",
       "      <td>538280</td>\n",
       "      <td>21873</td>\n",
       "      <td>11.0</td>\n",
       "      <td>2016-12-10</td>\n",
       "      <td>18427.0</td>\n",
       "      <td>Shop 0</td>\n",
       "      <td>0</td>\n",
       "      <td>1.810000</td>\n",
       "      <td>19.910000</td>\n",
       "    </tr>\n",
       "    <tr>\n",
       "      <td>1</td>\n",
       "      <td>538862</td>\n",
       "      <td>22195</td>\n",
       "      <td>2.0</td>\n",
       "      <td>2016-12-14</td>\n",
       "      <td>22389.0</td>\n",
       "      <td>Shop 0</td>\n",
       "      <td>1</td>\n",
       "      <td>2.766667</td>\n",
       "      <td>5.533333</td>\n",
       "    </tr>\n",
       "    <tr>\n",
       "      <td>2</td>\n",
       "      <td>538855</td>\n",
       "      <td>21239</td>\n",
       "      <td>7.0</td>\n",
       "      <td>2016-12-14</td>\n",
       "      <td>22182.0</td>\n",
       "      <td>Shop 0</td>\n",
       "      <td>1</td>\n",
       "      <td>1.474000</td>\n",
       "      <td>10.318000</td>\n",
       "    </tr>\n",
       "    <tr>\n",
       "      <td>3</td>\n",
       "      <td>543543</td>\n",
       "      <td>22271</td>\n",
       "      <td>2.0</td>\n",
       "      <td>2017-02-09</td>\n",
       "      <td>23522.0</td>\n",
       "      <td>Shop 0</td>\n",
       "      <td>1</td>\n",
       "      <td>4.300000</td>\n",
       "      <td>8.600000</td>\n",
       "    </tr>\n",
       "    <tr>\n",
       "      <td>4</td>\n",
       "      <td>543812</td>\n",
       "      <td>79321</td>\n",
       "      <td>2.0</td>\n",
       "      <td>2017-02-13</td>\n",
       "      <td>23151.0</td>\n",
       "      <td>Shop 0</td>\n",
       "      <td>1</td>\n",
       "      <td>7.715000</td>\n",
       "      <td>15.430000</td>\n",
       "    </tr>\n",
       "  </tbody>\n",
       "</table>\n",
       "</div>"
      ],
      "text/plain": [
       "  purchase_id item_id  quantity purchase_date  customer_id shop_id  \\\n",
       "0      538280   21873      11.0    2016-12-10      18427.0  Shop 0   \n",
       "1      538862   22195       2.0    2016-12-14      22389.0  Shop 0   \n",
       "2      538855   21239       7.0    2016-12-14      22182.0  Shop 0   \n",
       "3      543543   22271       2.0    2017-02-09      23522.0  Shop 0   \n",
       "4      543812   79321       2.0    2017-02-13      23151.0  Shop 0   \n",
       "\n",
       "   loyalty_program  price_per_one       bill  \n",
       "0                0       1.810000  19.910000  \n",
       "1                1       2.766667   5.533333  \n",
       "2                1       1.474000  10.318000  \n",
       "3                1       4.300000   8.600000  \n",
       "4                1       7.715000  15.430000  "
      ]
     },
     "execution_count": 31,
     "metadata": {},
     "output_type": "execute_result"
    }
   ],
   "source": [
    "data['purchase_date']=data['purchase_date'].astype('datetime64[D]')\n",
    "data.head()\n"
   ]
  },
  {
   "cell_type": "markdown",
   "metadata": {},
   "source": [
    "Теперь посмотрим на количество покупателей по дням. "
   ]
  },
  {
   "cell_type": "code",
   "execution_count": 54,
   "metadata": {
    "scrolled": false
   },
   "outputs": [
    {
     "data": {
      "application/vnd.plotly.v1+json": {
       "config": {
        "plotlyServerURL": "https://plot.ly"
       },
       "data": [
        {
         "hoverlabel": {
          "namelength": 0
         },
         "hovertemplate": "loyalty_program=0<br>purchase_date=%{x}<br>customer_id=%{y}",
         "legendgroup": "loyalty_program=0",
         "line": {
          "color": "#636efa",
          "dash": "solid"
         },
         "mode": "lines",
         "name": "loyalty_program=0",
         "showlegend": true,
         "type": "scatter",
         "x": [
          "2016-12-01T00:00:00",
          "2016-12-02T00:00:00",
          "2016-12-03T00:00:00",
          "2016-12-05T00:00:00",
          "2016-12-06T00:00:00",
          "2016-12-07T00:00:00",
          "2016-12-08T00:00:00",
          "2016-12-09T00:00:00",
          "2016-12-10T00:00:00",
          "2016-12-12T00:00:00",
          "2016-12-13T00:00:00",
          "2016-12-14T00:00:00",
          "2016-12-15T00:00:00",
          "2016-12-16T00:00:00",
          "2016-12-17T00:00:00",
          "2016-12-19T00:00:00",
          "2016-12-20T00:00:00",
          "2016-12-21T00:00:00",
          "2016-12-22T00:00:00",
          "2016-12-23T00:00:00",
          "2017-01-04T00:00:00",
          "2017-01-05T00:00:00",
          "2017-01-06T00:00:00",
          "2017-01-07T00:00:00",
          "2017-01-09T00:00:00",
          "2017-01-10T00:00:00",
          "2017-01-11T00:00:00",
          "2017-01-12T00:00:00",
          "2017-01-13T00:00:00",
          "2017-01-14T00:00:00",
          "2017-01-16T00:00:00",
          "2017-01-17T00:00:00",
          "2017-01-18T00:00:00",
          "2017-01-19T00:00:00",
          "2017-01-20T00:00:00",
          "2017-01-21T00:00:00",
          "2017-01-23T00:00:00",
          "2017-01-24T00:00:00",
          "2017-01-25T00:00:00",
          "2017-01-26T00:00:00",
          "2017-01-27T00:00:00",
          "2017-01-28T00:00:00",
          "2017-01-30T00:00:00",
          "2017-01-31T00:00:00",
          "2017-02-01T00:00:00",
          "2017-02-02T00:00:00",
          "2017-02-03T00:00:00",
          "2017-02-04T00:00:00",
          "2017-02-06T00:00:00",
          "2017-02-07T00:00:00",
          "2017-02-08T00:00:00",
          "2017-02-09T00:00:00",
          "2017-02-10T00:00:00",
          "2017-02-11T00:00:00",
          "2017-02-13T00:00:00",
          "2017-02-14T00:00:00",
          "2017-02-15T00:00:00",
          "2017-02-16T00:00:00",
          "2017-02-17T00:00:00",
          "2017-02-18T00:00:00",
          "2017-02-20T00:00:00",
          "2017-02-21T00:00:00",
          "2017-02-22T00:00:00",
          "2017-02-23T00:00:00",
          "2017-02-24T00:00:00",
          "2017-02-25T00:00:00",
          "2017-02-27T00:00:00",
          "2017-02-28T00:00:00"
         ],
         "xaxis": "x",
         "y": [
          2130,
          1004,
          1508,
          1720,
          2689,
          2311,
          1643,
          1989,
          1939,
          769,
          1568,
          1170,
          680,
          942,
          2774,
          202,
          1393,
          1270,
          194,
          795,
          881,
          1390,
          1301,
          1368,
          597,
          1620,
          1018,
          1399,
          1148,
          1126,
          295,
          2255,
          1158,
          900,
          1205,
          1033,
          485,
          1154,
          1226,
          803,
          1024,
          704,
          337,
          956,
          1022,
          730,
          719,
          979,
          149,
          855,
          925,
          631,
          391,
          726,
          179,
          736,
          880,
          848,
          1258,
          595,
          404,
          909,
          969,
          1115,
          702,
          731,
          573,
          1374
         ],
         "yaxis": "y"
        },
        {
         "hoverlabel": {
          "namelength": 0
         },
         "hovertemplate": "loyalty_program=1<br>purchase_date=%{x}<br>customer_id=%{y}",
         "legendgroup": "loyalty_program=1",
         "line": {
          "color": "#EF553B",
          "dash": "solid"
         },
         "mode": "lines",
         "name": "loyalty_program=1",
         "showlegend": true,
         "type": "scatter",
         "x": [
          "2016-12-01T00:00:00",
          "2016-12-02T00:00:00",
          "2016-12-03T00:00:00",
          "2016-12-05T00:00:00",
          "2016-12-06T00:00:00",
          "2016-12-07T00:00:00",
          "2016-12-08T00:00:00",
          "2016-12-09T00:00:00",
          "2016-12-10T00:00:00",
          "2016-12-12T00:00:00",
          "2016-12-13T00:00:00",
          "2016-12-14T00:00:00",
          "2016-12-15T00:00:00",
          "2016-12-16T00:00:00",
          "2016-12-17T00:00:00",
          "2016-12-19T00:00:00",
          "2016-12-20T00:00:00",
          "2016-12-21T00:00:00",
          "2016-12-22T00:00:00",
          "2016-12-23T00:00:00",
          "2017-01-04T00:00:00",
          "2017-01-05T00:00:00",
          "2017-01-06T00:00:00",
          "2017-01-07T00:00:00",
          "2017-01-09T00:00:00",
          "2017-01-10T00:00:00",
          "2017-01-11T00:00:00",
          "2017-01-12T00:00:00",
          "2017-01-13T00:00:00",
          "2017-01-14T00:00:00",
          "2017-01-16T00:00:00",
          "2017-01-17T00:00:00",
          "2017-01-18T00:00:00",
          "2017-01-19T00:00:00",
          "2017-01-20T00:00:00",
          "2017-01-21T00:00:00",
          "2017-01-23T00:00:00",
          "2017-01-24T00:00:00",
          "2017-01-25T00:00:00",
          "2017-01-26T00:00:00",
          "2017-01-27T00:00:00",
          "2017-01-28T00:00:00",
          "2017-01-30T00:00:00",
          "2017-01-31T00:00:00",
          "2017-02-01T00:00:00",
          "2017-02-02T00:00:00",
          "2017-02-03T00:00:00",
          "2017-02-04T00:00:00",
          "2017-02-06T00:00:00",
          "2017-02-07T00:00:00",
          "2017-02-08T00:00:00",
          "2017-02-09T00:00:00",
          "2017-02-10T00:00:00",
          "2017-02-11T00:00:00",
          "2017-02-13T00:00:00",
          "2017-02-14T00:00:00",
          "2017-02-15T00:00:00",
          "2017-02-16T00:00:00",
          "2017-02-17T00:00:00",
          "2017-02-18T00:00:00",
          "2017-02-20T00:00:00",
          "2017-02-21T00:00:00",
          "2017-02-22T00:00:00",
          "2017-02-23T00:00:00",
          "2017-02-24T00:00:00",
          "2017-02-25T00:00:00",
          "2017-02-27T00:00:00",
          "2017-02-28T00:00:00"
         ],
         "xaxis": "x",
         "y": [
          604,
          790,
          418,
          718,
          900,
          329,
          683,
          612,
          488,
          519,
          434,
          557,
          391,
          444,
          148,
          262,
          144,
          127,
          58,
          92,
          168,
          112,
          221,
          270,
          399,
          204,
          255,
          283,
          181,
          154,
          274,
          158,
          166,
          343,
          166,
          309,
          319,
          140,
          208,
          358,
          365,
          150,
          347,
          414,
          341,
          516,
          151,
          109,
          99,
          333,
          212,
          163,
          287,
          97,
          399,
          224,
          246,
          178,
          338,
          143,
          385,
          262,
          422,
          331,
          440,
          155,
          157,
          246
         ],
         "yaxis": "y"
        }
       ],
       "layout": {
        "height": 600,
        "legend": {
         "tracegroupgap": 0
        },
        "template": {
         "data": {
          "bar": [
           {
            "error_x": {
             "color": "#2a3f5f"
            },
            "error_y": {
             "color": "#2a3f5f"
            },
            "marker": {
             "line": {
              "color": "#E5ECF6",
              "width": 0.5
             }
            },
            "type": "bar"
           }
          ],
          "barpolar": [
           {
            "marker": {
             "line": {
              "color": "#E5ECF6",
              "width": 0.5
             }
            },
            "type": "barpolar"
           }
          ],
          "carpet": [
           {
            "aaxis": {
             "endlinecolor": "#2a3f5f",
             "gridcolor": "white",
             "linecolor": "white",
             "minorgridcolor": "white",
             "startlinecolor": "#2a3f5f"
            },
            "baxis": {
             "endlinecolor": "#2a3f5f",
             "gridcolor": "white",
             "linecolor": "white",
             "minorgridcolor": "white",
             "startlinecolor": "#2a3f5f"
            },
            "type": "carpet"
           }
          ],
          "choropleth": [
           {
            "colorbar": {
             "outlinewidth": 0,
             "ticks": ""
            },
            "type": "choropleth"
           }
          ],
          "contour": [
           {
            "colorbar": {
             "outlinewidth": 0,
             "ticks": ""
            },
            "colorscale": [
             [
              0,
              "#0d0887"
             ],
             [
              0.1111111111,
              "#46039f"
             ],
             [
              0.2222222222,
              "#7201a8"
             ],
             [
              0.3333333333,
              "#9c179e"
             ],
             [
              0.4444444444,
              "#bd3786"
             ],
             [
              0.5555555556,
              "#d8576b"
             ],
             [
              0.6666666667,
              "#ed7953"
             ],
             [
              0.7777777778,
              "#fb9f3a"
             ],
             [
              0.8888888889,
              "#fdca26"
             ],
             [
              1,
              "#f0f921"
             ]
            ],
            "type": "contour"
           }
          ],
          "contourcarpet": [
           {
            "colorbar": {
             "outlinewidth": 0,
             "ticks": ""
            },
            "type": "contourcarpet"
           }
          ],
          "heatmap": [
           {
            "colorbar": {
             "outlinewidth": 0,
             "ticks": ""
            },
            "colorscale": [
             [
              0,
              "#0d0887"
             ],
             [
              0.1111111111,
              "#46039f"
             ],
             [
              0.2222222222,
              "#7201a8"
             ],
             [
              0.3333333333,
              "#9c179e"
             ],
             [
              0.4444444444,
              "#bd3786"
             ],
             [
              0.5555555556,
              "#d8576b"
             ],
             [
              0.6666666667,
              "#ed7953"
             ],
             [
              0.7777777778,
              "#fb9f3a"
             ],
             [
              0.8888888889,
              "#fdca26"
             ],
             [
              1,
              "#f0f921"
             ]
            ],
            "type": "heatmap"
           }
          ],
          "heatmapgl": [
           {
            "colorbar": {
             "outlinewidth": 0,
             "ticks": ""
            },
            "colorscale": [
             [
              0,
              "#0d0887"
             ],
             [
              0.1111111111,
              "#46039f"
             ],
             [
              0.2222222222,
              "#7201a8"
             ],
             [
              0.3333333333,
              "#9c179e"
             ],
             [
              0.4444444444,
              "#bd3786"
             ],
             [
              0.5555555556,
              "#d8576b"
             ],
             [
              0.6666666667,
              "#ed7953"
             ],
             [
              0.7777777778,
              "#fb9f3a"
             ],
             [
              0.8888888889,
              "#fdca26"
             ],
             [
              1,
              "#f0f921"
             ]
            ],
            "type": "heatmapgl"
           }
          ],
          "histogram": [
           {
            "marker": {
             "colorbar": {
              "outlinewidth": 0,
              "ticks": ""
             }
            },
            "type": "histogram"
           }
          ],
          "histogram2d": [
           {
            "colorbar": {
             "outlinewidth": 0,
             "ticks": ""
            },
            "colorscale": [
             [
              0,
              "#0d0887"
             ],
             [
              0.1111111111,
              "#46039f"
             ],
             [
              0.2222222222,
              "#7201a8"
             ],
             [
              0.3333333333,
              "#9c179e"
             ],
             [
              0.4444444444,
              "#bd3786"
             ],
             [
              0.5555555556,
              "#d8576b"
             ],
             [
              0.6666666667,
              "#ed7953"
             ],
             [
              0.7777777778,
              "#fb9f3a"
             ],
             [
              0.8888888889,
              "#fdca26"
             ],
             [
              1,
              "#f0f921"
             ]
            ],
            "type": "histogram2d"
           }
          ],
          "histogram2dcontour": [
           {
            "colorbar": {
             "outlinewidth": 0,
             "ticks": ""
            },
            "colorscale": [
             [
              0,
              "#0d0887"
             ],
             [
              0.1111111111,
              "#46039f"
             ],
             [
              0.2222222222,
              "#7201a8"
             ],
             [
              0.3333333333,
              "#9c179e"
             ],
             [
              0.4444444444,
              "#bd3786"
             ],
             [
              0.5555555556,
              "#d8576b"
             ],
             [
              0.6666666667,
              "#ed7953"
             ],
             [
              0.7777777778,
              "#fb9f3a"
             ],
             [
              0.8888888889,
              "#fdca26"
             ],
             [
              1,
              "#f0f921"
             ]
            ],
            "type": "histogram2dcontour"
           }
          ],
          "mesh3d": [
           {
            "colorbar": {
             "outlinewidth": 0,
             "ticks": ""
            },
            "type": "mesh3d"
           }
          ],
          "parcoords": [
           {
            "line": {
             "colorbar": {
              "outlinewidth": 0,
              "ticks": ""
             }
            },
            "type": "parcoords"
           }
          ],
          "scatter": [
           {
            "marker": {
             "colorbar": {
              "outlinewidth": 0,
              "ticks": ""
             }
            },
            "type": "scatter"
           }
          ],
          "scatter3d": [
           {
            "line": {
             "colorbar": {
              "outlinewidth": 0,
              "ticks": ""
             }
            },
            "marker": {
             "colorbar": {
              "outlinewidth": 0,
              "ticks": ""
             }
            },
            "type": "scatter3d"
           }
          ],
          "scattercarpet": [
           {
            "marker": {
             "colorbar": {
              "outlinewidth": 0,
              "ticks": ""
             }
            },
            "type": "scattercarpet"
           }
          ],
          "scattergeo": [
           {
            "marker": {
             "colorbar": {
              "outlinewidth": 0,
              "ticks": ""
             }
            },
            "type": "scattergeo"
           }
          ],
          "scattergl": [
           {
            "marker": {
             "colorbar": {
              "outlinewidth": 0,
              "ticks": ""
             }
            },
            "type": "scattergl"
           }
          ],
          "scattermapbox": [
           {
            "marker": {
             "colorbar": {
              "outlinewidth": 0,
              "ticks": ""
             }
            },
            "type": "scattermapbox"
           }
          ],
          "scatterpolar": [
           {
            "marker": {
             "colorbar": {
              "outlinewidth": 0,
              "ticks": ""
             }
            },
            "type": "scatterpolar"
           }
          ],
          "scatterpolargl": [
           {
            "marker": {
             "colorbar": {
              "outlinewidth": 0,
              "ticks": ""
             }
            },
            "type": "scatterpolargl"
           }
          ],
          "scatterternary": [
           {
            "marker": {
             "colorbar": {
              "outlinewidth": 0,
              "ticks": ""
             }
            },
            "type": "scatterternary"
           }
          ],
          "surface": [
           {
            "colorbar": {
             "outlinewidth": 0,
             "ticks": ""
            },
            "colorscale": [
             [
              0,
              "#0d0887"
             ],
             [
              0.1111111111,
              "#46039f"
             ],
             [
              0.2222222222,
              "#7201a8"
             ],
             [
              0.3333333333,
              "#9c179e"
             ],
             [
              0.4444444444,
              "#bd3786"
             ],
             [
              0.5555555556,
              "#d8576b"
             ],
             [
              0.6666666667,
              "#ed7953"
             ],
             [
              0.7777777778,
              "#fb9f3a"
             ],
             [
              0.8888888889,
              "#fdca26"
             ],
             [
              1,
              "#f0f921"
             ]
            ],
            "type": "surface"
           }
          ],
          "table": [
           {
            "cells": {
             "fill": {
              "color": "#EBF0F8"
             },
             "line": {
              "color": "white"
             }
            },
            "header": {
             "fill": {
              "color": "#C8D4E3"
             },
             "line": {
              "color": "white"
             }
            },
            "type": "table"
           }
          ]
         },
         "layout": {
          "annotationdefaults": {
           "arrowcolor": "#2a3f5f",
           "arrowhead": 0,
           "arrowwidth": 1
          },
          "colorscale": {
           "diverging": [
            [
             0,
             "#8e0152"
            ],
            [
             0.1,
             "#c51b7d"
            ],
            [
             0.2,
             "#de77ae"
            ],
            [
             0.3,
             "#f1b6da"
            ],
            [
             0.4,
             "#fde0ef"
            ],
            [
             0.5,
             "#f7f7f7"
            ],
            [
             0.6,
             "#e6f5d0"
            ],
            [
             0.7,
             "#b8e186"
            ],
            [
             0.8,
             "#7fbc41"
            ],
            [
             0.9,
             "#4d9221"
            ],
            [
             1,
             "#276419"
            ]
           ],
           "sequential": [
            [
             0,
             "#0d0887"
            ],
            [
             0.1111111111,
             "#46039f"
            ],
            [
             0.2222222222,
             "#7201a8"
            ],
            [
             0.3333333333,
             "#9c179e"
            ],
            [
             0.4444444444,
             "#bd3786"
            ],
            [
             0.5555555556,
             "#d8576b"
            ],
            [
             0.6666666667,
             "#ed7953"
            ],
            [
             0.7777777778,
             "#fb9f3a"
            ],
            [
             0.8888888889,
             "#fdca26"
            ],
            [
             1,
             "#f0f921"
            ]
           ],
           "sequentialminus": [
            [
             0,
             "#0d0887"
            ],
            [
             0.1111111111,
             "#46039f"
            ],
            [
             0.2222222222,
             "#7201a8"
            ],
            [
             0.3333333333,
             "#9c179e"
            ],
            [
             0.4444444444,
             "#bd3786"
            ],
            [
             0.5555555556,
             "#d8576b"
            ],
            [
             0.6666666667,
             "#ed7953"
            ],
            [
             0.7777777778,
             "#fb9f3a"
            ],
            [
             0.8888888889,
             "#fdca26"
            ],
            [
             1,
             "#f0f921"
            ]
           ]
          },
          "colorway": [
           "#636efa",
           "#EF553B",
           "#00cc96",
           "#ab63fa",
           "#FFA15A",
           "#19d3f3",
           "#FF6692",
           "#B6E880",
           "#FF97FF",
           "#FECB52"
          ],
          "font": {
           "color": "#2a3f5f"
          },
          "geo": {
           "bgcolor": "white",
           "lakecolor": "white",
           "landcolor": "#E5ECF6",
           "showlakes": true,
           "showland": true,
           "subunitcolor": "white"
          },
          "hoverlabel": {
           "align": "left"
          },
          "hovermode": "closest",
          "mapbox": {
           "style": "light"
          },
          "paper_bgcolor": "white",
          "plot_bgcolor": "#E5ECF6",
          "polar": {
           "angularaxis": {
            "gridcolor": "white",
            "linecolor": "white",
            "ticks": ""
           },
           "bgcolor": "#E5ECF6",
           "radialaxis": {
            "gridcolor": "white",
            "linecolor": "white",
            "ticks": ""
           }
          },
          "scene": {
           "xaxis": {
            "backgroundcolor": "#E5ECF6",
            "gridcolor": "white",
            "gridwidth": 2,
            "linecolor": "white",
            "showbackground": true,
            "ticks": "",
            "zerolinecolor": "white"
           },
           "yaxis": {
            "backgroundcolor": "#E5ECF6",
            "gridcolor": "white",
            "gridwidth": 2,
            "linecolor": "white",
            "showbackground": true,
            "ticks": "",
            "zerolinecolor": "white"
           },
           "zaxis": {
            "backgroundcolor": "#E5ECF6",
            "gridcolor": "white",
            "gridwidth": 2,
            "linecolor": "white",
            "showbackground": true,
            "ticks": "",
            "zerolinecolor": "white"
           }
          },
          "shapedefaults": {
           "line": {
            "color": "#2a3f5f"
           }
          },
          "ternary": {
           "aaxis": {
            "gridcolor": "white",
            "linecolor": "white",
            "ticks": ""
           },
           "baxis": {
            "gridcolor": "white",
            "linecolor": "white",
            "ticks": ""
           },
           "bgcolor": "#E5ECF6",
           "caxis": {
            "gridcolor": "white",
            "linecolor": "white",
            "ticks": ""
           }
          },
          "title": {
           "x": 0.05
          },
          "xaxis": {
           "automargin": true,
           "gridcolor": "white",
           "linecolor": "white",
           "ticks": "",
           "zerolinecolor": "white",
           "zerolinewidth": 2
          },
          "yaxis": {
           "automargin": true,
           "gridcolor": "white",
           "linecolor": "white",
           "ticks": "",
           "zerolinecolor": "white",
           "zerolinewidth": 2
          }
         }
        },
        "title": {
         "text": " Количество клиентов по дням"
        },
        "xaxis": {
         "anchor": "y",
         "domain": [
          0,
          0.98
         ],
         "title": {
          "text": "purchase_date"
         }
        },
        "yaxis": {
         "anchor": "x",
         "domain": [
          0,
          1
         ],
         "title": {
          "text": "customer_id"
         }
        }
       }
      },
      "text/html": [
       "<div>\n",
       "        \n",
       "        \n",
       "            <div id=\"e54d7c2e-1d59-4182-bc94-af0a15d9e7f3\" class=\"plotly-graph-div\" style=\"height:600px; width:100%;\"></div>\n",
       "            <script type=\"text/javascript\">\n",
       "                require([\"plotly\"], function(Plotly) {\n",
       "                    window.PLOTLYENV=window.PLOTLYENV || {};\n",
       "                    \n",
       "                if (document.getElementById(\"e54d7c2e-1d59-4182-bc94-af0a15d9e7f3\")) {\n",
       "                    Plotly.newPlot(\n",
       "                        'e54d7c2e-1d59-4182-bc94-af0a15d9e7f3',\n",
       "                        [{\"hoverlabel\": {\"namelength\": 0}, \"hovertemplate\": \"loyalty_program=0<br>purchase_date=%{x}<br>customer_id=%{y}\", \"legendgroup\": \"loyalty_program=0\", \"line\": {\"color\": \"#636efa\", \"dash\": \"solid\"}, \"mode\": \"lines\", \"name\": \"loyalty_program=0\", \"showlegend\": true, \"type\": \"scatter\", \"x\": [\"2016-12-01T00:00:00\", \"2016-12-02T00:00:00\", \"2016-12-03T00:00:00\", \"2016-12-05T00:00:00\", \"2016-12-06T00:00:00\", \"2016-12-07T00:00:00\", \"2016-12-08T00:00:00\", \"2016-12-09T00:00:00\", \"2016-12-10T00:00:00\", \"2016-12-12T00:00:00\", \"2016-12-13T00:00:00\", \"2016-12-14T00:00:00\", \"2016-12-15T00:00:00\", \"2016-12-16T00:00:00\", \"2016-12-17T00:00:00\", \"2016-12-19T00:00:00\", \"2016-12-20T00:00:00\", \"2016-12-21T00:00:00\", \"2016-12-22T00:00:00\", \"2016-12-23T00:00:00\", \"2017-01-04T00:00:00\", \"2017-01-05T00:00:00\", \"2017-01-06T00:00:00\", \"2017-01-07T00:00:00\", \"2017-01-09T00:00:00\", \"2017-01-10T00:00:00\", \"2017-01-11T00:00:00\", \"2017-01-12T00:00:00\", \"2017-01-13T00:00:00\", \"2017-01-14T00:00:00\", \"2017-01-16T00:00:00\", \"2017-01-17T00:00:00\", \"2017-01-18T00:00:00\", \"2017-01-19T00:00:00\", \"2017-01-20T00:00:00\", \"2017-01-21T00:00:00\", \"2017-01-23T00:00:00\", \"2017-01-24T00:00:00\", \"2017-01-25T00:00:00\", \"2017-01-26T00:00:00\", \"2017-01-27T00:00:00\", \"2017-01-28T00:00:00\", \"2017-01-30T00:00:00\", \"2017-01-31T00:00:00\", \"2017-02-01T00:00:00\", \"2017-02-02T00:00:00\", \"2017-02-03T00:00:00\", \"2017-02-04T00:00:00\", \"2017-02-06T00:00:00\", \"2017-02-07T00:00:00\", \"2017-02-08T00:00:00\", \"2017-02-09T00:00:00\", \"2017-02-10T00:00:00\", \"2017-02-11T00:00:00\", \"2017-02-13T00:00:00\", \"2017-02-14T00:00:00\", \"2017-02-15T00:00:00\", \"2017-02-16T00:00:00\", \"2017-02-17T00:00:00\", \"2017-02-18T00:00:00\", \"2017-02-20T00:00:00\", \"2017-02-21T00:00:00\", \"2017-02-22T00:00:00\", \"2017-02-23T00:00:00\", \"2017-02-24T00:00:00\", \"2017-02-25T00:00:00\", \"2017-02-27T00:00:00\", \"2017-02-28T00:00:00\"], \"xaxis\": \"x\", \"y\": [2130, 1004, 1508, 1720, 2689, 2311, 1643, 1989, 1939, 769, 1568, 1170, 680, 942, 2774, 202, 1393, 1270, 194, 795, 881, 1390, 1301, 1368, 597, 1620, 1018, 1399, 1148, 1126, 295, 2255, 1158, 900, 1205, 1033, 485, 1154, 1226, 803, 1024, 704, 337, 956, 1022, 730, 719, 979, 149, 855, 925, 631, 391, 726, 179, 736, 880, 848, 1258, 595, 404, 909, 969, 1115, 702, 731, 573, 1374], \"yaxis\": \"y\"}, {\"hoverlabel\": {\"namelength\": 0}, \"hovertemplate\": \"loyalty_program=1<br>purchase_date=%{x}<br>customer_id=%{y}\", \"legendgroup\": \"loyalty_program=1\", \"line\": {\"color\": \"#EF553B\", \"dash\": \"solid\"}, \"mode\": \"lines\", \"name\": \"loyalty_program=1\", \"showlegend\": true, \"type\": \"scatter\", \"x\": [\"2016-12-01T00:00:00\", \"2016-12-02T00:00:00\", \"2016-12-03T00:00:00\", \"2016-12-05T00:00:00\", \"2016-12-06T00:00:00\", \"2016-12-07T00:00:00\", \"2016-12-08T00:00:00\", \"2016-12-09T00:00:00\", \"2016-12-10T00:00:00\", \"2016-12-12T00:00:00\", \"2016-12-13T00:00:00\", \"2016-12-14T00:00:00\", \"2016-12-15T00:00:00\", \"2016-12-16T00:00:00\", \"2016-12-17T00:00:00\", \"2016-12-19T00:00:00\", \"2016-12-20T00:00:00\", \"2016-12-21T00:00:00\", \"2016-12-22T00:00:00\", \"2016-12-23T00:00:00\", \"2017-01-04T00:00:00\", \"2017-01-05T00:00:00\", \"2017-01-06T00:00:00\", \"2017-01-07T00:00:00\", \"2017-01-09T00:00:00\", \"2017-01-10T00:00:00\", \"2017-01-11T00:00:00\", \"2017-01-12T00:00:00\", \"2017-01-13T00:00:00\", \"2017-01-14T00:00:00\", \"2017-01-16T00:00:00\", \"2017-01-17T00:00:00\", \"2017-01-18T00:00:00\", \"2017-01-19T00:00:00\", \"2017-01-20T00:00:00\", \"2017-01-21T00:00:00\", \"2017-01-23T00:00:00\", \"2017-01-24T00:00:00\", \"2017-01-25T00:00:00\", \"2017-01-26T00:00:00\", \"2017-01-27T00:00:00\", \"2017-01-28T00:00:00\", \"2017-01-30T00:00:00\", \"2017-01-31T00:00:00\", \"2017-02-01T00:00:00\", \"2017-02-02T00:00:00\", \"2017-02-03T00:00:00\", \"2017-02-04T00:00:00\", \"2017-02-06T00:00:00\", \"2017-02-07T00:00:00\", \"2017-02-08T00:00:00\", \"2017-02-09T00:00:00\", \"2017-02-10T00:00:00\", \"2017-02-11T00:00:00\", \"2017-02-13T00:00:00\", \"2017-02-14T00:00:00\", \"2017-02-15T00:00:00\", \"2017-02-16T00:00:00\", \"2017-02-17T00:00:00\", \"2017-02-18T00:00:00\", \"2017-02-20T00:00:00\", \"2017-02-21T00:00:00\", \"2017-02-22T00:00:00\", \"2017-02-23T00:00:00\", \"2017-02-24T00:00:00\", \"2017-02-25T00:00:00\", \"2017-02-27T00:00:00\", \"2017-02-28T00:00:00\"], \"xaxis\": \"x\", \"y\": [604, 790, 418, 718, 900, 329, 683, 612, 488, 519, 434, 557, 391, 444, 148, 262, 144, 127, 58, 92, 168, 112, 221, 270, 399, 204, 255, 283, 181, 154, 274, 158, 166, 343, 166, 309, 319, 140, 208, 358, 365, 150, 347, 414, 341, 516, 151, 109, 99, 333, 212, 163, 287, 97, 399, 224, 246, 178, 338, 143, 385, 262, 422, 331, 440, 155, 157, 246], \"yaxis\": \"y\"}],\n",
       "                        {\"height\": 600, \"legend\": {\"tracegroupgap\": 0}, \"template\": {\"data\": {\"bar\": [{\"error_x\": {\"color\": \"#2a3f5f\"}, \"error_y\": {\"color\": \"#2a3f5f\"}, \"marker\": {\"line\": {\"color\": \"#E5ECF6\", \"width\": 0.5}}, \"type\": \"bar\"}], \"barpolar\": [{\"marker\": {\"line\": {\"color\": \"#E5ECF6\", \"width\": 0.5}}, \"type\": \"barpolar\"}], \"carpet\": [{\"aaxis\": {\"endlinecolor\": \"#2a3f5f\", \"gridcolor\": \"white\", \"linecolor\": \"white\", \"minorgridcolor\": \"white\", \"startlinecolor\": \"#2a3f5f\"}, \"baxis\": {\"endlinecolor\": \"#2a3f5f\", \"gridcolor\": \"white\", \"linecolor\": \"white\", \"minorgridcolor\": \"white\", \"startlinecolor\": \"#2a3f5f\"}, \"type\": \"carpet\"}], \"choropleth\": [{\"colorbar\": {\"outlinewidth\": 0, \"ticks\": \"\"}, \"type\": \"choropleth\"}], \"contour\": [{\"colorbar\": {\"outlinewidth\": 0, \"ticks\": \"\"}, \"colorscale\": [[0.0, \"#0d0887\"], [0.1111111111111111, \"#46039f\"], [0.2222222222222222, \"#7201a8\"], [0.3333333333333333, \"#9c179e\"], [0.4444444444444444, \"#bd3786\"], [0.5555555555555556, \"#d8576b\"], [0.6666666666666666, \"#ed7953\"], [0.7777777777777778, \"#fb9f3a\"], [0.8888888888888888, \"#fdca26\"], [1.0, \"#f0f921\"]], \"type\": \"contour\"}], \"contourcarpet\": [{\"colorbar\": {\"outlinewidth\": 0, \"ticks\": \"\"}, \"type\": \"contourcarpet\"}], \"heatmap\": [{\"colorbar\": {\"outlinewidth\": 0, \"ticks\": \"\"}, \"colorscale\": [[0.0, \"#0d0887\"], [0.1111111111111111, \"#46039f\"], [0.2222222222222222, \"#7201a8\"], [0.3333333333333333, \"#9c179e\"], [0.4444444444444444, \"#bd3786\"], [0.5555555555555556, \"#d8576b\"], [0.6666666666666666, \"#ed7953\"], [0.7777777777777778, \"#fb9f3a\"], [0.8888888888888888, \"#fdca26\"], [1.0, \"#f0f921\"]], \"type\": \"heatmap\"}], \"heatmapgl\": [{\"colorbar\": {\"outlinewidth\": 0, \"ticks\": \"\"}, \"colorscale\": [[0.0, \"#0d0887\"], [0.1111111111111111, \"#46039f\"], [0.2222222222222222, \"#7201a8\"], [0.3333333333333333, \"#9c179e\"], [0.4444444444444444, \"#bd3786\"], [0.5555555555555556, \"#d8576b\"], [0.6666666666666666, \"#ed7953\"], [0.7777777777777778, \"#fb9f3a\"], [0.8888888888888888, \"#fdca26\"], [1.0, \"#f0f921\"]], \"type\": \"heatmapgl\"}], \"histogram\": [{\"marker\": {\"colorbar\": {\"outlinewidth\": 0, \"ticks\": \"\"}}, \"type\": \"histogram\"}], \"histogram2d\": [{\"colorbar\": {\"outlinewidth\": 0, \"ticks\": \"\"}, \"colorscale\": [[0.0, \"#0d0887\"], [0.1111111111111111, \"#46039f\"], [0.2222222222222222, \"#7201a8\"], [0.3333333333333333, \"#9c179e\"], [0.4444444444444444, \"#bd3786\"], [0.5555555555555556, \"#d8576b\"], [0.6666666666666666, \"#ed7953\"], [0.7777777777777778, \"#fb9f3a\"], [0.8888888888888888, \"#fdca26\"], [1.0, \"#f0f921\"]], \"type\": \"histogram2d\"}], \"histogram2dcontour\": [{\"colorbar\": {\"outlinewidth\": 0, \"ticks\": \"\"}, \"colorscale\": [[0.0, \"#0d0887\"], [0.1111111111111111, \"#46039f\"], [0.2222222222222222, \"#7201a8\"], [0.3333333333333333, \"#9c179e\"], [0.4444444444444444, \"#bd3786\"], [0.5555555555555556, \"#d8576b\"], [0.6666666666666666, \"#ed7953\"], [0.7777777777777778, \"#fb9f3a\"], [0.8888888888888888, \"#fdca26\"], [1.0, \"#f0f921\"]], \"type\": \"histogram2dcontour\"}], \"mesh3d\": [{\"colorbar\": {\"outlinewidth\": 0, \"ticks\": \"\"}, \"type\": \"mesh3d\"}], \"parcoords\": [{\"line\": {\"colorbar\": {\"outlinewidth\": 0, \"ticks\": \"\"}}, \"type\": \"parcoords\"}], \"scatter\": [{\"marker\": {\"colorbar\": {\"outlinewidth\": 0, \"ticks\": \"\"}}, \"type\": \"scatter\"}], \"scatter3d\": [{\"line\": {\"colorbar\": {\"outlinewidth\": 0, \"ticks\": \"\"}}, \"marker\": {\"colorbar\": {\"outlinewidth\": 0, \"ticks\": \"\"}}, \"type\": \"scatter3d\"}], \"scattercarpet\": [{\"marker\": {\"colorbar\": {\"outlinewidth\": 0, \"ticks\": \"\"}}, \"type\": \"scattercarpet\"}], \"scattergeo\": [{\"marker\": {\"colorbar\": {\"outlinewidth\": 0, \"ticks\": \"\"}}, \"type\": \"scattergeo\"}], \"scattergl\": [{\"marker\": {\"colorbar\": {\"outlinewidth\": 0, \"ticks\": \"\"}}, \"type\": \"scattergl\"}], \"scattermapbox\": [{\"marker\": {\"colorbar\": {\"outlinewidth\": 0, \"ticks\": \"\"}}, \"type\": \"scattermapbox\"}], \"scatterpolar\": [{\"marker\": {\"colorbar\": {\"outlinewidth\": 0, \"ticks\": \"\"}}, \"type\": \"scatterpolar\"}], \"scatterpolargl\": [{\"marker\": {\"colorbar\": {\"outlinewidth\": 0, \"ticks\": \"\"}}, \"type\": \"scatterpolargl\"}], \"scatterternary\": [{\"marker\": {\"colorbar\": {\"outlinewidth\": 0, \"ticks\": \"\"}}, \"type\": \"scatterternary\"}], \"surface\": [{\"colorbar\": {\"outlinewidth\": 0, \"ticks\": \"\"}, \"colorscale\": [[0.0, \"#0d0887\"], [0.1111111111111111, \"#46039f\"], [0.2222222222222222, \"#7201a8\"], [0.3333333333333333, \"#9c179e\"], [0.4444444444444444, \"#bd3786\"], [0.5555555555555556, \"#d8576b\"], [0.6666666666666666, \"#ed7953\"], [0.7777777777777778, \"#fb9f3a\"], [0.8888888888888888, \"#fdca26\"], [1.0, \"#f0f921\"]], \"type\": \"surface\"}], \"table\": [{\"cells\": {\"fill\": {\"color\": \"#EBF0F8\"}, \"line\": {\"color\": \"white\"}}, \"header\": {\"fill\": {\"color\": \"#C8D4E3\"}, \"line\": {\"color\": \"white\"}}, \"type\": \"table\"}]}, \"layout\": {\"annotationdefaults\": {\"arrowcolor\": \"#2a3f5f\", \"arrowhead\": 0, \"arrowwidth\": 1}, \"colorscale\": {\"diverging\": [[0, \"#8e0152\"], [0.1, \"#c51b7d\"], [0.2, \"#de77ae\"], [0.3, \"#f1b6da\"], [0.4, \"#fde0ef\"], [0.5, \"#f7f7f7\"], [0.6, \"#e6f5d0\"], [0.7, \"#b8e186\"], [0.8, \"#7fbc41\"], [0.9, \"#4d9221\"], [1, \"#276419\"]], \"sequential\": [[0.0, \"#0d0887\"], [0.1111111111111111, \"#46039f\"], [0.2222222222222222, \"#7201a8\"], [0.3333333333333333, \"#9c179e\"], [0.4444444444444444, \"#bd3786\"], [0.5555555555555556, \"#d8576b\"], [0.6666666666666666, \"#ed7953\"], [0.7777777777777778, \"#fb9f3a\"], [0.8888888888888888, \"#fdca26\"], [1.0, \"#f0f921\"]], \"sequentialminus\": [[0.0, \"#0d0887\"], [0.1111111111111111, \"#46039f\"], [0.2222222222222222, \"#7201a8\"], [0.3333333333333333, \"#9c179e\"], [0.4444444444444444, \"#bd3786\"], [0.5555555555555556, \"#d8576b\"], [0.6666666666666666, \"#ed7953\"], [0.7777777777777778, \"#fb9f3a\"], [0.8888888888888888, \"#fdca26\"], [1.0, \"#f0f921\"]]}, \"colorway\": [\"#636efa\", \"#EF553B\", \"#00cc96\", \"#ab63fa\", \"#FFA15A\", \"#19d3f3\", \"#FF6692\", \"#B6E880\", \"#FF97FF\", \"#FECB52\"], \"font\": {\"color\": \"#2a3f5f\"}, \"geo\": {\"bgcolor\": \"white\", \"lakecolor\": \"white\", \"landcolor\": \"#E5ECF6\", \"showlakes\": true, \"showland\": true, \"subunitcolor\": \"white\"}, \"hoverlabel\": {\"align\": \"left\"}, \"hovermode\": \"closest\", \"mapbox\": {\"style\": \"light\"}, \"paper_bgcolor\": \"white\", \"plot_bgcolor\": \"#E5ECF6\", \"polar\": {\"angularaxis\": {\"gridcolor\": \"white\", \"linecolor\": \"white\", \"ticks\": \"\"}, \"bgcolor\": \"#E5ECF6\", \"radialaxis\": {\"gridcolor\": \"white\", \"linecolor\": \"white\", \"ticks\": \"\"}}, \"scene\": {\"xaxis\": {\"backgroundcolor\": \"#E5ECF6\", \"gridcolor\": \"white\", \"gridwidth\": 2, \"linecolor\": \"white\", \"showbackground\": true, \"ticks\": \"\", \"zerolinecolor\": \"white\"}, \"yaxis\": {\"backgroundcolor\": \"#E5ECF6\", \"gridcolor\": \"white\", \"gridwidth\": 2, \"linecolor\": \"white\", \"showbackground\": true, \"ticks\": \"\", \"zerolinecolor\": \"white\"}, \"zaxis\": {\"backgroundcolor\": \"#E5ECF6\", \"gridcolor\": \"white\", \"gridwidth\": 2, \"linecolor\": \"white\", \"showbackground\": true, \"ticks\": \"\", \"zerolinecolor\": \"white\"}}, \"shapedefaults\": {\"line\": {\"color\": \"#2a3f5f\"}}, \"ternary\": {\"aaxis\": {\"gridcolor\": \"white\", \"linecolor\": \"white\", \"ticks\": \"\"}, \"baxis\": {\"gridcolor\": \"white\", \"linecolor\": \"white\", \"ticks\": \"\"}, \"bgcolor\": \"#E5ECF6\", \"caxis\": {\"gridcolor\": \"white\", \"linecolor\": \"white\", \"ticks\": \"\"}}, \"title\": {\"x\": 0.05}, \"xaxis\": {\"automargin\": true, \"gridcolor\": \"white\", \"linecolor\": \"white\", \"ticks\": \"\", \"zerolinecolor\": \"white\", \"zerolinewidth\": 2}, \"yaxis\": {\"automargin\": true, \"gridcolor\": \"white\", \"linecolor\": \"white\", \"ticks\": \"\", \"zerolinecolor\": \"white\", \"zerolinewidth\": 2}}}, \"title\": {\"text\": \" \\u041a\\u043e\\u043b\\u0438\\u0447\\u0435\\u0441\\u0442\\u0432\\u043e \\u043a\\u043b\\u0438\\u0435\\u043d\\u0442\\u043e\\u0432 \\u043f\\u043e \\u0434\\u043d\\u044f\\u043c\"}, \"xaxis\": {\"anchor\": \"y\", \"domain\": [0.0, 0.98], \"title\": {\"text\": \"purchase_date\"}}, \"yaxis\": {\"anchor\": \"x\", \"domain\": [0.0, 1.0], \"title\": {\"text\": \"customer_id\"}}},\n",
       "                        {\"responsive\": true}\n",
       "                    ).then(function(){\n",
       "                            \n",
       "var gd = document.getElementById('e54d7c2e-1d59-4182-bc94-af0a15d9e7f3');\n",
       "var x = new MutationObserver(function (mutations, observer) {{\n",
       "        var display = window.getComputedStyle(gd).display;\n",
       "        if (!display || display === 'none') {{\n",
       "            console.log([gd, 'removed!']);\n",
       "            Plotly.purge(gd);\n",
       "            observer.disconnect();\n",
       "        }}\n",
       "}});\n",
       "\n",
       "// Listen for the removal of the full notebook cells\n",
       "var notebookContainer = gd.closest('#notebook-container');\n",
       "if (notebookContainer) {{\n",
       "    x.observe(notebookContainer, {childList: true});\n",
       "}}\n",
       "\n",
       "// Listen for the clearing of the current output cell\n",
       "var outputEl = gd.closest('.output');\n",
       "if (outputEl) {{\n",
       "    x.observe(outputEl, {childList: true});\n",
       "}}\n",
       "\n",
       "                        })\n",
       "                };\n",
       "                });\n",
       "            </script>\n",
       "        </div>"
      ]
     },
     "metadata": {},
     "output_type": "display_data"
    }
   ],
   "source": [
    "def analysis(data,col):\n",
    "    fig = px.line(data.pivot_table(index = ['loyalty_program', 'purchase_date'], values = col, aggfunc = 'count').reset_index(), x = 'purchase_date', y = col, color = 'loyalty_program', title = ' Количество клиентов по дням')\n",
    "    fig.show()    \n",
    "analysis(data,'customer_id')"
   ]
  },
  {
   "cell_type": "code",
   "execution_count": 33,
   "metadata": {},
   "outputs": [
    {
     "data": {
      "text/plain": [
       "0.05193231084797911"
      ]
     },
     "execution_count": 33,
     "metadata": {},
     "output_type": "execute_result"
    }
   ],
   "source": [
    "data_date=data.query('purchase_date>\"2017-01-04\"')\n",
    "\n",
    "2228/data_date.loc[data_date['loyalty_program']==0,'customer_id'].count()"
   ]
  },
  {
   "cell_type": "markdown",
   "metadata": {},
   "source": [
    "Видно, что и по количеству покупателей с картой лояльности и без нее, есть небольшой спад по кол-ву покупателей в день с начала декабря до 23 числа. Потом у нас отсутсвуют данные с 23.12 по 4.01 - скорее всего в эти праздничные дни магазин не работал. а после этого мы видим, что график для клиентов без карты лояльности является более \"резким\" с крутыми перепадами, в один день можно быть 294 клиента, а в другой 2200, график для клиентов с картой лояльности более стабильный. Так диапазон графика для клиентов без карты лояльности от 149 до 2749 за весь период, что составляет 0,2% и 4% от общего количества клиентов без карты. А диапазон графика клиентов с картой лояльности - от 54 до 889 за весь период, что состовляет 0,3% и 4,3% от общего числа клиентов с картой. Но более показательными будут числа, если смотреть данные с 4 января. \n",
    "\n",
    "Так, диапазон для клиентов без карты от 149 до 2228, что составляет 0,35% и 5,3%.\n",
    "Диапазон для клиентов с картой от 105 до 512, что состовляет 0,9% и 4,3%.\n",
    "\n",
    "Видно, что разброс больше, но при этом минимальный процент покупателей во всех случаях выше для клиентов с картой лояльности, а максимальный процент выше, если брать весь период времени.\n",
    "Можно выявить еще один плюс программы лояльности -  клиенты с картой лояльности регулярнее и чаще приходят в магазин.\n",
    "\n",
    "Построим по такому же принципу график для чеков на каждый день и посмотрим разброс и частоту."
   ]
  },
  {
   "cell_type": "code",
   "execution_count": 55,
   "metadata": {
    "scrolled": true
   },
   "outputs": [
    {
     "data": {
      "application/vnd.plotly.v1+json": {
       "config": {
        "plotlyServerURL": "https://plot.ly"
       },
       "data": [
        {
         "hoverlabel": {
          "namelength": 0
         },
         "hovertemplate": "loyalty_program=0<br>purchase_date=%{x}<br>purchase_id=%{y}",
         "legendgroup": "loyalty_program=0",
         "line": {
          "color": "#636efa",
          "dash": "solid"
         },
         "mode": "lines",
         "name": "loyalty_program=0",
         "showlegend": true,
         "type": "scatter",
         "x": [
          "2016-12-01T00:00:00",
          "2016-12-02T00:00:00",
          "2016-12-03T00:00:00",
          "2016-12-05T00:00:00",
          "2016-12-06T00:00:00",
          "2016-12-07T00:00:00",
          "2016-12-08T00:00:00",
          "2016-12-09T00:00:00",
          "2016-12-10T00:00:00",
          "2016-12-12T00:00:00",
          "2016-12-13T00:00:00",
          "2016-12-14T00:00:00",
          "2016-12-15T00:00:00",
          "2016-12-16T00:00:00",
          "2016-12-17T00:00:00",
          "2016-12-19T00:00:00",
          "2016-12-20T00:00:00",
          "2016-12-21T00:00:00",
          "2016-12-22T00:00:00",
          "2016-12-23T00:00:00",
          "2017-01-04T00:00:00",
          "2017-01-05T00:00:00",
          "2017-01-06T00:00:00",
          "2017-01-07T00:00:00",
          "2017-01-09T00:00:00",
          "2017-01-10T00:00:00",
          "2017-01-11T00:00:00",
          "2017-01-12T00:00:00",
          "2017-01-13T00:00:00",
          "2017-01-14T00:00:00",
          "2017-01-16T00:00:00",
          "2017-01-17T00:00:00",
          "2017-01-18T00:00:00",
          "2017-01-19T00:00:00",
          "2017-01-20T00:00:00",
          "2017-01-21T00:00:00",
          "2017-01-23T00:00:00",
          "2017-01-24T00:00:00",
          "2017-01-25T00:00:00",
          "2017-01-26T00:00:00",
          "2017-01-27T00:00:00",
          "2017-01-28T00:00:00",
          "2017-01-30T00:00:00",
          "2017-01-31T00:00:00",
          "2017-02-01T00:00:00",
          "2017-02-02T00:00:00",
          "2017-02-03T00:00:00",
          "2017-02-04T00:00:00",
          "2017-02-06T00:00:00",
          "2017-02-07T00:00:00",
          "2017-02-08T00:00:00",
          "2017-02-09T00:00:00",
          "2017-02-10T00:00:00",
          "2017-02-11T00:00:00",
          "2017-02-13T00:00:00",
          "2017-02-14T00:00:00",
          "2017-02-15T00:00:00",
          "2017-02-16T00:00:00",
          "2017-02-17T00:00:00",
          "2017-02-18T00:00:00",
          "2017-02-20T00:00:00",
          "2017-02-21T00:00:00",
          "2017-02-22T00:00:00",
          "2017-02-23T00:00:00",
          "2017-02-24T00:00:00",
          "2017-02-25T00:00:00",
          "2017-02-27T00:00:00",
          "2017-02-28T00:00:00"
         ],
         "xaxis": "x",
         "y": [
          2130,
          1004,
          1508,
          1720,
          2689,
          2311,
          1643,
          1989,
          1939,
          769,
          1568,
          1170,
          680,
          942,
          2774,
          202,
          1393,
          1270,
          194,
          795,
          881,
          1390,
          1301,
          1368,
          597,
          1620,
          1018,
          1399,
          1148,
          1126,
          295,
          2255,
          1158,
          900,
          1205,
          1033,
          485,
          1154,
          1226,
          803,
          1024,
          704,
          337,
          956,
          1022,
          730,
          719,
          979,
          149,
          855,
          925,
          631,
          391,
          726,
          179,
          736,
          880,
          848,
          1258,
          595,
          404,
          909,
          969,
          1115,
          702,
          731,
          573,
          1374
         ],
         "yaxis": "y"
        },
        {
         "hoverlabel": {
          "namelength": 0
         },
         "hovertemplate": "loyalty_program=1<br>purchase_date=%{x}<br>purchase_id=%{y}",
         "legendgroup": "loyalty_program=1",
         "line": {
          "color": "#EF553B",
          "dash": "solid"
         },
         "mode": "lines",
         "name": "loyalty_program=1",
         "showlegend": true,
         "type": "scatter",
         "x": [
          "2016-12-01T00:00:00",
          "2016-12-02T00:00:00",
          "2016-12-03T00:00:00",
          "2016-12-05T00:00:00",
          "2016-12-06T00:00:00",
          "2016-12-07T00:00:00",
          "2016-12-08T00:00:00",
          "2016-12-09T00:00:00",
          "2016-12-10T00:00:00",
          "2016-12-12T00:00:00",
          "2016-12-13T00:00:00",
          "2016-12-14T00:00:00",
          "2016-12-15T00:00:00",
          "2016-12-16T00:00:00",
          "2016-12-17T00:00:00",
          "2016-12-19T00:00:00",
          "2016-12-20T00:00:00",
          "2016-12-21T00:00:00",
          "2016-12-22T00:00:00",
          "2016-12-23T00:00:00",
          "2017-01-04T00:00:00",
          "2017-01-05T00:00:00",
          "2017-01-06T00:00:00",
          "2017-01-07T00:00:00",
          "2017-01-09T00:00:00",
          "2017-01-10T00:00:00",
          "2017-01-11T00:00:00",
          "2017-01-12T00:00:00",
          "2017-01-13T00:00:00",
          "2017-01-14T00:00:00",
          "2017-01-16T00:00:00",
          "2017-01-17T00:00:00",
          "2017-01-18T00:00:00",
          "2017-01-19T00:00:00",
          "2017-01-20T00:00:00",
          "2017-01-21T00:00:00",
          "2017-01-23T00:00:00",
          "2017-01-24T00:00:00",
          "2017-01-25T00:00:00",
          "2017-01-26T00:00:00",
          "2017-01-27T00:00:00",
          "2017-01-28T00:00:00",
          "2017-01-30T00:00:00",
          "2017-01-31T00:00:00",
          "2017-02-01T00:00:00",
          "2017-02-02T00:00:00",
          "2017-02-03T00:00:00",
          "2017-02-04T00:00:00",
          "2017-02-06T00:00:00",
          "2017-02-07T00:00:00",
          "2017-02-08T00:00:00",
          "2017-02-09T00:00:00",
          "2017-02-10T00:00:00",
          "2017-02-11T00:00:00",
          "2017-02-13T00:00:00",
          "2017-02-14T00:00:00",
          "2017-02-15T00:00:00",
          "2017-02-16T00:00:00",
          "2017-02-17T00:00:00",
          "2017-02-18T00:00:00",
          "2017-02-20T00:00:00",
          "2017-02-21T00:00:00",
          "2017-02-22T00:00:00",
          "2017-02-23T00:00:00",
          "2017-02-24T00:00:00",
          "2017-02-25T00:00:00",
          "2017-02-27T00:00:00",
          "2017-02-28T00:00:00"
         ],
         "xaxis": "x",
         "y": [
          604,
          790,
          418,
          718,
          900,
          329,
          683,
          612,
          488,
          519,
          434,
          557,
          391,
          444,
          148,
          262,
          144,
          127,
          58,
          92,
          168,
          112,
          221,
          270,
          399,
          204,
          255,
          283,
          181,
          154,
          274,
          158,
          166,
          343,
          166,
          309,
          319,
          140,
          208,
          358,
          365,
          150,
          347,
          414,
          341,
          516,
          151,
          109,
          99,
          333,
          212,
          163,
          287,
          97,
          399,
          224,
          246,
          178,
          338,
          143,
          385,
          262,
          422,
          331,
          440,
          155,
          157,
          246
         ],
         "yaxis": "y"
        }
       ],
       "layout": {
        "height": 600,
        "legend": {
         "tracegroupgap": 0
        },
        "template": {
         "data": {
          "bar": [
           {
            "error_x": {
             "color": "#2a3f5f"
            },
            "error_y": {
             "color": "#2a3f5f"
            },
            "marker": {
             "line": {
              "color": "#E5ECF6",
              "width": 0.5
             }
            },
            "type": "bar"
           }
          ],
          "barpolar": [
           {
            "marker": {
             "line": {
              "color": "#E5ECF6",
              "width": 0.5
             }
            },
            "type": "barpolar"
           }
          ],
          "carpet": [
           {
            "aaxis": {
             "endlinecolor": "#2a3f5f",
             "gridcolor": "white",
             "linecolor": "white",
             "minorgridcolor": "white",
             "startlinecolor": "#2a3f5f"
            },
            "baxis": {
             "endlinecolor": "#2a3f5f",
             "gridcolor": "white",
             "linecolor": "white",
             "minorgridcolor": "white",
             "startlinecolor": "#2a3f5f"
            },
            "type": "carpet"
           }
          ],
          "choropleth": [
           {
            "colorbar": {
             "outlinewidth": 0,
             "ticks": ""
            },
            "type": "choropleth"
           }
          ],
          "contour": [
           {
            "colorbar": {
             "outlinewidth": 0,
             "ticks": ""
            },
            "colorscale": [
             [
              0,
              "#0d0887"
             ],
             [
              0.1111111111,
              "#46039f"
             ],
             [
              0.2222222222,
              "#7201a8"
             ],
             [
              0.3333333333,
              "#9c179e"
             ],
             [
              0.4444444444,
              "#bd3786"
             ],
             [
              0.5555555556,
              "#d8576b"
             ],
             [
              0.6666666667,
              "#ed7953"
             ],
             [
              0.7777777778,
              "#fb9f3a"
             ],
             [
              0.8888888889,
              "#fdca26"
             ],
             [
              1,
              "#f0f921"
             ]
            ],
            "type": "contour"
           }
          ],
          "contourcarpet": [
           {
            "colorbar": {
             "outlinewidth": 0,
             "ticks": ""
            },
            "type": "contourcarpet"
           }
          ],
          "heatmap": [
           {
            "colorbar": {
             "outlinewidth": 0,
             "ticks": ""
            },
            "colorscale": [
             [
              0,
              "#0d0887"
             ],
             [
              0.1111111111,
              "#46039f"
             ],
             [
              0.2222222222,
              "#7201a8"
             ],
             [
              0.3333333333,
              "#9c179e"
             ],
             [
              0.4444444444,
              "#bd3786"
             ],
             [
              0.5555555556,
              "#d8576b"
             ],
             [
              0.6666666667,
              "#ed7953"
             ],
             [
              0.7777777778,
              "#fb9f3a"
             ],
             [
              0.8888888889,
              "#fdca26"
             ],
             [
              1,
              "#f0f921"
             ]
            ],
            "type": "heatmap"
           }
          ],
          "heatmapgl": [
           {
            "colorbar": {
             "outlinewidth": 0,
             "ticks": ""
            },
            "colorscale": [
             [
              0,
              "#0d0887"
             ],
             [
              0.1111111111,
              "#46039f"
             ],
             [
              0.2222222222,
              "#7201a8"
             ],
             [
              0.3333333333,
              "#9c179e"
             ],
             [
              0.4444444444,
              "#bd3786"
             ],
             [
              0.5555555556,
              "#d8576b"
             ],
             [
              0.6666666667,
              "#ed7953"
             ],
             [
              0.7777777778,
              "#fb9f3a"
             ],
             [
              0.8888888889,
              "#fdca26"
             ],
             [
              1,
              "#f0f921"
             ]
            ],
            "type": "heatmapgl"
           }
          ],
          "histogram": [
           {
            "marker": {
             "colorbar": {
              "outlinewidth": 0,
              "ticks": ""
             }
            },
            "type": "histogram"
           }
          ],
          "histogram2d": [
           {
            "colorbar": {
             "outlinewidth": 0,
             "ticks": ""
            },
            "colorscale": [
             [
              0,
              "#0d0887"
             ],
             [
              0.1111111111,
              "#46039f"
             ],
             [
              0.2222222222,
              "#7201a8"
             ],
             [
              0.3333333333,
              "#9c179e"
             ],
             [
              0.4444444444,
              "#bd3786"
             ],
             [
              0.5555555556,
              "#d8576b"
             ],
             [
              0.6666666667,
              "#ed7953"
             ],
             [
              0.7777777778,
              "#fb9f3a"
             ],
             [
              0.8888888889,
              "#fdca26"
             ],
             [
              1,
              "#f0f921"
             ]
            ],
            "type": "histogram2d"
           }
          ],
          "histogram2dcontour": [
           {
            "colorbar": {
             "outlinewidth": 0,
             "ticks": ""
            },
            "colorscale": [
             [
              0,
              "#0d0887"
             ],
             [
              0.1111111111,
              "#46039f"
             ],
             [
              0.2222222222,
              "#7201a8"
             ],
             [
              0.3333333333,
              "#9c179e"
             ],
             [
              0.4444444444,
              "#bd3786"
             ],
             [
              0.5555555556,
              "#d8576b"
             ],
             [
              0.6666666667,
              "#ed7953"
             ],
             [
              0.7777777778,
              "#fb9f3a"
             ],
             [
              0.8888888889,
              "#fdca26"
             ],
             [
              1,
              "#f0f921"
             ]
            ],
            "type": "histogram2dcontour"
           }
          ],
          "mesh3d": [
           {
            "colorbar": {
             "outlinewidth": 0,
             "ticks": ""
            },
            "type": "mesh3d"
           }
          ],
          "parcoords": [
           {
            "line": {
             "colorbar": {
              "outlinewidth": 0,
              "ticks": ""
             }
            },
            "type": "parcoords"
           }
          ],
          "scatter": [
           {
            "marker": {
             "colorbar": {
              "outlinewidth": 0,
              "ticks": ""
             }
            },
            "type": "scatter"
           }
          ],
          "scatter3d": [
           {
            "line": {
             "colorbar": {
              "outlinewidth": 0,
              "ticks": ""
             }
            },
            "marker": {
             "colorbar": {
              "outlinewidth": 0,
              "ticks": ""
             }
            },
            "type": "scatter3d"
           }
          ],
          "scattercarpet": [
           {
            "marker": {
             "colorbar": {
              "outlinewidth": 0,
              "ticks": ""
             }
            },
            "type": "scattercarpet"
           }
          ],
          "scattergeo": [
           {
            "marker": {
             "colorbar": {
              "outlinewidth": 0,
              "ticks": ""
             }
            },
            "type": "scattergeo"
           }
          ],
          "scattergl": [
           {
            "marker": {
             "colorbar": {
              "outlinewidth": 0,
              "ticks": ""
             }
            },
            "type": "scattergl"
           }
          ],
          "scattermapbox": [
           {
            "marker": {
             "colorbar": {
              "outlinewidth": 0,
              "ticks": ""
             }
            },
            "type": "scattermapbox"
           }
          ],
          "scatterpolar": [
           {
            "marker": {
             "colorbar": {
              "outlinewidth": 0,
              "ticks": ""
             }
            },
            "type": "scatterpolar"
           }
          ],
          "scatterpolargl": [
           {
            "marker": {
             "colorbar": {
              "outlinewidth": 0,
              "ticks": ""
             }
            },
            "type": "scatterpolargl"
           }
          ],
          "scatterternary": [
           {
            "marker": {
             "colorbar": {
              "outlinewidth": 0,
              "ticks": ""
             }
            },
            "type": "scatterternary"
           }
          ],
          "surface": [
           {
            "colorbar": {
             "outlinewidth": 0,
             "ticks": ""
            },
            "colorscale": [
             [
              0,
              "#0d0887"
             ],
             [
              0.1111111111,
              "#46039f"
             ],
             [
              0.2222222222,
              "#7201a8"
             ],
             [
              0.3333333333,
              "#9c179e"
             ],
             [
              0.4444444444,
              "#bd3786"
             ],
             [
              0.5555555556,
              "#d8576b"
             ],
             [
              0.6666666667,
              "#ed7953"
             ],
             [
              0.7777777778,
              "#fb9f3a"
             ],
             [
              0.8888888889,
              "#fdca26"
             ],
             [
              1,
              "#f0f921"
             ]
            ],
            "type": "surface"
           }
          ],
          "table": [
           {
            "cells": {
             "fill": {
              "color": "#EBF0F8"
             },
             "line": {
              "color": "white"
             }
            },
            "header": {
             "fill": {
              "color": "#C8D4E3"
             },
             "line": {
              "color": "white"
             }
            },
            "type": "table"
           }
          ]
         },
         "layout": {
          "annotationdefaults": {
           "arrowcolor": "#2a3f5f",
           "arrowhead": 0,
           "arrowwidth": 1
          },
          "colorscale": {
           "diverging": [
            [
             0,
             "#8e0152"
            ],
            [
             0.1,
             "#c51b7d"
            ],
            [
             0.2,
             "#de77ae"
            ],
            [
             0.3,
             "#f1b6da"
            ],
            [
             0.4,
             "#fde0ef"
            ],
            [
             0.5,
             "#f7f7f7"
            ],
            [
             0.6,
             "#e6f5d0"
            ],
            [
             0.7,
             "#b8e186"
            ],
            [
             0.8,
             "#7fbc41"
            ],
            [
             0.9,
             "#4d9221"
            ],
            [
             1,
             "#276419"
            ]
           ],
           "sequential": [
            [
             0,
             "#0d0887"
            ],
            [
             0.1111111111,
             "#46039f"
            ],
            [
             0.2222222222,
             "#7201a8"
            ],
            [
             0.3333333333,
             "#9c179e"
            ],
            [
             0.4444444444,
             "#bd3786"
            ],
            [
             0.5555555556,
             "#d8576b"
            ],
            [
             0.6666666667,
             "#ed7953"
            ],
            [
             0.7777777778,
             "#fb9f3a"
            ],
            [
             0.8888888889,
             "#fdca26"
            ],
            [
             1,
             "#f0f921"
            ]
           ],
           "sequentialminus": [
            [
             0,
             "#0d0887"
            ],
            [
             0.1111111111,
             "#46039f"
            ],
            [
             0.2222222222,
             "#7201a8"
            ],
            [
             0.3333333333,
             "#9c179e"
            ],
            [
             0.4444444444,
             "#bd3786"
            ],
            [
             0.5555555556,
             "#d8576b"
            ],
            [
             0.6666666667,
             "#ed7953"
            ],
            [
             0.7777777778,
             "#fb9f3a"
            ],
            [
             0.8888888889,
             "#fdca26"
            ],
            [
             1,
             "#f0f921"
            ]
           ]
          },
          "colorway": [
           "#636efa",
           "#EF553B",
           "#00cc96",
           "#ab63fa",
           "#FFA15A",
           "#19d3f3",
           "#FF6692",
           "#B6E880",
           "#FF97FF",
           "#FECB52"
          ],
          "font": {
           "color": "#2a3f5f"
          },
          "geo": {
           "bgcolor": "white",
           "lakecolor": "white",
           "landcolor": "#E5ECF6",
           "showlakes": true,
           "showland": true,
           "subunitcolor": "white"
          },
          "hoverlabel": {
           "align": "left"
          },
          "hovermode": "closest",
          "mapbox": {
           "style": "light"
          },
          "paper_bgcolor": "white",
          "plot_bgcolor": "#E5ECF6",
          "polar": {
           "angularaxis": {
            "gridcolor": "white",
            "linecolor": "white",
            "ticks": ""
           },
           "bgcolor": "#E5ECF6",
           "radialaxis": {
            "gridcolor": "white",
            "linecolor": "white",
            "ticks": ""
           }
          },
          "scene": {
           "xaxis": {
            "backgroundcolor": "#E5ECF6",
            "gridcolor": "white",
            "gridwidth": 2,
            "linecolor": "white",
            "showbackground": true,
            "ticks": "",
            "zerolinecolor": "white"
           },
           "yaxis": {
            "backgroundcolor": "#E5ECF6",
            "gridcolor": "white",
            "gridwidth": 2,
            "linecolor": "white",
            "showbackground": true,
            "ticks": "",
            "zerolinecolor": "white"
           },
           "zaxis": {
            "backgroundcolor": "#E5ECF6",
            "gridcolor": "white",
            "gridwidth": 2,
            "linecolor": "white",
            "showbackground": true,
            "ticks": "",
            "zerolinecolor": "white"
           }
          },
          "shapedefaults": {
           "line": {
            "color": "#2a3f5f"
           }
          },
          "ternary": {
           "aaxis": {
            "gridcolor": "white",
            "linecolor": "white",
            "ticks": ""
           },
           "baxis": {
            "gridcolor": "white",
            "linecolor": "white",
            "ticks": ""
           },
           "bgcolor": "#E5ECF6",
           "caxis": {
            "gridcolor": "white",
            "linecolor": "white",
            "ticks": ""
           }
          },
          "title": {
           "x": 0.05
          },
          "xaxis": {
           "automargin": true,
           "gridcolor": "white",
           "linecolor": "white",
           "ticks": "",
           "zerolinecolor": "white",
           "zerolinewidth": 2
          },
          "yaxis": {
           "automargin": true,
           "gridcolor": "white",
           "linecolor": "white",
           "ticks": "",
           "zerolinecolor": "white",
           "zerolinewidth": 2
          }
         }
        },
        "title": {
         "text": " Количество продаж по дням"
        },
        "xaxis": {
         "anchor": "y",
         "domain": [
          0,
          0.98
         ],
         "title": {
          "text": "purchase_date"
         }
        },
        "yaxis": {
         "anchor": "x",
         "domain": [
          0,
          1
         ],
         "title": {
          "text": "purchase_id"
         }
        }
       }
      },
      "text/html": [
       "<div>\n",
       "        \n",
       "        \n",
       "            <div id=\"a986ce58-08ac-42f9-9a0a-31b1aa980edc\" class=\"plotly-graph-div\" style=\"height:600px; width:100%;\"></div>\n",
       "            <script type=\"text/javascript\">\n",
       "                require([\"plotly\"], function(Plotly) {\n",
       "                    window.PLOTLYENV=window.PLOTLYENV || {};\n",
       "                    \n",
       "                if (document.getElementById(\"a986ce58-08ac-42f9-9a0a-31b1aa980edc\")) {\n",
       "                    Plotly.newPlot(\n",
       "                        'a986ce58-08ac-42f9-9a0a-31b1aa980edc',\n",
       "                        [{\"hoverlabel\": {\"namelength\": 0}, \"hovertemplate\": \"loyalty_program=0<br>purchase_date=%{x}<br>purchase_id=%{y}\", \"legendgroup\": \"loyalty_program=0\", \"line\": {\"color\": \"#636efa\", \"dash\": \"solid\"}, \"mode\": \"lines\", \"name\": \"loyalty_program=0\", \"showlegend\": true, \"type\": \"scatter\", \"x\": [\"2016-12-01T00:00:00\", \"2016-12-02T00:00:00\", \"2016-12-03T00:00:00\", \"2016-12-05T00:00:00\", \"2016-12-06T00:00:00\", \"2016-12-07T00:00:00\", \"2016-12-08T00:00:00\", \"2016-12-09T00:00:00\", \"2016-12-10T00:00:00\", \"2016-12-12T00:00:00\", \"2016-12-13T00:00:00\", \"2016-12-14T00:00:00\", \"2016-12-15T00:00:00\", \"2016-12-16T00:00:00\", \"2016-12-17T00:00:00\", \"2016-12-19T00:00:00\", \"2016-12-20T00:00:00\", \"2016-12-21T00:00:00\", \"2016-12-22T00:00:00\", \"2016-12-23T00:00:00\", \"2017-01-04T00:00:00\", \"2017-01-05T00:00:00\", \"2017-01-06T00:00:00\", \"2017-01-07T00:00:00\", \"2017-01-09T00:00:00\", \"2017-01-10T00:00:00\", \"2017-01-11T00:00:00\", \"2017-01-12T00:00:00\", \"2017-01-13T00:00:00\", \"2017-01-14T00:00:00\", \"2017-01-16T00:00:00\", \"2017-01-17T00:00:00\", \"2017-01-18T00:00:00\", \"2017-01-19T00:00:00\", \"2017-01-20T00:00:00\", \"2017-01-21T00:00:00\", \"2017-01-23T00:00:00\", \"2017-01-24T00:00:00\", \"2017-01-25T00:00:00\", \"2017-01-26T00:00:00\", \"2017-01-27T00:00:00\", \"2017-01-28T00:00:00\", \"2017-01-30T00:00:00\", \"2017-01-31T00:00:00\", \"2017-02-01T00:00:00\", \"2017-02-02T00:00:00\", \"2017-02-03T00:00:00\", \"2017-02-04T00:00:00\", \"2017-02-06T00:00:00\", \"2017-02-07T00:00:00\", \"2017-02-08T00:00:00\", \"2017-02-09T00:00:00\", \"2017-02-10T00:00:00\", \"2017-02-11T00:00:00\", \"2017-02-13T00:00:00\", \"2017-02-14T00:00:00\", \"2017-02-15T00:00:00\", \"2017-02-16T00:00:00\", \"2017-02-17T00:00:00\", \"2017-02-18T00:00:00\", \"2017-02-20T00:00:00\", \"2017-02-21T00:00:00\", \"2017-02-22T00:00:00\", \"2017-02-23T00:00:00\", \"2017-02-24T00:00:00\", \"2017-02-25T00:00:00\", \"2017-02-27T00:00:00\", \"2017-02-28T00:00:00\"], \"xaxis\": \"x\", \"y\": [2130, 1004, 1508, 1720, 2689, 2311, 1643, 1989, 1939, 769, 1568, 1170, 680, 942, 2774, 202, 1393, 1270, 194, 795, 881, 1390, 1301, 1368, 597, 1620, 1018, 1399, 1148, 1126, 295, 2255, 1158, 900, 1205, 1033, 485, 1154, 1226, 803, 1024, 704, 337, 956, 1022, 730, 719, 979, 149, 855, 925, 631, 391, 726, 179, 736, 880, 848, 1258, 595, 404, 909, 969, 1115, 702, 731, 573, 1374], \"yaxis\": \"y\"}, {\"hoverlabel\": {\"namelength\": 0}, \"hovertemplate\": \"loyalty_program=1<br>purchase_date=%{x}<br>purchase_id=%{y}\", \"legendgroup\": \"loyalty_program=1\", \"line\": {\"color\": \"#EF553B\", \"dash\": \"solid\"}, \"mode\": \"lines\", \"name\": \"loyalty_program=1\", \"showlegend\": true, \"type\": \"scatter\", \"x\": [\"2016-12-01T00:00:00\", \"2016-12-02T00:00:00\", \"2016-12-03T00:00:00\", \"2016-12-05T00:00:00\", \"2016-12-06T00:00:00\", \"2016-12-07T00:00:00\", \"2016-12-08T00:00:00\", \"2016-12-09T00:00:00\", \"2016-12-10T00:00:00\", \"2016-12-12T00:00:00\", \"2016-12-13T00:00:00\", \"2016-12-14T00:00:00\", \"2016-12-15T00:00:00\", \"2016-12-16T00:00:00\", \"2016-12-17T00:00:00\", \"2016-12-19T00:00:00\", \"2016-12-20T00:00:00\", \"2016-12-21T00:00:00\", \"2016-12-22T00:00:00\", \"2016-12-23T00:00:00\", \"2017-01-04T00:00:00\", \"2017-01-05T00:00:00\", \"2017-01-06T00:00:00\", \"2017-01-07T00:00:00\", \"2017-01-09T00:00:00\", \"2017-01-10T00:00:00\", \"2017-01-11T00:00:00\", \"2017-01-12T00:00:00\", \"2017-01-13T00:00:00\", \"2017-01-14T00:00:00\", \"2017-01-16T00:00:00\", \"2017-01-17T00:00:00\", \"2017-01-18T00:00:00\", \"2017-01-19T00:00:00\", \"2017-01-20T00:00:00\", \"2017-01-21T00:00:00\", \"2017-01-23T00:00:00\", \"2017-01-24T00:00:00\", \"2017-01-25T00:00:00\", \"2017-01-26T00:00:00\", \"2017-01-27T00:00:00\", \"2017-01-28T00:00:00\", \"2017-01-30T00:00:00\", \"2017-01-31T00:00:00\", \"2017-02-01T00:00:00\", \"2017-02-02T00:00:00\", \"2017-02-03T00:00:00\", \"2017-02-04T00:00:00\", \"2017-02-06T00:00:00\", \"2017-02-07T00:00:00\", \"2017-02-08T00:00:00\", \"2017-02-09T00:00:00\", \"2017-02-10T00:00:00\", \"2017-02-11T00:00:00\", \"2017-02-13T00:00:00\", \"2017-02-14T00:00:00\", \"2017-02-15T00:00:00\", \"2017-02-16T00:00:00\", \"2017-02-17T00:00:00\", \"2017-02-18T00:00:00\", \"2017-02-20T00:00:00\", \"2017-02-21T00:00:00\", \"2017-02-22T00:00:00\", \"2017-02-23T00:00:00\", \"2017-02-24T00:00:00\", \"2017-02-25T00:00:00\", \"2017-02-27T00:00:00\", \"2017-02-28T00:00:00\"], \"xaxis\": \"x\", \"y\": [604, 790, 418, 718, 900, 329, 683, 612, 488, 519, 434, 557, 391, 444, 148, 262, 144, 127, 58, 92, 168, 112, 221, 270, 399, 204, 255, 283, 181, 154, 274, 158, 166, 343, 166, 309, 319, 140, 208, 358, 365, 150, 347, 414, 341, 516, 151, 109, 99, 333, 212, 163, 287, 97, 399, 224, 246, 178, 338, 143, 385, 262, 422, 331, 440, 155, 157, 246], \"yaxis\": \"y\"}],\n",
       "                        {\"height\": 600, \"legend\": {\"tracegroupgap\": 0}, \"template\": {\"data\": {\"bar\": [{\"error_x\": {\"color\": \"#2a3f5f\"}, \"error_y\": {\"color\": \"#2a3f5f\"}, \"marker\": {\"line\": {\"color\": \"#E5ECF6\", \"width\": 0.5}}, \"type\": \"bar\"}], \"barpolar\": [{\"marker\": {\"line\": {\"color\": \"#E5ECF6\", \"width\": 0.5}}, \"type\": \"barpolar\"}], \"carpet\": [{\"aaxis\": {\"endlinecolor\": \"#2a3f5f\", \"gridcolor\": \"white\", \"linecolor\": \"white\", \"minorgridcolor\": \"white\", \"startlinecolor\": \"#2a3f5f\"}, \"baxis\": {\"endlinecolor\": \"#2a3f5f\", \"gridcolor\": \"white\", \"linecolor\": \"white\", \"minorgridcolor\": \"white\", \"startlinecolor\": \"#2a3f5f\"}, \"type\": \"carpet\"}], \"choropleth\": [{\"colorbar\": {\"outlinewidth\": 0, \"ticks\": \"\"}, \"type\": \"choropleth\"}], \"contour\": [{\"colorbar\": {\"outlinewidth\": 0, \"ticks\": \"\"}, \"colorscale\": [[0.0, \"#0d0887\"], [0.1111111111111111, \"#46039f\"], [0.2222222222222222, \"#7201a8\"], [0.3333333333333333, \"#9c179e\"], [0.4444444444444444, \"#bd3786\"], [0.5555555555555556, \"#d8576b\"], [0.6666666666666666, \"#ed7953\"], [0.7777777777777778, \"#fb9f3a\"], [0.8888888888888888, \"#fdca26\"], [1.0, \"#f0f921\"]], \"type\": \"contour\"}], \"contourcarpet\": [{\"colorbar\": {\"outlinewidth\": 0, \"ticks\": \"\"}, \"type\": \"contourcarpet\"}], \"heatmap\": [{\"colorbar\": {\"outlinewidth\": 0, \"ticks\": \"\"}, \"colorscale\": [[0.0, \"#0d0887\"], [0.1111111111111111, \"#46039f\"], [0.2222222222222222, \"#7201a8\"], [0.3333333333333333, \"#9c179e\"], [0.4444444444444444, \"#bd3786\"], [0.5555555555555556, \"#d8576b\"], [0.6666666666666666, \"#ed7953\"], [0.7777777777777778, \"#fb9f3a\"], [0.8888888888888888, \"#fdca26\"], [1.0, \"#f0f921\"]], \"type\": \"heatmap\"}], \"heatmapgl\": [{\"colorbar\": {\"outlinewidth\": 0, \"ticks\": \"\"}, \"colorscale\": [[0.0, \"#0d0887\"], [0.1111111111111111, \"#46039f\"], [0.2222222222222222, \"#7201a8\"], [0.3333333333333333, \"#9c179e\"], [0.4444444444444444, \"#bd3786\"], [0.5555555555555556, \"#d8576b\"], [0.6666666666666666, \"#ed7953\"], [0.7777777777777778, \"#fb9f3a\"], [0.8888888888888888, \"#fdca26\"], [1.0, \"#f0f921\"]], \"type\": \"heatmapgl\"}], \"histogram\": [{\"marker\": {\"colorbar\": {\"outlinewidth\": 0, \"ticks\": \"\"}}, \"type\": \"histogram\"}], \"histogram2d\": [{\"colorbar\": {\"outlinewidth\": 0, \"ticks\": \"\"}, \"colorscale\": [[0.0, \"#0d0887\"], [0.1111111111111111, \"#46039f\"], [0.2222222222222222, \"#7201a8\"], [0.3333333333333333, \"#9c179e\"], [0.4444444444444444, \"#bd3786\"], [0.5555555555555556, \"#d8576b\"], [0.6666666666666666, \"#ed7953\"], [0.7777777777777778, \"#fb9f3a\"], [0.8888888888888888, \"#fdca26\"], [1.0, \"#f0f921\"]], \"type\": \"histogram2d\"}], \"histogram2dcontour\": [{\"colorbar\": {\"outlinewidth\": 0, \"ticks\": \"\"}, \"colorscale\": [[0.0, \"#0d0887\"], [0.1111111111111111, \"#46039f\"], [0.2222222222222222, \"#7201a8\"], [0.3333333333333333, \"#9c179e\"], [0.4444444444444444, \"#bd3786\"], [0.5555555555555556, \"#d8576b\"], [0.6666666666666666, \"#ed7953\"], [0.7777777777777778, \"#fb9f3a\"], [0.8888888888888888, \"#fdca26\"], [1.0, \"#f0f921\"]], \"type\": \"histogram2dcontour\"}], \"mesh3d\": [{\"colorbar\": {\"outlinewidth\": 0, \"ticks\": \"\"}, \"type\": \"mesh3d\"}], \"parcoords\": [{\"line\": {\"colorbar\": {\"outlinewidth\": 0, \"ticks\": \"\"}}, \"type\": \"parcoords\"}], \"scatter\": [{\"marker\": {\"colorbar\": {\"outlinewidth\": 0, \"ticks\": \"\"}}, \"type\": \"scatter\"}], \"scatter3d\": [{\"line\": {\"colorbar\": {\"outlinewidth\": 0, \"ticks\": \"\"}}, \"marker\": {\"colorbar\": {\"outlinewidth\": 0, \"ticks\": \"\"}}, \"type\": \"scatter3d\"}], \"scattercarpet\": [{\"marker\": {\"colorbar\": {\"outlinewidth\": 0, \"ticks\": \"\"}}, \"type\": \"scattercarpet\"}], \"scattergeo\": [{\"marker\": {\"colorbar\": {\"outlinewidth\": 0, \"ticks\": \"\"}}, \"type\": \"scattergeo\"}], \"scattergl\": [{\"marker\": {\"colorbar\": {\"outlinewidth\": 0, \"ticks\": \"\"}}, \"type\": \"scattergl\"}], \"scattermapbox\": [{\"marker\": {\"colorbar\": {\"outlinewidth\": 0, \"ticks\": \"\"}}, \"type\": \"scattermapbox\"}], \"scatterpolar\": [{\"marker\": {\"colorbar\": {\"outlinewidth\": 0, \"ticks\": \"\"}}, \"type\": \"scatterpolar\"}], \"scatterpolargl\": [{\"marker\": {\"colorbar\": {\"outlinewidth\": 0, \"ticks\": \"\"}}, \"type\": \"scatterpolargl\"}], \"scatterternary\": [{\"marker\": {\"colorbar\": {\"outlinewidth\": 0, \"ticks\": \"\"}}, \"type\": \"scatterternary\"}], \"surface\": [{\"colorbar\": {\"outlinewidth\": 0, \"ticks\": \"\"}, \"colorscale\": [[0.0, \"#0d0887\"], [0.1111111111111111, \"#46039f\"], [0.2222222222222222, \"#7201a8\"], [0.3333333333333333, \"#9c179e\"], [0.4444444444444444, \"#bd3786\"], [0.5555555555555556, \"#d8576b\"], [0.6666666666666666, \"#ed7953\"], [0.7777777777777778, \"#fb9f3a\"], [0.8888888888888888, \"#fdca26\"], [1.0, \"#f0f921\"]], \"type\": \"surface\"}], \"table\": [{\"cells\": {\"fill\": {\"color\": \"#EBF0F8\"}, \"line\": {\"color\": \"white\"}}, \"header\": {\"fill\": {\"color\": \"#C8D4E3\"}, \"line\": {\"color\": \"white\"}}, \"type\": \"table\"}]}, \"layout\": {\"annotationdefaults\": {\"arrowcolor\": \"#2a3f5f\", \"arrowhead\": 0, \"arrowwidth\": 1}, \"colorscale\": {\"diverging\": [[0, \"#8e0152\"], [0.1, \"#c51b7d\"], [0.2, \"#de77ae\"], [0.3, \"#f1b6da\"], [0.4, \"#fde0ef\"], [0.5, \"#f7f7f7\"], [0.6, \"#e6f5d0\"], [0.7, \"#b8e186\"], [0.8, \"#7fbc41\"], [0.9, \"#4d9221\"], [1, \"#276419\"]], \"sequential\": [[0.0, \"#0d0887\"], [0.1111111111111111, \"#46039f\"], [0.2222222222222222, \"#7201a8\"], [0.3333333333333333, \"#9c179e\"], [0.4444444444444444, \"#bd3786\"], [0.5555555555555556, \"#d8576b\"], [0.6666666666666666, \"#ed7953\"], [0.7777777777777778, \"#fb9f3a\"], [0.8888888888888888, \"#fdca26\"], [1.0, \"#f0f921\"]], \"sequentialminus\": [[0.0, \"#0d0887\"], [0.1111111111111111, \"#46039f\"], [0.2222222222222222, \"#7201a8\"], [0.3333333333333333, \"#9c179e\"], [0.4444444444444444, \"#bd3786\"], [0.5555555555555556, \"#d8576b\"], [0.6666666666666666, \"#ed7953\"], [0.7777777777777778, \"#fb9f3a\"], [0.8888888888888888, \"#fdca26\"], [1.0, \"#f0f921\"]]}, \"colorway\": [\"#636efa\", \"#EF553B\", \"#00cc96\", \"#ab63fa\", \"#FFA15A\", \"#19d3f3\", \"#FF6692\", \"#B6E880\", \"#FF97FF\", \"#FECB52\"], \"font\": {\"color\": \"#2a3f5f\"}, \"geo\": {\"bgcolor\": \"white\", \"lakecolor\": \"white\", \"landcolor\": \"#E5ECF6\", \"showlakes\": true, \"showland\": true, \"subunitcolor\": \"white\"}, \"hoverlabel\": {\"align\": \"left\"}, \"hovermode\": \"closest\", \"mapbox\": {\"style\": \"light\"}, \"paper_bgcolor\": \"white\", \"plot_bgcolor\": \"#E5ECF6\", \"polar\": {\"angularaxis\": {\"gridcolor\": \"white\", \"linecolor\": \"white\", \"ticks\": \"\"}, \"bgcolor\": \"#E5ECF6\", \"radialaxis\": {\"gridcolor\": \"white\", \"linecolor\": \"white\", \"ticks\": \"\"}}, \"scene\": {\"xaxis\": {\"backgroundcolor\": \"#E5ECF6\", \"gridcolor\": \"white\", \"gridwidth\": 2, \"linecolor\": \"white\", \"showbackground\": true, \"ticks\": \"\", \"zerolinecolor\": \"white\"}, \"yaxis\": {\"backgroundcolor\": \"#E5ECF6\", \"gridcolor\": \"white\", \"gridwidth\": 2, \"linecolor\": \"white\", \"showbackground\": true, \"ticks\": \"\", \"zerolinecolor\": \"white\"}, \"zaxis\": {\"backgroundcolor\": \"#E5ECF6\", \"gridcolor\": \"white\", \"gridwidth\": 2, \"linecolor\": \"white\", \"showbackground\": true, \"ticks\": \"\", \"zerolinecolor\": \"white\"}}, \"shapedefaults\": {\"line\": {\"color\": \"#2a3f5f\"}}, \"ternary\": {\"aaxis\": {\"gridcolor\": \"white\", \"linecolor\": \"white\", \"ticks\": \"\"}, \"baxis\": {\"gridcolor\": \"white\", \"linecolor\": \"white\", \"ticks\": \"\"}, \"bgcolor\": \"#E5ECF6\", \"caxis\": {\"gridcolor\": \"white\", \"linecolor\": \"white\", \"ticks\": \"\"}}, \"title\": {\"x\": 0.05}, \"xaxis\": {\"automargin\": true, \"gridcolor\": \"white\", \"linecolor\": \"white\", \"ticks\": \"\", \"zerolinecolor\": \"white\", \"zerolinewidth\": 2}, \"yaxis\": {\"automargin\": true, \"gridcolor\": \"white\", \"linecolor\": \"white\", \"ticks\": \"\", \"zerolinecolor\": \"white\", \"zerolinewidth\": 2}}}, \"title\": {\"text\": \" \\u041a\\u043e\\u043b\\u0438\\u0447\\u0435\\u0441\\u0442\\u0432\\u043e \\u043f\\u0440\\u043e\\u0434\\u0430\\u0436 \\u043f\\u043e \\u0434\\u043d\\u044f\\u043c\"}, \"xaxis\": {\"anchor\": \"y\", \"domain\": [0.0, 0.98], \"title\": {\"text\": \"purchase_date\"}}, \"yaxis\": {\"anchor\": \"x\", \"domain\": [0.0, 1.0], \"title\": {\"text\": \"purchase_id\"}}},\n",
       "                        {\"responsive\": true}\n",
       "                    ).then(function(){\n",
       "                            \n",
       "var gd = document.getElementById('a986ce58-08ac-42f9-9a0a-31b1aa980edc');\n",
       "var x = new MutationObserver(function (mutations, observer) {{\n",
       "        var display = window.getComputedStyle(gd).display;\n",
       "        if (!display || display === 'none') {{\n",
       "            console.log([gd, 'removed!']);\n",
       "            Plotly.purge(gd);\n",
       "            observer.disconnect();\n",
       "        }}\n",
       "}});\n",
       "\n",
       "// Listen for the removal of the full notebook cells\n",
       "var notebookContainer = gd.closest('#notebook-container');\n",
       "if (notebookContainer) {{\n",
       "    x.observe(notebookContainer, {childList: true});\n",
       "}}\n",
       "\n",
       "// Listen for the clearing of the current output cell\n",
       "var outputEl = gd.closest('.output');\n",
       "if (outputEl) {{\n",
       "    x.observe(outputEl, {childList: true});\n",
       "}}\n",
       "\n",
       "                        })\n",
       "                };\n",
       "                });\n",
       "            </script>\n",
       "        </div>"
      ]
     },
     "metadata": {},
     "output_type": "display_data"
    }
   ],
   "source": [
    "data_for_line=data.pivot_table(index=['loyalty_program','purchase_date'], values='purchase_id', aggfunc='count')\n",
    "\n",
    "def analysis(data,col):\n",
    "    fig = px.line(data_for_line.reset_index(), x = 'purchase_date', y = col, color = 'loyalty_program', title = ' Количество продаж по дням')\n",
    "    fig.show()    \n",
    "analysis(data,'purchase_id')"
   ]
  },
  {
   "cell_type": "markdown",
   "metadata": {},
   "source": [
    "Наблюдаем примерно такую же картину, что только подверждает наши выводы. Давайте еще ради инетереса посмотрим распределение по дням недели, может в какие-то дни клиенты приходят чаще чем в другие"
   ]
  },
  {
   "cell_type": "code",
   "execution_count": 35,
   "metadata": {},
   "outputs": [
    {
     "data": {
      "text/html": [
       "<div>\n",
       "<style scoped>\n",
       "    .dataframe tbody tr th:only-of-type {\n",
       "        vertical-align: middle;\n",
       "    }\n",
       "\n",
       "    .dataframe tbody tr th {\n",
       "        vertical-align: top;\n",
       "    }\n",
       "\n",
       "    .dataframe thead th {\n",
       "        text-align: right;\n",
       "    }\n",
       "</style>\n",
       "<table border=\"1\" class=\"dataframe\">\n",
       "  <thead>\n",
       "    <tr style=\"text-align: right;\">\n",
       "      <th></th>\n",
       "      <th>purchase_id</th>\n",
       "      <th>item_id</th>\n",
       "      <th>quantity</th>\n",
       "      <th>purchase_date</th>\n",
       "      <th>customer_id</th>\n",
       "      <th>shop_id</th>\n",
       "      <th>loyalty_program</th>\n",
       "      <th>price_per_one</th>\n",
       "      <th>bill</th>\n",
       "      <th>purchase_date_w</th>\n",
       "    </tr>\n",
       "  </thead>\n",
       "  <tbody>\n",
       "    <tr>\n",
       "      <td>0</td>\n",
       "      <td>538280</td>\n",
       "      <td>21873</td>\n",
       "      <td>11.0</td>\n",
       "      <td>2016-12-10</td>\n",
       "      <td>18427.0</td>\n",
       "      <td>Shop 0</td>\n",
       "      <td>0</td>\n",
       "      <td>1.810000</td>\n",
       "      <td>19.910000</td>\n",
       "      <td>5</td>\n",
       "    </tr>\n",
       "    <tr>\n",
       "      <td>1</td>\n",
       "      <td>538862</td>\n",
       "      <td>22195</td>\n",
       "      <td>2.0</td>\n",
       "      <td>2016-12-14</td>\n",
       "      <td>22389.0</td>\n",
       "      <td>Shop 0</td>\n",
       "      <td>1</td>\n",
       "      <td>2.766667</td>\n",
       "      <td>5.533333</td>\n",
       "      <td>2</td>\n",
       "    </tr>\n",
       "    <tr>\n",
       "      <td>2</td>\n",
       "      <td>538855</td>\n",
       "      <td>21239</td>\n",
       "      <td>7.0</td>\n",
       "      <td>2016-12-14</td>\n",
       "      <td>22182.0</td>\n",
       "      <td>Shop 0</td>\n",
       "      <td>1</td>\n",
       "      <td>1.474000</td>\n",
       "      <td>10.318000</td>\n",
       "      <td>2</td>\n",
       "    </tr>\n",
       "    <tr>\n",
       "      <td>3</td>\n",
       "      <td>543543</td>\n",
       "      <td>22271</td>\n",
       "      <td>2.0</td>\n",
       "      <td>2017-02-09</td>\n",
       "      <td>23522.0</td>\n",
       "      <td>Shop 0</td>\n",
       "      <td>1</td>\n",
       "      <td>4.300000</td>\n",
       "      <td>8.600000</td>\n",
       "      <td>3</td>\n",
       "    </tr>\n",
       "    <tr>\n",
       "      <td>4</td>\n",
       "      <td>543812</td>\n",
       "      <td>79321</td>\n",
       "      <td>2.0</td>\n",
       "      <td>2017-02-13</td>\n",
       "      <td>23151.0</td>\n",
       "      <td>Shop 0</td>\n",
       "      <td>1</td>\n",
       "      <td>7.715000</td>\n",
       "      <td>15.430000</td>\n",
       "      <td>0</td>\n",
       "    </tr>\n",
       "  </tbody>\n",
       "</table>\n",
       "</div>"
      ],
      "text/plain": [
       "  purchase_id item_id  quantity purchase_date  customer_id shop_id  \\\n",
       "0      538280   21873      11.0    2016-12-10      18427.0  Shop 0   \n",
       "1      538862   22195       2.0    2016-12-14      22389.0  Shop 0   \n",
       "2      538855   21239       7.0    2016-12-14      22182.0  Shop 0   \n",
       "3      543543   22271       2.0    2017-02-09      23522.0  Shop 0   \n",
       "4      543812   79321       2.0    2017-02-13      23151.0  Shop 0   \n",
       "\n",
       "   loyalty_program  price_per_one       bill  purchase_date_w  \n",
       "0                0       1.810000  19.910000                5  \n",
       "1                1       2.766667   5.533333                2  \n",
       "2                1       1.474000  10.318000                2  \n",
       "3                1       4.300000   8.600000                3  \n",
       "4                1       7.715000  15.430000                0  "
      ]
     },
     "execution_count": 35,
     "metadata": {},
     "output_type": "execute_result"
    }
   ],
   "source": [
    "data['purchase_date_w']=data['purchase_date'].dt.dayofweek\n",
    "data.head()\n"
   ]
  },
  {
   "cell_type": "code",
   "execution_count": 56,
   "metadata": {
    "scrolled": true
   },
   "outputs": [
    {
     "data": {
      "application/vnd.plotly.v1+json": {
       "config": {
        "plotlyServerURL": "https://plot.ly"
       },
       "data": [
        {
         "hoverlabel": {
          "namelength": 0
         },
         "hovertemplate": "loyalty_program=0<br>purchase_date_w=%{x}<br>customer_id=%{y}",
         "legendgroup": "loyalty_program=0",
         "line": {
          "color": "#636efa",
          "dash": "solid"
         },
         "mode": "lines",
         "name": "loyalty_program=0",
         "showlegend": true,
         "type": "scatter",
         "x": [
          0,
          1,
          2,
          3,
          4,
          5
         ],
         "xaxis": "x",
         "y": [
          5710,
          15509,
          12830,
          12463,
          12478,
          13483
         ],
         "yaxis": "y"
        },
        {
         "hoverlabel": {
          "namelength": 0
         },
         "hovertemplate": "loyalty_program=1<br>purchase_date_w=%{x}<br>customer_id=%{y}",
         "legendgroup": "loyalty_program=1",
         "line": {
          "color": "#EF553B",
          "dash": "solid"
         },
         "mode": "lines",
         "name": "loyalty_program=1",
         "showlegend": true,
         "type": "scatter",
         "x": [
          0,
          1,
          2,
          3,
          4,
          5
         ],
         "xaxis": "x",
         "y": [
          3878,
          3459,
          3031,
          4020,
          4087,
          2441
         ],
         "yaxis": "y"
        }
       ],
       "layout": {
        "height": 600,
        "legend": {
         "tracegroupgap": 0
        },
        "template": {
         "data": {
          "bar": [
           {
            "error_x": {
             "color": "#2a3f5f"
            },
            "error_y": {
             "color": "#2a3f5f"
            },
            "marker": {
             "line": {
              "color": "#E5ECF6",
              "width": 0.5
             }
            },
            "type": "bar"
           }
          ],
          "barpolar": [
           {
            "marker": {
             "line": {
              "color": "#E5ECF6",
              "width": 0.5
             }
            },
            "type": "barpolar"
           }
          ],
          "carpet": [
           {
            "aaxis": {
             "endlinecolor": "#2a3f5f",
             "gridcolor": "white",
             "linecolor": "white",
             "minorgridcolor": "white",
             "startlinecolor": "#2a3f5f"
            },
            "baxis": {
             "endlinecolor": "#2a3f5f",
             "gridcolor": "white",
             "linecolor": "white",
             "minorgridcolor": "white",
             "startlinecolor": "#2a3f5f"
            },
            "type": "carpet"
           }
          ],
          "choropleth": [
           {
            "colorbar": {
             "outlinewidth": 0,
             "ticks": ""
            },
            "type": "choropleth"
           }
          ],
          "contour": [
           {
            "colorbar": {
             "outlinewidth": 0,
             "ticks": ""
            },
            "colorscale": [
             [
              0,
              "#0d0887"
             ],
             [
              0.1111111111,
              "#46039f"
             ],
             [
              0.2222222222,
              "#7201a8"
             ],
             [
              0.3333333333,
              "#9c179e"
             ],
             [
              0.4444444444,
              "#bd3786"
             ],
             [
              0.5555555556,
              "#d8576b"
             ],
             [
              0.6666666667,
              "#ed7953"
             ],
             [
              0.7777777778,
              "#fb9f3a"
             ],
             [
              0.8888888889,
              "#fdca26"
             ],
             [
              1,
              "#f0f921"
             ]
            ],
            "type": "contour"
           }
          ],
          "contourcarpet": [
           {
            "colorbar": {
             "outlinewidth": 0,
             "ticks": ""
            },
            "type": "contourcarpet"
           }
          ],
          "heatmap": [
           {
            "colorbar": {
             "outlinewidth": 0,
             "ticks": ""
            },
            "colorscale": [
             [
              0,
              "#0d0887"
             ],
             [
              0.1111111111,
              "#46039f"
             ],
             [
              0.2222222222,
              "#7201a8"
             ],
             [
              0.3333333333,
              "#9c179e"
             ],
             [
              0.4444444444,
              "#bd3786"
             ],
             [
              0.5555555556,
              "#d8576b"
             ],
             [
              0.6666666667,
              "#ed7953"
             ],
             [
              0.7777777778,
              "#fb9f3a"
             ],
             [
              0.8888888889,
              "#fdca26"
             ],
             [
              1,
              "#f0f921"
             ]
            ],
            "type": "heatmap"
           }
          ],
          "heatmapgl": [
           {
            "colorbar": {
             "outlinewidth": 0,
             "ticks": ""
            },
            "colorscale": [
             [
              0,
              "#0d0887"
             ],
             [
              0.1111111111,
              "#46039f"
             ],
             [
              0.2222222222,
              "#7201a8"
             ],
             [
              0.3333333333,
              "#9c179e"
             ],
             [
              0.4444444444,
              "#bd3786"
             ],
             [
              0.5555555556,
              "#d8576b"
             ],
             [
              0.6666666667,
              "#ed7953"
             ],
             [
              0.7777777778,
              "#fb9f3a"
             ],
             [
              0.8888888889,
              "#fdca26"
             ],
             [
              1,
              "#f0f921"
             ]
            ],
            "type": "heatmapgl"
           }
          ],
          "histogram": [
           {
            "marker": {
             "colorbar": {
              "outlinewidth": 0,
              "ticks": ""
             }
            },
            "type": "histogram"
           }
          ],
          "histogram2d": [
           {
            "colorbar": {
             "outlinewidth": 0,
             "ticks": ""
            },
            "colorscale": [
             [
              0,
              "#0d0887"
             ],
             [
              0.1111111111,
              "#46039f"
             ],
             [
              0.2222222222,
              "#7201a8"
             ],
             [
              0.3333333333,
              "#9c179e"
             ],
             [
              0.4444444444,
              "#bd3786"
             ],
             [
              0.5555555556,
              "#d8576b"
             ],
             [
              0.6666666667,
              "#ed7953"
             ],
             [
              0.7777777778,
              "#fb9f3a"
             ],
             [
              0.8888888889,
              "#fdca26"
             ],
             [
              1,
              "#f0f921"
             ]
            ],
            "type": "histogram2d"
           }
          ],
          "histogram2dcontour": [
           {
            "colorbar": {
             "outlinewidth": 0,
             "ticks": ""
            },
            "colorscale": [
             [
              0,
              "#0d0887"
             ],
             [
              0.1111111111,
              "#46039f"
             ],
             [
              0.2222222222,
              "#7201a8"
             ],
             [
              0.3333333333,
              "#9c179e"
             ],
             [
              0.4444444444,
              "#bd3786"
             ],
             [
              0.5555555556,
              "#d8576b"
             ],
             [
              0.6666666667,
              "#ed7953"
             ],
             [
              0.7777777778,
              "#fb9f3a"
             ],
             [
              0.8888888889,
              "#fdca26"
             ],
             [
              1,
              "#f0f921"
             ]
            ],
            "type": "histogram2dcontour"
           }
          ],
          "mesh3d": [
           {
            "colorbar": {
             "outlinewidth": 0,
             "ticks": ""
            },
            "type": "mesh3d"
           }
          ],
          "parcoords": [
           {
            "line": {
             "colorbar": {
              "outlinewidth": 0,
              "ticks": ""
             }
            },
            "type": "parcoords"
           }
          ],
          "scatter": [
           {
            "marker": {
             "colorbar": {
              "outlinewidth": 0,
              "ticks": ""
             }
            },
            "type": "scatter"
           }
          ],
          "scatter3d": [
           {
            "line": {
             "colorbar": {
              "outlinewidth": 0,
              "ticks": ""
             }
            },
            "marker": {
             "colorbar": {
              "outlinewidth": 0,
              "ticks": ""
             }
            },
            "type": "scatter3d"
           }
          ],
          "scattercarpet": [
           {
            "marker": {
             "colorbar": {
              "outlinewidth": 0,
              "ticks": ""
             }
            },
            "type": "scattercarpet"
           }
          ],
          "scattergeo": [
           {
            "marker": {
             "colorbar": {
              "outlinewidth": 0,
              "ticks": ""
             }
            },
            "type": "scattergeo"
           }
          ],
          "scattergl": [
           {
            "marker": {
             "colorbar": {
              "outlinewidth": 0,
              "ticks": ""
             }
            },
            "type": "scattergl"
           }
          ],
          "scattermapbox": [
           {
            "marker": {
             "colorbar": {
              "outlinewidth": 0,
              "ticks": ""
             }
            },
            "type": "scattermapbox"
           }
          ],
          "scatterpolar": [
           {
            "marker": {
             "colorbar": {
              "outlinewidth": 0,
              "ticks": ""
             }
            },
            "type": "scatterpolar"
           }
          ],
          "scatterpolargl": [
           {
            "marker": {
             "colorbar": {
              "outlinewidth": 0,
              "ticks": ""
             }
            },
            "type": "scatterpolargl"
           }
          ],
          "scatterternary": [
           {
            "marker": {
             "colorbar": {
              "outlinewidth": 0,
              "ticks": ""
             }
            },
            "type": "scatterternary"
           }
          ],
          "surface": [
           {
            "colorbar": {
             "outlinewidth": 0,
             "ticks": ""
            },
            "colorscale": [
             [
              0,
              "#0d0887"
             ],
             [
              0.1111111111,
              "#46039f"
             ],
             [
              0.2222222222,
              "#7201a8"
             ],
             [
              0.3333333333,
              "#9c179e"
             ],
             [
              0.4444444444,
              "#bd3786"
             ],
             [
              0.5555555556,
              "#d8576b"
             ],
             [
              0.6666666667,
              "#ed7953"
             ],
             [
              0.7777777778,
              "#fb9f3a"
             ],
             [
              0.8888888889,
              "#fdca26"
             ],
             [
              1,
              "#f0f921"
             ]
            ],
            "type": "surface"
           }
          ],
          "table": [
           {
            "cells": {
             "fill": {
              "color": "#EBF0F8"
             },
             "line": {
              "color": "white"
             }
            },
            "header": {
             "fill": {
              "color": "#C8D4E3"
             },
             "line": {
              "color": "white"
             }
            },
            "type": "table"
           }
          ]
         },
         "layout": {
          "annotationdefaults": {
           "arrowcolor": "#2a3f5f",
           "arrowhead": 0,
           "arrowwidth": 1
          },
          "colorscale": {
           "diverging": [
            [
             0,
             "#8e0152"
            ],
            [
             0.1,
             "#c51b7d"
            ],
            [
             0.2,
             "#de77ae"
            ],
            [
             0.3,
             "#f1b6da"
            ],
            [
             0.4,
             "#fde0ef"
            ],
            [
             0.5,
             "#f7f7f7"
            ],
            [
             0.6,
             "#e6f5d0"
            ],
            [
             0.7,
             "#b8e186"
            ],
            [
             0.8,
             "#7fbc41"
            ],
            [
             0.9,
             "#4d9221"
            ],
            [
             1,
             "#276419"
            ]
           ],
           "sequential": [
            [
             0,
             "#0d0887"
            ],
            [
             0.1111111111,
             "#46039f"
            ],
            [
             0.2222222222,
             "#7201a8"
            ],
            [
             0.3333333333,
             "#9c179e"
            ],
            [
             0.4444444444,
             "#bd3786"
            ],
            [
             0.5555555556,
             "#d8576b"
            ],
            [
             0.6666666667,
             "#ed7953"
            ],
            [
             0.7777777778,
             "#fb9f3a"
            ],
            [
             0.8888888889,
             "#fdca26"
            ],
            [
             1,
             "#f0f921"
            ]
           ],
           "sequentialminus": [
            [
             0,
             "#0d0887"
            ],
            [
             0.1111111111,
             "#46039f"
            ],
            [
             0.2222222222,
             "#7201a8"
            ],
            [
             0.3333333333,
             "#9c179e"
            ],
            [
             0.4444444444,
             "#bd3786"
            ],
            [
             0.5555555556,
             "#d8576b"
            ],
            [
             0.6666666667,
             "#ed7953"
            ],
            [
             0.7777777778,
             "#fb9f3a"
            ],
            [
             0.8888888889,
             "#fdca26"
            ],
            [
             1,
             "#f0f921"
            ]
           ]
          },
          "colorway": [
           "#636efa",
           "#EF553B",
           "#00cc96",
           "#ab63fa",
           "#FFA15A",
           "#19d3f3",
           "#FF6692",
           "#B6E880",
           "#FF97FF",
           "#FECB52"
          ],
          "font": {
           "color": "#2a3f5f"
          },
          "geo": {
           "bgcolor": "white",
           "lakecolor": "white",
           "landcolor": "#E5ECF6",
           "showlakes": true,
           "showland": true,
           "subunitcolor": "white"
          },
          "hoverlabel": {
           "align": "left"
          },
          "hovermode": "closest",
          "mapbox": {
           "style": "light"
          },
          "paper_bgcolor": "white",
          "plot_bgcolor": "#E5ECF6",
          "polar": {
           "angularaxis": {
            "gridcolor": "white",
            "linecolor": "white",
            "ticks": ""
           },
           "bgcolor": "#E5ECF6",
           "radialaxis": {
            "gridcolor": "white",
            "linecolor": "white",
            "ticks": ""
           }
          },
          "scene": {
           "xaxis": {
            "backgroundcolor": "#E5ECF6",
            "gridcolor": "white",
            "gridwidth": 2,
            "linecolor": "white",
            "showbackground": true,
            "ticks": "",
            "zerolinecolor": "white"
           },
           "yaxis": {
            "backgroundcolor": "#E5ECF6",
            "gridcolor": "white",
            "gridwidth": 2,
            "linecolor": "white",
            "showbackground": true,
            "ticks": "",
            "zerolinecolor": "white"
           },
           "zaxis": {
            "backgroundcolor": "#E5ECF6",
            "gridcolor": "white",
            "gridwidth": 2,
            "linecolor": "white",
            "showbackground": true,
            "ticks": "",
            "zerolinecolor": "white"
           }
          },
          "shapedefaults": {
           "line": {
            "color": "#2a3f5f"
           }
          },
          "ternary": {
           "aaxis": {
            "gridcolor": "white",
            "linecolor": "white",
            "ticks": ""
           },
           "baxis": {
            "gridcolor": "white",
            "linecolor": "white",
            "ticks": ""
           },
           "bgcolor": "#E5ECF6",
           "caxis": {
            "gridcolor": "white",
            "linecolor": "white",
            "ticks": ""
           }
          },
          "title": {
           "x": 0.05
          },
          "xaxis": {
           "automargin": true,
           "gridcolor": "white",
           "linecolor": "white",
           "ticks": "",
           "zerolinecolor": "white",
           "zerolinewidth": 2
          },
          "yaxis": {
           "automargin": true,
           "gridcolor": "white",
           "linecolor": "white",
           "ticks": "",
           "zerolinecolor": "white",
           "zerolinewidth": 2
          }
         }
        },
        "title": {
         "text": " Количество клиентов по дням недели"
        },
        "xaxis": {
         "anchor": "y",
         "domain": [
          0,
          0.98
         ],
         "title": {
          "text": "purchase_date_w"
         }
        },
        "yaxis": {
         "anchor": "x",
         "domain": [
          0,
          1
         ],
         "title": {
          "text": "customer_id"
         }
        }
       }
      },
      "text/html": [
       "<div>\n",
       "        \n",
       "        \n",
       "            <div id=\"e1a6971a-bd64-4c6d-b196-10ce0cded8c1\" class=\"plotly-graph-div\" style=\"height:600px; width:100%;\"></div>\n",
       "            <script type=\"text/javascript\">\n",
       "                require([\"plotly\"], function(Plotly) {\n",
       "                    window.PLOTLYENV=window.PLOTLYENV || {};\n",
       "                    \n",
       "                if (document.getElementById(\"e1a6971a-bd64-4c6d-b196-10ce0cded8c1\")) {\n",
       "                    Plotly.newPlot(\n",
       "                        'e1a6971a-bd64-4c6d-b196-10ce0cded8c1',\n",
       "                        [{\"hoverlabel\": {\"namelength\": 0}, \"hovertemplate\": \"loyalty_program=0<br>purchase_date_w=%{x}<br>customer_id=%{y}\", \"legendgroup\": \"loyalty_program=0\", \"line\": {\"color\": \"#636efa\", \"dash\": \"solid\"}, \"mode\": \"lines\", \"name\": \"loyalty_program=0\", \"showlegend\": true, \"type\": \"scatter\", \"x\": [0, 1, 2, 3, 4, 5], \"xaxis\": \"x\", \"y\": [5710, 15509, 12830, 12463, 12478, 13483], \"yaxis\": \"y\"}, {\"hoverlabel\": {\"namelength\": 0}, \"hovertemplate\": \"loyalty_program=1<br>purchase_date_w=%{x}<br>customer_id=%{y}\", \"legendgroup\": \"loyalty_program=1\", \"line\": {\"color\": \"#EF553B\", \"dash\": \"solid\"}, \"mode\": \"lines\", \"name\": \"loyalty_program=1\", \"showlegend\": true, \"type\": \"scatter\", \"x\": [0, 1, 2, 3, 4, 5], \"xaxis\": \"x\", \"y\": [3878, 3459, 3031, 4020, 4087, 2441], \"yaxis\": \"y\"}],\n",
       "                        {\"height\": 600, \"legend\": {\"tracegroupgap\": 0}, \"template\": {\"data\": {\"bar\": [{\"error_x\": {\"color\": \"#2a3f5f\"}, \"error_y\": {\"color\": \"#2a3f5f\"}, \"marker\": {\"line\": {\"color\": \"#E5ECF6\", \"width\": 0.5}}, \"type\": \"bar\"}], \"barpolar\": [{\"marker\": {\"line\": {\"color\": \"#E5ECF6\", \"width\": 0.5}}, \"type\": \"barpolar\"}], \"carpet\": [{\"aaxis\": {\"endlinecolor\": \"#2a3f5f\", \"gridcolor\": \"white\", \"linecolor\": \"white\", \"minorgridcolor\": \"white\", \"startlinecolor\": \"#2a3f5f\"}, \"baxis\": {\"endlinecolor\": \"#2a3f5f\", \"gridcolor\": \"white\", \"linecolor\": \"white\", \"minorgridcolor\": \"white\", \"startlinecolor\": \"#2a3f5f\"}, \"type\": \"carpet\"}], \"choropleth\": [{\"colorbar\": {\"outlinewidth\": 0, \"ticks\": \"\"}, \"type\": \"choropleth\"}], \"contour\": [{\"colorbar\": {\"outlinewidth\": 0, \"ticks\": \"\"}, \"colorscale\": [[0.0, \"#0d0887\"], [0.1111111111111111, \"#46039f\"], [0.2222222222222222, \"#7201a8\"], [0.3333333333333333, \"#9c179e\"], [0.4444444444444444, \"#bd3786\"], [0.5555555555555556, \"#d8576b\"], [0.6666666666666666, \"#ed7953\"], [0.7777777777777778, \"#fb9f3a\"], [0.8888888888888888, \"#fdca26\"], [1.0, \"#f0f921\"]], \"type\": \"contour\"}], \"contourcarpet\": [{\"colorbar\": {\"outlinewidth\": 0, \"ticks\": \"\"}, \"type\": \"contourcarpet\"}], \"heatmap\": [{\"colorbar\": {\"outlinewidth\": 0, \"ticks\": \"\"}, \"colorscale\": [[0.0, \"#0d0887\"], [0.1111111111111111, \"#46039f\"], [0.2222222222222222, \"#7201a8\"], [0.3333333333333333, \"#9c179e\"], [0.4444444444444444, \"#bd3786\"], [0.5555555555555556, \"#d8576b\"], [0.6666666666666666, \"#ed7953\"], [0.7777777777777778, \"#fb9f3a\"], [0.8888888888888888, \"#fdca26\"], [1.0, \"#f0f921\"]], \"type\": \"heatmap\"}], \"heatmapgl\": [{\"colorbar\": {\"outlinewidth\": 0, \"ticks\": \"\"}, \"colorscale\": [[0.0, \"#0d0887\"], [0.1111111111111111, \"#46039f\"], [0.2222222222222222, \"#7201a8\"], [0.3333333333333333, \"#9c179e\"], [0.4444444444444444, \"#bd3786\"], [0.5555555555555556, \"#d8576b\"], [0.6666666666666666, \"#ed7953\"], [0.7777777777777778, \"#fb9f3a\"], [0.8888888888888888, \"#fdca26\"], [1.0, \"#f0f921\"]], \"type\": \"heatmapgl\"}], \"histogram\": [{\"marker\": {\"colorbar\": {\"outlinewidth\": 0, \"ticks\": \"\"}}, \"type\": \"histogram\"}], \"histogram2d\": [{\"colorbar\": {\"outlinewidth\": 0, \"ticks\": \"\"}, \"colorscale\": [[0.0, \"#0d0887\"], [0.1111111111111111, \"#46039f\"], [0.2222222222222222, \"#7201a8\"], [0.3333333333333333, \"#9c179e\"], [0.4444444444444444, \"#bd3786\"], [0.5555555555555556, \"#d8576b\"], [0.6666666666666666, \"#ed7953\"], [0.7777777777777778, \"#fb9f3a\"], [0.8888888888888888, \"#fdca26\"], [1.0, \"#f0f921\"]], \"type\": \"histogram2d\"}], \"histogram2dcontour\": [{\"colorbar\": {\"outlinewidth\": 0, \"ticks\": \"\"}, \"colorscale\": [[0.0, \"#0d0887\"], [0.1111111111111111, \"#46039f\"], [0.2222222222222222, \"#7201a8\"], [0.3333333333333333, \"#9c179e\"], [0.4444444444444444, \"#bd3786\"], [0.5555555555555556, \"#d8576b\"], [0.6666666666666666, \"#ed7953\"], [0.7777777777777778, \"#fb9f3a\"], [0.8888888888888888, \"#fdca26\"], [1.0, \"#f0f921\"]], \"type\": \"histogram2dcontour\"}], \"mesh3d\": [{\"colorbar\": {\"outlinewidth\": 0, \"ticks\": \"\"}, \"type\": \"mesh3d\"}], \"parcoords\": [{\"line\": {\"colorbar\": {\"outlinewidth\": 0, \"ticks\": \"\"}}, \"type\": \"parcoords\"}], \"scatter\": [{\"marker\": {\"colorbar\": {\"outlinewidth\": 0, \"ticks\": \"\"}}, \"type\": \"scatter\"}], \"scatter3d\": [{\"line\": {\"colorbar\": {\"outlinewidth\": 0, \"ticks\": \"\"}}, \"marker\": {\"colorbar\": {\"outlinewidth\": 0, \"ticks\": \"\"}}, \"type\": \"scatter3d\"}], \"scattercarpet\": [{\"marker\": {\"colorbar\": {\"outlinewidth\": 0, \"ticks\": \"\"}}, \"type\": \"scattercarpet\"}], \"scattergeo\": [{\"marker\": {\"colorbar\": {\"outlinewidth\": 0, \"ticks\": \"\"}}, \"type\": \"scattergeo\"}], \"scattergl\": [{\"marker\": {\"colorbar\": {\"outlinewidth\": 0, \"ticks\": \"\"}}, \"type\": \"scattergl\"}], \"scattermapbox\": [{\"marker\": {\"colorbar\": {\"outlinewidth\": 0, \"ticks\": \"\"}}, \"type\": \"scattermapbox\"}], \"scatterpolar\": [{\"marker\": {\"colorbar\": {\"outlinewidth\": 0, \"ticks\": \"\"}}, \"type\": \"scatterpolar\"}], \"scatterpolargl\": [{\"marker\": {\"colorbar\": {\"outlinewidth\": 0, \"ticks\": \"\"}}, \"type\": \"scatterpolargl\"}], \"scatterternary\": [{\"marker\": {\"colorbar\": {\"outlinewidth\": 0, \"ticks\": \"\"}}, \"type\": \"scatterternary\"}], \"surface\": [{\"colorbar\": {\"outlinewidth\": 0, \"ticks\": \"\"}, \"colorscale\": [[0.0, \"#0d0887\"], [0.1111111111111111, \"#46039f\"], [0.2222222222222222, \"#7201a8\"], [0.3333333333333333, \"#9c179e\"], [0.4444444444444444, \"#bd3786\"], [0.5555555555555556, \"#d8576b\"], [0.6666666666666666, \"#ed7953\"], [0.7777777777777778, \"#fb9f3a\"], [0.8888888888888888, \"#fdca26\"], [1.0, \"#f0f921\"]], \"type\": \"surface\"}], \"table\": [{\"cells\": {\"fill\": {\"color\": \"#EBF0F8\"}, \"line\": {\"color\": \"white\"}}, \"header\": {\"fill\": {\"color\": \"#C8D4E3\"}, \"line\": {\"color\": \"white\"}}, \"type\": \"table\"}]}, \"layout\": {\"annotationdefaults\": {\"arrowcolor\": \"#2a3f5f\", \"arrowhead\": 0, \"arrowwidth\": 1}, \"colorscale\": {\"diverging\": [[0, \"#8e0152\"], [0.1, \"#c51b7d\"], [0.2, \"#de77ae\"], [0.3, \"#f1b6da\"], [0.4, \"#fde0ef\"], [0.5, \"#f7f7f7\"], [0.6, \"#e6f5d0\"], [0.7, \"#b8e186\"], [0.8, \"#7fbc41\"], [0.9, \"#4d9221\"], [1, \"#276419\"]], \"sequential\": [[0.0, \"#0d0887\"], [0.1111111111111111, \"#46039f\"], [0.2222222222222222, \"#7201a8\"], [0.3333333333333333, \"#9c179e\"], [0.4444444444444444, \"#bd3786\"], [0.5555555555555556, \"#d8576b\"], [0.6666666666666666, \"#ed7953\"], [0.7777777777777778, \"#fb9f3a\"], [0.8888888888888888, \"#fdca26\"], [1.0, \"#f0f921\"]], \"sequentialminus\": [[0.0, \"#0d0887\"], [0.1111111111111111, \"#46039f\"], [0.2222222222222222, \"#7201a8\"], [0.3333333333333333, \"#9c179e\"], [0.4444444444444444, \"#bd3786\"], [0.5555555555555556, \"#d8576b\"], [0.6666666666666666, \"#ed7953\"], [0.7777777777777778, \"#fb9f3a\"], [0.8888888888888888, \"#fdca26\"], [1.0, \"#f0f921\"]]}, \"colorway\": [\"#636efa\", \"#EF553B\", \"#00cc96\", \"#ab63fa\", \"#FFA15A\", \"#19d3f3\", \"#FF6692\", \"#B6E880\", \"#FF97FF\", \"#FECB52\"], \"font\": {\"color\": \"#2a3f5f\"}, \"geo\": {\"bgcolor\": \"white\", \"lakecolor\": \"white\", \"landcolor\": \"#E5ECF6\", \"showlakes\": true, \"showland\": true, \"subunitcolor\": \"white\"}, \"hoverlabel\": {\"align\": \"left\"}, \"hovermode\": \"closest\", \"mapbox\": {\"style\": \"light\"}, \"paper_bgcolor\": \"white\", \"plot_bgcolor\": \"#E5ECF6\", \"polar\": {\"angularaxis\": {\"gridcolor\": \"white\", \"linecolor\": \"white\", \"ticks\": \"\"}, \"bgcolor\": \"#E5ECF6\", \"radialaxis\": {\"gridcolor\": \"white\", \"linecolor\": \"white\", \"ticks\": \"\"}}, \"scene\": {\"xaxis\": {\"backgroundcolor\": \"#E5ECF6\", \"gridcolor\": \"white\", \"gridwidth\": 2, \"linecolor\": \"white\", \"showbackground\": true, \"ticks\": \"\", \"zerolinecolor\": \"white\"}, \"yaxis\": {\"backgroundcolor\": \"#E5ECF6\", \"gridcolor\": \"white\", \"gridwidth\": 2, \"linecolor\": \"white\", \"showbackground\": true, \"ticks\": \"\", \"zerolinecolor\": \"white\"}, \"zaxis\": {\"backgroundcolor\": \"#E5ECF6\", \"gridcolor\": \"white\", \"gridwidth\": 2, \"linecolor\": \"white\", \"showbackground\": true, \"ticks\": \"\", \"zerolinecolor\": \"white\"}}, \"shapedefaults\": {\"line\": {\"color\": \"#2a3f5f\"}}, \"ternary\": {\"aaxis\": {\"gridcolor\": \"white\", \"linecolor\": \"white\", \"ticks\": \"\"}, \"baxis\": {\"gridcolor\": \"white\", \"linecolor\": \"white\", \"ticks\": \"\"}, \"bgcolor\": \"#E5ECF6\", \"caxis\": {\"gridcolor\": \"white\", \"linecolor\": \"white\", \"ticks\": \"\"}}, \"title\": {\"x\": 0.05}, \"xaxis\": {\"automargin\": true, \"gridcolor\": \"white\", \"linecolor\": \"white\", \"ticks\": \"\", \"zerolinecolor\": \"white\", \"zerolinewidth\": 2}, \"yaxis\": {\"automargin\": true, \"gridcolor\": \"white\", \"linecolor\": \"white\", \"ticks\": \"\", \"zerolinecolor\": \"white\", \"zerolinewidth\": 2}}}, \"title\": {\"text\": \" \\u041a\\u043e\\u043b\\u0438\\u0447\\u0435\\u0441\\u0442\\u0432\\u043e \\u043a\\u043b\\u0438\\u0435\\u043d\\u0442\\u043e\\u0432 \\u043f\\u043e \\u0434\\u043d\\u044f\\u043c \\u043d\\u0435\\u0434\\u0435\\u043b\\u0438\"}, \"xaxis\": {\"anchor\": \"y\", \"domain\": [0.0, 0.98], \"title\": {\"text\": \"purchase_date_w\"}}, \"yaxis\": {\"anchor\": \"x\", \"domain\": [0.0, 1.0], \"title\": {\"text\": \"customer_id\"}}},\n",
       "                        {\"responsive\": true}\n",
       "                    ).then(function(){\n",
       "                            \n",
       "var gd = document.getElementById('e1a6971a-bd64-4c6d-b196-10ce0cded8c1');\n",
       "var x = new MutationObserver(function (mutations, observer) {{\n",
       "        var display = window.getComputedStyle(gd).display;\n",
       "        if (!display || display === 'none') {{\n",
       "            console.log([gd, 'removed!']);\n",
       "            Plotly.purge(gd);\n",
       "            observer.disconnect();\n",
       "        }}\n",
       "}});\n",
       "\n",
       "// Listen for the removal of the full notebook cells\n",
       "var notebookContainer = gd.closest('#notebook-container');\n",
       "if (notebookContainer) {{\n",
       "    x.observe(notebookContainer, {childList: true});\n",
       "}}\n",
       "\n",
       "// Listen for the clearing of the current output cell\n",
       "var outputEl = gd.closest('.output');\n",
       "if (outputEl) {{\n",
       "    x.observe(outputEl, {childList: true});\n",
       "}}\n",
       "\n",
       "                        })\n",
       "                };\n",
       "                });\n",
       "            </script>\n",
       "        </div>"
      ]
     },
     "metadata": {},
     "output_type": "display_data"
    }
   ],
   "source": [
    "def analysis(data,col):\n",
    "    fig = px.line(data.pivot_table(index = ['loyalty_program', 'purchase_date_w'], values = col, aggfunc = 'count').reset_index(), x = 'purchase_date_w', y = col, color = 'loyalty_program', title = ' Количество клиентов по дням недели')\n",
    "    fig.show()    \n",
    "analysis(data,'customer_id')"
   ]
  },
  {
   "cell_type": "markdown",
   "metadata": {},
   "source": [
    "Видно, что клиенты с картой лояльности почти одинакого ходят в наш магазин на протяжении всей недели. Может быть карты лояльности имеют не только обычные клиенты, но и бригадиры, которые закупают материалы для ремонта по необходимости, это может объяснить почему в будни покупают чаще, чем в выходные. А вот у клиентов без карты лоялности нет времени по будням ходить по магазинам, зато в воскресене они готовы хоть весь день тут провести. В графике для лояльных клиентов нет резких спадов или подъемов, они одинакого часто ходят в наш магазин. \n",
    "\n",
    "Еще один плюс программы лояльности - клиенты ходят регулярно. \n",
    "\n",
    "\n",
    "Посмотрим еще средний чек по дням."
   ]
  },
  {
   "cell_type": "markdown",
   "metadata": {},
   "source": [
    "\n",
    "\n"
   ]
  },
  {
   "cell_type": "code",
   "execution_count": 44,
   "metadata": {
    "scrolled": false
   },
   "outputs": [
    {
     "data": {
      "application/vnd.plotly.v1+json": {
       "config": {
        "plotlyServerURL": "https://plot.ly"
       },
       "data": [
        {
         "hoverlabel": {
          "namelength": 0
         },
         "hovertemplate": "loyalty_program=0<br>purchase_date=%{x}<br>bill=%{y}",
         "legendgroup": "loyalty_program=0",
         "line": {
          "color": "#636efa",
          "dash": "solid"
         },
         "mode": "lines",
         "name": "loyalty_program=0",
         "showlegend": true,
         "type": "scatter",
         "x": [
          "2016-12-01T00:00:00",
          "2016-12-02T00:00:00",
          "2016-12-03T00:00:00",
          "2016-12-05T00:00:00",
          "2016-12-06T00:00:00",
          "2016-12-07T00:00:00",
          "2016-12-08T00:00:00",
          "2016-12-09T00:00:00",
          "2016-12-10T00:00:00",
          "2016-12-12T00:00:00",
          "2016-12-13T00:00:00",
          "2016-12-14T00:00:00",
          "2016-12-15T00:00:00",
          "2016-12-16T00:00:00",
          "2016-12-17T00:00:00",
          "2016-12-19T00:00:00",
          "2016-12-20T00:00:00",
          "2016-12-21T00:00:00",
          "2016-12-22T00:00:00",
          "2016-12-23T00:00:00",
          "2017-01-04T00:00:00",
          "2017-01-05T00:00:00",
          "2017-01-06T00:00:00",
          "2017-01-07T00:00:00",
          "2017-01-09T00:00:00",
          "2017-01-10T00:00:00",
          "2017-01-11T00:00:00",
          "2017-01-12T00:00:00",
          "2017-01-13T00:00:00",
          "2017-01-14T00:00:00",
          "2017-01-16T00:00:00",
          "2017-01-17T00:00:00",
          "2017-01-18T00:00:00",
          "2017-01-19T00:00:00",
          "2017-01-20T00:00:00",
          "2017-01-21T00:00:00",
          "2017-01-23T00:00:00",
          "2017-01-24T00:00:00",
          "2017-01-25T00:00:00",
          "2017-01-26T00:00:00",
          "2017-01-27T00:00:00",
          "2017-01-28T00:00:00",
          "2017-01-30T00:00:00",
          "2017-01-31T00:00:00",
          "2017-02-01T00:00:00",
          "2017-02-02T00:00:00",
          "2017-02-03T00:00:00",
          "2017-02-04T00:00:00",
          "2017-02-06T00:00:00",
          "2017-02-07T00:00:00",
          "2017-02-08T00:00:00",
          "2017-02-09T00:00:00",
          "2017-02-10T00:00:00",
          "2017-02-11T00:00:00",
          "2017-02-13T00:00:00",
          "2017-02-14T00:00:00",
          "2017-02-15T00:00:00",
          "2017-02-16T00:00:00",
          "2017-02-17T00:00:00",
          "2017-02-18T00:00:00",
          "2017-02-20T00:00:00",
          "2017-02-21T00:00:00",
          "2017-02-22T00:00:00",
          "2017-02-23T00:00:00",
          "2017-02-24T00:00:00",
          "2017-02-25T00:00:00",
          "2017-02-27T00:00:00",
          "2017-02-28T00:00:00"
         ],
         "xaxis": "x",
         "y": [
          11.3625382685,
          15.439873419,
          11.738410488,
          11.7208055994,
          9.7398415473,
          10.6203693945,
          11.763002193,
          11.7450034655,
          9.8410414999,
          10.4121567589,
          11.6298413407,
          13.3646954619,
          16.4399714869,
          16.9093074302,
          9.698338157,
          16.335514105,
          9.7704271186,
          11.010678084,
          15.5606496891,
          10.7172453978,
          12.1365473218,
          10.280866384,
          12.4209813391,
          12.6360602954,
          13.8311507006,
          10.7472389526,
          11.7445753228,
          10.6421389002,
          10.9983907278,
          12.922010918,
          11.9899863465,
          10.2096047742,
          9.5302025454,
          12.6079850705,
          10.8536244352,
          8.8410530855,
          11.1515183849,
          11.2900010075,
          13.3413073584,
          13.3353655538,
          14.1236632797,
          12.4125530134,
          12.1417612807,
          11.9322649557,
          11.6803739827,
          13.8094999619,
          13.0194161865,
          12.3825394961,
          11.6168634814,
          12.0442051518,
          10.2533302789,
          12.3868614067,
          11.9737874193,
          9.7904280686,
          12.8863522213,
          12.667423692,
          12.5535964241,
          15.6135594068,
          14.0059348329,
          13.2538844605,
          12.2659575574,
          13.1961067674,
          12.0203441488,
          11.6763488327,
          15.6019996947,
          17.9563589614,
          11.6226689382,
          12.2542222771
         ],
         "yaxis": "y"
        },
        {
         "hoverlabel": {
          "namelength": 0
         },
         "hovertemplate": "loyalty_program=1<br>purchase_date=%{x}<br>bill=%{y}",
         "legendgroup": "loyalty_program=1",
         "line": {
          "color": "#EF553B",
          "dash": "solid"
         },
         "mode": "lines",
         "name": "loyalty_program=1",
         "showlegend": true,
         "type": "scatter",
         "x": [
          "2016-12-01T00:00:00",
          "2016-12-02T00:00:00",
          "2016-12-03T00:00:00",
          "2016-12-05T00:00:00",
          "2016-12-06T00:00:00",
          "2016-12-07T00:00:00",
          "2016-12-08T00:00:00",
          "2016-12-09T00:00:00",
          "2016-12-10T00:00:00",
          "2016-12-12T00:00:00",
          "2016-12-13T00:00:00",
          "2016-12-14T00:00:00",
          "2016-12-15T00:00:00",
          "2016-12-16T00:00:00",
          "2016-12-17T00:00:00",
          "2016-12-19T00:00:00",
          "2016-12-20T00:00:00",
          "2016-12-21T00:00:00",
          "2016-12-22T00:00:00",
          "2016-12-23T00:00:00",
          "2017-01-04T00:00:00",
          "2017-01-05T00:00:00",
          "2017-01-06T00:00:00",
          "2017-01-07T00:00:00",
          "2017-01-09T00:00:00",
          "2017-01-10T00:00:00",
          "2017-01-11T00:00:00",
          "2017-01-12T00:00:00",
          "2017-01-13T00:00:00",
          "2017-01-14T00:00:00",
          "2017-01-16T00:00:00",
          "2017-01-17T00:00:00",
          "2017-01-18T00:00:00",
          "2017-01-19T00:00:00",
          "2017-01-20T00:00:00",
          "2017-01-21T00:00:00",
          "2017-01-23T00:00:00",
          "2017-01-24T00:00:00",
          "2017-01-25T00:00:00",
          "2017-01-26T00:00:00",
          "2017-01-27T00:00:00",
          "2017-01-28T00:00:00",
          "2017-01-30T00:00:00",
          "2017-01-31T00:00:00",
          "2017-02-01T00:00:00",
          "2017-02-02T00:00:00",
          "2017-02-03T00:00:00",
          "2017-02-04T00:00:00",
          "2017-02-06T00:00:00",
          "2017-02-07T00:00:00",
          "2017-02-08T00:00:00",
          "2017-02-09T00:00:00",
          "2017-02-10T00:00:00",
          "2017-02-11T00:00:00",
          "2017-02-13T00:00:00",
          "2017-02-14T00:00:00",
          "2017-02-15T00:00:00",
          "2017-02-16T00:00:00",
          "2017-02-17T00:00:00",
          "2017-02-18T00:00:00",
          "2017-02-20T00:00:00",
          "2017-02-21T00:00:00",
          "2017-02-22T00:00:00",
          "2017-02-23T00:00:00",
          "2017-02-24T00:00:00",
          "2017-02-25T00:00:00",
          "2017-02-27T00:00:00",
          "2017-02-28T00:00:00"
         ],
         "xaxis": "x",
         "y": [
          13.4472716283,
          17.0464038577,
          11.4424026069,
          10.4944150749,
          11.0173865168,
          15.1660052227,
          14.2342506565,
          9.1415951473,
          14.0748500439,
          9.570500367,
          11.1564922646,
          11.6156055328,
          12.319572819,
          16.6963799961,
          13.2639334781,
          10.7672251,
          13.0211624504,
          13.1478048994,
          20.1586528462,
          5.6521983696,
          13.3346681548,
          14.1309368622,
          13.3023095597,
          13.8984482363,
          12.750130296,
          14.6915901027,
          16.0076560224,
          14.4923202507,
          12.5548532842,
          12.5998950989,
          8.6718217762,
          16.2773135925,
          9.2525731497,
          10.7216051182,
          11.847765873,
          13.702301613,
          8.8360047395,
          19.0787940476,
          13.2221787241,
          11.0421845903,
          13.4478079256,
          19.5320579365,
          10.9104262614,
          12.6359422782,
          15.2371615114,
          9.9100631921,
          18.209262588,
          15.5341046308,
          10.6862049062,
          13.003786322,
          16.9915018905,
          12.8424136722,
          13.9659551739,
          15.8310514237,
          7.7088923698,
          13.8611293757,
          12.6421579236,
          19.8024804263,
          11.0856932117,
          10.4016592297,
          11.8194344053,
          11.079329562,
          13.4419341759,
          17.7215308229,
          15.6216811688,
          21.437456682,
          11.2605025276,
          13.7471120145
         ],
         "yaxis": "y"
        }
       ],
       "layout": {
        "height": 600,
        "legend": {
         "tracegroupgap": 0
        },
        "template": {
         "data": {
          "bar": [
           {
            "error_x": {
             "color": "#2a3f5f"
            },
            "error_y": {
             "color": "#2a3f5f"
            },
            "marker": {
             "line": {
              "color": "#E5ECF6",
              "width": 0.5
             }
            },
            "type": "bar"
           }
          ],
          "barpolar": [
           {
            "marker": {
             "line": {
              "color": "#E5ECF6",
              "width": 0.5
             }
            },
            "type": "barpolar"
           }
          ],
          "carpet": [
           {
            "aaxis": {
             "endlinecolor": "#2a3f5f",
             "gridcolor": "white",
             "linecolor": "white",
             "minorgridcolor": "white",
             "startlinecolor": "#2a3f5f"
            },
            "baxis": {
             "endlinecolor": "#2a3f5f",
             "gridcolor": "white",
             "linecolor": "white",
             "minorgridcolor": "white",
             "startlinecolor": "#2a3f5f"
            },
            "type": "carpet"
           }
          ],
          "choropleth": [
           {
            "colorbar": {
             "outlinewidth": 0,
             "ticks": ""
            },
            "type": "choropleth"
           }
          ],
          "contour": [
           {
            "colorbar": {
             "outlinewidth": 0,
             "ticks": ""
            },
            "colorscale": [
             [
              0,
              "#0d0887"
             ],
             [
              0.1111111111,
              "#46039f"
             ],
             [
              0.2222222222,
              "#7201a8"
             ],
             [
              0.3333333333,
              "#9c179e"
             ],
             [
              0.4444444444,
              "#bd3786"
             ],
             [
              0.5555555556,
              "#d8576b"
             ],
             [
              0.6666666667,
              "#ed7953"
             ],
             [
              0.7777777778,
              "#fb9f3a"
             ],
             [
              0.8888888889,
              "#fdca26"
             ],
             [
              1,
              "#f0f921"
             ]
            ],
            "type": "contour"
           }
          ],
          "contourcarpet": [
           {
            "colorbar": {
             "outlinewidth": 0,
             "ticks": ""
            },
            "type": "contourcarpet"
           }
          ],
          "heatmap": [
           {
            "colorbar": {
             "outlinewidth": 0,
             "ticks": ""
            },
            "colorscale": [
             [
              0,
              "#0d0887"
             ],
             [
              0.1111111111,
              "#46039f"
             ],
             [
              0.2222222222,
              "#7201a8"
             ],
             [
              0.3333333333,
              "#9c179e"
             ],
             [
              0.4444444444,
              "#bd3786"
             ],
             [
              0.5555555556,
              "#d8576b"
             ],
             [
              0.6666666667,
              "#ed7953"
             ],
             [
              0.7777777778,
              "#fb9f3a"
             ],
             [
              0.8888888889,
              "#fdca26"
             ],
             [
              1,
              "#f0f921"
             ]
            ],
            "type": "heatmap"
           }
          ],
          "heatmapgl": [
           {
            "colorbar": {
             "outlinewidth": 0,
             "ticks": ""
            },
            "colorscale": [
             [
              0,
              "#0d0887"
             ],
             [
              0.1111111111,
              "#46039f"
             ],
             [
              0.2222222222,
              "#7201a8"
             ],
             [
              0.3333333333,
              "#9c179e"
             ],
             [
              0.4444444444,
              "#bd3786"
             ],
             [
              0.5555555556,
              "#d8576b"
             ],
             [
              0.6666666667,
              "#ed7953"
             ],
             [
              0.7777777778,
              "#fb9f3a"
             ],
             [
              0.8888888889,
              "#fdca26"
             ],
             [
              1,
              "#f0f921"
             ]
            ],
            "type": "heatmapgl"
           }
          ],
          "histogram": [
           {
            "marker": {
             "colorbar": {
              "outlinewidth": 0,
              "ticks": ""
             }
            },
            "type": "histogram"
           }
          ],
          "histogram2d": [
           {
            "colorbar": {
             "outlinewidth": 0,
             "ticks": ""
            },
            "colorscale": [
             [
              0,
              "#0d0887"
             ],
             [
              0.1111111111,
              "#46039f"
             ],
             [
              0.2222222222,
              "#7201a8"
             ],
             [
              0.3333333333,
              "#9c179e"
             ],
             [
              0.4444444444,
              "#bd3786"
             ],
             [
              0.5555555556,
              "#d8576b"
             ],
             [
              0.6666666667,
              "#ed7953"
             ],
             [
              0.7777777778,
              "#fb9f3a"
             ],
             [
              0.8888888889,
              "#fdca26"
             ],
             [
              1,
              "#f0f921"
             ]
            ],
            "type": "histogram2d"
           }
          ],
          "histogram2dcontour": [
           {
            "colorbar": {
             "outlinewidth": 0,
             "ticks": ""
            },
            "colorscale": [
             [
              0,
              "#0d0887"
             ],
             [
              0.1111111111,
              "#46039f"
             ],
             [
              0.2222222222,
              "#7201a8"
             ],
             [
              0.3333333333,
              "#9c179e"
             ],
             [
              0.4444444444,
              "#bd3786"
             ],
             [
              0.5555555556,
              "#d8576b"
             ],
             [
              0.6666666667,
              "#ed7953"
             ],
             [
              0.7777777778,
              "#fb9f3a"
             ],
             [
              0.8888888889,
              "#fdca26"
             ],
             [
              1,
              "#f0f921"
             ]
            ],
            "type": "histogram2dcontour"
           }
          ],
          "mesh3d": [
           {
            "colorbar": {
             "outlinewidth": 0,
             "ticks": ""
            },
            "type": "mesh3d"
           }
          ],
          "parcoords": [
           {
            "line": {
             "colorbar": {
              "outlinewidth": 0,
              "ticks": ""
             }
            },
            "type": "parcoords"
           }
          ],
          "scatter": [
           {
            "marker": {
             "colorbar": {
              "outlinewidth": 0,
              "ticks": ""
             }
            },
            "type": "scatter"
           }
          ],
          "scatter3d": [
           {
            "line": {
             "colorbar": {
              "outlinewidth": 0,
              "ticks": ""
             }
            },
            "marker": {
             "colorbar": {
              "outlinewidth": 0,
              "ticks": ""
             }
            },
            "type": "scatter3d"
           }
          ],
          "scattercarpet": [
           {
            "marker": {
             "colorbar": {
              "outlinewidth": 0,
              "ticks": ""
             }
            },
            "type": "scattercarpet"
           }
          ],
          "scattergeo": [
           {
            "marker": {
             "colorbar": {
              "outlinewidth": 0,
              "ticks": ""
             }
            },
            "type": "scattergeo"
           }
          ],
          "scattergl": [
           {
            "marker": {
             "colorbar": {
              "outlinewidth": 0,
              "ticks": ""
             }
            },
            "type": "scattergl"
           }
          ],
          "scattermapbox": [
           {
            "marker": {
             "colorbar": {
              "outlinewidth": 0,
              "ticks": ""
             }
            },
            "type": "scattermapbox"
           }
          ],
          "scatterpolar": [
           {
            "marker": {
             "colorbar": {
              "outlinewidth": 0,
              "ticks": ""
             }
            },
            "type": "scatterpolar"
           }
          ],
          "scatterpolargl": [
           {
            "marker": {
             "colorbar": {
              "outlinewidth": 0,
              "ticks": ""
             }
            },
            "type": "scatterpolargl"
           }
          ],
          "scatterternary": [
           {
            "marker": {
             "colorbar": {
              "outlinewidth": 0,
              "ticks": ""
             }
            },
            "type": "scatterternary"
           }
          ],
          "surface": [
           {
            "colorbar": {
             "outlinewidth": 0,
             "ticks": ""
            },
            "colorscale": [
             [
              0,
              "#0d0887"
             ],
             [
              0.1111111111,
              "#46039f"
             ],
             [
              0.2222222222,
              "#7201a8"
             ],
             [
              0.3333333333,
              "#9c179e"
             ],
             [
              0.4444444444,
              "#bd3786"
             ],
             [
              0.5555555556,
              "#d8576b"
             ],
             [
              0.6666666667,
              "#ed7953"
             ],
             [
              0.7777777778,
              "#fb9f3a"
             ],
             [
              0.8888888889,
              "#fdca26"
             ],
             [
              1,
              "#f0f921"
             ]
            ],
            "type": "surface"
           }
          ],
          "table": [
           {
            "cells": {
             "fill": {
              "color": "#EBF0F8"
             },
             "line": {
              "color": "white"
             }
            },
            "header": {
             "fill": {
              "color": "#C8D4E3"
             },
             "line": {
              "color": "white"
             }
            },
            "type": "table"
           }
          ]
         },
         "layout": {
          "annotationdefaults": {
           "arrowcolor": "#2a3f5f",
           "arrowhead": 0,
           "arrowwidth": 1
          },
          "colorscale": {
           "diverging": [
            [
             0,
             "#8e0152"
            ],
            [
             0.1,
             "#c51b7d"
            ],
            [
             0.2,
             "#de77ae"
            ],
            [
             0.3,
             "#f1b6da"
            ],
            [
             0.4,
             "#fde0ef"
            ],
            [
             0.5,
             "#f7f7f7"
            ],
            [
             0.6,
             "#e6f5d0"
            ],
            [
             0.7,
             "#b8e186"
            ],
            [
             0.8,
             "#7fbc41"
            ],
            [
             0.9,
             "#4d9221"
            ],
            [
             1,
             "#276419"
            ]
           ],
           "sequential": [
            [
             0,
             "#0d0887"
            ],
            [
             0.1111111111,
             "#46039f"
            ],
            [
             0.2222222222,
             "#7201a8"
            ],
            [
             0.3333333333,
             "#9c179e"
            ],
            [
             0.4444444444,
             "#bd3786"
            ],
            [
             0.5555555556,
             "#d8576b"
            ],
            [
             0.6666666667,
             "#ed7953"
            ],
            [
             0.7777777778,
             "#fb9f3a"
            ],
            [
             0.8888888889,
             "#fdca26"
            ],
            [
             1,
             "#f0f921"
            ]
           ],
           "sequentialminus": [
            [
             0,
             "#0d0887"
            ],
            [
             0.1111111111,
             "#46039f"
            ],
            [
             0.2222222222,
             "#7201a8"
            ],
            [
             0.3333333333,
             "#9c179e"
            ],
            [
             0.4444444444,
             "#bd3786"
            ],
            [
             0.5555555556,
             "#d8576b"
            ],
            [
             0.6666666667,
             "#ed7953"
            ],
            [
             0.7777777778,
             "#fb9f3a"
            ],
            [
             0.8888888889,
             "#fdca26"
            ],
            [
             1,
             "#f0f921"
            ]
           ]
          },
          "colorway": [
           "#636efa",
           "#EF553B",
           "#00cc96",
           "#ab63fa",
           "#FFA15A",
           "#19d3f3",
           "#FF6692",
           "#B6E880",
           "#FF97FF",
           "#FECB52"
          ],
          "font": {
           "color": "#2a3f5f"
          },
          "geo": {
           "bgcolor": "white",
           "lakecolor": "white",
           "landcolor": "#E5ECF6",
           "showlakes": true,
           "showland": true,
           "subunitcolor": "white"
          },
          "hoverlabel": {
           "align": "left"
          },
          "hovermode": "closest",
          "mapbox": {
           "style": "light"
          },
          "paper_bgcolor": "white",
          "plot_bgcolor": "#E5ECF6",
          "polar": {
           "angularaxis": {
            "gridcolor": "white",
            "linecolor": "white",
            "ticks": ""
           },
           "bgcolor": "#E5ECF6",
           "radialaxis": {
            "gridcolor": "white",
            "linecolor": "white",
            "ticks": ""
           }
          },
          "scene": {
           "xaxis": {
            "backgroundcolor": "#E5ECF6",
            "gridcolor": "white",
            "gridwidth": 2,
            "linecolor": "white",
            "showbackground": true,
            "ticks": "",
            "zerolinecolor": "white"
           },
           "yaxis": {
            "backgroundcolor": "#E5ECF6",
            "gridcolor": "white",
            "gridwidth": 2,
            "linecolor": "white",
            "showbackground": true,
            "ticks": "",
            "zerolinecolor": "white"
           },
           "zaxis": {
            "backgroundcolor": "#E5ECF6",
            "gridcolor": "white",
            "gridwidth": 2,
            "linecolor": "white",
            "showbackground": true,
            "ticks": "",
            "zerolinecolor": "white"
           }
          },
          "shapedefaults": {
           "line": {
            "color": "#2a3f5f"
           }
          },
          "ternary": {
           "aaxis": {
            "gridcolor": "white",
            "linecolor": "white",
            "ticks": ""
           },
           "baxis": {
            "gridcolor": "white",
            "linecolor": "white",
            "ticks": ""
           },
           "bgcolor": "#E5ECF6",
           "caxis": {
            "gridcolor": "white",
            "linecolor": "white",
            "ticks": ""
           }
          },
          "title": {
           "x": 0.05
          },
          "xaxis": {
           "automargin": true,
           "gridcolor": "white",
           "linecolor": "white",
           "ticks": "",
           "zerolinecolor": "white",
           "zerolinewidth": 2
          },
          "yaxis": {
           "automargin": true,
           "gridcolor": "white",
           "linecolor": "white",
           "ticks": "",
           "zerolinecolor": "white",
           "zerolinewidth": 2
          }
         }
        },
        "title": {
         "text": "Сумма чека по дням"
        },
        "xaxis": {
         "anchor": "y",
         "domain": [
          0,
          0.98
         ],
         "title": {
          "text": "purchase_date"
         }
        },
        "yaxis": {
         "anchor": "x",
         "domain": [
          0,
          1
         ],
         "title": {
          "text": "bill"
         }
        }
       }
      },
      "text/html": [
       "<div>\n",
       "        \n",
       "        \n",
       "            <div id=\"8cb68761-3667-4896-a5ee-ae8b09a65474\" class=\"plotly-graph-div\" style=\"height:600px; width:100%;\"></div>\n",
       "            <script type=\"text/javascript\">\n",
       "                require([\"plotly\"], function(Plotly) {\n",
       "                    window.PLOTLYENV=window.PLOTLYENV || {};\n",
       "                    \n",
       "                if (document.getElementById(\"8cb68761-3667-4896-a5ee-ae8b09a65474\")) {\n",
       "                    Plotly.newPlot(\n",
       "                        '8cb68761-3667-4896-a5ee-ae8b09a65474',\n",
       "                        [{\"hoverlabel\": {\"namelength\": 0}, \"hovertemplate\": \"loyalty_program=0<br>purchase_date=%{x}<br>bill=%{y}\", \"legendgroup\": \"loyalty_program=0\", \"line\": {\"color\": \"#636efa\", \"dash\": \"solid\"}, \"mode\": \"lines\", \"name\": \"loyalty_program=0\", \"showlegend\": true, \"type\": \"scatter\", \"x\": [\"2016-12-01T00:00:00\", \"2016-12-02T00:00:00\", \"2016-12-03T00:00:00\", \"2016-12-05T00:00:00\", \"2016-12-06T00:00:00\", \"2016-12-07T00:00:00\", \"2016-12-08T00:00:00\", \"2016-12-09T00:00:00\", \"2016-12-10T00:00:00\", \"2016-12-12T00:00:00\", \"2016-12-13T00:00:00\", \"2016-12-14T00:00:00\", \"2016-12-15T00:00:00\", \"2016-12-16T00:00:00\", \"2016-12-17T00:00:00\", \"2016-12-19T00:00:00\", \"2016-12-20T00:00:00\", \"2016-12-21T00:00:00\", \"2016-12-22T00:00:00\", \"2016-12-23T00:00:00\", \"2017-01-04T00:00:00\", \"2017-01-05T00:00:00\", \"2017-01-06T00:00:00\", \"2017-01-07T00:00:00\", \"2017-01-09T00:00:00\", \"2017-01-10T00:00:00\", \"2017-01-11T00:00:00\", \"2017-01-12T00:00:00\", \"2017-01-13T00:00:00\", \"2017-01-14T00:00:00\", \"2017-01-16T00:00:00\", \"2017-01-17T00:00:00\", \"2017-01-18T00:00:00\", \"2017-01-19T00:00:00\", \"2017-01-20T00:00:00\", \"2017-01-21T00:00:00\", \"2017-01-23T00:00:00\", \"2017-01-24T00:00:00\", \"2017-01-25T00:00:00\", \"2017-01-26T00:00:00\", \"2017-01-27T00:00:00\", \"2017-01-28T00:00:00\", \"2017-01-30T00:00:00\", \"2017-01-31T00:00:00\", \"2017-02-01T00:00:00\", \"2017-02-02T00:00:00\", \"2017-02-03T00:00:00\", \"2017-02-04T00:00:00\", \"2017-02-06T00:00:00\", \"2017-02-07T00:00:00\", \"2017-02-08T00:00:00\", \"2017-02-09T00:00:00\", \"2017-02-10T00:00:00\", \"2017-02-11T00:00:00\", \"2017-02-13T00:00:00\", \"2017-02-14T00:00:00\", \"2017-02-15T00:00:00\", \"2017-02-16T00:00:00\", \"2017-02-17T00:00:00\", \"2017-02-18T00:00:00\", \"2017-02-20T00:00:00\", \"2017-02-21T00:00:00\", \"2017-02-22T00:00:00\", \"2017-02-23T00:00:00\", \"2017-02-24T00:00:00\", \"2017-02-25T00:00:00\", \"2017-02-27T00:00:00\", \"2017-02-28T00:00:00\"], \"xaxis\": \"x\", \"y\": [11.36253826849989, 15.439873419022318, 11.738410487979463, 11.720805599390955, 9.739841547279637, 10.620369394476377, 11.763002193046034, 11.745003465488793, 9.841041499873096, 10.412156758932444, 11.629841340702958, 13.364695461945473, 16.43997148692811, 16.9093074301554, 9.698338157036428, 16.335514104981918, 9.770427118586111, 11.010678083989493, 15.560649689085253, 10.7172453978237, 12.136547321766395, 10.280866384035626, 12.420981339140843, 12.636060295414486, 13.831150700592907, 10.747238952576925, 11.744575322761722, 10.642138900234857, 10.998390727835849, 12.922010917984736, 11.989986346516003, 10.209604774223063, 9.530202545439579, 12.607985070546768, 10.85362443522359, 8.841053085480707, 11.151518384879717, 11.290001007537608, 13.341307358424599, 13.335365553776505, 14.123663279699928, 12.412553013392852, 12.141761280674483, 11.932264955668462, 11.68037398269807, 13.809499961948246, 13.019416186502422, 12.382539496084462, 11.616863481410462, 12.04420515176831, 10.253330278850271, 12.386861406686291, 11.973787419315556, 9.79042806856444, 12.886352221335462, 12.667423691985856, 12.553596424062052, 15.613559406820926, 14.00593483294219, 13.253884460450848, 12.265957557362881, 13.1961067674228, 12.020344148770626, 11.676348832657126, 15.60199969474971, 17.95635896141402, 11.622668938197744, 12.254222277096178], \"yaxis\": \"y\"}, {\"hoverlabel\": {\"namelength\": 0}, \"hovertemplate\": \"loyalty_program=1<br>purchase_date=%{x}<br>bill=%{y}\", \"legendgroup\": \"loyalty_program=1\", \"line\": {\"color\": \"#EF553B\", \"dash\": \"solid\"}, \"mode\": \"lines\", \"name\": \"loyalty_program=1\", \"showlegend\": true, \"type\": \"scatter\", \"x\": [\"2016-12-01T00:00:00\", \"2016-12-02T00:00:00\", \"2016-12-03T00:00:00\", \"2016-12-05T00:00:00\", \"2016-12-06T00:00:00\", \"2016-12-07T00:00:00\", \"2016-12-08T00:00:00\", \"2016-12-09T00:00:00\", \"2016-12-10T00:00:00\", \"2016-12-12T00:00:00\", \"2016-12-13T00:00:00\", \"2016-12-14T00:00:00\", \"2016-12-15T00:00:00\", \"2016-12-16T00:00:00\", \"2016-12-17T00:00:00\", \"2016-12-19T00:00:00\", \"2016-12-20T00:00:00\", \"2016-12-21T00:00:00\", \"2016-12-22T00:00:00\", \"2016-12-23T00:00:00\", \"2017-01-04T00:00:00\", \"2017-01-05T00:00:00\", \"2017-01-06T00:00:00\", \"2017-01-07T00:00:00\", \"2017-01-09T00:00:00\", \"2017-01-10T00:00:00\", \"2017-01-11T00:00:00\", \"2017-01-12T00:00:00\", \"2017-01-13T00:00:00\", \"2017-01-14T00:00:00\", \"2017-01-16T00:00:00\", \"2017-01-17T00:00:00\", \"2017-01-18T00:00:00\", \"2017-01-19T00:00:00\", \"2017-01-20T00:00:00\", \"2017-01-21T00:00:00\", \"2017-01-23T00:00:00\", \"2017-01-24T00:00:00\", \"2017-01-25T00:00:00\", \"2017-01-26T00:00:00\", \"2017-01-27T00:00:00\", \"2017-01-28T00:00:00\", \"2017-01-30T00:00:00\", \"2017-01-31T00:00:00\", \"2017-02-01T00:00:00\", \"2017-02-02T00:00:00\", \"2017-02-03T00:00:00\", \"2017-02-04T00:00:00\", \"2017-02-06T00:00:00\", \"2017-02-07T00:00:00\", \"2017-02-08T00:00:00\", \"2017-02-09T00:00:00\", \"2017-02-10T00:00:00\", \"2017-02-11T00:00:00\", \"2017-02-13T00:00:00\", \"2017-02-14T00:00:00\", \"2017-02-15T00:00:00\", \"2017-02-16T00:00:00\", \"2017-02-17T00:00:00\", \"2017-02-18T00:00:00\", \"2017-02-20T00:00:00\", \"2017-02-21T00:00:00\", \"2017-02-22T00:00:00\", \"2017-02-23T00:00:00\", \"2017-02-24T00:00:00\", \"2017-02-25T00:00:00\", \"2017-02-27T00:00:00\", \"2017-02-28T00:00:00\"], \"xaxis\": \"x\", \"y\": [13.44727162829811, 17.046403857745666, 11.442402606896039, 10.494415074943648, 11.017386516754845, 15.16600522265644, 14.234250656533964, 9.141595147318194, 14.074850043911004, 9.570500367006145, 11.156492264647781, 11.615605532757678, 12.319572818982657, 16.696379996067492, 13.26393347812098, 10.767225099963644, 13.021162450396822, 13.147804899387582, 20.15865284619595, 5.652198369565219, 13.334668154761914, 14.1309368622449, 13.30230955972132, 13.898448236331578, 12.750130295978042, 14.691590102707755, 16.00765602240896, 14.492320250715126, 12.55485328422344, 12.599895098948672, 8.67182177615572, 16.277313592525623, 9.252573149741831, 10.721605118237768, 11.847765873015877, 13.702301612986075, 8.836004739513363, 19.078794047619056, 13.222178724053723, 11.042184590316575, 13.447807925636003, 19.53205793650794, 10.910426261378706, 12.635942278199517, 15.237161511427617, 9.91006319213732, 18.20926258803741, 15.534104630843165, 10.68620490620491, 13.003786322036332, 16.991501890536085, 12.842413672217356, 13.965955173939498, 15.831051423662245, 7.708892369813418, 13.861129375708614, 12.642157923603047, 19.8024804262529, 11.08569321170283, 10.401659229659236, 11.819434405277255, 11.079329561977465, 13.441934175882041, 17.72153082290318, 15.621681168831152, 21.43745668202766, 11.260502527550297, 13.747112014453474], \"yaxis\": \"y\"}],\n",
       "                        {\"height\": 600, \"legend\": {\"tracegroupgap\": 0}, \"template\": {\"data\": {\"bar\": [{\"error_x\": {\"color\": \"#2a3f5f\"}, \"error_y\": {\"color\": \"#2a3f5f\"}, \"marker\": {\"line\": {\"color\": \"#E5ECF6\", \"width\": 0.5}}, \"type\": \"bar\"}], \"barpolar\": [{\"marker\": {\"line\": {\"color\": \"#E5ECF6\", \"width\": 0.5}}, \"type\": \"barpolar\"}], \"carpet\": [{\"aaxis\": {\"endlinecolor\": \"#2a3f5f\", \"gridcolor\": \"white\", \"linecolor\": \"white\", \"minorgridcolor\": \"white\", \"startlinecolor\": \"#2a3f5f\"}, \"baxis\": {\"endlinecolor\": \"#2a3f5f\", \"gridcolor\": \"white\", \"linecolor\": \"white\", \"minorgridcolor\": \"white\", \"startlinecolor\": \"#2a3f5f\"}, \"type\": \"carpet\"}], \"choropleth\": [{\"colorbar\": {\"outlinewidth\": 0, \"ticks\": \"\"}, \"type\": \"choropleth\"}], \"contour\": [{\"colorbar\": {\"outlinewidth\": 0, \"ticks\": \"\"}, \"colorscale\": [[0.0, \"#0d0887\"], [0.1111111111111111, \"#46039f\"], [0.2222222222222222, \"#7201a8\"], [0.3333333333333333, \"#9c179e\"], [0.4444444444444444, \"#bd3786\"], [0.5555555555555556, \"#d8576b\"], [0.6666666666666666, \"#ed7953\"], [0.7777777777777778, \"#fb9f3a\"], [0.8888888888888888, \"#fdca26\"], [1.0, \"#f0f921\"]], \"type\": \"contour\"}], \"contourcarpet\": [{\"colorbar\": {\"outlinewidth\": 0, \"ticks\": \"\"}, \"type\": \"contourcarpet\"}], \"heatmap\": [{\"colorbar\": {\"outlinewidth\": 0, \"ticks\": \"\"}, \"colorscale\": [[0.0, \"#0d0887\"], [0.1111111111111111, \"#46039f\"], [0.2222222222222222, \"#7201a8\"], [0.3333333333333333, \"#9c179e\"], [0.4444444444444444, \"#bd3786\"], [0.5555555555555556, \"#d8576b\"], [0.6666666666666666, \"#ed7953\"], [0.7777777777777778, \"#fb9f3a\"], [0.8888888888888888, \"#fdca26\"], [1.0, \"#f0f921\"]], \"type\": \"heatmap\"}], \"heatmapgl\": [{\"colorbar\": {\"outlinewidth\": 0, \"ticks\": \"\"}, \"colorscale\": [[0.0, \"#0d0887\"], [0.1111111111111111, \"#46039f\"], [0.2222222222222222, \"#7201a8\"], [0.3333333333333333, \"#9c179e\"], [0.4444444444444444, \"#bd3786\"], [0.5555555555555556, \"#d8576b\"], [0.6666666666666666, \"#ed7953\"], [0.7777777777777778, \"#fb9f3a\"], [0.8888888888888888, \"#fdca26\"], [1.0, \"#f0f921\"]], \"type\": \"heatmapgl\"}], \"histogram\": [{\"marker\": {\"colorbar\": {\"outlinewidth\": 0, \"ticks\": \"\"}}, \"type\": \"histogram\"}], \"histogram2d\": [{\"colorbar\": {\"outlinewidth\": 0, \"ticks\": \"\"}, \"colorscale\": [[0.0, \"#0d0887\"], [0.1111111111111111, \"#46039f\"], [0.2222222222222222, \"#7201a8\"], [0.3333333333333333, \"#9c179e\"], [0.4444444444444444, \"#bd3786\"], [0.5555555555555556, \"#d8576b\"], [0.6666666666666666, \"#ed7953\"], [0.7777777777777778, \"#fb9f3a\"], [0.8888888888888888, \"#fdca26\"], [1.0, \"#f0f921\"]], \"type\": \"histogram2d\"}], \"histogram2dcontour\": [{\"colorbar\": {\"outlinewidth\": 0, \"ticks\": \"\"}, \"colorscale\": [[0.0, \"#0d0887\"], [0.1111111111111111, \"#46039f\"], [0.2222222222222222, \"#7201a8\"], [0.3333333333333333, \"#9c179e\"], [0.4444444444444444, \"#bd3786\"], [0.5555555555555556, \"#d8576b\"], [0.6666666666666666, \"#ed7953\"], [0.7777777777777778, \"#fb9f3a\"], [0.8888888888888888, \"#fdca26\"], [1.0, \"#f0f921\"]], \"type\": \"histogram2dcontour\"}], \"mesh3d\": [{\"colorbar\": {\"outlinewidth\": 0, \"ticks\": \"\"}, \"type\": \"mesh3d\"}], \"parcoords\": [{\"line\": {\"colorbar\": {\"outlinewidth\": 0, \"ticks\": \"\"}}, \"type\": \"parcoords\"}], \"scatter\": [{\"marker\": {\"colorbar\": {\"outlinewidth\": 0, \"ticks\": \"\"}}, \"type\": \"scatter\"}], \"scatter3d\": [{\"line\": {\"colorbar\": {\"outlinewidth\": 0, \"ticks\": \"\"}}, \"marker\": {\"colorbar\": {\"outlinewidth\": 0, \"ticks\": \"\"}}, \"type\": \"scatter3d\"}], \"scattercarpet\": [{\"marker\": {\"colorbar\": {\"outlinewidth\": 0, \"ticks\": \"\"}}, \"type\": \"scattercarpet\"}], \"scattergeo\": [{\"marker\": {\"colorbar\": {\"outlinewidth\": 0, \"ticks\": \"\"}}, \"type\": \"scattergeo\"}], \"scattergl\": [{\"marker\": {\"colorbar\": {\"outlinewidth\": 0, \"ticks\": \"\"}}, \"type\": \"scattergl\"}], \"scattermapbox\": [{\"marker\": {\"colorbar\": {\"outlinewidth\": 0, \"ticks\": \"\"}}, \"type\": \"scattermapbox\"}], \"scatterpolar\": [{\"marker\": {\"colorbar\": {\"outlinewidth\": 0, \"ticks\": \"\"}}, \"type\": \"scatterpolar\"}], \"scatterpolargl\": [{\"marker\": {\"colorbar\": {\"outlinewidth\": 0, \"ticks\": \"\"}}, \"type\": \"scatterpolargl\"}], \"scatterternary\": [{\"marker\": {\"colorbar\": {\"outlinewidth\": 0, \"ticks\": \"\"}}, \"type\": \"scatterternary\"}], \"surface\": [{\"colorbar\": {\"outlinewidth\": 0, \"ticks\": \"\"}, \"colorscale\": [[0.0, \"#0d0887\"], [0.1111111111111111, \"#46039f\"], [0.2222222222222222, \"#7201a8\"], [0.3333333333333333, \"#9c179e\"], [0.4444444444444444, \"#bd3786\"], [0.5555555555555556, \"#d8576b\"], [0.6666666666666666, \"#ed7953\"], [0.7777777777777778, \"#fb9f3a\"], [0.8888888888888888, \"#fdca26\"], [1.0, \"#f0f921\"]], \"type\": \"surface\"}], \"table\": [{\"cells\": {\"fill\": {\"color\": \"#EBF0F8\"}, \"line\": {\"color\": \"white\"}}, \"header\": {\"fill\": {\"color\": \"#C8D4E3\"}, \"line\": {\"color\": \"white\"}}, \"type\": \"table\"}]}, \"layout\": {\"annotationdefaults\": {\"arrowcolor\": \"#2a3f5f\", \"arrowhead\": 0, \"arrowwidth\": 1}, \"colorscale\": {\"diverging\": [[0, \"#8e0152\"], [0.1, \"#c51b7d\"], [0.2, \"#de77ae\"], [0.3, \"#f1b6da\"], [0.4, \"#fde0ef\"], [0.5, \"#f7f7f7\"], [0.6, \"#e6f5d0\"], [0.7, \"#b8e186\"], [0.8, \"#7fbc41\"], [0.9, \"#4d9221\"], [1, \"#276419\"]], \"sequential\": [[0.0, \"#0d0887\"], [0.1111111111111111, \"#46039f\"], [0.2222222222222222, \"#7201a8\"], [0.3333333333333333, \"#9c179e\"], [0.4444444444444444, \"#bd3786\"], [0.5555555555555556, \"#d8576b\"], [0.6666666666666666, \"#ed7953\"], [0.7777777777777778, \"#fb9f3a\"], [0.8888888888888888, \"#fdca26\"], [1.0, \"#f0f921\"]], \"sequentialminus\": [[0.0, \"#0d0887\"], [0.1111111111111111, \"#46039f\"], [0.2222222222222222, \"#7201a8\"], [0.3333333333333333, \"#9c179e\"], [0.4444444444444444, \"#bd3786\"], [0.5555555555555556, \"#d8576b\"], [0.6666666666666666, \"#ed7953\"], [0.7777777777777778, \"#fb9f3a\"], [0.8888888888888888, \"#fdca26\"], [1.0, \"#f0f921\"]]}, \"colorway\": [\"#636efa\", \"#EF553B\", \"#00cc96\", \"#ab63fa\", \"#FFA15A\", \"#19d3f3\", \"#FF6692\", \"#B6E880\", \"#FF97FF\", \"#FECB52\"], \"font\": {\"color\": \"#2a3f5f\"}, \"geo\": {\"bgcolor\": \"white\", \"lakecolor\": \"white\", \"landcolor\": \"#E5ECF6\", \"showlakes\": true, \"showland\": true, \"subunitcolor\": \"white\"}, \"hoverlabel\": {\"align\": \"left\"}, \"hovermode\": \"closest\", \"mapbox\": {\"style\": \"light\"}, \"paper_bgcolor\": \"white\", \"plot_bgcolor\": \"#E5ECF6\", \"polar\": {\"angularaxis\": {\"gridcolor\": \"white\", \"linecolor\": \"white\", \"ticks\": \"\"}, \"bgcolor\": \"#E5ECF6\", \"radialaxis\": {\"gridcolor\": \"white\", \"linecolor\": \"white\", \"ticks\": \"\"}}, \"scene\": {\"xaxis\": {\"backgroundcolor\": \"#E5ECF6\", \"gridcolor\": \"white\", \"gridwidth\": 2, \"linecolor\": \"white\", \"showbackground\": true, \"ticks\": \"\", \"zerolinecolor\": \"white\"}, \"yaxis\": {\"backgroundcolor\": \"#E5ECF6\", \"gridcolor\": \"white\", \"gridwidth\": 2, \"linecolor\": \"white\", \"showbackground\": true, \"ticks\": \"\", \"zerolinecolor\": \"white\"}, \"zaxis\": {\"backgroundcolor\": \"#E5ECF6\", \"gridcolor\": \"white\", \"gridwidth\": 2, \"linecolor\": \"white\", \"showbackground\": true, \"ticks\": \"\", \"zerolinecolor\": \"white\"}}, \"shapedefaults\": {\"line\": {\"color\": \"#2a3f5f\"}}, \"ternary\": {\"aaxis\": {\"gridcolor\": \"white\", \"linecolor\": \"white\", \"ticks\": \"\"}, \"baxis\": {\"gridcolor\": \"white\", \"linecolor\": \"white\", \"ticks\": \"\"}, \"bgcolor\": \"#E5ECF6\", \"caxis\": {\"gridcolor\": \"white\", \"linecolor\": \"white\", \"ticks\": \"\"}}, \"title\": {\"x\": 0.05}, \"xaxis\": {\"automargin\": true, \"gridcolor\": \"white\", \"linecolor\": \"white\", \"ticks\": \"\", \"zerolinecolor\": \"white\", \"zerolinewidth\": 2}, \"yaxis\": {\"automargin\": true, \"gridcolor\": \"white\", \"linecolor\": \"white\", \"ticks\": \"\", \"zerolinecolor\": \"white\", \"zerolinewidth\": 2}}}, \"title\": {\"text\": \"\\u0421\\u0443\\u043c\\u043c\\u0430 \\u0447\\u0435\\u043a\\u0430 \\u043f\\u043e \\u0434\\u043d\\u044f\\u043c\"}, \"xaxis\": {\"anchor\": \"y\", \"domain\": [0.0, 0.98], \"title\": {\"text\": \"purchase_date\"}}, \"yaxis\": {\"anchor\": \"x\", \"domain\": [0.0, 1.0], \"title\": {\"text\": \"bill\"}}},\n",
       "                        {\"responsive\": true}\n",
       "                    ).then(function(){\n",
       "                            \n",
       "var gd = document.getElementById('8cb68761-3667-4896-a5ee-ae8b09a65474');\n",
       "var x = new MutationObserver(function (mutations, observer) {{\n",
       "        var display = window.getComputedStyle(gd).display;\n",
       "        if (!display || display === 'none') {{\n",
       "            console.log([gd, 'removed!']);\n",
       "            Plotly.purge(gd);\n",
       "            observer.disconnect();\n",
       "        }}\n",
       "}});\n",
       "\n",
       "// Listen for the removal of the full notebook cells\n",
       "var notebookContainer = gd.closest('#notebook-container');\n",
       "if (notebookContainer) {{\n",
       "    x.observe(notebookContainer, {childList: true});\n",
       "}}\n",
       "\n",
       "// Listen for the clearing of the current output cell\n",
       "var outputEl = gd.closest('.output');\n",
       "if (outputEl) {{\n",
       "    x.observe(outputEl, {childList: true});\n",
       "}}\n",
       "\n",
       "                        })\n",
       "                };\n",
       "                });\n",
       "            </script>\n",
       "        </div>"
      ]
     },
     "metadata": {},
     "output_type": "display_data"
    }
   ],
   "source": [
    "def analysis(data,col):\n",
    "    fig = px.line(data.pivot_table(index = ['loyalty_program', 'purchase_date'], values = col, aggfunc = 'mean').reset_index(), x = 'purchase_date', y = col, color = 'loyalty_program', title = 'Сумма чека по дням')\n",
    "    fig.show()    \n",
    "analysis(data,'bill')"
   ]
  },
  {
   "cell_type": "markdown",
   "metadata": {},
   "source": [
    "Опять таки видно, что средний чек для клиентов с картой лояльности почти всегда выше. Посмотрим по сумме чека."
   ]
  },
  {
   "cell_type": "code",
   "execution_count": 57,
   "metadata": {
    "scrolled": false
   },
   "outputs": [
    {
     "data": {
      "application/vnd.plotly.v1+json": {
       "config": {
        "plotlyServerURL": "https://plot.ly"
       },
       "data": [
        {
         "hoverlabel": {
          "namelength": 0
         },
         "hovertemplate": "loyalty_program=0<br>purchase_date=%{x}<br>bill=%{y}",
         "legendgroup": "loyalty_program=0",
         "line": {
          "color": "#636efa",
          "dash": "solid"
         },
         "mode": "lines",
         "name": "loyalty_program=0",
         "showlegend": true,
         "type": "scatter",
         "x": [
          "2016-12-01T00:00:00",
          "2016-12-02T00:00:00",
          "2016-12-03T00:00:00",
          "2016-12-05T00:00:00",
          "2016-12-06T00:00:00",
          "2016-12-07T00:00:00",
          "2016-12-08T00:00:00",
          "2016-12-09T00:00:00",
          "2016-12-10T00:00:00",
          "2016-12-12T00:00:00",
          "2016-12-13T00:00:00",
          "2016-12-14T00:00:00",
          "2016-12-15T00:00:00",
          "2016-12-16T00:00:00",
          "2016-12-17T00:00:00",
          "2016-12-19T00:00:00",
          "2016-12-20T00:00:00",
          "2016-12-21T00:00:00",
          "2016-12-22T00:00:00",
          "2016-12-23T00:00:00",
          "2017-01-04T00:00:00",
          "2017-01-05T00:00:00",
          "2017-01-06T00:00:00",
          "2017-01-07T00:00:00",
          "2017-01-09T00:00:00",
          "2017-01-10T00:00:00",
          "2017-01-11T00:00:00",
          "2017-01-12T00:00:00",
          "2017-01-13T00:00:00",
          "2017-01-14T00:00:00",
          "2017-01-16T00:00:00",
          "2017-01-17T00:00:00",
          "2017-01-18T00:00:00",
          "2017-01-19T00:00:00",
          "2017-01-20T00:00:00",
          "2017-01-21T00:00:00",
          "2017-01-23T00:00:00",
          "2017-01-24T00:00:00",
          "2017-01-25T00:00:00",
          "2017-01-26T00:00:00",
          "2017-01-27T00:00:00",
          "2017-01-28T00:00:00",
          "2017-01-30T00:00:00",
          "2017-01-31T00:00:00",
          "2017-02-01T00:00:00",
          "2017-02-02T00:00:00",
          "2017-02-03T00:00:00",
          "2017-02-04T00:00:00",
          "2017-02-06T00:00:00",
          "2017-02-07T00:00:00",
          "2017-02-08T00:00:00",
          "2017-02-09T00:00:00",
          "2017-02-10T00:00:00",
          "2017-02-11T00:00:00",
          "2017-02-13T00:00:00",
          "2017-02-14T00:00:00",
          "2017-02-15T00:00:00",
          "2017-02-16T00:00:00",
          "2017-02-17T00:00:00",
          "2017-02-18T00:00:00",
          "2017-02-20T00:00:00",
          "2017-02-21T00:00:00",
          "2017-02-22T00:00:00",
          "2017-02-23T00:00:00",
          "2017-02-24T00:00:00",
          "2017-02-25T00:00:00",
          "2017-02-27T00:00:00",
          "2017-02-28T00:00:00"
         ],
         "xaxis": "x",
         "y": [
          24202.2065119048,
          15501.6329126984,
          17701.523015873,
          20159.7856309524,
          26190.4339206349,
          24543.6736706349,
          19326.6126031746,
          23360.8118928572,
          19081.7794682539,
          8006.948547619,
          18235.5912222222,
          15636.6936904762,
          11179.1806111111,
          15928.5675992064,
          26903.1900476191,
          3299.7738492063,
          13610.2049761905,
          13983.5611666667,
          3018.7660396825,
          8520.2100912698,
          10692.2981904762,
          14290.4042738095,
          16159.6967222222,
          17286.130484127,
          8257.196968254,
          17410.5271031746,
          11955.9776785714,
          14888.3523214286,
          12626.1525555556,
          14550.1842936508,
          3537.0459722222,
          23022.658765873,
          11035.974547619,
          11347.1865634921,
          13078.6174444444,
          9132.8078373016,
          5408.4864166667,
          13028.6611626984,
          16356.4428214286,
          10708.2985396825,
          14462.6311984127,
          8738.4373214286,
          4091.7735515873,
          11407.245297619,
          11937.3422103174,
          10080.9349722222,
          9360.9602380952,
          12122.5061666667,
          1730.9126587302,
          10297.7954047619,
          9484.3305079365,
          7816.1095476191,
          4681.7508809524,
          7107.8507777778,
          2306.657047619,
          9323.2238373016,
          11047.1648531746,
          13240.2983769841,
          17619.4660198413,
          7886.0612539683,
          4955.4468531746,
          11995.2610515873,
          11647.7134801587,
          13019.1289484127,
          10952.6037857143,
          13126.0984007936,
          6659.7893015873,
          16837.3014087301
         ],
         "yaxis": "y"
        },
        {
         "hoverlabel": {
          "namelength": 0
         },
         "hovertemplate": "loyalty_program=1<br>purchase_date=%{x}<br>bill=%{y}",
         "legendgroup": "loyalty_program=1",
         "line": {
          "color": "#EF553B",
          "dash": "solid"
         },
         "mode": "lines",
         "name": "loyalty_program=1",
         "showlegend": true,
         "type": "scatter",
         "x": [
          "2016-12-01T00:00:00",
          "2016-12-02T00:00:00",
          "2016-12-03T00:00:00",
          "2016-12-05T00:00:00",
          "2016-12-06T00:00:00",
          "2016-12-07T00:00:00",
          "2016-12-08T00:00:00",
          "2016-12-09T00:00:00",
          "2016-12-10T00:00:00",
          "2016-12-12T00:00:00",
          "2016-12-13T00:00:00",
          "2016-12-14T00:00:00",
          "2016-12-15T00:00:00",
          "2016-12-16T00:00:00",
          "2016-12-17T00:00:00",
          "2016-12-19T00:00:00",
          "2016-12-20T00:00:00",
          "2016-12-21T00:00:00",
          "2016-12-22T00:00:00",
          "2016-12-23T00:00:00",
          "2017-01-04T00:00:00",
          "2017-01-05T00:00:00",
          "2017-01-06T00:00:00",
          "2017-01-07T00:00:00",
          "2017-01-09T00:00:00",
          "2017-01-10T00:00:00",
          "2017-01-11T00:00:00",
          "2017-01-12T00:00:00",
          "2017-01-13T00:00:00",
          "2017-01-14T00:00:00",
          "2017-01-16T00:00:00",
          "2017-01-17T00:00:00",
          "2017-01-18T00:00:00",
          "2017-01-19T00:00:00",
          "2017-01-20T00:00:00",
          "2017-01-21T00:00:00",
          "2017-01-23T00:00:00",
          "2017-01-24T00:00:00",
          "2017-01-25T00:00:00",
          "2017-01-26T00:00:00",
          "2017-01-27T00:00:00",
          "2017-01-28T00:00:00",
          "2017-01-30T00:00:00",
          "2017-01-31T00:00:00",
          "2017-02-01T00:00:00",
          "2017-02-02T00:00:00",
          "2017-02-03T00:00:00",
          "2017-02-04T00:00:00",
          "2017-02-06T00:00:00",
          "2017-02-07T00:00:00",
          "2017-02-08T00:00:00",
          "2017-02-09T00:00:00",
          "2017-02-10T00:00:00",
          "2017-02-11T00:00:00",
          "2017-02-13T00:00:00",
          "2017-02-14T00:00:00",
          "2017-02-15T00:00:00",
          "2017-02-16T00:00:00",
          "2017-02-17T00:00:00",
          "2017-02-18T00:00:00",
          "2017-02-20T00:00:00",
          "2017-02-21T00:00:00",
          "2017-02-22T00:00:00",
          "2017-02-23T00:00:00",
          "2017-02-24T00:00:00",
          "2017-02-25T00:00:00",
          "2017-02-27T00:00:00",
          "2017-02-28T00:00:00"
         ],
         "xaxis": "x",
         "y": [
          8122.1520634921,
          13466.6590476191,
          4782.9242896825,
          7534.9900238095,
          9915.6478650794,
          4989.615718254,
          9721.9931984127,
          5594.6562301587,
          6868.5268214286,
          4967.0896904762,
          4841.9176428571,
          6469.892281746,
          4816.9529722222,
          7413.192718254,
          1963.0621547619,
          2821.0129761905,
          1875.0473928571,
          1669.7712222222,
          1169.2018650794,
          520.00225,
          2240.22425,
          1582.6649285714,
          2939.8104126984,
          3752.5810238095,
          5087.3019880952,
          2997.0843809524,
          4081.9522857143,
          4101.3266309524,
          2272.4284444444,
          1940.3838452381,
          2376.0791666667,
          2571.815547619,
          1535.9271428571,
          3677.5105555556,
          1966.7291349206,
          4234.0111984127,
          2818.6855119048,
          2671.0311666667,
          2750.2131746032,
          3953.1020833333,
          4908.4498928571,
          2929.8086904762,
          3785.9179126984,
          5231.2801031746,
          5195.8720753968,
          5113.5926071429,
          2749.5986507936,
          1693.2174047619,
          1057.9342857143,
          4330.2608452381,
          3602.1984007936,
          2093.3134285714,
          4008.2291349206,
          1535.6119880952,
          3075.8480555556,
          3104.8929801587,
          3109.9708492063,
          3524.841515873,
          3746.9643055556,
          1487.4372698413,
          4550.4822460317,
          2902.7843452381,
          5672.4962222222,
          5865.826702381,
          6873.5397142857,
          3322.8057857143,
          1767.8988968254,
          3381.7895555556
         ],
         "yaxis": "y"
        }
       ],
       "layout": {
        "height": 600,
        "legend": {
         "tracegroupgap": 0
        },
        "template": {
         "data": {
          "bar": [
           {
            "error_x": {
             "color": "#2a3f5f"
            },
            "error_y": {
             "color": "#2a3f5f"
            },
            "marker": {
             "line": {
              "color": "#E5ECF6",
              "width": 0.5
             }
            },
            "type": "bar"
           }
          ],
          "barpolar": [
           {
            "marker": {
             "line": {
              "color": "#E5ECF6",
              "width": 0.5
             }
            },
            "type": "barpolar"
           }
          ],
          "carpet": [
           {
            "aaxis": {
             "endlinecolor": "#2a3f5f",
             "gridcolor": "white",
             "linecolor": "white",
             "minorgridcolor": "white",
             "startlinecolor": "#2a3f5f"
            },
            "baxis": {
             "endlinecolor": "#2a3f5f",
             "gridcolor": "white",
             "linecolor": "white",
             "minorgridcolor": "white",
             "startlinecolor": "#2a3f5f"
            },
            "type": "carpet"
           }
          ],
          "choropleth": [
           {
            "colorbar": {
             "outlinewidth": 0,
             "ticks": ""
            },
            "type": "choropleth"
           }
          ],
          "contour": [
           {
            "colorbar": {
             "outlinewidth": 0,
             "ticks": ""
            },
            "colorscale": [
             [
              0,
              "#0d0887"
             ],
             [
              0.1111111111,
              "#46039f"
             ],
             [
              0.2222222222,
              "#7201a8"
             ],
             [
              0.3333333333,
              "#9c179e"
             ],
             [
              0.4444444444,
              "#bd3786"
             ],
             [
              0.5555555556,
              "#d8576b"
             ],
             [
              0.6666666667,
              "#ed7953"
             ],
             [
              0.7777777778,
              "#fb9f3a"
             ],
             [
              0.8888888889,
              "#fdca26"
             ],
             [
              1,
              "#f0f921"
             ]
            ],
            "type": "contour"
           }
          ],
          "contourcarpet": [
           {
            "colorbar": {
             "outlinewidth": 0,
             "ticks": ""
            },
            "type": "contourcarpet"
           }
          ],
          "heatmap": [
           {
            "colorbar": {
             "outlinewidth": 0,
             "ticks": ""
            },
            "colorscale": [
             [
              0,
              "#0d0887"
             ],
             [
              0.1111111111,
              "#46039f"
             ],
             [
              0.2222222222,
              "#7201a8"
             ],
             [
              0.3333333333,
              "#9c179e"
             ],
             [
              0.4444444444,
              "#bd3786"
             ],
             [
              0.5555555556,
              "#d8576b"
             ],
             [
              0.6666666667,
              "#ed7953"
             ],
             [
              0.7777777778,
              "#fb9f3a"
             ],
             [
              0.8888888889,
              "#fdca26"
             ],
             [
              1,
              "#f0f921"
             ]
            ],
            "type": "heatmap"
           }
          ],
          "heatmapgl": [
           {
            "colorbar": {
             "outlinewidth": 0,
             "ticks": ""
            },
            "colorscale": [
             [
              0,
              "#0d0887"
             ],
             [
              0.1111111111,
              "#46039f"
             ],
             [
              0.2222222222,
              "#7201a8"
             ],
             [
              0.3333333333,
              "#9c179e"
             ],
             [
              0.4444444444,
              "#bd3786"
             ],
             [
              0.5555555556,
              "#d8576b"
             ],
             [
              0.6666666667,
              "#ed7953"
             ],
             [
              0.7777777778,
              "#fb9f3a"
             ],
             [
              0.8888888889,
              "#fdca26"
             ],
             [
              1,
              "#f0f921"
             ]
            ],
            "type": "heatmapgl"
           }
          ],
          "histogram": [
           {
            "marker": {
             "colorbar": {
              "outlinewidth": 0,
              "ticks": ""
             }
            },
            "type": "histogram"
           }
          ],
          "histogram2d": [
           {
            "colorbar": {
             "outlinewidth": 0,
             "ticks": ""
            },
            "colorscale": [
             [
              0,
              "#0d0887"
             ],
             [
              0.1111111111,
              "#46039f"
             ],
             [
              0.2222222222,
              "#7201a8"
             ],
             [
              0.3333333333,
              "#9c179e"
             ],
             [
              0.4444444444,
              "#bd3786"
             ],
             [
              0.5555555556,
              "#d8576b"
             ],
             [
              0.6666666667,
              "#ed7953"
             ],
             [
              0.7777777778,
              "#fb9f3a"
             ],
             [
              0.8888888889,
              "#fdca26"
             ],
             [
              1,
              "#f0f921"
             ]
            ],
            "type": "histogram2d"
           }
          ],
          "histogram2dcontour": [
           {
            "colorbar": {
             "outlinewidth": 0,
             "ticks": ""
            },
            "colorscale": [
             [
              0,
              "#0d0887"
             ],
             [
              0.1111111111,
              "#46039f"
             ],
             [
              0.2222222222,
              "#7201a8"
             ],
             [
              0.3333333333,
              "#9c179e"
             ],
             [
              0.4444444444,
              "#bd3786"
             ],
             [
              0.5555555556,
              "#d8576b"
             ],
             [
              0.6666666667,
              "#ed7953"
             ],
             [
              0.7777777778,
              "#fb9f3a"
             ],
             [
              0.8888888889,
              "#fdca26"
             ],
             [
              1,
              "#f0f921"
             ]
            ],
            "type": "histogram2dcontour"
           }
          ],
          "mesh3d": [
           {
            "colorbar": {
             "outlinewidth": 0,
             "ticks": ""
            },
            "type": "mesh3d"
           }
          ],
          "parcoords": [
           {
            "line": {
             "colorbar": {
              "outlinewidth": 0,
              "ticks": ""
             }
            },
            "type": "parcoords"
           }
          ],
          "scatter": [
           {
            "marker": {
             "colorbar": {
              "outlinewidth": 0,
              "ticks": ""
             }
            },
            "type": "scatter"
           }
          ],
          "scatter3d": [
           {
            "line": {
             "colorbar": {
              "outlinewidth": 0,
              "ticks": ""
             }
            },
            "marker": {
             "colorbar": {
              "outlinewidth": 0,
              "ticks": ""
             }
            },
            "type": "scatter3d"
           }
          ],
          "scattercarpet": [
           {
            "marker": {
             "colorbar": {
              "outlinewidth": 0,
              "ticks": ""
             }
            },
            "type": "scattercarpet"
           }
          ],
          "scattergeo": [
           {
            "marker": {
             "colorbar": {
              "outlinewidth": 0,
              "ticks": ""
             }
            },
            "type": "scattergeo"
           }
          ],
          "scattergl": [
           {
            "marker": {
             "colorbar": {
              "outlinewidth": 0,
              "ticks": ""
             }
            },
            "type": "scattergl"
           }
          ],
          "scattermapbox": [
           {
            "marker": {
             "colorbar": {
              "outlinewidth": 0,
              "ticks": ""
             }
            },
            "type": "scattermapbox"
           }
          ],
          "scatterpolar": [
           {
            "marker": {
             "colorbar": {
              "outlinewidth": 0,
              "ticks": ""
             }
            },
            "type": "scatterpolar"
           }
          ],
          "scatterpolargl": [
           {
            "marker": {
             "colorbar": {
              "outlinewidth": 0,
              "ticks": ""
             }
            },
            "type": "scatterpolargl"
           }
          ],
          "scatterternary": [
           {
            "marker": {
             "colorbar": {
              "outlinewidth": 0,
              "ticks": ""
             }
            },
            "type": "scatterternary"
           }
          ],
          "surface": [
           {
            "colorbar": {
             "outlinewidth": 0,
             "ticks": ""
            },
            "colorscale": [
             [
              0,
              "#0d0887"
             ],
             [
              0.1111111111,
              "#46039f"
             ],
             [
              0.2222222222,
              "#7201a8"
             ],
             [
              0.3333333333,
              "#9c179e"
             ],
             [
              0.4444444444,
              "#bd3786"
             ],
             [
              0.5555555556,
              "#d8576b"
             ],
             [
              0.6666666667,
              "#ed7953"
             ],
             [
              0.7777777778,
              "#fb9f3a"
             ],
             [
              0.8888888889,
              "#fdca26"
             ],
             [
              1,
              "#f0f921"
             ]
            ],
            "type": "surface"
           }
          ],
          "table": [
           {
            "cells": {
             "fill": {
              "color": "#EBF0F8"
             },
             "line": {
              "color": "white"
             }
            },
            "header": {
             "fill": {
              "color": "#C8D4E3"
             },
             "line": {
              "color": "white"
             }
            },
            "type": "table"
           }
          ]
         },
         "layout": {
          "annotationdefaults": {
           "arrowcolor": "#2a3f5f",
           "arrowhead": 0,
           "arrowwidth": 1
          },
          "colorscale": {
           "diverging": [
            [
             0,
             "#8e0152"
            ],
            [
             0.1,
             "#c51b7d"
            ],
            [
             0.2,
             "#de77ae"
            ],
            [
             0.3,
             "#f1b6da"
            ],
            [
             0.4,
             "#fde0ef"
            ],
            [
             0.5,
             "#f7f7f7"
            ],
            [
             0.6,
             "#e6f5d0"
            ],
            [
             0.7,
             "#b8e186"
            ],
            [
             0.8,
             "#7fbc41"
            ],
            [
             0.9,
             "#4d9221"
            ],
            [
             1,
             "#276419"
            ]
           ],
           "sequential": [
            [
             0,
             "#0d0887"
            ],
            [
             0.1111111111,
             "#46039f"
            ],
            [
             0.2222222222,
             "#7201a8"
            ],
            [
             0.3333333333,
             "#9c179e"
            ],
            [
             0.4444444444,
             "#bd3786"
            ],
            [
             0.5555555556,
             "#d8576b"
            ],
            [
             0.6666666667,
             "#ed7953"
            ],
            [
             0.7777777778,
             "#fb9f3a"
            ],
            [
             0.8888888889,
             "#fdca26"
            ],
            [
             1,
             "#f0f921"
            ]
           ],
           "sequentialminus": [
            [
             0,
             "#0d0887"
            ],
            [
             0.1111111111,
             "#46039f"
            ],
            [
             0.2222222222,
             "#7201a8"
            ],
            [
             0.3333333333,
             "#9c179e"
            ],
            [
             0.4444444444,
             "#bd3786"
            ],
            [
             0.5555555556,
             "#d8576b"
            ],
            [
             0.6666666667,
             "#ed7953"
            ],
            [
             0.7777777778,
             "#fb9f3a"
            ],
            [
             0.8888888889,
             "#fdca26"
            ],
            [
             1,
             "#f0f921"
            ]
           ]
          },
          "colorway": [
           "#636efa",
           "#EF553B",
           "#00cc96",
           "#ab63fa",
           "#FFA15A",
           "#19d3f3",
           "#FF6692",
           "#B6E880",
           "#FF97FF",
           "#FECB52"
          ],
          "font": {
           "color": "#2a3f5f"
          },
          "geo": {
           "bgcolor": "white",
           "lakecolor": "white",
           "landcolor": "#E5ECF6",
           "showlakes": true,
           "showland": true,
           "subunitcolor": "white"
          },
          "hoverlabel": {
           "align": "left"
          },
          "hovermode": "closest",
          "mapbox": {
           "style": "light"
          },
          "paper_bgcolor": "white",
          "plot_bgcolor": "#E5ECF6",
          "polar": {
           "angularaxis": {
            "gridcolor": "white",
            "linecolor": "white",
            "ticks": ""
           },
           "bgcolor": "#E5ECF6",
           "radialaxis": {
            "gridcolor": "white",
            "linecolor": "white",
            "ticks": ""
           }
          },
          "scene": {
           "xaxis": {
            "backgroundcolor": "#E5ECF6",
            "gridcolor": "white",
            "gridwidth": 2,
            "linecolor": "white",
            "showbackground": true,
            "ticks": "",
            "zerolinecolor": "white"
           },
           "yaxis": {
            "backgroundcolor": "#E5ECF6",
            "gridcolor": "white",
            "gridwidth": 2,
            "linecolor": "white",
            "showbackground": true,
            "ticks": "",
            "zerolinecolor": "white"
           },
           "zaxis": {
            "backgroundcolor": "#E5ECF6",
            "gridcolor": "white",
            "gridwidth": 2,
            "linecolor": "white",
            "showbackground": true,
            "ticks": "",
            "zerolinecolor": "white"
           }
          },
          "shapedefaults": {
           "line": {
            "color": "#2a3f5f"
           }
          },
          "ternary": {
           "aaxis": {
            "gridcolor": "white",
            "linecolor": "white",
            "ticks": ""
           },
           "baxis": {
            "gridcolor": "white",
            "linecolor": "white",
            "ticks": ""
           },
           "bgcolor": "#E5ECF6",
           "caxis": {
            "gridcolor": "white",
            "linecolor": "white",
            "ticks": ""
           }
          },
          "title": {
           "x": 0.05
          },
          "xaxis": {
           "automargin": true,
           "gridcolor": "white",
           "linecolor": "white",
           "ticks": "",
           "zerolinecolor": "white",
           "zerolinewidth": 2
          },
          "yaxis": {
           "automargin": true,
           "gridcolor": "white",
           "linecolor": "white",
           "ticks": "",
           "zerolinecolor": "white",
           "zerolinewidth": 2
          }
         }
        },
        "title": {
         "text": " Средний чек по дням"
        },
        "xaxis": {
         "anchor": "y",
         "domain": [
          0,
          0.98
         ],
         "title": {
          "text": "purchase_date"
         }
        },
        "yaxis": {
         "anchor": "x",
         "domain": [
          0,
          1
         ],
         "title": {
          "text": "bill"
         }
        }
       }
      },
      "text/html": [
       "<div>\n",
       "        \n",
       "        \n",
       "            <div id=\"bc446dd1-7142-4b63-834e-a7cf7be8587c\" class=\"plotly-graph-div\" style=\"height:600px; width:100%;\"></div>\n",
       "            <script type=\"text/javascript\">\n",
       "                require([\"plotly\"], function(Plotly) {\n",
       "                    window.PLOTLYENV=window.PLOTLYENV || {};\n",
       "                    \n",
       "                if (document.getElementById(\"bc446dd1-7142-4b63-834e-a7cf7be8587c\")) {\n",
       "                    Plotly.newPlot(\n",
       "                        'bc446dd1-7142-4b63-834e-a7cf7be8587c',\n",
       "                        [{\"hoverlabel\": {\"namelength\": 0}, \"hovertemplate\": \"loyalty_program=0<br>purchase_date=%{x}<br>bill=%{y}\", \"legendgroup\": \"loyalty_program=0\", \"line\": {\"color\": \"#636efa\", \"dash\": \"solid\"}, \"mode\": \"lines\", \"name\": \"loyalty_program=0\", \"showlegend\": true, \"type\": \"scatter\", \"x\": [\"2016-12-01T00:00:00\", \"2016-12-02T00:00:00\", \"2016-12-03T00:00:00\", \"2016-12-05T00:00:00\", \"2016-12-06T00:00:00\", \"2016-12-07T00:00:00\", \"2016-12-08T00:00:00\", \"2016-12-09T00:00:00\", \"2016-12-10T00:00:00\", \"2016-12-12T00:00:00\", \"2016-12-13T00:00:00\", \"2016-12-14T00:00:00\", \"2016-12-15T00:00:00\", \"2016-12-16T00:00:00\", \"2016-12-17T00:00:00\", \"2016-12-19T00:00:00\", \"2016-12-20T00:00:00\", \"2016-12-21T00:00:00\", \"2016-12-22T00:00:00\", \"2016-12-23T00:00:00\", \"2017-01-04T00:00:00\", \"2017-01-05T00:00:00\", \"2017-01-06T00:00:00\", \"2017-01-07T00:00:00\", \"2017-01-09T00:00:00\", \"2017-01-10T00:00:00\", \"2017-01-11T00:00:00\", \"2017-01-12T00:00:00\", \"2017-01-13T00:00:00\", \"2017-01-14T00:00:00\", \"2017-01-16T00:00:00\", \"2017-01-17T00:00:00\", \"2017-01-18T00:00:00\", \"2017-01-19T00:00:00\", \"2017-01-20T00:00:00\", \"2017-01-21T00:00:00\", \"2017-01-23T00:00:00\", \"2017-01-24T00:00:00\", \"2017-01-25T00:00:00\", \"2017-01-26T00:00:00\", \"2017-01-27T00:00:00\", \"2017-01-28T00:00:00\", \"2017-01-30T00:00:00\", \"2017-01-31T00:00:00\", \"2017-02-01T00:00:00\", \"2017-02-02T00:00:00\", \"2017-02-03T00:00:00\", \"2017-02-04T00:00:00\", \"2017-02-06T00:00:00\", \"2017-02-07T00:00:00\", \"2017-02-08T00:00:00\", \"2017-02-09T00:00:00\", \"2017-02-10T00:00:00\", \"2017-02-11T00:00:00\", \"2017-02-13T00:00:00\", \"2017-02-14T00:00:00\", \"2017-02-15T00:00:00\", \"2017-02-16T00:00:00\", \"2017-02-17T00:00:00\", \"2017-02-18T00:00:00\", \"2017-02-20T00:00:00\", \"2017-02-21T00:00:00\", \"2017-02-22T00:00:00\", \"2017-02-23T00:00:00\", \"2017-02-24T00:00:00\", \"2017-02-25T00:00:00\", \"2017-02-27T00:00:00\", \"2017-02-28T00:00:00\"], \"xaxis\": \"x\", \"y\": [24202.206511904766, 15501.632912698407, 17701.52301587303, 20159.785630952443, 26190.433920634943, 24543.673670634907, 19326.612603174635, 23360.811892857208, 19081.779468253935, 8006.948547619048, 18235.59122222224, 15636.693690476204, 11179.180611111115, 15928.567599206388, 26903.190047619053, 3299.7738492063477, 13610.204976190453, 13983.561166666657, 3018.766039682539, 8520.21009126984, 10692.298190476195, 14290.404273809521, 16159.696722222237, 17286.130484127018, 8257.196968253966, 17410.52710317462, 11955.977678571433, 14888.352321428563, 12626.152555555554, 14550.184293650813, 3537.045972222221, 23022.658765873006, 11035.974547619033, 11347.18656349209, 13078.617444444426, 9132.80783730157, 5408.486416666663, 13028.6611626984, 16356.442821428558, 10708.298539682533, 14462.631198412726, 8738.437321428568, 4091.773551587301, 11407.245297619049, 11937.342210317427, 10080.93497222222, 9360.960238095242, 12122.506166666688, 1730.912658730159, 10297.795404761904, 9484.3305079365, 7816.10954761905, 4681.750880952382, 7107.850777777783, 2306.6570476190477, 9323.22383730159, 11047.164853174605, 13240.298376984145, 17619.466019841275, 7886.061253968255, 4955.446853174604, 11995.261051587324, 11647.713480158736, 13019.128948412696, 10952.603785714296, 13126.098400793648, 6659.789301587308, 16837.30140873015], \"yaxis\": \"y\"}, {\"hoverlabel\": {\"namelength\": 0}, \"hovertemplate\": \"loyalty_program=1<br>purchase_date=%{x}<br>bill=%{y}\", \"legendgroup\": \"loyalty_program=1\", \"line\": {\"color\": \"#EF553B\", \"dash\": \"solid\"}, \"mode\": \"lines\", \"name\": \"loyalty_program=1\", \"showlegend\": true, \"type\": \"scatter\", \"x\": [\"2016-12-01T00:00:00\", \"2016-12-02T00:00:00\", \"2016-12-03T00:00:00\", \"2016-12-05T00:00:00\", \"2016-12-06T00:00:00\", \"2016-12-07T00:00:00\", \"2016-12-08T00:00:00\", \"2016-12-09T00:00:00\", \"2016-12-10T00:00:00\", \"2016-12-12T00:00:00\", \"2016-12-13T00:00:00\", \"2016-12-14T00:00:00\", \"2016-12-15T00:00:00\", \"2016-12-16T00:00:00\", \"2016-12-17T00:00:00\", \"2016-12-19T00:00:00\", \"2016-12-20T00:00:00\", \"2016-12-21T00:00:00\", \"2016-12-22T00:00:00\", \"2016-12-23T00:00:00\", \"2017-01-04T00:00:00\", \"2017-01-05T00:00:00\", \"2017-01-06T00:00:00\", \"2017-01-07T00:00:00\", \"2017-01-09T00:00:00\", \"2017-01-10T00:00:00\", \"2017-01-11T00:00:00\", \"2017-01-12T00:00:00\", \"2017-01-13T00:00:00\", \"2017-01-14T00:00:00\", \"2017-01-16T00:00:00\", \"2017-01-17T00:00:00\", \"2017-01-18T00:00:00\", \"2017-01-19T00:00:00\", \"2017-01-20T00:00:00\", \"2017-01-21T00:00:00\", \"2017-01-23T00:00:00\", \"2017-01-24T00:00:00\", \"2017-01-25T00:00:00\", \"2017-01-26T00:00:00\", \"2017-01-27T00:00:00\", \"2017-01-28T00:00:00\", \"2017-01-30T00:00:00\", \"2017-01-31T00:00:00\", \"2017-02-01T00:00:00\", \"2017-02-02T00:00:00\", \"2017-02-03T00:00:00\", \"2017-02-04T00:00:00\", \"2017-02-06T00:00:00\", \"2017-02-07T00:00:00\", \"2017-02-08T00:00:00\", \"2017-02-09T00:00:00\", \"2017-02-10T00:00:00\", \"2017-02-11T00:00:00\", \"2017-02-13T00:00:00\", \"2017-02-14T00:00:00\", \"2017-02-15T00:00:00\", \"2017-02-16T00:00:00\", \"2017-02-17T00:00:00\", \"2017-02-18T00:00:00\", \"2017-02-20T00:00:00\", \"2017-02-21T00:00:00\", \"2017-02-22T00:00:00\", \"2017-02-23T00:00:00\", \"2017-02-24T00:00:00\", \"2017-02-25T00:00:00\", \"2017-02-27T00:00:00\", \"2017-02-28T00:00:00\"], \"xaxis\": \"x\", \"y\": [8122.152063492058, 13466.659047619078, 4782.924289682544, 7534.990023809539, 9915.647865079362, 4989.615718253968, 9721.993198412698, 5594.656230158735, 6868.52682142857, 4967.089690476189, 4841.917642857137, 6469.892281746027, 4816.952972222219, 7413.192718253966, 1963.062154761905, 2821.012976190475, 1875.0473928571423, 1669.7712222222228, 1169.201865079365, 520.0022500000001, 2240.2242500000016, 1582.6649285714288, 2939.8104126984117, 3752.5810238095264, 5087.301988095239, 2997.084380952382, 4081.9522857142842, 4101.326630952381, 2272.428444444443, 1940.3838452380955, 2376.0791666666673, 2571.815547619048, 1535.927142857144, 3677.5105555555547, 1966.7291349206355, 4234.011198412697, 2818.6855119047627, 2671.0311666666676, 2750.2131746031746, 3953.102083333334, 4908.449892857141, 2929.808690476191, 3785.9179126984113, 5231.2801031746, 5195.872075396817, 5113.592607142858, 2749.598650793649, 1693.217404761905, 1057.934285714286, 4330.260845238098, 3602.19840079365, 2093.313428571429, 4008.229134920636, 1535.6119880952378, 3075.848055555554, 3104.8929801587296, 3109.9708492063496, 3524.8415158730163, 3746.9643055555566, 1487.4372698412708, 4550.482246031743, 2902.7843452380957, 5672.496222222221, 5865.826702380952, 6873.539714285707, 3322.805785714287, 1767.8988968253966, 3381.7895555555547], \"yaxis\": \"y\"}],\n",
       "                        {\"height\": 600, \"legend\": {\"tracegroupgap\": 0}, \"template\": {\"data\": {\"bar\": [{\"error_x\": {\"color\": \"#2a3f5f\"}, \"error_y\": {\"color\": \"#2a3f5f\"}, \"marker\": {\"line\": {\"color\": \"#E5ECF6\", \"width\": 0.5}}, \"type\": \"bar\"}], \"barpolar\": [{\"marker\": {\"line\": {\"color\": \"#E5ECF6\", \"width\": 0.5}}, \"type\": \"barpolar\"}], \"carpet\": [{\"aaxis\": {\"endlinecolor\": \"#2a3f5f\", \"gridcolor\": \"white\", \"linecolor\": \"white\", \"minorgridcolor\": \"white\", \"startlinecolor\": \"#2a3f5f\"}, \"baxis\": {\"endlinecolor\": \"#2a3f5f\", \"gridcolor\": \"white\", \"linecolor\": \"white\", \"minorgridcolor\": \"white\", \"startlinecolor\": \"#2a3f5f\"}, \"type\": \"carpet\"}], \"choropleth\": [{\"colorbar\": {\"outlinewidth\": 0, \"ticks\": \"\"}, \"type\": \"choropleth\"}], \"contour\": [{\"colorbar\": {\"outlinewidth\": 0, \"ticks\": \"\"}, \"colorscale\": [[0.0, \"#0d0887\"], [0.1111111111111111, \"#46039f\"], [0.2222222222222222, \"#7201a8\"], [0.3333333333333333, \"#9c179e\"], [0.4444444444444444, \"#bd3786\"], [0.5555555555555556, \"#d8576b\"], [0.6666666666666666, \"#ed7953\"], [0.7777777777777778, \"#fb9f3a\"], [0.8888888888888888, \"#fdca26\"], [1.0, \"#f0f921\"]], \"type\": \"contour\"}], \"contourcarpet\": [{\"colorbar\": {\"outlinewidth\": 0, \"ticks\": \"\"}, \"type\": \"contourcarpet\"}], \"heatmap\": [{\"colorbar\": {\"outlinewidth\": 0, \"ticks\": \"\"}, \"colorscale\": [[0.0, \"#0d0887\"], [0.1111111111111111, \"#46039f\"], [0.2222222222222222, \"#7201a8\"], [0.3333333333333333, \"#9c179e\"], [0.4444444444444444, \"#bd3786\"], [0.5555555555555556, \"#d8576b\"], [0.6666666666666666, \"#ed7953\"], [0.7777777777777778, \"#fb9f3a\"], [0.8888888888888888, \"#fdca26\"], [1.0, \"#f0f921\"]], \"type\": \"heatmap\"}], \"heatmapgl\": [{\"colorbar\": {\"outlinewidth\": 0, \"ticks\": \"\"}, \"colorscale\": [[0.0, \"#0d0887\"], [0.1111111111111111, \"#46039f\"], [0.2222222222222222, \"#7201a8\"], [0.3333333333333333, \"#9c179e\"], [0.4444444444444444, \"#bd3786\"], [0.5555555555555556, \"#d8576b\"], [0.6666666666666666, \"#ed7953\"], [0.7777777777777778, \"#fb9f3a\"], [0.8888888888888888, \"#fdca26\"], [1.0, \"#f0f921\"]], \"type\": \"heatmapgl\"}], \"histogram\": [{\"marker\": {\"colorbar\": {\"outlinewidth\": 0, \"ticks\": \"\"}}, \"type\": \"histogram\"}], \"histogram2d\": [{\"colorbar\": {\"outlinewidth\": 0, \"ticks\": \"\"}, \"colorscale\": [[0.0, \"#0d0887\"], [0.1111111111111111, \"#46039f\"], [0.2222222222222222, \"#7201a8\"], [0.3333333333333333, \"#9c179e\"], [0.4444444444444444, \"#bd3786\"], [0.5555555555555556, \"#d8576b\"], [0.6666666666666666, \"#ed7953\"], [0.7777777777777778, \"#fb9f3a\"], [0.8888888888888888, \"#fdca26\"], [1.0, \"#f0f921\"]], \"type\": \"histogram2d\"}], \"histogram2dcontour\": [{\"colorbar\": {\"outlinewidth\": 0, \"ticks\": \"\"}, \"colorscale\": [[0.0, \"#0d0887\"], [0.1111111111111111, \"#46039f\"], [0.2222222222222222, \"#7201a8\"], [0.3333333333333333, \"#9c179e\"], [0.4444444444444444, \"#bd3786\"], [0.5555555555555556, \"#d8576b\"], [0.6666666666666666, \"#ed7953\"], [0.7777777777777778, \"#fb9f3a\"], [0.8888888888888888, \"#fdca26\"], [1.0, \"#f0f921\"]], \"type\": \"histogram2dcontour\"}], \"mesh3d\": [{\"colorbar\": {\"outlinewidth\": 0, \"ticks\": \"\"}, \"type\": \"mesh3d\"}], \"parcoords\": [{\"line\": {\"colorbar\": {\"outlinewidth\": 0, \"ticks\": \"\"}}, \"type\": \"parcoords\"}], \"scatter\": [{\"marker\": {\"colorbar\": {\"outlinewidth\": 0, \"ticks\": \"\"}}, \"type\": \"scatter\"}], \"scatter3d\": [{\"line\": {\"colorbar\": {\"outlinewidth\": 0, \"ticks\": \"\"}}, \"marker\": {\"colorbar\": {\"outlinewidth\": 0, \"ticks\": \"\"}}, \"type\": \"scatter3d\"}], \"scattercarpet\": [{\"marker\": {\"colorbar\": {\"outlinewidth\": 0, \"ticks\": \"\"}}, \"type\": \"scattercarpet\"}], \"scattergeo\": [{\"marker\": {\"colorbar\": {\"outlinewidth\": 0, \"ticks\": \"\"}}, \"type\": \"scattergeo\"}], \"scattergl\": [{\"marker\": {\"colorbar\": {\"outlinewidth\": 0, \"ticks\": \"\"}}, \"type\": \"scattergl\"}], \"scattermapbox\": [{\"marker\": {\"colorbar\": {\"outlinewidth\": 0, \"ticks\": \"\"}}, \"type\": \"scattermapbox\"}], \"scatterpolar\": [{\"marker\": {\"colorbar\": {\"outlinewidth\": 0, \"ticks\": \"\"}}, \"type\": \"scatterpolar\"}], \"scatterpolargl\": [{\"marker\": {\"colorbar\": {\"outlinewidth\": 0, \"ticks\": \"\"}}, \"type\": \"scatterpolargl\"}], \"scatterternary\": [{\"marker\": {\"colorbar\": {\"outlinewidth\": 0, \"ticks\": \"\"}}, \"type\": \"scatterternary\"}], \"surface\": [{\"colorbar\": {\"outlinewidth\": 0, \"ticks\": \"\"}, \"colorscale\": [[0.0, \"#0d0887\"], [0.1111111111111111, \"#46039f\"], [0.2222222222222222, \"#7201a8\"], [0.3333333333333333, \"#9c179e\"], [0.4444444444444444, \"#bd3786\"], [0.5555555555555556, \"#d8576b\"], [0.6666666666666666, \"#ed7953\"], [0.7777777777777778, \"#fb9f3a\"], [0.8888888888888888, \"#fdca26\"], [1.0, \"#f0f921\"]], \"type\": \"surface\"}], \"table\": [{\"cells\": {\"fill\": {\"color\": \"#EBF0F8\"}, \"line\": {\"color\": \"white\"}}, \"header\": {\"fill\": {\"color\": \"#C8D4E3\"}, \"line\": {\"color\": \"white\"}}, \"type\": \"table\"}]}, \"layout\": {\"annotationdefaults\": {\"arrowcolor\": \"#2a3f5f\", \"arrowhead\": 0, \"arrowwidth\": 1}, \"colorscale\": {\"diverging\": [[0, \"#8e0152\"], [0.1, \"#c51b7d\"], [0.2, \"#de77ae\"], [0.3, \"#f1b6da\"], [0.4, \"#fde0ef\"], [0.5, \"#f7f7f7\"], [0.6, \"#e6f5d0\"], [0.7, \"#b8e186\"], [0.8, \"#7fbc41\"], [0.9, \"#4d9221\"], [1, \"#276419\"]], \"sequential\": [[0.0, \"#0d0887\"], [0.1111111111111111, \"#46039f\"], [0.2222222222222222, \"#7201a8\"], [0.3333333333333333, \"#9c179e\"], [0.4444444444444444, \"#bd3786\"], [0.5555555555555556, \"#d8576b\"], [0.6666666666666666, \"#ed7953\"], [0.7777777777777778, \"#fb9f3a\"], [0.8888888888888888, \"#fdca26\"], [1.0, \"#f0f921\"]], \"sequentialminus\": [[0.0, \"#0d0887\"], [0.1111111111111111, \"#46039f\"], [0.2222222222222222, \"#7201a8\"], [0.3333333333333333, \"#9c179e\"], [0.4444444444444444, \"#bd3786\"], [0.5555555555555556, \"#d8576b\"], [0.6666666666666666, \"#ed7953\"], [0.7777777777777778, \"#fb9f3a\"], [0.8888888888888888, \"#fdca26\"], [1.0, \"#f0f921\"]]}, \"colorway\": [\"#636efa\", \"#EF553B\", \"#00cc96\", \"#ab63fa\", \"#FFA15A\", \"#19d3f3\", \"#FF6692\", \"#B6E880\", \"#FF97FF\", \"#FECB52\"], \"font\": {\"color\": \"#2a3f5f\"}, \"geo\": {\"bgcolor\": \"white\", \"lakecolor\": \"white\", \"landcolor\": \"#E5ECF6\", \"showlakes\": true, \"showland\": true, \"subunitcolor\": \"white\"}, \"hoverlabel\": {\"align\": \"left\"}, \"hovermode\": \"closest\", \"mapbox\": {\"style\": \"light\"}, \"paper_bgcolor\": \"white\", \"plot_bgcolor\": \"#E5ECF6\", \"polar\": {\"angularaxis\": {\"gridcolor\": \"white\", \"linecolor\": \"white\", \"ticks\": \"\"}, \"bgcolor\": \"#E5ECF6\", \"radialaxis\": {\"gridcolor\": \"white\", \"linecolor\": \"white\", \"ticks\": \"\"}}, \"scene\": {\"xaxis\": {\"backgroundcolor\": \"#E5ECF6\", \"gridcolor\": \"white\", \"gridwidth\": 2, \"linecolor\": \"white\", \"showbackground\": true, \"ticks\": \"\", \"zerolinecolor\": \"white\"}, \"yaxis\": {\"backgroundcolor\": \"#E5ECF6\", \"gridcolor\": \"white\", \"gridwidth\": 2, \"linecolor\": \"white\", \"showbackground\": true, \"ticks\": \"\", \"zerolinecolor\": \"white\"}, \"zaxis\": {\"backgroundcolor\": \"#E5ECF6\", \"gridcolor\": \"white\", \"gridwidth\": 2, \"linecolor\": \"white\", \"showbackground\": true, \"ticks\": \"\", \"zerolinecolor\": \"white\"}}, \"shapedefaults\": {\"line\": {\"color\": \"#2a3f5f\"}}, \"ternary\": {\"aaxis\": {\"gridcolor\": \"white\", \"linecolor\": \"white\", \"ticks\": \"\"}, \"baxis\": {\"gridcolor\": \"white\", \"linecolor\": \"white\", \"ticks\": \"\"}, \"bgcolor\": \"#E5ECF6\", \"caxis\": {\"gridcolor\": \"white\", \"linecolor\": \"white\", \"ticks\": \"\"}}, \"title\": {\"x\": 0.05}, \"xaxis\": {\"automargin\": true, \"gridcolor\": \"white\", \"linecolor\": \"white\", \"ticks\": \"\", \"zerolinecolor\": \"white\", \"zerolinewidth\": 2}, \"yaxis\": {\"automargin\": true, \"gridcolor\": \"white\", \"linecolor\": \"white\", \"ticks\": \"\", \"zerolinecolor\": \"white\", \"zerolinewidth\": 2}}}, \"title\": {\"text\": \" \\u0421\\u0440\\u0435\\u0434\\u043d\\u0438\\u0439 \\u0447\\u0435\\u043a \\u043f\\u043e \\u0434\\u043d\\u044f\\u043c\"}, \"xaxis\": {\"anchor\": \"y\", \"domain\": [0.0, 0.98], \"title\": {\"text\": \"purchase_date\"}}, \"yaxis\": {\"anchor\": \"x\", \"domain\": [0.0, 1.0], \"title\": {\"text\": \"bill\"}}},\n",
       "                        {\"responsive\": true}\n",
       "                    ).then(function(){\n",
       "                            \n",
       "var gd = document.getElementById('bc446dd1-7142-4b63-834e-a7cf7be8587c');\n",
       "var x = new MutationObserver(function (mutations, observer) {{\n",
       "        var display = window.getComputedStyle(gd).display;\n",
       "        if (!display || display === 'none') {{\n",
       "            console.log([gd, 'removed!']);\n",
       "            Plotly.purge(gd);\n",
       "            observer.disconnect();\n",
       "        }}\n",
       "}});\n",
       "\n",
       "// Listen for the removal of the full notebook cells\n",
       "var notebookContainer = gd.closest('#notebook-container');\n",
       "if (notebookContainer) {{\n",
       "    x.observe(notebookContainer, {childList: true});\n",
       "}}\n",
       "\n",
       "// Listen for the clearing of the current output cell\n",
       "var outputEl = gd.closest('.output');\n",
       "if (outputEl) {{\n",
       "    x.observe(outputEl, {childList: true});\n",
       "}}\n",
       "\n",
       "                        })\n",
       "                };\n",
       "                });\n",
       "            </script>\n",
       "        </div>"
      ]
     },
     "metadata": {},
     "output_type": "display_data"
    }
   ],
   "source": [
    "def analysis(data,col):\n",
    "    fig = px.line(data.pivot_table(index = ['loyalty_program', 'purchase_date'], values = col, aggfunc = 'sum').reset_index(), x = 'purchase_date', y = col, color = 'loyalty_program', title = ' Средний чек по дням')\n",
    "    fig.show()    \n",
    "analysis(data,'bill')"
   ]
  },
  {
   "cell_type": "markdown",
   "metadata": {},
   "source": [
    "Так же как и с количеством покупателей или покупок, график для клиентов с картой лояльности стабильнее. "
   ]
  },
  {
   "cell_type": "markdown",
   "metadata": {},
   "source": [
    "### Программы лояльности имеют разный уровень популярности в разных магазинах"
   ]
  },
  {
   "cell_type": "code",
   "execution_count": 39,
   "metadata": {},
   "outputs": [
    {
     "name": "stdout",
     "output_type": "stream",
     "text": [
      "Loyal programm in\n",
      "['Shop 0' 'Shop 8' 'Shop 28' 'Shop 19']\n",
      "doesn t have a loyal  programm in\n",
      "['Shop 0' 'Shop 1' 'Shop 6' 'Shop 2' 'Shop 11' 'Shop 4' 'Shop 5' 'Shop 3'\n",
      " 'Shop 7' 'Shop 12' 'Shop 8' 'Shop 27' 'Shop 20' 'Shop 19' 'Shop 25'\n",
      " 'Shop 18' 'Shop 10' 'Shop 16' 'Shop 29' 'Shop 17' 'Shop 22' 'Shop 14'\n",
      " 'Shop 9' 'Shop 26' 'Shop 15' 'Shop 21' 'Shop 13' 'Shop 30' 'Shop 24']\n"
     ]
    }
   ],
   "source": [
    "print('Loyal programm in')\n",
    "print( loyal['shop_id'].unique())\n",
    "print('doesn t have a loyal  programm in')\n",
    "print( n_loyal['shop_id'].unique())"
   ]
  },
  {
   "cell_type": "markdown",
   "metadata": {},
   "source": [
    "Уже тут видно, что магазины сразу деляться на те, где есть программа лояльности и те, где ее нет."
   ]
  },
  {
   "cell_type": "code",
   "execution_count": 52,
   "metadata": {
    "scrolled": false
   },
   "outputs": [
    {
     "data": {
      "image/png": "[encoded data removed]",
      "text/plain": [
       "<Figure size 864x576 with 1 Axes>"
      ]
     },
     "metadata": {},
     "output_type": "display_data"
    }
   ],
   "source": [
    "sns.barplot(x='shop_id', y='bill', data=data.query('loyalty_program==1') ) \n",
    "plt.title('Средний чек в магазинах с программой лояльности',fontsize=16,fontweight=\"bold\")\n",
    "plt.show()"
   ]
  },
  {
   "cell_type": "markdown",
   "metadata": {},
   "source": [
    "Видно, что программа лояльности имеет разный уровень популярности в разных магазинах. Это может быть связано с географическим положением магазина или проведением рекламной компании нашей программы лояльности, давайте посмотрим соотношение по разным магазинам клиентов с картой лояльнсоти и без количества клиентов. \n"
   ]
  },
  {
   "cell_type": "code",
   "execution_count": 58,
   "metadata": {},
   "outputs": [
    {
     "name": "stderr",
     "output_type": "stream",
     "text": [
      "/opt/conda/lib/python3.7/site-packages/ipykernel_launcher.py:1: MatplotlibDeprecationWarning:\n",
      "\n",
      "Adding an axes using the same arguments as a previous axes currently reuses the earlier instance.  In a future version, a new instance will always be created and returned.  Meanwhile, this warning can be suppressed, and the future behavior ensured, by passing a unique label to each axes instance.\n",
      "\n",
      "posx and posy should be finite values\n",
      "posx and posy should be finite values\n"
     ]
    },
    {
     "data": {
      "image/png": "[encoded data removed]",
      "text/plain": [
       "<Figure size 1080x720 with 4 Axes>"
      ]
     },
     "metadata": {},
     "output_type": "display_data"
    }
   ],
   "source": [
    "\n",
    "ax = fig.add_subplot(111)\n",
    "shop_list=loyal['shop_id'].unique()\n",
    "data_shops=data.query('shop_id in @shop_list')\n",
    "every= sns.catplot(\n",
    "    x=\"loyalty_program\",\n",
    "    col=\"shop_id\",\n",
    "    col_wrap=3,\n",
    "    kind=\"count\",\n",
    "    data=data_shops,\n",
    "    aspect=1,\n",
    "    palette='pastel'\n",
    ")\n",
    "every.set_axis_labels(\"\",\"Частота в выборке\")\n",
    "every.fig.suptitle(\"Соотношение количества лояльных и нелояльных клиентов\", y=1.05, fontsize=17)\n",
    "every.set_titles(\"{col_name}\",size=13)\n",
    "for ax in (every.axes):\n",
    "    for p in ax.patches:\n",
    "        height=p.get_height()\n",
    "        ax.text(\n",
    "            x=p.get_x()+(p.get_width()/2),\n",
    "            y=height+10,\n",
    "            s=\"{:.0f}\".format(height),\n",
    "            ha=\"center\"\n",
    "        )\n",
    "plt.show()"
   ]
  },
  {
   "cell_type": "markdown",
   "metadata": {},
   "source": [
    "В принципе видно, что распределение клентов с картой лояльности и без нее у нас такое как в пункте 5.1. Только в Shop 28 кажется нет клиентов  без карты лояльности, но их в целом там немного. Можно проработать этот вопрос с отделом маркетинга и начать продвигать программу лоляьности в магазинах, где она не так сильно распространена и в тех, где ее на данный момент нет.\n",
    "\n",
    "\n",
    "P.S.  В декомпозиции я еще писала два пункта, разбиение по группам и тд, но потом начала их деоать и поняла, что ничего нового не узнала, выводы те же самые, что в пунктах выше, так что не стала их писать. \n",
    "## Документация\n",
    "Пришлось перетрясти свою историю поиска))\n",
    "\n",
    "Во время работы над проектом я часто обращалась к своим прошлым проектам и теории тренажера. Так же пользовалась следующими сайтами:\n",
    "* http://statistica.ru/theory/opisatelnye-statistiki/ - использовала сайт, чтобы восстановить в голове работу со стат выбросами, что такое перцентили и стандартное отклонение, что оно показывает и как его усмирить\n",
    "* https://www.machinelearningmastery.ru/5-ways-to-detect-outliers-that-every-data-scientist-should-know-python-code-70a54335a623/ - статья про работу с выбросами, очень помогла вспомнить основную теорию про boxplot и гистограммы и как с ними работать\n",
    "* https://habr.com/ru/company/otus/blog/540526/ - seaborn, теория похожа на ту, что есть у нас в тренажере, иногда путала какие параментры писать для того же боксплота в seaborn и в plt, а тут есть почти все нужные мне виды графиков  с примерами, так что очень помогло\n",
    "* https://question-it.com/questions/941776/peredacha-obekta-tipa-datetime-v-seabornlmplot - сначала были проблемы с построением графика по датам, после этого стало полегче, ну еще заглянула в прошлые проекты\n",
    "* https://habr.com/ru/post/502958/ - очередная любимая шпаргалка с habr, с примерами и пояснениями, всем я, конечно, не воспользовалась, но это потому что поджимало время((\n",
    "* https://tableau.pro/m01 - не знаю, можно ли использовать это в документации, но я начала проходить этот курс и подчерпнула разные вещи оттуда \n",
    "* https://praktikum.yandex.ru/learn/data-analyst/courses/295314ef-a66a-4b2e-a47f-ef5584ae9183/sprints/3778/topics/0aa93cf5-8048-4043-bf68-4197ad50e9f7/lessons/28581282-a18e-4484-93d8-ced616bd89aa/ - сслыка на урок из ЯП, пользовалась при создании дашборда всем блоком, потому что многое не уложилось в памяти с первого раза, но здесь информация о типах графиков, которые я использовала, так что было полезно. \n",
    "\n",
    "В остальном получилось сработать методом проб и ошибок, ну и конечно не без помощи коллег в slack и telegram\n",
    "\n",
    "\n",
    "## Презентация\n",
    "Ссылка: https://drive.google.com/file/d/1mnYLfcybwcgQhPzxxG22Lg8b7bR42yEb/view?usp=sharing\n",
    "\n",
    "## Дашборд\n",
    "https://public.tableau.com/views/retail_16271064673040/Dashboard1?:language=en-US&publish=yes&:display_count=n&:origin=viz_share_link\n",
    "я выбрала первый набор, но добавила еще первый график из второго набора, выбор магазина, времени в фильтрах. и добавила piechart с процентным соотношением количества клиентов, а так же на графиках видно разделение на лояльных и нелояльных клиентов по цвету. \n",
    "\n",
    "## Выводы\n",
    "\n",
    "Нашей задачей было выявить различия между клиентами с картой лояльности и без нее, вот что из этого вышло:\n",
    "* количество клиентов с картой лояльности меньше, чем без нее. Клиентов с картой лояльности всего около 22%, а без нее 78%\n",
    "* Средний чек клиентов с картой лояльности выше, хоть на первый взгляд и незначительно\n",
    "* Клиенты с картой лояльности и без нее делают одинаковое количество возвратов\n",
    "* Клиенты с картой лояльность делают покупки чаще и регулярнее приходят в магазин, чем нелояльные клиенты. Лояльные клиенты более стабильны и имеют свойство возвращаться в магазин, нежели делать одну покупку и больше никогда не приходить\n",
    "* Клиенты без карты лояльности чаще всего делают покупки в воскресение, можно воспользоваться этим моментом и может быть пустить более активную рекламу программы лояльности в этот день, когда поток клиентов больше.\n",
    "* программа лояльности пока внедрена только в 4 магазинах и в каждом из них, клиентов учавствующих в ней меньше, чем не учавствующих.  В остальных 26 магазинах программа не внедрена, стоит заняться этим вопросом. \n",
    "\n",
    "\n"
   ]
  },
  {
   "cell_type": "code",
   "execution_count": null,
   "metadata": {},
   "outputs": [],
   "source": []
  }
 ],
 "metadata": {
  "ExecuteTimeLog": [
   {
    "duration": 848,
    "start_time": "2021-07-18T23:43:16.108Z"
   },
   {
    "duration": 201,
    "start_time": "2021-07-18T23:44:22.137Z"
   },
   {
    "duration": 223,
    "start_time": "2021-07-18T23:46:16.057Z"
   },
   {
    "duration": 25,
    "start_time": "2021-07-18T23:46:43.627Z"
   },
   {
    "duration": 242,
    "start_time": "2021-07-18T23:47:24.747Z"
   },
   {
    "duration": 239,
    "start_time": "2021-07-18T23:47:30.667Z"
   },
   {
    "duration": 236,
    "start_time": "2021-07-18T23:47:35.028Z"
   },
   {
    "duration": 406,
    "start_time": "2021-07-19T00:07:43.577Z"
   },
   {
    "duration": 2212,
    "start_time": "2021-07-19T00:07:51.147Z"
   },
   {
    "duration": 29,
    "start_time": "2021-07-19T00:08:17.077Z"
   },
   {
    "duration": 15,
    "start_time": "2021-07-19T00:11:05.668Z"
   },
   {
    "duration": 1198,
    "start_time": "2021-07-19T00:12:01.607Z"
   },
   {
    "duration": 1168,
    "start_time": "2021-07-19T00:12:16.788Z"
   },
   {
    "duration": 1227,
    "start_time": "2021-07-19T00:13:02.637Z"
   },
   {
    "duration": 225,
    "start_time": "2021-07-19T00:13:16.037Z"
   },
   {
    "duration": 218,
    "start_time": "2021-07-19T00:13:26.136Z"
   },
   {
    "duration": 7814,
    "start_time": "2021-07-19T00:13:48.387Z"
   },
   {
    "duration": 13,
    "start_time": "2021-07-19T00:14:07.292Z"
   },
   {
    "duration": 353,
    "start_time": "2021-07-19T00:14:11.368Z"
   },
   {
    "duration": 1204,
    "start_time": "2021-07-19T00:14:52.008Z"
   },
   {
    "duration": 301,
    "start_time": "2021-07-19T00:28:17.427Z"
   },
   {
    "duration": 8,
    "start_time": "2021-07-19T00:29:12.472Z"
   },
   {
    "duration": 46,
    "start_time": "2021-07-19T00:31:06.467Z"
   },
   {
    "duration": 142,
    "start_time": "2021-07-19T00:31:38.388Z"
   },
   {
    "duration": 16,
    "start_time": "2021-07-19T00:31:57.392Z"
   },
   {
    "duration": 8,
    "start_time": "2021-07-19T00:32:04.847Z"
   },
   {
    "duration": 136,
    "start_time": "2021-07-19T00:32:06.307Z"
   },
   {
    "duration": 180,
    "start_time": "2021-07-19T00:34:39.016Z"
   },
   {
    "duration": 160,
    "start_time": "2021-07-19T00:34:52.497Z"
   },
   {
    "duration": 91,
    "start_time": "2021-07-19T00:34:58.936Z"
   },
   {
    "duration": 148,
    "start_time": "2021-07-19T00:35:19.187Z"
   },
   {
    "duration": 140,
    "start_time": "2021-07-19T00:35:22.427Z"
   },
   {
    "duration": 145,
    "start_time": "2021-07-19T00:35:30.696Z"
   },
   {
    "duration": 153,
    "start_time": "2021-07-19T00:35:33.187Z"
   },
   {
    "duration": 999,
    "start_time": "2021-07-19T00:35:41.104Z"
   },
   {
    "duration": 25,
    "start_time": "2021-07-19T00:35:42.106Z"
   },
   {
    "duration": 52,
    "start_time": "2021-07-19T00:35:42.134Z"
   },
   {
    "duration": 36,
    "start_time": "2021-07-19T00:35:42.188Z"
   },
   {
    "duration": 177,
    "start_time": "2021-07-19T00:35:42.226Z"
   },
   {
    "duration": 182,
    "start_time": "2021-07-19T00:35:42.405Z"
   },
   {
    "duration": 176,
    "start_time": "2021-07-19T00:35:42.590Z"
   },
   {
    "duration": 200,
    "start_time": "2021-07-19T00:53:24.304Z"
   },
   {
    "duration": 144,
    "start_time": "2021-07-19T00:53:43.224Z"
   },
   {
    "duration": 126,
    "start_time": "2021-07-19T00:53:44.425Z"
   },
   {
    "duration": 938,
    "start_time": "2021-07-19T00:53:51.633Z"
   },
   {
    "duration": 25,
    "start_time": "2021-07-19T00:53:52.574Z"
   },
   {
    "duration": 26,
    "start_time": "2021-07-19T00:53:52.602Z"
   },
   {
    "duration": 55,
    "start_time": "2021-07-19T00:53:52.631Z"
   },
   {
    "duration": 163,
    "start_time": "2021-07-19T00:53:52.689Z"
   },
   {
    "duration": 179,
    "start_time": "2021-07-19T00:53:52.854Z"
   },
   {
    "duration": 168,
    "start_time": "2021-07-19T00:53:53.036Z"
   },
   {
    "duration": 206,
    "start_time": "2021-07-19T00:53:53.207Z"
   },
   {
    "duration": 954,
    "start_time": "2021-07-19T00:54:05.589Z"
   },
   {
    "duration": 42,
    "start_time": "2021-07-19T00:54:06.547Z"
   },
   {
    "duration": 25,
    "start_time": "2021-07-19T00:54:06.592Z"
   },
   {
    "duration": 66,
    "start_time": "2021-07-19T00:54:06.620Z"
   },
   {
    "duration": 160,
    "start_time": "2021-07-19T00:54:06.689Z"
   },
   {
    "duration": 174,
    "start_time": "2021-07-19T00:54:06.853Z"
   },
   {
    "duration": 165,
    "start_time": "2021-07-19T00:54:07.029Z"
   },
   {
    "duration": 212,
    "start_time": "2021-07-19T00:54:07.196Z"
   },
   {
    "duration": 15,
    "start_time": "2021-07-19T00:55:56.988Z"
   },
   {
    "duration": 24,
    "start_time": "2021-07-19T00:57:29.849Z"
   },
   {
    "duration": 140,
    "start_time": "2021-07-19T01:08:57.228Z"
   },
   {
    "duration": 134,
    "start_time": "2021-07-19T01:08:57.508Z"
   },
   {
    "duration": 183,
    "start_time": "2021-07-19T01:09:00.237Z"
   },
   {
    "duration": 8,
    "start_time": "2021-07-19T01:09:06.108Z"
   },
   {
    "duration": 389,
    "start_time": "2021-07-19T01:11:02.529Z"
   },
   {
    "duration": 911,
    "start_time": "2021-07-19T01:11:21.228Z"
   },
   {
    "duration": 1881,
    "start_time": "2021-07-19T01:11:25.448Z"
   },
   {
    "duration": 396,
    "start_time": "2021-07-19T01:15:56.208Z"
   },
   {
    "duration": 325,
    "start_time": "2021-07-19T01:16:16.828Z"
   },
   {
    "duration": 1003,
    "start_time": "2021-07-19T01:16:25.968Z"
   },
   {
    "duration": 203,
    "start_time": "2021-07-19T02:15:38.917Z"
   },
   {
    "duration": 814,
    "start_time": "2021-07-19T02:16:00.549Z"
   },
   {
    "duration": 947,
    "start_time": "2021-07-19T02:16:19.109Z"
   },
   {
    "duration": 923,
    "start_time": "2021-07-19T02:16:45.468Z"
   },
   {
    "duration": 1047,
    "start_time": "2021-07-19T02:17:06.209Z"
   },
   {
    "duration": 521,
    "start_time": "2021-07-19T03:02:31.669Z"
   },
   {
    "duration": 981,
    "start_time": "2021-07-19T03:02:57.416Z"
   },
   {
    "duration": 1059,
    "start_time": "2021-07-19T03:03:05.909Z"
   },
   {
    "duration": 983,
    "start_time": "2021-07-19T03:03:12.207Z"
   },
   {
    "duration": 950,
    "start_time": "2021-07-19T03:03:35.916Z"
   },
   {
    "duration": 854,
    "start_time": "2021-07-19T03:11:59.298Z"
   },
   {
    "duration": 952,
    "start_time": "2021-07-19T03:12:04.408Z"
   },
   {
    "duration": 21,
    "start_time": "2021-07-19T03:12:56.908Z"
   },
   {
    "duration": 2404,
    "start_time": "2021-07-22T00:06:22.971Z"
   },
   {
    "duration": 16,
    "start_time": "2021-07-22T00:06:31.353Z"
   },
   {
    "duration": 20,
    "start_time": "2021-07-22T00:06:38.793Z"
   },
   {
    "duration": 24,
    "start_time": "2021-07-22T00:06:48.033Z"
   },
   {
    "duration": 98,
    "start_time": "2021-07-22T00:06:51.121Z"
   },
   {
    "duration": 104,
    "start_time": "2021-07-22T00:06:53.164Z"
   },
   {
    "duration": 123,
    "start_time": "2021-07-22T00:06:54.672Z"
   },
   {
    "duration": 16,
    "start_time": "2021-07-22T00:14:09.612Z"
   },
   {
    "duration": 19,
    "start_time": "2021-07-22T00:17:36.872Z"
   },
   {
    "duration": 5,
    "start_time": "2021-07-22T00:21:53.513Z"
   },
   {
    "duration": 6,
    "start_time": "2021-07-22T00:23:16.912Z"
   },
   {
    "duration": 83,
    "start_time": "2021-07-22T00:36:31.453Z"
   },
   {
    "duration": 84,
    "start_time": "2021-07-22T00:36:32.085Z"
   },
   {
    "duration": 117,
    "start_time": "2021-07-22T00:36:35.026Z"
   },
   {
    "duration": 17,
    "start_time": "2021-07-22T00:36:40.313Z"
   },
   {
    "duration": 659,
    "start_time": "2021-07-22T00:36:45.681Z"
   },
   {
    "duration": 638,
    "start_time": "2021-07-22T00:39:39.654Z"
   },
   {
    "duration": 611,
    "start_time": "2021-07-22T00:39:50.773Z"
   },
   {
    "duration": 693,
    "start_time": "2021-07-22T00:42:23.614Z"
   },
   {
    "duration": 641,
    "start_time": "2021-07-22T00:43:41.674Z"
   },
   {
    "duration": 637,
    "start_time": "2021-07-22T00:43:53.554Z"
   },
   {
    "duration": 649,
    "start_time": "2021-07-22T00:44:04.834Z"
   },
   {
    "duration": 659,
    "start_time": "2021-07-22T00:45:53.932Z"
   },
   {
    "duration": 382,
    "start_time": "2021-07-22T00:49:12.057Z"
   },
   {
    "duration": 345,
    "start_time": "2021-07-22T00:49:24.117Z"
   },
   {
    "duration": 301,
    "start_time": "2021-07-22T00:49:55.977Z"
   },
   {
    "duration": 1715,
    "start_time": "2021-07-22T00:50:06.074Z"
   },
   {
    "duration": 23,
    "start_time": "2021-07-22T00:50:07.792Z"
   },
   {
    "duration": 51,
    "start_time": "2021-07-22T00:50:07.818Z"
   },
   {
    "duration": 28,
    "start_time": "2021-07-22T00:50:07.873Z"
   },
   {
    "duration": 29,
    "start_time": "2021-07-22T00:50:07.904Z"
   },
   {
    "duration": 59,
    "start_time": "2021-07-22T00:50:07.935Z"
   },
   {
    "duration": 174,
    "start_time": "2021-07-22T00:50:07.997Z"
   },
   {
    "duration": 7,
    "start_time": "2021-07-22T00:50:08.173Z"
   },
   {
    "duration": 188,
    "start_time": "2021-07-22T00:50:08.184Z"
   },
   {
    "duration": 173,
    "start_time": "2021-07-22T00:50:08.375Z"
   },
   {
    "duration": 224,
    "start_time": "2021-07-22T00:50:08.550Z"
   },
   {
    "duration": 27,
    "start_time": "2021-07-22T00:50:08.776Z"
   },
   {
    "duration": 680,
    "start_time": "2021-07-22T00:50:08.805Z"
   },
   {
    "duration": -3151,
    "start_time": "2021-07-22T00:50:12.639Z"
   },
   {
    "duration": -3159,
    "start_time": "2021-07-22T00:50:12.648Z"
   },
   {
    "duration": 547,
    "start_time": "2021-07-22T00:51:11.153Z"
   },
   {
    "duration": 589,
    "start_time": "2021-07-22T00:51:32.774Z"
   },
   {
    "duration": 1019,
    "start_time": "2021-07-22T00:52:12.444Z"
   },
   {
    "duration": 1506,
    "start_time": "2021-07-22T00:52:49.623Z"
   },
   {
    "duration": 1803,
    "start_time": "2021-07-22T00:53:01.933Z"
   },
   {
    "duration": 1070,
    "start_time": "2021-07-22T00:53:22.694Z"
   },
   {
    "duration": 1740,
    "start_time": "2021-07-22T00:53:41.137Z"
   },
   {
    "duration": 1747,
    "start_time": "2021-07-22T00:54:03.433Z"
   },
   {
    "duration": 1489,
    "start_time": "2021-07-22T00:54:16.942Z"
   },
   {
    "duration": 1389,
    "start_time": "2021-07-22T00:54:30.673Z"
   },
   {
    "duration": 1373,
    "start_time": "2021-07-22T00:54:42.541Z"
   },
   {
    "duration": 1312,
    "start_time": "2021-07-22T00:54:51.863Z"
   },
   {
    "duration": 1496,
    "start_time": "2021-07-22T00:54:58.094Z"
   },
   {
    "duration": 1447,
    "start_time": "2021-07-22T00:55:04.373Z"
   },
   {
    "duration": 1371,
    "start_time": "2021-07-22T00:55:12.894Z"
   },
   {
    "duration": 1535,
    "start_time": "2021-07-22T00:55:17.234Z"
   },
   {
    "duration": 1273,
    "start_time": "2021-07-22T00:56:13.933Z"
   },
   {
    "duration": 1470,
    "start_time": "2021-07-22T00:56:20.098Z"
   },
   {
    "duration": 1436,
    "start_time": "2021-07-22T00:56:29.961Z"
   },
   {
    "duration": 1412,
    "start_time": "2021-07-22T00:57:21.053Z"
   },
   {
    "duration": 1495,
    "start_time": "2021-07-22T00:57:39.454Z"
   },
   {
    "duration": 1423,
    "start_time": "2021-07-22T00:57:47.654Z"
   },
   {
    "duration": 1394,
    "start_time": "2021-07-22T00:57:57.653Z"
   },
   {
    "duration": 1353,
    "start_time": "2021-07-22T00:58:03.812Z"
   },
   {
    "duration": 1504,
    "start_time": "2021-07-22T00:58:17.773Z"
   },
   {
    "duration": 1309,
    "start_time": "2021-07-22T00:58:21.333Z"
   },
   {
    "duration": 1471,
    "start_time": "2021-07-22T00:58:25.153Z"
   },
   {
    "duration": 16,
    "start_time": "2021-07-22T01:12:08.453Z"
   },
   {
    "duration": 128,
    "start_time": "2021-07-22T01:12:19.372Z"
   },
   {
    "duration": 393,
    "start_time": "2021-07-22T01:13:38.773Z"
   },
   {
    "duration": 61,
    "start_time": "2021-07-22T01:13:44.413Z"
   },
   {
    "duration": 726,
    "start_time": "2021-07-22T01:14:54.973Z"
   },
   {
    "duration": 381,
    "start_time": "2021-07-22T01:15:04.094Z"
   },
   {
    "duration": 378,
    "start_time": "2021-07-22T01:15:12.613Z"
   },
   {
    "duration": 375,
    "start_time": "2021-07-22T01:16:52.934Z"
   },
   {
    "duration": 471,
    "start_time": "2021-07-22T01:17:01.973Z"
   },
   {
    "duration": 357,
    "start_time": "2021-07-22T02:27:53.371Z"
   },
   {
    "duration": 1690,
    "start_time": "2021-07-22T02:31:18.192Z"
   },
   {
    "duration": 28,
    "start_time": "2021-07-22T02:31:19.885Z"
   },
   {
    "duration": 57,
    "start_time": "2021-07-22T02:31:19.917Z"
   },
   {
    "duration": 32,
    "start_time": "2021-07-22T02:31:19.977Z"
   },
   {
    "duration": 60,
    "start_time": "2021-07-22T02:31:20.012Z"
   },
   {
    "duration": 37,
    "start_time": "2021-07-22T02:31:20.076Z"
   },
   {
    "duration": 184,
    "start_time": "2021-07-22T02:31:20.116Z"
   },
   {
    "duration": 7,
    "start_time": "2021-07-22T02:31:20.303Z"
   },
   {
    "duration": 191,
    "start_time": "2021-07-22T02:31:20.314Z"
   },
   {
    "duration": 177,
    "start_time": "2021-07-22T02:31:20.508Z"
   },
   {
    "duration": 216,
    "start_time": "2021-07-22T02:31:20.688Z"
   },
   {
    "duration": 26,
    "start_time": "2021-07-22T02:31:20.906Z"
   },
   {
    "duration": 1252,
    "start_time": "2021-07-22T02:31:20.934Z"
   },
   {
    "duration": 1377,
    "start_time": "2021-07-22T02:31:22.189Z"
   },
   {
    "duration": 1536,
    "start_time": "2021-07-22T02:31:23.568Z"
   },
   {
    "duration": 81,
    "start_time": "2021-07-22T02:31:25.107Z"
   },
   {
    "duration": 406,
    "start_time": "2021-07-22T02:31:25.191Z"
   },
   {
    "duration": 15030,
    "start_time": "2021-07-22T02:31:25.599Z"
   },
   {
    "duration": 645,
    "start_time": "2021-07-22T02:32:13.191Z"
   },
   {
    "duration": 14722,
    "start_time": "2021-07-22T02:32:31.220Z"
   },
   {
    "duration": 2286,
    "start_time": "2021-07-22T03:10:13.620Z"
   },
   {
    "duration": 35,
    "start_time": "2021-07-22T03:10:15.909Z"
   },
   {
    "duration": 28,
    "start_time": "2021-07-22T03:10:15.964Z"
   },
   {
    "duration": 29,
    "start_time": "2021-07-22T03:10:15.995Z"
   },
   {
    "duration": 58,
    "start_time": "2021-07-22T03:10:16.027Z"
   },
   {
    "duration": 33,
    "start_time": "2021-07-22T03:10:16.088Z"
   },
   {
    "duration": 198,
    "start_time": "2021-07-22T03:10:16.124Z"
   },
   {
    "duration": 7,
    "start_time": "2021-07-22T03:10:16.325Z"
   },
   {
    "duration": 193,
    "start_time": "2021-07-22T03:10:16.336Z"
   },
   {
    "duration": 175,
    "start_time": "2021-07-22T03:10:16.532Z"
   },
   {
    "duration": 216,
    "start_time": "2021-07-22T03:10:16.709Z"
   },
   {
    "duration": 35,
    "start_time": "2021-07-22T03:10:16.927Z"
   },
   {
    "duration": 1201,
    "start_time": "2021-07-22T03:10:16.964Z"
   },
   {
    "duration": 1374,
    "start_time": "2021-07-22T03:10:18.168Z"
   },
   {
    "duration": 1530,
    "start_time": "2021-07-22T03:10:19.545Z"
   },
   {
    "duration": 85,
    "start_time": "2021-07-22T03:10:21.078Z"
   },
   {
    "duration": 411,
    "start_time": "2021-07-22T03:10:21.166Z"
   },
   {
    "duration": 14255,
    "start_time": "2021-07-22T03:10:21.580Z"
   },
   {
    "duration": 445,
    "start_time": "2021-07-22T03:10:35.838Z"
   },
   {
    "duration": 34,
    "start_time": "2021-07-22T03:13:28.516Z"
   },
   {
    "duration": 1250,
    "start_time": "2021-07-22T03:13:54.377Z"
   },
   {
    "duration": 1237,
    "start_time": "2021-07-22T03:14:06.895Z"
   },
   {
    "duration": 1213,
    "start_time": "2021-07-22T03:14:47.738Z"
   },
   {
    "duration": 1896,
    "start_time": "2021-07-22T03:32:44.495Z"
   },
   {
    "duration": 267,
    "start_time": "2021-07-23T03:22:53.921Z"
   },
   {
    "duration": 462,
    "start_time": "2021-07-23T03:35:22.300Z"
   },
   {
    "duration": 385,
    "start_time": "2021-07-23T03:35:25.053Z"
   },
   {
    "duration": 1814,
    "start_time": "2021-07-23T03:35:32.962Z"
   },
   {
    "duration": 26,
    "start_time": "2021-07-23T03:35:34.779Z"
   },
   {
    "duration": 27,
    "start_time": "2021-07-23T03:35:34.808Z"
   },
   {
    "duration": 55,
    "start_time": "2021-07-23T03:35:34.838Z"
   },
   {
    "duration": 32,
    "start_time": "2021-07-23T03:35:34.895Z"
   },
   {
    "duration": 59,
    "start_time": "2021-07-23T03:35:34.930Z"
   },
   {
    "duration": 175,
    "start_time": "2021-07-23T03:35:34.991Z"
   },
   {
    "duration": 8,
    "start_time": "2021-07-23T03:35:35.168Z"
   },
   {
    "duration": 181,
    "start_time": "2021-07-23T03:35:35.179Z"
   },
   {
    "duration": 174,
    "start_time": "2021-07-23T03:35:35.366Z"
   },
   {
    "duration": 219,
    "start_time": "2021-07-23T03:35:35.542Z"
   },
   {
    "duration": 30,
    "start_time": "2021-07-23T03:35:35.766Z"
   },
   {
    "duration": 1246,
    "start_time": "2021-07-23T03:35:35.799Z"
   },
   {
    "duration": 1354,
    "start_time": "2021-07-23T03:35:37.048Z"
   },
   {
    "duration": 560,
    "start_time": "2021-07-23T03:35:38.404Z"
   },
   {
    "duration": -528,
    "start_time": "2021-07-23T03:35:39.494Z"
   },
   {
    "duration": -533,
    "start_time": "2021-07-23T03:35:39.501Z"
   },
   {
    "duration": -537,
    "start_time": "2021-07-23T03:35:39.506Z"
   },
   {
    "duration": -540,
    "start_time": "2021-07-23T03:35:39.511Z"
   },
   {
    "duration": -543,
    "start_time": "2021-07-23T03:35:39.515Z"
   },
   {
    "duration": 1128,
    "start_time": "2021-07-23T03:37:28.014Z"
   },
   {
    "duration": 1505,
    "start_time": "2021-07-23T03:38:00.152Z"
   },
   {
    "duration": 2056,
    "start_time": "2021-07-23T03:38:22.374Z"
   },
   {
    "duration": 1436,
    "start_time": "2021-07-23T03:38:33.135Z"
   },
   {
    "duration": 1595,
    "start_time": "2021-07-23T03:38:45.034Z"
   },
   {
    "duration": 1320,
    "start_time": "2021-07-23T03:39:38.654Z"
   },
   {
    "duration": 371,
    "start_time": "2021-07-23T03:40:21.483Z"
   },
   {
    "duration": 390,
    "start_time": "2021-07-23T03:40:28.890Z"
   },
   {
    "duration": 58,
    "start_time": "2021-07-23T03:40:33.034Z"
   },
   {
    "duration": 1498,
    "start_time": "2021-07-23T03:40:36.843Z"
   },
   {
    "duration": 56,
    "start_time": "2021-07-23T03:40:59.913Z"
   },
   {
    "duration": 387,
    "start_time": "2021-07-23T03:41:07.414Z"
   },
   {
    "duration": 15574,
    "start_time": "2021-07-23T03:41:16.713Z"
   },
   {
    "duration": 1734,
    "start_time": "2021-07-23T03:41:52.843Z"
   },
   {
    "duration": 24,
    "start_time": "2021-07-23T03:41:54.580Z"
   },
   {
    "duration": 28,
    "start_time": "2021-07-23T03:41:54.607Z"
   },
   {
    "duration": 54,
    "start_time": "2021-07-23T03:41:54.638Z"
   },
   {
    "duration": 29,
    "start_time": "2021-07-23T03:41:54.695Z"
   },
   {
    "duration": 58,
    "start_time": "2021-07-23T03:41:54.727Z"
   },
   {
    "duration": 187,
    "start_time": "2021-07-23T03:41:54.788Z"
   },
   {
    "duration": 7,
    "start_time": "2021-07-23T03:41:54.978Z"
   },
   {
    "duration": 170,
    "start_time": "2021-07-23T03:41:54.988Z"
   },
   {
    "duration": 169,
    "start_time": "2021-07-23T03:41:55.160Z"
   },
   {
    "duration": 204,
    "start_time": "2021-07-23T03:41:55.332Z"
   },
   {
    "duration": 42,
    "start_time": "2021-07-23T03:41:55.539Z"
   },
   {
    "duration": 1394,
    "start_time": "2021-07-23T03:41:55.583Z"
   },
   {
    "duration": 1378,
    "start_time": "2021-07-23T03:41:56.979Z"
   },
   {
    "duration": 53,
    "start_time": "2021-07-23T03:41:58.368Z"
   },
   {
    "duration": 1576,
    "start_time": "2021-07-23T03:41:58.423Z"
   },
   {
    "duration": 66,
    "start_time": "2021-07-23T03:42:00.001Z"
   },
   {
    "duration": 398,
    "start_time": "2021-07-23T03:42:00.070Z"
   },
   {
    "duration": 15196,
    "start_time": "2021-07-23T03:42:00.471Z"
   },
   {
    "duration": 1768,
    "start_time": "2021-07-23T03:42:15.669Z"
   },
   {
    "duration": 8,
    "start_time": "2021-07-23T03:45:18.195Z"
   },
   {
    "duration": 8,
    "start_time": "2021-07-23T03:45:23.363Z"
   },
   {
    "duration": 123,
    "start_time": "2021-07-23T03:45:48.854Z"
   },
   {
    "duration": 113,
    "start_time": "2021-07-23T03:46:27.735Z"
   },
   {
    "duration": 1508,
    "start_time": "2021-07-23T03:46:42.263Z"
   },
   {
    "duration": 1244,
    "start_time": "2021-07-23T03:46:50.684Z"
   },
   {
    "duration": 52,
    "start_time": "2021-07-23T03:46:58.075Z"
   },
   {
    "duration": 1518,
    "start_time": "2021-07-23T03:47:00.654Z"
   },
   {
    "duration": 384,
    "start_time": "2021-07-23T03:47:06.684Z"
   },
   {
    "duration": 13951,
    "start_time": "2021-07-23T03:47:12.383Z"
   },
   {
    "duration": 1764,
    "start_time": "2021-07-23T03:47:26.336Z"
   },
   {
    "duration": 1795,
    "start_time": "2021-07-23T03:47:47.160Z"
   },
   {
    "duration": 26,
    "start_time": "2021-07-23T03:47:48.958Z"
   },
   {
    "duration": 29,
    "start_time": "2021-07-23T03:47:48.987Z"
   },
   {
    "duration": 53,
    "start_time": "2021-07-23T03:47:49.019Z"
   },
   {
    "duration": 31,
    "start_time": "2021-07-23T03:47:49.075Z"
   },
   {
    "duration": 67,
    "start_time": "2021-07-23T03:47:49.108Z"
   },
   {
    "duration": 169,
    "start_time": "2021-07-23T03:47:49.177Z"
   },
   {
    "duration": 7,
    "start_time": "2021-07-23T03:47:49.348Z"
   },
   {
    "duration": 189,
    "start_time": "2021-07-23T03:47:49.369Z"
   },
   {
    "duration": 180,
    "start_time": "2021-07-23T03:47:49.561Z"
   },
   {
    "duration": 225,
    "start_time": "2021-07-23T03:47:49.743Z"
   },
   {
    "duration": 154,
    "start_time": "2021-07-23T03:47:49.970Z"
   },
   {
    "duration": 1236,
    "start_time": "2021-07-23T03:47:50.127Z"
   },
   {
    "duration": 1395,
    "start_time": "2021-07-23T03:47:51.367Z"
   },
   {
    "duration": 3,
    "start_time": "2021-07-23T03:47:52.768Z"
   },
   {
    "duration": 1586,
    "start_time": "2021-07-23T03:47:52.774Z"
   },
   {
    "duration": 60,
    "start_time": "2021-07-23T03:47:54.366Z"
   },
   {
    "duration": 399,
    "start_time": "2021-07-23T03:47:54.428Z"
   },
   {
    "duration": 15110,
    "start_time": "2021-07-23T03:47:54.829Z"
   },
   {
    "duration": 1802,
    "start_time": "2021-07-23T03:48:09.941Z"
   },
   {
    "duration": 55,
    "start_time": "2021-07-23T03:50:51.251Z"
   },
   {
    "duration": 1416,
    "start_time": "2021-07-23T03:50:53.160Z"
   },
   {
    "duration": 474,
    "start_time": "2021-07-23T03:51:10.712Z"
   },
   {
    "duration": 15007,
    "start_time": "2021-07-23T03:51:15.450Z"
   },
   {
    "duration": 78,
    "start_time": "2021-07-23T03:51:40.091Z"
   },
   {
    "duration": 1732,
    "start_time": "2021-07-23T03:55:36.167Z"
   },
   {
    "duration": 24,
    "start_time": "2021-07-23T03:55:37.901Z"
   },
   {
    "duration": 49,
    "start_time": "2021-07-23T03:55:37.928Z"
   },
   {
    "duration": 28,
    "start_time": "2021-07-23T03:55:37.980Z"
   },
   {
    "duration": 30,
    "start_time": "2021-07-23T03:55:38.010Z"
   },
   {
    "duration": 55,
    "start_time": "2021-07-23T03:55:38.042Z"
   },
   {
    "duration": 177,
    "start_time": "2021-07-23T03:55:38.100Z"
   },
   {
    "duration": 7,
    "start_time": "2021-07-23T03:55:38.280Z"
   },
   {
    "duration": 188,
    "start_time": "2021-07-23T03:55:38.291Z"
   },
   {
    "duration": 172,
    "start_time": "2021-07-23T03:55:38.482Z"
   },
   {
    "duration": 221,
    "start_time": "2021-07-23T03:55:38.656Z"
   },
   {
    "duration": 146,
    "start_time": "2021-07-23T03:55:38.879Z"
   },
   {
    "duration": 1243,
    "start_time": "2021-07-23T03:55:39.027Z"
   },
   {
    "duration": 73,
    "start_time": "2021-07-23T03:55:40.272Z"
   },
   {
    "duration": 1406,
    "start_time": "2021-07-23T03:55:40.347Z"
   },
   {
    "duration": 12,
    "start_time": "2021-07-23T03:55:41.755Z"
   },
   {
    "duration": 1491,
    "start_time": "2021-07-23T03:55:41.769Z"
   },
   {
    "duration": 51,
    "start_time": "2021-07-23T03:55:43.262Z"
   },
   {
    "duration": 409,
    "start_time": "2021-07-23T03:55:43.316Z"
   },
   {
    "duration": 14794,
    "start_time": "2021-07-23T03:55:43.728Z"
   },
   {
    "duration": 1556,
    "start_time": "2021-07-23T03:55:58.524Z"
   },
   {
    "duration": 9347,
    "start_time": "2021-07-23T04:21:18.737Z"
   },
   {
    "duration": 1743,
    "start_time": "2021-07-23T04:21:32.752Z"
   },
   {
    "duration": 23,
    "start_time": "2021-07-23T04:21:34.497Z"
   },
   {
    "duration": 48,
    "start_time": "2021-07-23T04:21:34.523Z"
   },
   {
    "duration": 28,
    "start_time": "2021-07-23T04:21:34.574Z"
   },
   {
    "duration": 29,
    "start_time": "2021-07-23T04:21:34.605Z"
   },
   {
    "duration": 58,
    "start_time": "2021-07-23T04:21:34.636Z"
   },
   {
    "duration": 172,
    "start_time": "2021-07-23T04:21:34.696Z"
   },
   {
    "duration": 7,
    "start_time": "2021-07-23T04:21:34.872Z"
   },
   {
    "duration": 504,
    "start_time": "2021-07-23T04:21:34.882Z"
   },
   {
    "duration": -528,
    "start_time": "2021-07-23T04:21:35.916Z"
   },
   {
    "duration": -533,
    "start_time": "2021-07-23T04:21:35.922Z"
   },
   {
    "duration": -537,
    "start_time": "2021-07-23T04:21:35.928Z"
   },
   {
    "duration": -542,
    "start_time": "2021-07-23T04:21:35.934Z"
   },
   {
    "duration": -546,
    "start_time": "2021-07-23T04:21:35.940Z"
   },
   {
    "duration": -549,
    "start_time": "2021-07-23T04:21:35.944Z"
   },
   {
    "duration": -554,
    "start_time": "2021-07-23T04:21:35.950Z"
   },
   {
    "duration": -557,
    "start_time": "2021-07-23T04:21:35.955Z"
   },
   {
    "duration": -562,
    "start_time": "2021-07-23T04:21:35.961Z"
   },
   {
    "duration": -566,
    "start_time": "2021-07-23T04:21:35.966Z"
   },
   {
    "duration": -569,
    "start_time": "2021-07-23T04:21:35.971Z"
   },
   {
    "duration": -572,
    "start_time": "2021-07-23T04:21:35.976Z"
   },
   {
    "duration": -577,
    "start_time": "2021-07-23T04:21:35.982Z"
   },
   {
    "duration": 9312,
    "start_time": "2021-07-23T04:23:44.772Z"
   },
   {
    "duration": 228,
    "start_time": "2021-07-23T04:24:55.791Z"
   },
   {
    "duration": 26,
    "start_time": "2021-07-23T04:24:57.561Z"
   },
   {
    "duration": 22,
    "start_time": "2021-07-23T04:24:59.049Z"
   },
   {
    "duration": 420,
    "start_time": "2021-07-23T04:25:08.452Z"
   },
   {
    "duration": 6,
    "start_time": "2021-07-23T04:25:14.811Z"
   },
   {
    "duration": 6,
    "start_time": "2021-07-23T04:25:31.631Z"
   },
   {
    "duration": 431,
    "start_time": "2021-07-23T04:25:37.512Z"
   },
   {
    "duration": 5,
    "start_time": "2021-07-23T04:26:07.593Z"
   },
   {
    "duration": 1690,
    "start_time": "2021-07-23T07:14:09.594Z"
   },
   {
    "duration": 23,
    "start_time": "2021-07-23T07:14:11.286Z"
   },
   {
    "duration": 59,
    "start_time": "2021-07-23T07:14:11.313Z"
   },
   {
    "duration": 31,
    "start_time": "2021-07-23T07:14:11.376Z"
   },
   {
    "duration": 57,
    "start_time": "2021-07-23T07:14:11.410Z"
   },
   {
    "duration": 35,
    "start_time": "2021-07-23T07:14:11.470Z"
   },
   {
    "duration": 177,
    "start_time": "2021-07-23T07:14:11.507Z"
   },
   {
    "duration": 9,
    "start_time": "2021-07-23T07:14:11.686Z"
   },
   {
    "duration": 7,
    "start_time": "2021-07-23T07:14:11.699Z"
   },
   {
    "duration": 128,
    "start_time": "2021-07-23T07:14:11.708Z"
   },
   {
    "duration": -452,
    "start_time": "2021-07-23T07:14:12.291Z"
   },
   {
    "duration": -453,
    "start_time": "2021-07-23T07:14:12.293Z"
   },
   {
    "duration": -455,
    "start_time": "2021-07-23T07:14:12.296Z"
   },
   {
    "duration": -455,
    "start_time": "2021-07-23T07:14:12.298Z"
   },
   {
    "duration": -457,
    "start_time": "2021-07-23T07:14:12.301Z"
   },
   {
    "duration": -458,
    "start_time": "2021-07-23T07:14:12.303Z"
   },
   {
    "duration": -458,
    "start_time": "2021-07-23T07:14:12.304Z"
   },
   {
    "duration": -458,
    "start_time": "2021-07-23T07:14:12.305Z"
   },
   {
    "duration": -458,
    "start_time": "2021-07-23T07:14:12.307Z"
   },
   {
    "duration": -461,
    "start_time": "2021-07-23T07:14:12.311Z"
   },
   {
    "duration": -462,
    "start_time": "2021-07-23T07:14:12.313Z"
   },
   {
    "duration": -462,
    "start_time": "2021-07-23T07:14:12.315Z"
   },
   {
    "duration": -463,
    "start_time": "2021-07-23T07:14:12.317Z"
   },
   {
    "duration": 541,
    "start_time": "2021-07-23T07:18:03.745Z"
   },
   {
    "duration": 461,
    "start_time": "2021-07-23T07:19:00.489Z"
   },
   {
    "duration": 1763,
    "start_time": "2021-07-23T07:19:33.965Z"
   },
   {
    "duration": 9681,
    "start_time": "2021-07-23T07:19:50.172Z"
   },
   {
    "duration": 2469,
    "start_time": "2021-07-23T07:20:11.625Z"
   },
   {
    "duration": 7,
    "start_time": "2021-07-23T07:22:49.044Z"
   },
   {
    "duration": 8,
    "start_time": "2021-07-23T07:23:11.224Z"
   },
   {
    "duration": 13300,
    "start_time": "2021-07-23T07:26:56.215Z"
   },
   {
    "duration": 8,
    "start_time": "2021-07-23T07:27:12.165Z"
   },
   {
    "duration": 17,
    "start_time": "2021-07-23T07:27:56.604Z"
   },
   {
    "duration": 49,
    "start_time": "2021-07-23T07:29:54.638Z"
   },
   {
    "duration": 77,
    "start_time": "2021-07-23T07:29:54.690Z"
   },
   {
    "duration": 63,
    "start_time": "2021-07-23T07:30:05.865Z"
   },
   {
    "duration": 7129,
    "start_time": "2021-07-23T07:30:07.445Z"
   },
   {
    "duration": 1028,
    "start_time": "2021-07-23T07:30:21.013Z"
   },
   {
    "duration": 26,
    "start_time": "2021-07-23T07:30:30.665Z"
   },
   {
    "duration": 1161,
    "start_time": "2021-07-23T07:30:33.701Z"
   },
   {
    "duration": 3,
    "start_time": "2021-07-23T07:30:42.710Z"
   },
   {
    "duration": 1256,
    "start_time": "2021-07-23T07:30:43.804Z"
   },
   {
    "duration": 19,
    "start_time": "2021-07-23T07:52:11.576Z"
   },
   {
    "duration": 384,
    "start_time": "2021-07-23T07:52:13.194Z"
   },
   {
    "duration": 3289,
    "start_time": "2021-07-23T07:52:19.526Z"
   },
   {
    "duration": 1476,
    "start_time": "2021-07-23T07:52:27.798Z"
   },
   {
    "duration": 1144,
    "start_time": "2021-07-23T09:41:30.146Z"
   },
   {
    "duration": 28,
    "start_time": "2021-07-23T09:43:59.476Z"
   },
   {
    "duration": 464,
    "start_time": "2021-07-23T09:46:46.997Z"
   },
   {
    "duration": 25,
    "start_time": "2021-07-23T09:46:57.125Z"
   },
   {
    "duration": 98,
    "start_time": "2021-07-23T10:08:13.132Z"
   },
   {
    "duration": 309,
    "start_time": "2021-07-23T10:08:20.692Z"
   },
   {
    "duration": 2303,
    "start_time": "2021-07-23T10:08:55.572Z"
   },
   {
    "duration": 1351,
    "start_time": "2021-07-23T10:09:31.673Z"
   },
   {
    "duration": 1165,
    "start_time": "2021-07-23T10:09:54.394Z"
   },
   {
    "duration": 2266,
    "start_time": "2021-07-23T10:10:02.761Z"
   },
   {
    "duration": 1245,
    "start_time": "2021-07-23T10:10:19.741Z"
   },
   {
    "duration": 1342,
    "start_time": "2021-07-23T10:10:26.378Z"
   },
   {
    "duration": 1151,
    "start_time": "2021-07-23T10:10:38.194Z"
   },
   {
    "duration": 1366,
    "start_time": "2021-07-23T10:10:44.781Z"
   },
   {
    "duration": 1284,
    "start_time": "2021-07-23T10:10:51.293Z"
   },
   {
    "duration": 2423,
    "start_time": "2021-07-23T10:10:59.741Z"
   },
   {
    "duration": 3522,
    "start_time": "2021-07-23T10:14:09.612Z"
   },
   {
    "duration": 512,
    "start_time": "2021-07-23T10:14:34.032Z"
   },
   {
    "duration": 2356,
    "start_time": "2021-07-23T10:16:15.393Z"
   },
   {
    "duration": 2464,
    "start_time": "2021-07-23T10:16:22.193Z"
   },
   {
    "duration": 1180,
    "start_time": "2021-07-23T10:16:47.172Z"
   },
   {
    "duration": 1136,
    "start_time": "2021-07-23T10:16:49.932Z"
   },
   {
    "duration": 2092,
    "start_time": "2021-07-23T13:09:48.994Z"
   },
   {
    "duration": 29,
    "start_time": "2021-07-23T13:09:51.089Z"
   },
   {
    "duration": 88,
    "start_time": "2021-07-23T13:09:51.121Z"
   },
   {
    "duration": 28,
    "start_time": "2021-07-23T13:09:51.212Z"
   },
   {
    "duration": 54,
    "start_time": "2021-07-23T13:09:51.242Z"
   },
   {
    "duration": 34,
    "start_time": "2021-07-23T13:09:51.298Z"
   },
   {
    "duration": 310,
    "start_time": "2021-07-23T13:09:51.334Z"
   },
   {
    "duration": 13,
    "start_time": "2021-07-23T13:09:51.647Z"
   },
   {
    "duration": 12,
    "start_time": "2021-07-23T13:09:51.667Z"
   },
   {
    "duration": 16891,
    "start_time": "2021-07-23T13:09:51.684Z"
   },
   {
    "duration": 25,
    "start_time": "2021-07-23T13:10:08.578Z"
   },
   {
    "duration": 85,
    "start_time": "2021-07-23T13:10:08.605Z"
   },
   {
    "duration": 53,
    "start_time": "2021-07-23T13:10:08.694Z"
   },
   {
    "duration": 87,
    "start_time": "2021-07-23T13:10:08.761Z"
   },
   {
    "duration": 78,
    "start_time": "2021-07-23T13:10:08.859Z"
   },
   {
    "duration": 1378,
    "start_time": "2021-07-23T13:10:08.940Z"
   },
   {
    "duration": 59,
    "start_time": "2021-07-23T13:10:10.321Z"
   },
   {
    "duration": 1423,
    "start_time": "2021-07-23T13:10:10.382Z"
   },
   {
    "duration": 3,
    "start_time": "2021-07-23T13:10:11.809Z"
   },
   {
    "duration": 2057,
    "start_time": "2021-07-23T13:10:11.815Z"
   },
   {
    "duration": 27,
    "start_time": "2021-07-23T13:10:13.876Z"
   },
   {
    "duration": 491,
    "start_time": "2021-07-23T13:10:13.905Z"
   },
   {
    "duration": 3934,
    "start_time": "2021-07-23T13:10:14.400Z"
   },
   {
    "duration": 1792,
    "start_time": "2021-07-23T13:10:18.337Z"
   },
   {
    "duration": 580,
    "start_time": "2021-07-23T13:10:20.132Z"
   },
   {
    "duration": 41,
    "start_time": "2021-07-23T13:10:20.714Z"
   },
   {
    "duration": 1341,
    "start_time": "2021-07-23T13:10:20.761Z"
   },
   {
    "duration": 1383,
    "start_time": "2021-07-23T13:10:22.105Z"
   },
   {
    "duration": 8,
    "start_time": "2021-07-23T13:10:51.211Z"
   },
   {
    "duration": 8,
    "start_time": "2021-07-23T13:11:07.150Z"
   },
   {
    "duration": 8994,
    "start_time": "2021-07-23T13:13:06.091Z"
   },
   {
    "duration": 7309,
    "start_time": "2021-07-23T13:13:46.291Z"
   },
   {
    "duration": 28,
    "start_time": "2021-07-23T13:13:55.910Z"
   },
   {
    "duration": 5984,
    "start_time": "2021-07-23T13:14:38.903Z"
   },
   {
    "duration": 14,
    "start_time": "2021-07-23T13:14:46.611Z"
   },
   {
    "duration": 174,
    "start_time": "2021-07-23T13:14:55.831Z"
   },
   {
    "duration": 7,
    "start_time": "2021-07-23T13:15:20.123Z"
   },
   {
    "duration": 6,
    "start_time": "2021-07-23T13:15:33.263Z"
   },
   {
    "duration": 1770,
    "start_time": "2021-07-23T13:15:45.829Z"
   },
   {
    "duration": 26,
    "start_time": "2021-07-23T13:15:47.602Z"
   },
   {
    "duration": 50,
    "start_time": "2021-07-23T13:15:47.631Z"
   },
   {
    "duration": 28,
    "start_time": "2021-07-23T13:15:47.684Z"
   },
   {
    "duration": 58,
    "start_time": "2021-07-23T13:15:47.714Z"
   },
   {
    "duration": 34,
    "start_time": "2021-07-23T13:15:47.774Z"
   },
   {
    "duration": 189,
    "start_time": "2021-07-23T13:15:47.811Z"
   },
   {
    "duration": 8,
    "start_time": "2021-07-23T13:15:48.004Z"
   },
   {
    "duration": 7,
    "start_time": "2021-07-23T13:15:48.015Z"
   },
   {
    "duration": 14339,
    "start_time": "2021-07-23T13:15:48.025Z"
   },
   {
    "duration": 16,
    "start_time": "2021-07-23T13:16:02.370Z"
   },
   {
    "duration": 65,
    "start_time": "2021-07-23T13:16:02.389Z"
   },
   {
    "duration": 52,
    "start_time": "2021-07-23T13:16:02.458Z"
   },
   {
    "duration": 96,
    "start_time": "2021-07-23T13:16:02.512Z"
   },
   {
    "duration": 76,
    "start_time": "2021-07-23T13:16:02.610Z"
   },
   {
    "duration": 1183,
    "start_time": "2021-07-23T13:16:02.688Z"
   },
   {
    "duration": 36,
    "start_time": "2021-07-23T13:16:03.874Z"
   },
   {
    "duration": 1548,
    "start_time": "2021-07-23T13:16:03.913Z"
   },
   {
    "duration": 5,
    "start_time": "2021-07-23T13:16:05.464Z"
   },
   {
    "duration": 1484,
    "start_time": "2021-07-23T13:16:05.473Z"
   },
   {
    "duration": 21,
    "start_time": "2021-07-23T13:16:06.961Z"
   },
   {
    "duration": 425,
    "start_time": "2021-07-23T13:16:06.986Z"
   },
   {
    "duration": 3724,
    "start_time": "2021-07-23T13:16:07.415Z"
   },
   {
    "duration": 1704,
    "start_time": "2021-07-23T13:16:11.142Z"
   },
   {
    "duration": 570,
    "start_time": "2021-07-23T13:16:12.853Z"
   },
   {
    "duration": 50,
    "start_time": "2021-07-23T13:16:13.426Z"
   },
   {
    "duration": 1248,
    "start_time": "2021-07-23T13:16:13.478Z"
   },
   {
    "duration": 1230,
    "start_time": "2021-07-23T13:16:14.729Z"
   },
   {
    "duration": 7,
    "start_time": "2021-07-23T13:16:15.962Z"
   },
   {
    "duration": 5898,
    "start_time": "2021-07-23T13:16:15.971Z"
   },
   {
    "duration": 157,
    "start_time": "2021-07-23T13:16:21.871Z"
   },
   {
    "duration": 5,
    "start_time": "2021-07-23T13:16:22.031Z"
   },
   {
    "duration": 6,
    "start_time": "2021-07-23T13:17:05.921Z"
   },
   {
    "duration": 5869,
    "start_time": "2021-07-23T13:17:15.727Z"
   },
   {
    "duration": 169,
    "start_time": "2021-07-23T13:17:34.839Z"
   },
   {
    "duration": 7,
    "start_time": "2021-07-23T13:18:04.999Z"
   },
   {
    "duration": 8728,
    "start_time": "2021-07-23T13:18:30.899Z"
   },
   {
    "duration": 183,
    "start_time": "2021-07-23T13:18:43.449Z"
   },
   {
    "duration": 7,
    "start_time": "2021-07-23T13:18:44.519Z"
   },
   {
    "duration": 7703,
    "start_time": "2021-07-23T13:19:10.120Z"
   },
   {
    "duration": 7,
    "start_time": "2021-07-23T13:19:20.528Z"
   },
   {
    "duration": 5829,
    "start_time": "2021-07-23T13:21:01.228Z"
   },
   {
    "duration": 160,
    "start_time": "2021-07-23T13:21:26.399Z"
   },
   {
    "duration": 1413,
    "start_time": "2021-07-23T13:25:09.221Z"
   },
   {
    "duration": 639,
    "start_time": "2021-07-23T13:29:06.740Z"
   },
   {
    "duration": 708,
    "start_time": "2021-07-23T13:29:20.039Z"
   },
   {
    "duration": 1399,
    "start_time": "2021-07-23T13:29:25.079Z"
   },
   {
    "duration": 624,
    "start_time": "2021-07-23T13:30:40.889Z"
   },
   {
    "duration": 506,
    "start_time": "2021-07-23T13:35:04.428Z"
   },
   {
    "duration": 332,
    "start_time": "2021-07-23T13:35:21.610Z"
   },
   {
    "duration": 837,
    "start_time": "2021-07-23T13:39:50.110Z"
   },
   {
    "duration": 616,
    "start_time": "2021-07-23T13:40:03.435Z"
   },
   {
    "duration": 391,
    "start_time": "2021-07-23T13:41:10.310Z"
   },
   {
    "duration": 398,
    "start_time": "2021-07-23T13:41:21.839Z"
   },
   {
    "duration": 8950,
    "start_time": "2021-07-23T13:42:02.569Z"
   },
   {
    "duration": 652,
    "start_time": "2021-07-23T13:42:27.870Z"
   },
   {
    "duration": 372,
    "start_time": "2021-07-23T13:45:00.981Z"
   },
   {
    "duration": 8,
    "start_time": "2021-07-23T13:45:43.799Z"
   },
   {
    "duration": 10,
    "start_time": "2021-07-23T13:45:49.359Z"
   },
   {
    "duration": 7,
    "start_time": "2021-07-23T13:45:53.839Z"
   },
   {
    "duration": 9,
    "start_time": "2021-07-23T13:46:06.649Z"
   },
   {
    "duration": 9,
    "start_time": "2021-07-23T13:46:10.339Z"
   },
   {
    "duration": 1130,
    "start_time": "2021-07-23T13:47:38.561Z"
   },
   {
    "duration": 323,
    "start_time": "2021-07-23T13:49:02.580Z"
   },
   {
    "duration": 1137,
    "start_time": "2021-07-23T13:50:40.725Z"
   },
   {
    "duration": 8,
    "start_time": "2021-07-23T13:50:55.889Z"
   },
   {
    "duration": 7,
    "start_time": "2021-07-23T13:51:02.750Z"
   },
   {
    "duration": 10,
    "start_time": "2021-07-23T13:51:16.720Z"
   },
   {
    "duration": 6024,
    "start_time": "2021-07-23T13:51:35.330Z"
   },
   {
    "duration": 4563,
    "start_time": "2021-07-23T13:52:03.699Z"
   },
   {
    "duration": 1169,
    "start_time": "2021-07-23T13:52:20.879Z"
   },
   {
    "duration": 11,
    "start_time": "2021-07-23T13:52:36.079Z"
   },
   {
    "duration": 11,
    "start_time": "2021-07-23T13:53:42.720Z"
   },
   {
    "duration": 11,
    "start_time": "2021-07-23T13:54:15.099Z"
   },
   {
    "duration": 4463,
    "start_time": "2021-07-23T13:54:30.517Z"
   },
   {
    "duration": 24,
    "start_time": "2021-07-23T13:57:06.699Z"
   },
   {
    "duration": 5234,
    "start_time": "2021-07-23T13:58:01.399Z"
   },
   {
    "duration": 301,
    "start_time": "2021-07-23T13:58:30.120Z"
   },
   {
    "duration": 5421,
    "start_time": "2021-07-23T13:58:44.749Z"
   },
   {
    "duration": 8,
    "start_time": "2021-07-23T13:59:01.079Z"
   },
   {
    "duration": 8,
    "start_time": "2021-07-23T13:59:18.409Z"
   },
   {
    "duration": 1121,
    "start_time": "2021-07-23T14:10:48.693Z"
   },
   {
    "duration": 4203,
    "start_time": "2021-07-23T14:10:53.969Z"
   },
   {
    "duration": 270,
    "start_time": "2021-07-23T14:11:32.769Z"
   },
   {
    "duration": 2219,
    "start_time": "2021-07-23T14:11:38.487Z"
   },
   {
    "duration": 2580,
    "start_time": "2021-07-23T14:11:47.790Z"
   },
   {
    "duration": 8190,
    "start_time": "2021-07-23T14:13:24.170Z"
   },
   {
    "duration": 7218,
    "start_time": "2021-07-23T14:13:35.609Z"
   },
   {
    "duration": 17,
    "start_time": "2021-07-23T14:13:58.149Z"
   },
   {
    "duration": 8,
    "start_time": "2021-07-23T14:15:19.020Z"
   },
   {
    "duration": 278,
    "start_time": "2021-07-23T14:15:25.287Z"
   },
   {
    "duration": 7,
    "start_time": "2021-07-23T14:15:28.619Z"
   },
   {
    "duration": 8,
    "start_time": "2021-07-23T14:15:36.979Z"
   },
   {
    "duration": 8,
    "start_time": "2021-07-23T14:15:41.659Z"
   },
   {
    "duration": 6,
    "start_time": "2021-07-23T14:15:50.259Z"
   },
   {
    "duration": 7,
    "start_time": "2021-07-23T14:16:08.719Z"
   },
   {
    "duration": 296,
    "start_time": "2021-07-23T23:55:56.706Z"
   },
   {
    "duration": 1610,
    "start_time": "2021-07-23T23:56:01.134Z"
   },
   {
    "duration": 16,
    "start_time": "2021-07-23T23:56:06.966Z"
   },
   {
    "duration": 5,
    "start_time": "2021-07-23T23:56:08.892Z"
   },
   {
    "duration": 11,
    "start_time": "2021-07-23T23:56:35.314Z"
   },
   {
    "duration": 18,
    "start_time": "2021-07-23T23:56:40.199Z"
   },
   {
    "duration": 20,
    "start_time": "2021-07-23T23:56:42.034Z"
   },
   {
    "duration": 22,
    "start_time": "2021-07-23T23:56:47.184Z"
   },
   {
    "duration": 22,
    "start_time": "2021-07-23T23:56:49.326Z"
   },
   {
    "duration": 89,
    "start_time": "2021-07-23T23:56:52.503Z"
   },
   {
    "duration": 5,
    "start_time": "2021-07-23T23:56:54.894Z"
   },
   {
    "duration": 5,
    "start_time": "2021-07-23T23:57:00.654Z"
   },
   {
    "duration": 7885,
    "start_time": "2021-07-23T23:57:07.074Z"
   },
   {
    "duration": 10,
    "start_time": "2021-07-23T23:57:14.960Z"
   },
   {
    "duration": 25,
    "start_time": "2021-07-23T23:58:08.510Z"
   },
   {
    "duration": 31,
    "start_time": "2021-07-23T23:58:09.886Z"
   },
   {
    "duration": 27,
    "start_time": "2021-07-23T23:58:30.334Z"
   },
   {
    "duration": 40,
    "start_time": "2021-07-23T23:58:32.494Z"
   },
   {
    "duration": 39,
    "start_time": "2021-07-23T23:58:35.614Z"
   },
   {
    "duration": 35,
    "start_time": "2021-07-23T23:58:48.407Z"
   },
   {
    "duration": 347,
    "start_time": "2021-07-23T23:59:14.130Z"
   },
   {
    "duration": 286,
    "start_time": "2021-07-23T23:59:29.170Z"
   },
   {
    "duration": 37,
    "start_time": "2021-07-23T23:59:35.598Z"
   },
   {
    "duration": 36,
    "start_time": "2021-07-23T23:59:43.328Z"
   },
   {
    "duration": 636,
    "start_time": "2021-07-24T00:00:10.218Z"
   },
   {
    "duration": 18,
    "start_time": "2021-07-24T00:00:26.890Z"
   },
   {
    "duration": 709,
    "start_time": "2021-07-24T00:00:31.618Z"
   },
   {
    "duration": 3,
    "start_time": "2021-07-24T00:00:42.038Z"
   },
   {
    "duration": 817,
    "start_time": "2021-07-24T00:00:43.178Z"
   },
   {
    "duration": 12,
    "start_time": "2021-07-24T00:01:03.010Z"
   },
   {
    "duration": 211,
    "start_time": "2021-07-24T00:01:07.178Z"
   },
   {
    "duration": 15,
    "start_time": "2021-07-24T00:01:29.239Z"
   },
   {
    "duration": 213,
    "start_time": "2021-07-24T00:01:45.936Z"
   },
   {
    "duration": 211,
    "start_time": "2021-07-24T00:02:16.922Z"
   },
   {
    "duration": 2208,
    "start_time": "2021-07-24T00:02:23.242Z"
   },
   {
    "duration": 971,
    "start_time": "2021-07-24T00:02:38.990Z"
   },
   {
    "duration": 276,
    "start_time": "2021-07-24T00:02:53.120Z"
   },
   {
    "duration": 309,
    "start_time": "2021-07-24T00:04:49.018Z"
   },
   {
    "duration": 1620,
    "start_time": "2021-07-24T00:05:08.720Z"
   },
   {
    "duration": 15,
    "start_time": "2021-07-24T00:05:10.342Z"
   },
   {
    "duration": 13,
    "start_time": "2021-07-24T00:05:10.359Z"
   },
   {
    "duration": 7,
    "start_time": "2021-07-24T00:05:10.373Z"
   },
   {
    "duration": 18,
    "start_time": "2021-07-24T00:05:10.382Z"
   },
   {
    "duration": 40,
    "start_time": "2021-07-24T00:05:10.401Z"
   },
   {
    "duration": 16,
    "start_time": "2021-07-24T00:05:10.442Z"
   },
   {
    "duration": 49,
    "start_time": "2021-07-24T00:05:10.460Z"
   },
   {
    "duration": 5,
    "start_time": "2021-07-24T00:05:10.512Z"
   },
   {
    "duration": 23,
    "start_time": "2021-07-24T00:05:10.519Z"
   },
   {
    "duration": 7969,
    "start_time": "2021-07-24T00:05:10.544Z"
   },
   {
    "duration": 10,
    "start_time": "2021-07-24T00:05:18.515Z"
   },
   {
    "duration": 29,
    "start_time": "2021-07-24T00:05:18.526Z"
   },
   {
    "duration": 27,
    "start_time": "2021-07-24T00:05:18.556Z"
   },
   {
    "duration": 23,
    "start_time": "2021-07-24T00:05:18.585Z"
   },
   {
    "duration": 59,
    "start_time": "2021-07-24T00:05:18.610Z"
   },
   {
    "duration": 674,
    "start_time": "2021-07-24T00:05:18.671Z"
   },
   {
    "duration": 14,
    "start_time": "2021-07-24T00:05:19.347Z"
   },
   {
    "duration": 761,
    "start_time": "2021-07-24T00:05:19.363Z"
   },
   {
    "duration": 2,
    "start_time": "2021-07-24T00:05:20.126Z"
   },
   {
    "duration": 765,
    "start_time": "2021-07-24T00:05:20.130Z"
   },
   {
    "duration": 10,
    "start_time": "2021-07-24T00:05:20.897Z"
   },
   {
    "duration": 228,
    "start_time": "2021-07-24T00:05:20.909Z"
   },
   {
    "duration": 1176,
    "start_time": "2021-07-24T00:05:21.141Z"
   },
   {
    "duration": 1018,
    "start_time": "2021-07-24T00:05:22.318Z"
   },
   {
    "duration": 276,
    "start_time": "2021-07-24T00:05:23.340Z"
   },
   {
    "duration": 23,
    "start_time": "2021-07-24T00:05:23.619Z"
   },
   {
    "duration": 719,
    "start_time": "2021-07-24T00:05:23.643Z"
   },
   {
    "duration": 719,
    "start_time": "2021-07-24T00:05:24.364Z"
   },
   {
    "duration": 823,
    "start_time": "2021-07-24T00:05:25.085Z"
   },
   {
    "duration": 31,
    "start_time": "2021-07-24T00:05:25.910Z"
   },
   {
    "duration": 539,
    "start_time": "2021-07-24T00:05:25.943Z"
   },
   {
    "duration": 1717,
    "start_time": "2021-07-24T00:05:26.483Z"
   },
   {
    "duration": 4095,
    "start_time": "2021-07-24T00:05:28.202Z"
   },
   {
    "duration": 662,
    "start_time": "2021-07-24T00:07:51.960Z"
   },
   {
    "duration": 644,
    "start_time": "2021-07-24T00:07:59.752Z"
   },
   {
    "duration": 436,
    "start_time": "2021-07-24T00:08:11.000Z"
   },
   {
    "duration": 449,
    "start_time": "2021-07-24T00:08:50.820Z"
   },
   {
    "duration": 34,
    "start_time": "2021-07-24T00:22:14.172Z"
   },
   {
    "duration": 737,
    "start_time": "2021-07-24T00:22:20.960Z"
   },
   {
    "duration": 1610,
    "start_time": "2021-07-24T00:22:30.717Z"
   },
   {
    "duration": 16,
    "start_time": "2021-07-24T00:22:32.329Z"
   },
   {
    "duration": 13,
    "start_time": "2021-07-24T00:22:32.347Z"
   },
   {
    "duration": 8,
    "start_time": "2021-07-24T00:22:32.362Z"
   },
   {
    "duration": 17,
    "start_time": "2021-07-24T00:22:32.371Z"
   },
   {
    "duration": 16,
    "start_time": "2021-07-24T00:22:32.389Z"
   },
   {
    "duration": 38,
    "start_time": "2021-07-24T00:22:32.406Z"
   },
   {
    "duration": 61,
    "start_time": "2021-07-24T00:22:32.448Z"
   },
   {
    "duration": 5,
    "start_time": "2021-07-24T00:22:32.511Z"
   },
   {
    "duration": 9,
    "start_time": "2021-07-24T00:22:32.517Z"
   },
   {
    "duration": 8019,
    "start_time": "2021-07-24T00:22:32.541Z"
   },
   {
    "duration": 10,
    "start_time": "2021-07-24T00:22:40.561Z"
   },
   {
    "duration": 20,
    "start_time": "2021-07-24T00:22:40.572Z"
   },
   {
    "duration": 48,
    "start_time": "2021-07-24T00:22:40.593Z"
   },
   {
    "duration": 22,
    "start_time": "2021-07-24T00:22:40.642Z"
   },
   {
    "duration": 32,
    "start_time": "2021-07-24T00:22:40.666Z"
   },
   {
    "duration": 628,
    "start_time": "2021-07-24T00:22:40.700Z"
   },
   {
    "duration": 24,
    "start_time": "2021-07-24T00:22:41.329Z"
   },
   {
    "duration": 729,
    "start_time": "2021-07-24T00:22:41.354Z"
   },
   {
    "duration": 2,
    "start_time": "2021-07-24T00:22:42.085Z"
   },
   {
    "duration": 824,
    "start_time": "2021-07-24T00:22:42.088Z"
   },
   {
    "duration": 11,
    "start_time": "2021-07-24T00:22:42.914Z"
   },
   {
    "duration": 210,
    "start_time": "2021-07-24T00:22:42.940Z"
   },
   {
    "duration": 1098,
    "start_time": "2021-07-24T00:22:43.152Z"
   },
   {
    "duration": 2,
    "start_time": "2021-07-24T00:22:44.252Z"
   },
   {
    "duration": 951,
    "start_time": "2021-07-24T00:22:44.256Z"
   },
   {
    "duration": 293,
    "start_time": "2021-07-24T00:22:45.209Z"
   },
   {
    "duration": 18,
    "start_time": "2021-07-24T00:22:45.503Z"
   },
   {
    "duration": 820,
    "start_time": "2021-07-24T00:22:45.522Z"
   },
   {
    "duration": 563,
    "start_time": "2021-07-24T00:22:46.344Z"
   },
   {
    "duration": 5,
    "start_time": "2021-07-24T00:22:46.909Z"
   },
   {
    "duration": 450,
    "start_time": "2021-07-24T00:22:46.916Z"
   },
   {
    "duration": 1744,
    "start_time": "2021-07-24T00:22:47.368Z"
   },
   {
    "duration": 4186,
    "start_time": "2021-07-24T00:22:49.114Z"
   },
   {
    "duration": 1082,
    "start_time": "2021-07-24T00:26:02.898Z"
   },
   {
    "duration": 1613,
    "start_time": "2021-07-24T00:43:37.520Z"
   },
   {
    "duration": 15,
    "start_time": "2021-07-24T00:43:39.135Z"
   },
   {
    "duration": 13,
    "start_time": "2021-07-24T00:43:39.152Z"
   },
   {
    "duration": 8,
    "start_time": "2021-07-24T00:43:39.167Z"
   },
   {
    "duration": 21,
    "start_time": "2021-07-24T00:43:39.177Z"
   },
   {
    "duration": 17,
    "start_time": "2021-07-24T00:43:39.199Z"
   },
   {
    "duration": 17,
    "start_time": "2021-07-24T00:43:39.241Z"
   },
   {
    "duration": 53,
    "start_time": "2021-07-24T00:43:39.261Z"
   },
   {
    "duration": 26,
    "start_time": "2021-07-24T00:43:39.317Z"
   },
   {
    "duration": 5,
    "start_time": "2021-07-24T00:43:39.345Z"
   },
   {
    "duration": 7817,
    "start_time": "2021-07-24T00:43:39.352Z"
   },
   {
    "duration": 12,
    "start_time": "2021-07-24T00:43:47.170Z"
   },
   {
    "duration": 20,
    "start_time": "2021-07-24T00:43:47.183Z"
   },
   {
    "duration": 55,
    "start_time": "2021-07-24T00:43:47.205Z"
   },
   {
    "duration": 24,
    "start_time": "2021-07-24T00:43:47.261Z"
   },
   {
    "duration": 55,
    "start_time": "2021-07-24T00:43:47.287Z"
   },
   {
    "duration": 674,
    "start_time": "2021-07-24T00:43:47.344Z"
   },
   {
    "duration": 22,
    "start_time": "2021-07-24T00:43:48.019Z"
   },
   {
    "duration": 742,
    "start_time": "2021-07-24T00:43:48.043Z"
   },
   {
    "duration": 2,
    "start_time": "2021-07-24T00:43:48.787Z"
   },
   {
    "duration": 812,
    "start_time": "2021-07-24T00:43:48.791Z"
   },
   {
    "duration": 11,
    "start_time": "2021-07-24T00:43:49.605Z"
   },
   {
    "duration": 222,
    "start_time": "2021-07-24T00:43:49.619Z"
   },
   {
    "duration": 1101,
    "start_time": "2021-07-24T00:43:49.843Z"
   },
   {
    "duration": 1086,
    "start_time": "2021-07-24T00:43:50.945Z"
   },
   {
    "duration": 954,
    "start_time": "2021-07-24T00:43:52.040Z"
   },
   {
    "duration": 286,
    "start_time": "2021-07-24T00:43:52.995Z"
   },
   {
    "duration": 15,
    "start_time": "2021-07-24T00:43:53.283Z"
   },
   {
    "duration": 791,
    "start_time": "2021-07-24T00:43:53.299Z"
   },
   {
    "duration": 578,
    "start_time": "2021-07-24T00:43:54.092Z"
   },
   {
    "duration": 7,
    "start_time": "2021-07-24T00:43:54.672Z"
   },
   {
    "duration": 479,
    "start_time": "2021-07-24T00:43:54.682Z"
   },
   {
    "duration": 1799,
    "start_time": "2021-07-24T00:43:55.163Z"
   },
   {
    "duration": 4247,
    "start_time": "2021-07-24T00:43:56.963Z"
   },
   {
    "duration": 158,
    "start_time": "2021-07-24T00:46:01.839Z"
   },
   {
    "duration": 18,
    "start_time": "2021-07-24T00:46:03.540Z"
   },
   {
    "duration": 5,
    "start_time": "2021-07-24T00:46:04.911Z"
   },
   {
    "duration": 8,
    "start_time": "2021-07-24T00:46:20.719Z"
   },
   {
    "duration": 6978,
    "start_time": "2021-07-24T00:46:46.279Z"
   },
   {
    "duration": 17,
    "start_time": "2021-07-24T00:47:01.200Z"
   },
   {
    "duration": 7,
    "start_time": "2021-07-24T00:47:19.985Z"
   },
   {
    "duration": 5,
    "start_time": "2021-07-24T00:47:45.719Z"
   },
   {
    "duration": 6,
    "start_time": "2021-07-24T00:48:16.359Z"
   },
   {
    "duration": 5,
    "start_time": "2021-07-24T00:48:22.661Z"
   },
   {
    "duration": 7,
    "start_time": "2021-07-24T00:48:39.760Z"
   },
   {
    "duration": 18,
    "start_time": "2021-07-24T01:00:44.620Z"
   },
   {
    "duration": 15,
    "start_time": "2021-07-24T01:00:47.764Z"
   },
   {
    "duration": 21,
    "start_time": "2021-07-24T01:00:49.107Z"
   },
   {
    "duration": 21,
    "start_time": "2021-07-24T01:00:50.972Z"
   },
   {
    "duration": 22,
    "start_time": "2021-07-24T01:00:53.111Z"
   },
   {
    "duration": 98,
    "start_time": "2021-07-24T01:00:54.420Z"
   },
   {
    "duration": 6,
    "start_time": "2021-07-24T01:00:56.671Z"
   },
   {
    "duration": 5,
    "start_time": "2021-07-24T01:00:57.439Z"
   },
   {
    "duration": 8106,
    "start_time": "2021-07-24T01:00:59.319Z"
   },
   {
    "duration": 14,
    "start_time": "2021-07-24T01:01:07.427Z"
   },
   {
    "duration": 26,
    "start_time": "2021-07-24T01:01:34.671Z"
   },
   {
    "duration": 31,
    "start_time": "2021-07-24T01:01:35.926Z"
   },
   {
    "duration": 37,
    "start_time": "2021-07-24T01:01:36.827Z"
   },
   {
    "duration": 41,
    "start_time": "2021-07-24T01:01:38.635Z"
   },
   {
    "duration": 802,
    "start_time": "2021-07-24T01:01:45.127Z"
   },
   {
    "duration": 19,
    "start_time": "2021-07-24T01:01:50.720Z"
   },
   {
    "duration": 22,
    "start_time": "2021-07-24T01:01:58.240Z"
   },
   {
    "duration": 770,
    "start_time": "2021-07-24T01:02:29.819Z"
   },
   {
    "duration": 758,
    "start_time": "2021-07-24T01:02:39.940Z"
   },
   {
    "duration": 736,
    "start_time": "2021-07-24T01:02:50.600Z"
   },
   {
    "duration": 763,
    "start_time": "2021-07-24T01:03:06.500Z"
   },
   {
    "duration": 810,
    "start_time": "2021-07-24T01:03:26.480Z"
   },
   {
    "duration": 717,
    "start_time": "2021-07-24T01:03:55.350Z"
   },
   {
    "duration": 702,
    "start_time": "2021-07-24T01:04:00.908Z"
   },
   {
    "duration": 17,
    "start_time": "2021-07-24T01:04:12.641Z"
   },
   {
    "duration": 824,
    "start_time": "2021-07-24T01:06:50.461Z"
   },
   {
    "duration": 721,
    "start_time": "2021-07-24T01:07:02.560Z"
   },
   {
    "duration": 7,
    "start_time": "2021-07-24T01:07:30.251Z"
   },
   {
    "duration": 11,
    "start_time": "2021-07-24T01:07:37.352Z"
   },
   {
    "duration": 11,
    "start_time": "2021-07-24T01:07:55.951Z"
   },
   {
    "duration": 26,
    "start_time": "2021-07-24T01:10:17.081Z"
   },
   {
    "duration": 725,
    "start_time": "2021-07-24T01:10:57.879Z"
   },
   {
    "duration": 2,
    "start_time": "2021-07-24T01:11:04.380Z"
   },
   {
    "duration": 670,
    "start_time": "2021-07-24T01:11:05.379Z"
   },
   {
    "duration": 789,
    "start_time": "2021-07-24T01:11:22.479Z"
   },
   {
    "duration": 772,
    "start_time": "2021-07-24T01:13:55.159Z"
   },
   {
    "duration": 14,
    "start_time": "2021-07-24T01:17:16.720Z"
   },
   {
    "duration": 211,
    "start_time": "2021-07-24T01:17:17.680Z"
   },
   {
    "duration": 2102,
    "start_time": "2021-07-24T01:17:21.799Z"
   },
   {
    "duration": 2108,
    "start_time": "2021-07-24T01:17:28.980Z"
   },
   {
    "duration": 7,
    "start_time": "2021-07-24T01:18:04.731Z"
   },
   {
    "duration": 10,
    "start_time": "2021-07-24T01:18:11.540Z"
   },
   {
    "duration": 1654,
    "start_time": "2021-07-24T01:18:27.959Z"
   },
   {
    "duration": 6,
    "start_time": "2021-07-24T01:18:34.599Z"
   },
   {
    "duration": 98,
    "start_time": "2021-07-24T01:18:42.619Z"
   },
   {
    "duration": 5,
    "start_time": "2021-07-24T01:18:44.931Z"
   },
   {
    "duration": 978,
    "start_time": "2021-07-24T01:19:02.089Z"
   },
   {
    "duration": 265,
    "start_time": "2021-07-24T01:19:28.380Z"
   },
   {
    "duration": 18,
    "start_time": "2021-07-24T01:20:02.140Z"
   },
   {
    "duration": 436,
    "start_time": "2021-07-24T01:20:08.080Z"
   },
   {
    "duration": 323,
    "start_time": "2021-07-24T01:22:35.419Z"
   },
   {
    "duration": 18,
    "start_time": "2021-07-24T01:22:40.592Z"
   },
   {
    "duration": 237,
    "start_time": "2021-07-24T01:22:46.172Z"
   },
   {
    "duration": 466,
    "start_time": "2021-07-24T01:23:23.280Z"
   },
   {
    "duration": 236,
    "start_time": "2021-07-24T01:23:28.009Z"
   },
   {
    "duration": 513,
    "start_time": "2021-07-24T01:23:40.209Z"
   },
   {
    "duration": 386,
    "start_time": "2021-07-24T01:25:47.528Z"
   },
   {
    "duration": 533,
    "start_time": "2021-07-24T01:26:02.820Z"
   },
   {
    "duration": 498,
    "start_time": "2021-07-24T01:26:23.259Z"
   },
   {
    "duration": 8,
    "start_time": "2021-07-24T01:28:09.860Z"
   },
   {
    "duration": 630,
    "start_time": "2021-07-24T01:28:10.940Z"
   },
   {
    "duration": 376,
    "start_time": "2021-07-24T01:32:14.060Z"
   },
   {
    "duration": 7,
    "start_time": "2021-07-24T02:21:24.311Z"
   },
   {
    "duration": 6,
    "start_time": "2021-07-24T02:21:40.723Z"
   },
   {
    "duration": 4,
    "start_time": "2021-07-24T02:22:55.683Z"
   },
   {
    "duration": 4,
    "start_time": "2021-07-24T02:23:06.802Z"
   },
   {
    "duration": 4,
    "start_time": "2021-07-24T02:23:13.104Z"
   },
   {
    "duration": 4,
    "start_time": "2021-07-24T02:23:27.543Z"
   },
   {
    "duration": 6,
    "start_time": "2021-07-24T02:24:11.072Z"
   },
   {
    "duration": 6,
    "start_time": "2021-07-24T02:24:20.183Z"
   },
   {
    "duration": 6,
    "start_time": "2021-07-24T02:25:25.982Z"
   },
   {
    "duration": 6,
    "start_time": "2021-07-24T02:25:42.702Z"
   },
   {
    "duration": 342,
    "start_time": "2021-07-24T02:28:07.803Z"
   },
   {
    "duration": 8,
    "start_time": "2021-07-24T02:28:48.902Z"
   },
   {
    "duration": 12,
    "start_time": "2021-07-24T02:29:12.002Z"
   },
   {
    "duration": 12,
    "start_time": "2021-07-24T02:29:26.091Z"
   },
   {
    "duration": 12,
    "start_time": "2021-07-24T02:30:12.903Z"
   },
   {
    "duration": 13,
    "start_time": "2021-07-24T02:31:01.643Z"
   },
   {
    "duration": 623,
    "start_time": "2021-07-24T02:33:05.242Z"
   },
   {
    "duration": 240,
    "start_time": "2021-07-24T02:34:21.530Z"
   },
   {
    "duration": 19,
    "start_time": "2021-07-24T02:47:31.131Z"
   },
   {
    "duration": 20,
    "start_time": "2021-07-24T02:48:12.991Z"
   },
   {
    "duration": 380,
    "start_time": "2021-07-24T02:49:29.002Z"
   },
   {
    "duration": 234,
    "start_time": "2021-07-24T02:50:22.990Z"
   },
   {
    "duration": 366,
    "start_time": "2021-07-24T03:01:08.370Z"
   },
   {
    "duration": 230,
    "start_time": "2021-07-24T03:01:39.271Z"
   },
   {
    "duration": 490,
    "start_time": "2021-07-24T03:01:45.831Z"
   },
   {
    "duration": 383,
    "start_time": "2021-07-24T03:01:48.918Z"
   },
   {
    "duration": 6,
    "start_time": "2021-07-24T03:10:51.343Z"
   },
   {
    "duration": 7,
    "start_time": "2021-07-24T03:11:08.362Z"
   },
   {
    "duration": 5,
    "start_time": "2021-07-24T03:11:12.123Z"
   },
   {
    "duration": 6,
    "start_time": "2021-07-24T03:11:24.211Z"
   },
   {
    "duration": 6,
    "start_time": "2021-07-24T03:11:34.142Z"
   },
   {
    "duration": 1557,
    "start_time": "2021-07-24T03:11:45.388Z"
   },
   {
    "duration": 15,
    "start_time": "2021-07-24T03:11:46.947Z"
   },
   {
    "duration": 17,
    "start_time": "2021-07-24T03:11:46.964Z"
   },
   {
    "duration": 17,
    "start_time": "2021-07-24T03:11:46.983Z"
   },
   {
    "duration": 41,
    "start_time": "2021-07-24T03:11:47.002Z"
   },
   {
    "duration": 21,
    "start_time": "2021-07-24T03:11:47.045Z"
   },
   {
    "duration": 22,
    "start_time": "2021-07-24T03:11:47.068Z"
   },
   {
    "duration": 117,
    "start_time": "2021-07-24T03:11:47.093Z"
   },
   {
    "duration": 5,
    "start_time": "2021-07-24T03:11:47.212Z"
   },
   {
    "duration": 6,
    "start_time": "2021-07-24T03:11:47.218Z"
   },
   {
    "duration": 7838,
    "start_time": "2021-07-24T03:11:47.241Z"
   },
   {
    "duration": 9,
    "start_time": "2021-07-24T03:11:55.081Z"
   },
   {
    "duration": 24,
    "start_time": "2021-07-24T03:11:55.092Z"
   },
   {
    "duration": 49,
    "start_time": "2021-07-24T03:11:55.118Z"
   },
   {
    "duration": 37,
    "start_time": "2021-07-24T03:11:55.169Z"
   },
   {
    "duration": 62,
    "start_time": "2021-07-24T03:11:55.207Z"
   },
   {
    "duration": 665,
    "start_time": "2021-07-24T03:11:55.271Z"
   },
   {
    "duration": 10,
    "start_time": "2021-07-24T03:11:55.941Z"
   },
   {
    "duration": 26,
    "start_time": "2021-07-24T03:11:55.952Z"
   },
   {
    "duration": 849,
    "start_time": "2021-07-24T03:11:55.980Z"
   },
   {
    "duration": 3,
    "start_time": "2021-07-24T03:11:56.830Z"
   },
   {
    "duration": 861,
    "start_time": "2021-07-24T03:11:56.834Z"
   },
   {
    "duration": 12,
    "start_time": "2021-07-24T03:11:57.698Z"
   },
   {
    "duration": 252,
    "start_time": "2021-07-24T03:11:57.712Z"
   },
   {
    "duration": 6,
    "start_time": "2021-07-24T03:11:57.965Z"
   },
   {
    "duration": 2376,
    "start_time": "2021-07-24T03:11:57.972Z"
   },
   {
    "duration": 2138,
    "start_time": "2021-07-24T03:12:00.350Z"
   },
   {
    "duration": 1011,
    "start_time": "2021-07-24T03:12:02.490Z"
   },
   {
    "duration": 280,
    "start_time": "2021-07-24T03:12:03.502Z"
   },
   {
    "duration": 16,
    "start_time": "2021-07-24T03:12:03.783Z"
   },
   {
    "duration": 15,
    "start_time": "2021-07-24T03:12:03.801Z"
   },
   {
    "duration": 715,
    "start_time": "2021-07-24T03:12:03.818Z"
   },
   {
    "duration": 11,
    "start_time": "2021-07-24T03:12:04.541Z"
   },
   {
    "duration": 379,
    "start_time": "2021-07-24T03:12:04.554Z"
   },
   {
    "duration": 22,
    "start_time": "2021-07-24T03:12:04.935Z"
   },
   {
    "duration": 379,
    "start_time": "2021-07-24T03:12:04.958Z"
   },
   {
    "duration": 246,
    "start_time": "2021-07-24T03:12:05.339Z"
   },
   {
    "duration": 374,
    "start_time": "2021-07-24T03:12:05.587Z"
   },
   {
    "duration": 243,
    "start_time": "2021-07-24T03:12:05.963Z"
   },
   {
    "duration": 7,
    "start_time": "2021-07-24T03:12:06.208Z"
   },
   {
    "duration": 645,
    "start_time": "2021-07-24T03:12:06.216Z"
   },
   {
    "duration": 5278,
    "start_time": "2021-07-24T03:12:06.862Z"
   },
   {
    "duration": 5,
    "start_time": "2021-07-24T03:12:12.142Z"
   },
   {
    "duration": 7,
    "start_time": "2021-07-24T03:12:12.149Z"
   },
   {
    "duration": 436,
    "start_time": "2021-07-24T03:53:47.835Z"
   },
   {
    "duration": 14,
    "start_time": "2021-07-24T03:54:03.375Z"
   },
   {
    "duration": 285,
    "start_time": "2021-07-24T03:54:34.428Z"
   },
   {
    "duration": 4619,
    "start_time": "2021-07-24T03:55:01.585Z"
   },
   {
    "duration": 3216,
    "start_time": "2021-07-24T03:55:47.347Z"
   },
   {
    "duration": 3283,
    "start_time": "2021-07-24T03:56:06.495Z"
   },
   {
    "duration": 5825,
    "start_time": "2021-07-24T03:56:48.225Z"
   },
   {
    "duration": 287,
    "start_time": "2021-07-24T03:57:35.603Z"
   },
   {
    "duration": 283,
    "start_time": "2021-07-24T03:58:11.976Z"
   },
   {
    "duration": 4964,
    "start_time": "2021-07-24T03:58:20.308Z"
   },
   {
    "duration": 5,
    "start_time": "2021-07-24T03:58:31.136Z"
   },
   {
    "duration": 305,
    "start_time": "2021-07-24T03:59:27.296Z"
   },
   {
    "duration": 307,
    "start_time": "2021-07-24T04:00:24.217Z"
   },
   {
    "duration": 5379,
    "start_time": "2021-07-24T04:00:59.655Z"
   },
   {
    "duration": 5,
    "start_time": "2021-07-24T04:01:09.256Z"
   },
   {
    "duration": 5571,
    "start_time": "2021-07-24T04:01:21.986Z"
   },
   {
    "duration": 7605,
    "start_time": "2021-07-24T04:01:54.995Z"
   },
   {
    "duration": 4,
    "start_time": "2021-07-24T04:02:02.602Z"
   },
   {
    "duration": 7345,
    "start_time": "2021-07-24T04:02:14.316Z"
   },
   {
    "duration": 91,
    "start_time": "2021-07-24T04:02:28.787Z"
   },
   {
    "duration": 11,
    "start_time": "2021-07-24T04:02:30.885Z"
   },
   {
    "duration": 9039,
    "start_time": "2021-07-24T04:02:49.255Z"
   },
   {
    "duration": 9,
    "start_time": "2021-07-24T04:03:07.035Z"
   },
   {
    "duration": 303,
    "start_time": "2021-07-24T04:03:29.523Z"
   },
   {
    "duration": 4,
    "start_time": "2021-07-24T04:04:00.036Z"
   },
   {
    "duration": 281,
    "start_time": "2021-07-24T04:05:09.766Z"
   },
   {
    "duration": 282,
    "start_time": "2021-07-24T04:05:18.016Z"
   },
   {
    "duration": 294,
    "start_time": "2021-07-24T04:05:44.955Z"
   },
   {
    "duration": 15,
    "start_time": "2021-07-24T04:06:23.876Z"
   },
   {
    "duration": 16,
    "start_time": "2021-07-24T04:11:53.495Z"
   },
   {
    "duration": 18,
    "start_time": "2021-07-24T04:12:11.716Z"
   },
   {
    "duration": 321,
    "start_time": "2021-07-24T04:12:46.935Z"
   },
   {
    "duration": 564,
    "start_time": "2021-07-24T04:12:54.796Z"
   },
   {
    "duration": 556,
    "start_time": "2021-07-24T04:13:10.595Z"
   },
   {
    "duration": 821,
    "start_time": "2021-07-24T04:13:23.826Z"
   },
   {
    "duration": 573,
    "start_time": "2021-07-24T04:28:13.935Z"
   },
   {
    "duration": 507,
    "start_time": "2021-07-24T04:29:21.446Z"
   },
   {
    "duration": 714,
    "start_time": "2021-07-24T04:30:56.715Z"
   },
   {
    "duration": 91,
    "start_time": "2021-07-24T04:31:18.028Z"
   },
   {
    "duration": 711,
    "start_time": "2021-07-24T04:31:21.915Z"
   },
   {
    "duration": 350,
    "start_time": "2021-07-24T04:31:47.326Z"
   },
   {
    "duration": 352,
    "start_time": "2021-07-24T04:32:22.155Z"
   },
   {
    "duration": 7070,
    "start_time": "2021-07-24T04:33:43.703Z"
   },
   {
    "duration": 346,
    "start_time": "2021-07-24T04:33:58.315Z"
   },
   {
    "duration": 733,
    "start_time": "2021-07-24T04:51:25.115Z"
   },
   {
    "duration": 733,
    "start_time": "2021-07-24T04:51:39.516Z"
   },
   {
    "duration": 685,
    "start_time": "2021-07-24T04:52:01.875Z"
   },
   {
    "duration": 341,
    "start_time": "2021-07-24T05:07:35.015Z"
   },
   {
    "duration": 764,
    "start_time": "2021-07-24T05:07:59.455Z"
   },
   {
    "duration": 9,
    "start_time": "2021-07-24T05:12:18.387Z"
   },
   {
    "duration": 1651,
    "start_time": "2021-07-24T07:12:58.529Z"
   },
   {
    "duration": 17,
    "start_time": "2021-07-24T07:13:00.182Z"
   },
   {
    "duration": 19,
    "start_time": "2021-07-24T07:13:00.201Z"
   },
   {
    "duration": 32,
    "start_time": "2021-07-24T07:13:00.222Z"
   },
   {
    "duration": 21,
    "start_time": "2021-07-24T07:13:00.256Z"
   },
   {
    "duration": 22,
    "start_time": "2021-07-24T07:13:00.279Z"
   },
   {
    "duration": 53,
    "start_time": "2021-07-24T07:13:00.303Z"
   },
   {
    "duration": 115,
    "start_time": "2021-07-24T07:13:00.360Z"
   },
   {
    "duration": 5,
    "start_time": "2021-07-24T07:13:00.477Z"
   },
   {
    "duration": 19,
    "start_time": "2021-07-24T07:13:00.484Z"
   },
   {
    "duration": 7951,
    "start_time": "2021-07-24T07:13:00.504Z"
   },
   {
    "duration": 10,
    "start_time": "2021-07-24T07:13:08.457Z"
   },
   {
    "duration": 24,
    "start_time": "2021-07-24T07:13:08.468Z"
   },
   {
    "duration": 52,
    "start_time": "2021-07-24T07:13:08.494Z"
   },
   {
    "duration": 41,
    "start_time": "2021-07-24T07:13:08.547Z"
   },
   {
    "duration": 57,
    "start_time": "2021-07-24T07:13:08.590Z"
   },
   {
    "duration": 639,
    "start_time": "2021-07-24T07:13:08.648Z"
   },
   {
    "duration": 10,
    "start_time": "2021-07-24T07:13:09.289Z"
   },
   {
    "duration": 41,
    "start_time": "2021-07-24T07:13:09.300Z"
   },
   {
    "duration": 785,
    "start_time": "2021-07-24T07:13:09.342Z"
   },
   {
    "duration": 2,
    "start_time": "2021-07-24T07:13:10.129Z"
   },
   {
    "duration": 750,
    "start_time": "2021-07-24T07:13:10.132Z"
   },
   {
    "duration": 12,
    "start_time": "2021-07-24T07:13:10.884Z"
   },
   {
    "duration": 224,
    "start_time": "2021-07-24T07:13:10.898Z"
   },
   {
    "duration": 4,
    "start_time": "2021-07-24T07:13:11.124Z"
   },
   {
    "duration": 2072,
    "start_time": "2021-07-24T07:13:11.129Z"
   },
   {
    "duration": 2141,
    "start_time": "2021-07-24T07:13:13.203Z"
   },
   {
    "duration": 978,
    "start_time": "2021-07-24T07:13:15.346Z"
   },
   {
    "duration": 280,
    "start_time": "2021-07-24T07:13:16.326Z"
   },
   {
    "duration": 17,
    "start_time": "2021-07-24T07:13:16.608Z"
   },
   {
    "duration": 27,
    "start_time": "2021-07-24T07:13:16.627Z"
   },
   {
    "duration": 714,
    "start_time": "2021-07-24T07:13:16.656Z"
   },
   {
    "duration": 12,
    "start_time": "2021-07-24T07:13:17.371Z"
   },
   {
    "duration": 369,
    "start_time": "2021-07-24T07:13:17.385Z"
   },
   {
    "duration": 20,
    "start_time": "2021-07-24T07:13:17.755Z"
   },
   {
    "duration": 371,
    "start_time": "2021-07-24T07:13:17.776Z"
   },
   {
    "duration": 247,
    "start_time": "2021-07-24T07:13:18.149Z"
   },
   {
    "duration": 375,
    "start_time": "2021-07-24T07:13:18.398Z"
   },
   {
    "duration": 6,
    "start_time": "2021-07-24T07:13:18.775Z"
   },
   {
    "duration": 658,
    "start_time": "2021-07-24T07:13:18.783Z"
   },
   {
    "duration": 18,
    "start_time": "2021-07-24T07:14:37.697Z"
   },
   {
    "duration": 95,
    "start_time": "2021-07-24T07:15:11.617Z"
   },
   {
    "duration": 8,
    "start_time": "2021-07-24T07:18:40.635Z"
   },
   {
    "duration": 364,
    "start_time": "2021-07-24T07:29:06.156Z"
   },
   {
    "duration": 250,
    "start_time": "2021-07-24T07:30:32.035Z"
   },
   {
    "duration": 435,
    "start_time": "2021-07-24T07:36:01.915Z"
   },
   {
    "duration": 6126,
    "start_time": "2021-07-24T07:36:09.315Z"
   },
   {
    "duration": 6144,
    "start_time": "2021-07-24T07:36:36.956Z"
   },
   {
    "duration": 6158,
    "start_time": "2021-07-24T07:38:20.783Z"
   },
   {
    "duration": 1578,
    "start_time": "2021-07-24T07:38:36.257Z"
   },
   {
    "duration": 1312,
    "start_time": "2021-07-24T07:39:08.923Z"
   },
   {
    "duration": 636,
    "start_time": "2021-07-24T07:42:11.275Z"
   },
   {
    "duration": 1035,
    "start_time": "2021-07-24T08:35:27.795Z"
   },
   {
    "duration": 368,
    "start_time": "2021-07-24T08:42:24.376Z"
   },
   {
    "duration": 235,
    "start_time": "2021-07-24T08:45:46.962Z"
   },
   {
    "duration": 368,
    "start_time": "2021-07-24T08:46:48.075Z"
   },
   {
    "duration": 234,
    "start_time": "2021-07-24T08:49:21.915Z"
   },
   {
    "duration": 1370,
    "start_time": "2021-07-24T08:54:59.655Z"
   }
  ],
  "kernelspec": {
   "display_name": "Python 3",
   "language": "python",
   "name": "python3"
  },
  "language_info": {
   "codemirror_mode": {
    "name": "ipython",
    "version": 3
   },
   "file_extension": ".py",
   "mimetype": "text/x-python",
   "name": "python",
   "nbconvert_exporter": "python",
   "pygments_lexer": "ipython3",
   "version": "3.7.8"
  },
  "toc": {
   "base_numbering": 1,
   "nav_menu": {},
   "number_sections": true,
   "sideBar": true,
   "skip_h1_title": true,
   "title_cell": "Table of Contents",
   "title_sidebar": "Contents",
   "toc_cell": false,
   "toc_position": {
    "height": "calc(100% - 180px)",
    "left": "10px",
    "top": "150px",
    "width": "522.839px"
   },
   "toc_section_display": true,
   "toc_window_display": false
  }
 },
 "nbformat": 4,
 "nbformat_minor": 2
}
