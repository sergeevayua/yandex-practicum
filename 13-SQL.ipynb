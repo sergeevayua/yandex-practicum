{
 "cells": [
  {
   "cell_type": "markdown",
   "metadata": {},
   "source": [
    "# SQL\n",
    "Коронавирус застал мир врасплох, изменив привычный порядок вещей. В свободное время жители городов больше не выходят на улицу, не посещают кафе и торговые центры. Зато стало больше времени для книг. Это заметили стартаперы — и бросились создавать приложения для тех, кто любит читать.\n",
    "\n",
    "Ваша компания решила быть на волне и купила крупный сервис для чтения книг по подписке. Ваша первая задача как аналитика — проанализировать базу данных.\n",
    "В ней — информация о книгах, издательствах, авторах, а также пользовательские обзоры книг. Эти данные помогут сформулировать ценностное предложение для нового продукта.\n",
    "\n",
    "### Описание данных\n",
    "\n",
    "**Таблица `books`**\n",
    "\n",
    "Содержит данные о книгах:\n",
    "\n",
    "- `book_id` — идентификатор книги;\n",
    "- `author_id` — идентификатор автора;\n",
    "- `title` — название книги;\n",
    "- `num_pages` — количество страниц;\n",
    "- `publication_date` — дата публикации книги;\n",
    "- `publisher_id` — идентификатор издателя.\n",
    "\n",
    "**Таблица `authors`**\n",
    "\n",
    "Содержит данные об авторах:\n",
    "\n",
    "- `author_id` — идентификатор автора;\n",
    "- `author` — имя автора.\n",
    "\n",
    "**Таблица `publishers`**\n",
    "\n",
    "Содержит данные об издательствах:\n",
    "\n",
    "- `publisher_id` — идентификатор издательства;\n",
    "- `publisher` — название издательства;\n",
    "\n",
    "**Таблица `ratings`**\n",
    "\n",
    "Содержит данные о пользовательских оценках книг:\n",
    "\n",
    "- `rating_id` — идентификатор оценки;\n",
    "- `book_id` — идентификатор книги;\n",
    "- `username` — имя пользователя, оставившего оценку;\n",
    "- `rating` — оценка книги.\n",
    "\n",
    "**Таблица `reviews`**\n",
    "\n",
    "Содержит данные о пользовательских обзорах на книги:\n",
    "\n",
    "- `review_id` — идентификатор обзора;\n",
    "- `book_id` — идентификатор книги;\n",
    "- `username` — имя пользователя, написавшего обзор;\n",
    "- `text` — текст обзора.\n",
    "\n"
   ]
  },
  {
   "cell_type": "code",
   "execution_count": 1,
   "metadata": {},
   "outputs": [],
   "source": [
    "# импортируем библиотеки \n",
    "import pandas as pd \n",
    "from sqlalchemy import create_engine \n",
    "# устанавливаем параметры \n",
    "db_config = {'user': 'praktikum_student', # имя пользователя \n",
    "                     'pwd': 'Sdf4$2;d-d30pp', # пароль \n",
    "                     'host': 'rc1b-wcoijxj3yxfsf3fs.mdb.yandexcloud.net', \n",
    "                     'port': 6432, # порт подключения \n",
    "                     'db': 'data-analyst-final-project-db'} # название базы данных \n",
    "connection_string = 'postgresql://{}:{}@{}:{}/{}'.format(db_config['user'], \n",
    "                                                                                    db_config['pwd'], \n",
    "                                                                         db_config['host'], \n",
    "                                                                                    db_config['port'], \n",
    "                                                                                    db_config['db']) \n",
    "# сохраняем коннектор \n",
    "engine = create_engine(connection_string, connect_args={'sslmode':'require'}) "
   ]
  },
  {
   "cell_type": "markdown",
   "metadata": {},
   "source": [
    "## Цели исследования \n",
    "\n",
    "Целью нашего исследования является первичный анализ информации о книгах, издательствах, авторах, а также пользовательские обзоры книг.  На основе этих данных можно сформулировать ценностное предложение для нового продукта.\n",
    "\n",
    "\n",
    "## Исследовательский анализ данных\n",
    "\n",
    "Для начала давайте посмотрим на содержание наших таблиц. "
   ]
  },
  {
   "cell_type": "code",
   "execution_count": 16,
   "metadata": {},
   "outputs": [
    {
     "data": {
      "text/html": [
       "<div>\n",
       "<style scoped>\n",
       "    .dataframe tbody tr th:only-of-type {\n",
       "        vertical-align: middle;\n",
       "    }\n",
       "\n",
       "    .dataframe tbody tr th {\n",
       "        vertical-align: top;\n",
       "    }\n",
       "\n",
       "    .dataframe thead th {\n",
       "        text-align: right;\n",
       "    }\n",
       "</style>\n",
       "<table border=\"1\" class=\"dataframe\">\n",
       "  <thead>\n",
       "    <tr style=\"text-align: right;\">\n",
       "      <th></th>\n",
       "      <th>book_id</th>\n",
       "      <th>author_id</th>\n",
       "      <th>title</th>\n",
       "      <th>num_pages</th>\n",
       "      <th>publication_date</th>\n",
       "      <th>publisher_id</th>\n",
       "    </tr>\n",
       "  </thead>\n",
       "  <tbody>\n",
       "    <tr>\n",
       "      <td>0</td>\n",
       "      <td>1</td>\n",
       "      <td>546</td>\n",
       "      <td>'Salem's Lot</td>\n",
       "      <td>594</td>\n",
       "      <td>2005-11-01</td>\n",
       "      <td>93</td>\n",
       "    </tr>\n",
       "    <tr>\n",
       "      <td>1</td>\n",
       "      <td>2</td>\n",
       "      <td>465</td>\n",
       "      <td>1 000 Places to See Before You Die</td>\n",
       "      <td>992</td>\n",
       "      <td>2003-05-22</td>\n",
       "      <td>336</td>\n",
       "    </tr>\n",
       "    <tr>\n",
       "      <td>2</td>\n",
       "      <td>3</td>\n",
       "      <td>407</td>\n",
       "      <td>13 Little Blue Envelopes (Little Blue Envelope...</td>\n",
       "      <td>322</td>\n",
       "      <td>2010-12-21</td>\n",
       "      <td>135</td>\n",
       "    </tr>\n",
       "    <tr>\n",
       "      <td>3</td>\n",
       "      <td>4</td>\n",
       "      <td>82</td>\n",
       "      <td>1491: New Revelations of the Americas Before C...</td>\n",
       "      <td>541</td>\n",
       "      <td>2006-10-10</td>\n",
       "      <td>309</td>\n",
       "    </tr>\n",
       "    <tr>\n",
       "      <td>4</td>\n",
       "      <td>5</td>\n",
       "      <td>125</td>\n",
       "      <td>1776</td>\n",
       "      <td>386</td>\n",
       "      <td>2006-07-04</td>\n",
       "      <td>268</td>\n",
       "    </tr>\n",
       "  </tbody>\n",
       "</table>\n",
       "</div>"
      ],
      "text/plain": [
       "   book_id  author_id                                              title  \\\n",
       "0        1        546                                       'Salem's Lot   \n",
       "1        2        465                 1 000 Places to See Before You Die   \n",
       "2        3        407  13 Little Blue Envelopes (Little Blue Envelope...   \n",
       "3        4         82  1491: New Revelations of the Americas Before C...   \n",
       "4        5        125                                               1776   \n",
       "\n",
       "   num_pages publication_date  publisher_id  \n",
       "0        594       2005-11-01            93  \n",
       "1        992       2003-05-22           336  \n",
       "2        322       2010-12-21           135  \n",
       "3        541       2006-10-10           309  \n",
       "4        386       2006-07-04           268  "
      ]
     },
     "execution_count": 16,
     "metadata": {},
     "output_type": "execute_result"
    }
   ],
   "source": [
    " query = ''' SELECT * \n",
    "            FROM books\n",
    "            LIMIT 5'''\n",
    "pd.io.sql.read_sql(query, con = engine) "
   ]
  },
  {
   "cell_type": "code",
   "execution_count": 3,
   "metadata": {},
   "outputs": [
    {
     "data": {
      "text/html": [
       "<div>\n",
       "<style scoped>\n",
       "    .dataframe tbody tr th:only-of-type {\n",
       "        vertical-align: middle;\n",
       "    }\n",
       "\n",
       "    .dataframe tbody tr th {\n",
       "        vertical-align: top;\n",
       "    }\n",
       "\n",
       "    .dataframe thead th {\n",
       "        text-align: right;\n",
       "    }\n",
       "</style>\n",
       "<table border=\"1\" class=\"dataframe\">\n",
       "  <thead>\n",
       "    <tr style=\"text-align: right;\">\n",
       "      <th></th>\n",
       "      <th>author_id</th>\n",
       "      <th>author</th>\n",
       "    </tr>\n",
       "  </thead>\n",
       "  <tbody>\n",
       "    <tr>\n",
       "      <td>0</td>\n",
       "      <td>1</td>\n",
       "      <td>A.S. Byatt</td>\n",
       "    </tr>\n",
       "    <tr>\n",
       "      <td>1</td>\n",
       "      <td>2</td>\n",
       "      <td>Aesop/Laura Harris/Laura Gibbs</td>\n",
       "    </tr>\n",
       "    <tr>\n",
       "      <td>2</td>\n",
       "      <td>3</td>\n",
       "      <td>Agatha Christie</td>\n",
       "    </tr>\n",
       "    <tr>\n",
       "      <td>3</td>\n",
       "      <td>4</td>\n",
       "      <td>Alan Brennert</td>\n",
       "    </tr>\n",
       "    <tr>\n",
       "      <td>4</td>\n",
       "      <td>5</td>\n",
       "      <td>Alan Moore/David   Lloyd</td>\n",
       "    </tr>\n",
       "  </tbody>\n",
       "</table>\n",
       "</div>"
      ],
      "text/plain": [
       "   author_id                          author\n",
       "0          1                      A.S. Byatt\n",
       "1          2  Aesop/Laura Harris/Laura Gibbs\n",
       "2          3                 Agatha Christie\n",
       "3          4                   Alan Brennert\n",
       "4          5        Alan Moore/David   Lloyd"
      ]
     },
     "execution_count": 3,
     "metadata": {},
     "output_type": "execute_result"
    }
   ],
   "source": [
    "query = ''' SELECT * \n",
    "            FROM authors \n",
    "            LIMIT 5 '''   \n",
    "pd.io.sql.read_sql(query, con = engine) "
   ]
  },
  {
   "cell_type": "code",
   "execution_count": 4,
   "metadata": {
    "scrolled": true
   },
   "outputs": [
    {
     "data": {
      "text/html": [
       "<div>\n",
       "<style scoped>\n",
       "    .dataframe tbody tr th:only-of-type {\n",
       "        vertical-align: middle;\n",
       "    }\n",
       "\n",
       "    .dataframe tbody tr th {\n",
       "        vertical-align: top;\n",
       "    }\n",
       "\n",
       "    .dataframe thead th {\n",
       "        text-align: right;\n",
       "    }\n",
       "</style>\n",
       "<table border=\"1\" class=\"dataframe\">\n",
       "  <thead>\n",
       "    <tr style=\"text-align: right;\">\n",
       "      <th></th>\n",
       "      <th>publisher_id</th>\n",
       "      <th>publisher</th>\n",
       "    </tr>\n",
       "  </thead>\n",
       "  <tbody>\n",
       "    <tr>\n",
       "      <td>0</td>\n",
       "      <td>1</td>\n",
       "      <td>Ace</td>\n",
       "    </tr>\n",
       "    <tr>\n",
       "      <td>1</td>\n",
       "      <td>2</td>\n",
       "      <td>Ace Book</td>\n",
       "    </tr>\n",
       "    <tr>\n",
       "      <td>2</td>\n",
       "      <td>3</td>\n",
       "      <td>Ace Books</td>\n",
       "    </tr>\n",
       "    <tr>\n",
       "      <td>3</td>\n",
       "      <td>4</td>\n",
       "      <td>Ace Hardcover</td>\n",
       "    </tr>\n",
       "    <tr>\n",
       "      <td>4</td>\n",
       "      <td>5</td>\n",
       "      <td>Addison Wesley Publishing Company</td>\n",
       "    </tr>\n",
       "  </tbody>\n",
       "</table>\n",
       "</div>"
      ],
      "text/plain": [
       "   publisher_id                          publisher\n",
       "0             1                                Ace\n",
       "1             2                           Ace Book\n",
       "2             3                          Ace Books\n",
       "3             4                      Ace Hardcover\n",
       "4             5  Addison Wesley Publishing Company"
      ]
     },
     "execution_count": 4,
     "metadata": {},
     "output_type": "execute_result"
    }
   ],
   "source": [
    "query = ''' SELECT * \n",
    "            FROM publishers \n",
    "            LIMIT 5 '''   \n",
    "pd.io.sql.read_sql(query, con = engine) "
   ]
  },
  {
   "cell_type": "code",
   "execution_count": 5,
   "metadata": {},
   "outputs": [
    {
     "data": {
      "text/html": [
       "<div>\n",
       "<style scoped>\n",
       "    .dataframe tbody tr th:only-of-type {\n",
       "        vertical-align: middle;\n",
       "    }\n",
       "\n",
       "    .dataframe tbody tr th {\n",
       "        vertical-align: top;\n",
       "    }\n",
       "\n",
       "    .dataframe thead th {\n",
       "        text-align: right;\n",
       "    }\n",
       "</style>\n",
       "<table border=\"1\" class=\"dataframe\">\n",
       "  <thead>\n",
       "    <tr style=\"text-align: right;\">\n",
       "      <th></th>\n",
       "      <th>rating_id</th>\n",
       "      <th>book_id</th>\n",
       "      <th>username</th>\n",
       "      <th>rating</th>\n",
       "    </tr>\n",
       "  </thead>\n",
       "  <tbody>\n",
       "    <tr>\n",
       "      <td>0</td>\n",
       "      <td>1</td>\n",
       "      <td>1</td>\n",
       "      <td>ryanfranco</td>\n",
       "      <td>4</td>\n",
       "    </tr>\n",
       "    <tr>\n",
       "      <td>1</td>\n",
       "      <td>2</td>\n",
       "      <td>1</td>\n",
       "      <td>grantpatricia</td>\n",
       "      <td>2</td>\n",
       "    </tr>\n",
       "    <tr>\n",
       "      <td>2</td>\n",
       "      <td>3</td>\n",
       "      <td>1</td>\n",
       "      <td>brandtandrea</td>\n",
       "      <td>5</td>\n",
       "    </tr>\n",
       "    <tr>\n",
       "      <td>3</td>\n",
       "      <td>4</td>\n",
       "      <td>2</td>\n",
       "      <td>lorichen</td>\n",
       "      <td>3</td>\n",
       "    </tr>\n",
       "    <tr>\n",
       "      <td>4</td>\n",
       "      <td>5</td>\n",
       "      <td>2</td>\n",
       "      <td>mariokeller</td>\n",
       "      <td>2</td>\n",
       "    </tr>\n",
       "  </tbody>\n",
       "</table>\n",
       "</div>"
      ],
      "text/plain": [
       "   rating_id  book_id       username  rating\n",
       "0          1        1     ryanfranco       4\n",
       "1          2        1  grantpatricia       2\n",
       "2          3        1   brandtandrea       5\n",
       "3          4        2       lorichen       3\n",
       "4          5        2    mariokeller       2"
      ]
     },
     "execution_count": 5,
     "metadata": {},
     "output_type": "execute_result"
    }
   ],
   "source": [
    "query = ''' SELECT * \n",
    "            FROM ratings \n",
    "            LIMIT 5 '''   \n",
    "pd.io.sql.read_sql(query, con = engine) "
   ]
  },
  {
   "cell_type": "code",
   "execution_count": 6,
   "metadata": {},
   "outputs": [
    {
     "data": {
      "text/html": [
       "<div>\n",
       "<style scoped>\n",
       "    .dataframe tbody tr th:only-of-type {\n",
       "        vertical-align: middle;\n",
       "    }\n",
       "\n",
       "    .dataframe tbody tr th {\n",
       "        vertical-align: top;\n",
       "    }\n",
       "\n",
       "    .dataframe thead th {\n",
       "        text-align: right;\n",
       "    }\n",
       "</style>\n",
       "<table border=\"1\" class=\"dataframe\">\n",
       "  <thead>\n",
       "    <tr style=\"text-align: right;\">\n",
       "      <th></th>\n",
       "      <th>review_id</th>\n",
       "      <th>book_id</th>\n",
       "      <th>username</th>\n",
       "      <th>text</th>\n",
       "    </tr>\n",
       "  </thead>\n",
       "  <tbody>\n",
       "    <tr>\n",
       "      <td>0</td>\n",
       "      <td>1</td>\n",
       "      <td>1</td>\n",
       "      <td>brandtandrea</td>\n",
       "      <td>Mention society tell send professor analysis. ...</td>\n",
       "    </tr>\n",
       "    <tr>\n",
       "      <td>1</td>\n",
       "      <td>2</td>\n",
       "      <td>1</td>\n",
       "      <td>ryanfranco</td>\n",
       "      <td>Foot glass pretty audience hit themselves. Amo...</td>\n",
       "    </tr>\n",
       "    <tr>\n",
       "      <td>2</td>\n",
       "      <td>3</td>\n",
       "      <td>2</td>\n",
       "      <td>lorichen</td>\n",
       "      <td>Listen treat keep worry. Miss husband tax but ...</td>\n",
       "    </tr>\n",
       "    <tr>\n",
       "      <td>3</td>\n",
       "      <td>4</td>\n",
       "      <td>3</td>\n",
       "      <td>johnsonamanda</td>\n",
       "      <td>Finally month interesting blue could nature cu...</td>\n",
       "    </tr>\n",
       "    <tr>\n",
       "      <td>4</td>\n",
       "      <td>5</td>\n",
       "      <td>3</td>\n",
       "      <td>scotttamara</td>\n",
       "      <td>Nation purpose heavy give wait song will. List...</td>\n",
       "    </tr>\n",
       "  </tbody>\n",
       "</table>\n",
       "</div>"
      ],
      "text/plain": [
       "   review_id  book_id       username  \\\n",
       "0          1        1   brandtandrea   \n",
       "1          2        1     ryanfranco   \n",
       "2          3        2       lorichen   \n",
       "3          4        3  johnsonamanda   \n",
       "4          5        3    scotttamara   \n",
       "\n",
       "                                                text  \n",
       "0  Mention society tell send professor analysis. ...  \n",
       "1  Foot glass pretty audience hit themselves. Amo...  \n",
       "2  Listen treat keep worry. Miss husband tax but ...  \n",
       "3  Finally month interesting blue could nature cu...  \n",
       "4  Nation purpose heavy give wait song will. List...  "
      ]
     },
     "execution_count": 6,
     "metadata": {},
     "output_type": "execute_result"
    }
   ],
   "source": [
    "query = ''' SELECT * \n",
    "            FROM reviews \n",
    "            LIMIT 5 '''   \n",
    "pd.io.sql.read_sql(query, con = engine) "
   ]
  },
  {
   "cell_type": "markdown",
   "metadata": {},
   "source": [
    "## Сколько книг вышло после 1 января 2000 года;"
   ]
  },
  {
   "cell_type": "code",
   "execution_count": 7,
   "metadata": {
    "scrolled": true
   },
   "outputs": [
    {
     "data": {
      "text/html": [
       "<div>\n",
       "<style scoped>\n",
       "    .dataframe tbody tr th:only-of-type {\n",
       "        vertical-align: middle;\n",
       "    }\n",
       "\n",
       "    .dataframe tbody tr th {\n",
       "        vertical-align: top;\n",
       "    }\n",
       "\n",
       "    .dataframe thead th {\n",
       "        text-align: right;\n",
       "    }\n",
       "</style>\n",
       "<table border=\"1\" class=\"dataframe\">\n",
       "  <thead>\n",
       "    <tr style=\"text-align: right;\">\n",
       "      <th></th>\n",
       "      <th>number_of_books</th>\n",
       "    </tr>\n",
       "  </thead>\n",
       "  <tbody>\n",
       "    <tr>\n",
       "      <td>0</td>\n",
       "      <td>821</td>\n",
       "    </tr>\n",
       "  </tbody>\n",
       "</table>\n",
       "</div>"
      ],
      "text/plain": [
       "   number_of_books\n",
       "0              821"
      ]
     },
     "execution_count": 7,
     "metadata": {},
     "output_type": "execute_result"
    }
   ],
   "source": [
    "query = ''' SELECT COUNT(DISTINCT book_id) AS number_of_books\n",
    "            FROM books\n",
    "            WHERE publication_date >= '2000-01-01' ''' \n",
    "pd.io.sql.read_sql(query, con = engine) "
   ]
  },
  {
   "cell_type": "code",
   "execution_count": 8,
   "metadata": {},
   "outputs": [
    {
     "data": {
      "text/html": [
       "<div>\n",
       "<style scoped>\n",
       "    .dataframe tbody tr th:only-of-type {\n",
       "        vertical-align: middle;\n",
       "    }\n",
       "\n",
       "    .dataframe tbody tr th {\n",
       "        vertical-align: top;\n",
       "    }\n",
       "\n",
       "    .dataframe thead th {\n",
       "        text-align: right;\n",
       "    }\n",
       "</style>\n",
       "<table border=\"1\" class=\"dataframe\">\n",
       "  <thead>\n",
       "    <tr style=\"text-align: right;\">\n",
       "      <th></th>\n",
       "      <th>number_of_books</th>\n",
       "    </tr>\n",
       "  </thead>\n",
       "  <tbody>\n",
       "    <tr>\n",
       "      <td>0</td>\n",
       "      <td>1000</td>\n",
       "    </tr>\n",
       "  </tbody>\n",
       "</table>\n",
       "</div>"
      ],
      "text/plain": [
       "   number_of_books\n",
       "0             1000"
      ]
     },
     "execution_count": 8,
     "metadata": {},
     "output_type": "execute_result"
    }
   ],
   "source": [
    "query = ''' SELECT COUNT(DISTINCT book_id) AS number_of_books\n",
    "            FROM books\n",
    "            ''' \n",
    "pd.io.sql.read_sql(query, con = engine)"
   ]
  },
  {
   "cell_type": "markdown",
   "metadata": {},
   "source": [
    "После 1 января 2020 года вышло 819 книг. Это большая часть всех существующих в магазине книг, так как всего было выпущено всего 1000 книг. Видимо пандемия хорошо влияет на творческие порывы писателей, надеемся, что они продолжат в том же духе. "
   ]
  },
  {
   "cell_type": "markdown",
   "metadata": {},
   "source": [
    "## Для каждой книги посчитайте количество обзоров и среднюю оценку"
   ]
  },
  {
   "cell_type": "code",
   "execution_count": 13,
   "metadata": {},
   "outputs": [
    {
     "data": {
      "text/html": [
       "<div>\n",
       "<style scoped>\n",
       "    .dataframe tbody tr th:only-of-type {\n",
       "        vertical-align: middle;\n",
       "    }\n",
       "\n",
       "    .dataframe tbody tr th {\n",
       "        vertical-align: top;\n",
       "    }\n",
       "\n",
       "    .dataframe thead th {\n",
       "        text-align: right;\n",
       "    }\n",
       "</style>\n",
       "<table border=\"1\" class=\"dataframe\">\n",
       "  <thead>\n",
       "    <tr style=\"text-align: right;\">\n",
       "      <th></th>\n",
       "      <th>name</th>\n",
       "      <th>number_reviews</th>\n",
       "      <th>average_rating</th>\n",
       "    </tr>\n",
       "  </thead>\n",
       "  <tbody>\n",
       "    <tr>\n",
       "      <td>0</td>\n",
       "      <td>'Salem's Lot</td>\n",
       "      <td>2</td>\n",
       "      <td>3.666667</td>\n",
       "    </tr>\n",
       "    <tr>\n",
       "      <td>1</td>\n",
       "      <td>1 000 Places to See Before You Die</td>\n",
       "      <td>1</td>\n",
       "      <td>2.500000</td>\n",
       "    </tr>\n",
       "    <tr>\n",
       "      <td>2</td>\n",
       "      <td>13 Little Blue Envelopes (Little Blue Envelope...</td>\n",
       "      <td>3</td>\n",
       "      <td>4.666667</td>\n",
       "    </tr>\n",
       "    <tr>\n",
       "      <td>3</td>\n",
       "      <td>1491: New Revelations of the Americas Before C...</td>\n",
       "      <td>2</td>\n",
       "      <td>4.500000</td>\n",
       "    </tr>\n",
       "    <tr>\n",
       "      <td>4</td>\n",
       "      <td>1776</td>\n",
       "      <td>4</td>\n",
       "      <td>4.000000</td>\n",
       "    </tr>\n",
       "    <tr>\n",
       "      <td>...</td>\n",
       "      <td>...</td>\n",
       "      <td>...</td>\n",
       "      <td>...</td>\n",
       "    </tr>\n",
       "    <tr>\n",
       "      <td>994</td>\n",
       "      <td>Wyrd Sisters (Discworld  #6; Witches #2)</td>\n",
       "      <td>3</td>\n",
       "      <td>3.666667</td>\n",
       "    </tr>\n",
       "    <tr>\n",
       "      <td>995</td>\n",
       "      <td>Xenocide (Ender's Saga  #3)</td>\n",
       "      <td>3</td>\n",
       "      <td>3.400000</td>\n",
       "    </tr>\n",
       "    <tr>\n",
       "      <td>996</td>\n",
       "      <td>Year of Wonders</td>\n",
       "      <td>4</td>\n",
       "      <td>3.200000</td>\n",
       "    </tr>\n",
       "    <tr>\n",
       "      <td>997</td>\n",
       "      <td>You Suck (A Love Story  #2)</td>\n",
       "      <td>2</td>\n",
       "      <td>4.500000</td>\n",
       "    </tr>\n",
       "    <tr>\n",
       "      <td>998</td>\n",
       "      <td>Zen and the Art of Motorcycle Maintenance: An ...</td>\n",
       "      <td>4</td>\n",
       "      <td>3.833333</td>\n",
       "    </tr>\n",
       "  </tbody>\n",
       "</table>\n",
       "<p>999 rows × 3 columns</p>\n",
       "</div>"
      ],
      "text/plain": [
       "                                                  name  number_reviews  \\\n",
       "0                                         'Salem's Lot               2   \n",
       "1                   1 000 Places to See Before You Die               1   \n",
       "2    13 Little Blue Envelopes (Little Blue Envelope...               3   \n",
       "3    1491: New Revelations of the Americas Before C...               2   \n",
       "4                                                 1776               4   \n",
       "..                                                 ...             ...   \n",
       "994           Wyrd Sisters (Discworld  #6; Witches #2)               3   \n",
       "995                        Xenocide (Ender's Saga  #3)               3   \n",
       "996                                    Year of Wonders               4   \n",
       "997                        You Suck (A Love Story  #2)               2   \n",
       "998  Zen and the Art of Motorcycle Maintenance: An ...               4   \n",
       "\n",
       "     average_rating  \n",
       "0          3.666667  \n",
       "1          2.500000  \n",
       "2          4.666667  \n",
       "3          4.500000  \n",
       "4          4.000000  \n",
       "..              ...  \n",
       "994        3.666667  \n",
       "995        3.400000  \n",
       "996        3.200000  \n",
       "997        4.500000  \n",
       "998        3.833333  \n",
       "\n",
       "[999 rows x 3 columns]"
      ]
     },
     "execution_count": 13,
     "metadata": {},
     "output_type": "execute_result"
    }
   ],
   "source": [
    "query='''SELECT \n",
    "        books.title AS name,\n",
    "        COUNT(DISTINCT reviews.review_id) AS number_reviews,\n",
    "        AVG(ratings.rating) AS average_rating\n",
    "        FROM\n",
    "        books\n",
    "        FULL OUTER  JOIN reviews ON reviews.book_id = books.book_id\n",
    "        FULL OUTER JOIN ratings ON ratings.book_id = books.book_id\n",
    "        GROUP BY \n",
    "        books.title\n",
    "            '''\n",
    "pd.io.sql.read_sql(query, con = engine) "
   ]
  },
  {
   "cell_type": "markdown",
   "metadata": {},
   "source": [
    "У книги \"Мемуары Гейши\" много  отзывов -8, и достаточно хороший рейтинг, 4,1. Так же видно, что у книг с рейтингом 5.0 чаще всего отзывов не так много, 2-3. Книга с самым низким рейтингом - \"Урожай сердца\". Существуют книги с абсолютно разными рейтингами и количествами отзывов. Наиболее популярна и любима публикой художественная литература и научпоп. Так же клиенты любят циклы книг по типу \"Песнь льда и пламени\". "
   ]
  },
  {
   "cell_type": "markdown",
   "metadata": {},
   "source": [
    "\n",
    "    \n",
    "В данных есть дубль по книге «Мемуары Гейши» (разные издательства)"
   ]
  },
  {
   "cell_type": "markdown",
   "metadata": {},
   "source": [
    "## Определите издательство, которое выпустило наибольшее число книг толще 50 страниц — так вы исключите из анализа брошюры;"
   ]
  },
  {
   "cell_type": "code",
   "execution_count": 10,
   "metadata": {},
   "outputs": [
    {
     "data": {
      "text/html": [
       "<div>\n",
       "<style scoped>\n",
       "    .dataframe tbody tr th:only-of-type {\n",
       "        vertical-align: middle;\n",
       "    }\n",
       "\n",
       "    .dataframe tbody tr th {\n",
       "        vertical-align: top;\n",
       "    }\n",
       "\n",
       "    .dataframe thead th {\n",
       "        text-align: right;\n",
       "    }\n",
       "</style>\n",
       "<table border=\"1\" class=\"dataframe\">\n",
       "  <thead>\n",
       "    <tr style=\"text-align: right;\">\n",
       "      <th></th>\n",
       "      <th>name</th>\n",
       "      <th>number_of_books</th>\n",
       "    </tr>\n",
       "  </thead>\n",
       "  <tbody>\n",
       "    <tr>\n",
       "      <td>0</td>\n",
       "      <td>Penguin Books</td>\n",
       "      <td>42</td>\n",
       "    </tr>\n",
       "  </tbody>\n",
       "</table>\n",
       "</div>"
      ],
      "text/plain": [
       "            name  number_of_books\n",
       "0  Penguin Books               42"
      ]
     },
     "execution_count": 10,
     "metadata": {},
     "output_type": "execute_result"
    }
   ],
   "source": [
    "query='''SELECT \n",
    "            publishers.publisher AS name,\n",
    "            COUNT(books.num_pages>50) AS number_of_books\n",
    "        FROM\n",
    "            books\n",
    "            INNER JOIN publishers ON publishers.publisher_id = books.publisher_id\n",
    "        GROUP BY \n",
    "            publishers.publisher\n",
    "        ORDER BY\n",
    "            number_of_books DESC\n",
    "        LIMIT 1\n",
    "        '''\n",
    "pd.io.sql.read_sql(query, con = engine) "
   ]
  },
  {
   "cell_type": "markdown",
   "metadata": {},
   "source": [
    "Самое продуктивное издательство -  \"Penguin Books\". Они выпустили 42 книги. "
   ]
  },
  {
   "cell_type": "markdown",
   "metadata": {},
   "source": [
    "## Определите автора с самой высокой средней оценкой книг — учитывайте только книги с 50 и более оценками;"
   ]
  },
  {
   "cell_type": "code",
   "execution_count": 11,
   "metadata": {},
   "outputs": [
    {
     "data": {
      "text/html": [
       "<div>\n",
       "<style scoped>\n",
       "    .dataframe tbody tr th:only-of-type {\n",
       "        vertical-align: middle;\n",
       "    }\n",
       "\n",
       "    .dataframe tbody tr th {\n",
       "        vertical-align: top;\n",
       "    }\n",
       "\n",
       "    .dataframe thead th {\n",
       "        text-align: right;\n",
       "    }\n",
       "</style>\n",
       "<table border=\"1\" class=\"dataframe\">\n",
       "  <thead>\n",
       "    <tr style=\"text-align: right;\">\n",
       "      <th></th>\n",
       "      <th>author_name</th>\n",
       "      <th>avg_rating</th>\n",
       "    </tr>\n",
       "  </thead>\n",
       "  <tbody>\n",
       "    <tr>\n",
       "      <td>0</td>\n",
       "      <td>J.K. Rowling/Mary GrandPré</td>\n",
       "      <td>4.288462</td>\n",
       "    </tr>\n",
       "  </tbody>\n",
       "</table>\n",
       "</div>"
      ],
      "text/plain": [
       "                  author_name  avg_rating\n",
       "0  J.K. Rowling/Mary GrandPré    4.288462"
      ]
     },
     "execution_count": 11,
     "metadata": {},
     "output_type": "execute_result"
    }
   ],
   "source": [
    "query='''SELECT \n",
    "            authors.author AS author_name,\n",
    "            \n",
    "            AVG(ratings.rating) AS avg_rating\n",
    "        FROM\n",
    "            books\n",
    "            INNER JOIN ratings ON ratings.book_id = books.book_id\n",
    "            INNER JOIN authors ON authors.author_id = books.author_id\n",
    "        WHERE authors.author_id IN(\n",
    "            SELECT books.author_id\n",
    "            FROM books \n",
    "            WHERE books.book_id in (\n",
    "                SELECT ratings.book_id\n",
    "                FROM ratings \n",
    "                GROUP  BY ratings.book_id\n",
    "                HAVING count(ratings.rating_id) > 50)) \n",
    "        GROUP BY authors.author, authors.author_id\n",
    "        ORDER BY avg_rating DESC\n",
    "        LIMIT 1\n",
    "\n",
    "        '''\n",
    "pd.io.sql.read_sql(query, con = engine) "
   ]
  },
  {
   "cell_type": "markdown",
   "metadata": {},
   "source": [
    "Самым популярным автором является J.K. Rowling/Mary GrandPré, средний рейтинг у них 4,29. Джоан Роулинг работала с Мари над серией про Гарри Поттера, этот цикл был и отстается очень популярным среди читателей абсолютно разного возраста. "
   ]
  },
  {
   "cell_type": "markdown",
   "metadata": {},
   "source": [
    "## Посчитайте среднее количество обзоров от пользователей, которые поставили больше 50 оценок."
   ]
  },
  {
   "cell_type": "code",
   "execution_count": 12,
   "metadata": {},
   "outputs": [
    {
     "data": {
      "text/html": [
       "<div>\n",
       "<style scoped>\n",
       "    .dataframe tbody tr th:only-of-type {\n",
       "        vertical-align: middle;\n",
       "    }\n",
       "\n",
       "    .dataframe tbody tr th {\n",
       "        vertical-align: top;\n",
       "    }\n",
       "\n",
       "    .dataframe thead th {\n",
       "        text-align: right;\n",
       "    }\n",
       "</style>\n",
       "<table border=\"1\" class=\"dataframe\">\n",
       "  <thead>\n",
       "    <tr style=\"text-align: right;\">\n",
       "      <th></th>\n",
       "      <th>avg_count</th>\n",
       "    </tr>\n",
       "  </thead>\n",
       "  <tbody>\n",
       "    <tr>\n",
       "      <td>0</td>\n",
       "      <td>24.333333</td>\n",
       "    </tr>\n",
       "  </tbody>\n",
       "</table>\n",
       "</div>"
      ],
      "text/plain": [
       "   avg_count\n",
       "0  24.333333"
      ]
     },
     "execution_count": 12,
     "metadata": {},
     "output_type": "execute_result"
    }
   ],
   "source": [
    "query='''SELECT         \n",
    "                SUM(Sub_table.count_reviews)/COUNT(Sub_table.count_reviews) AS avg_count\n",
    "\n",
    "        FROM(    \n",
    "            SELECT reviews.username, \n",
    "            COUNT(reviews.username) AS count_reviews\n",
    "        FROM reviews\n",
    "        WHERE reviews.username IN (\n",
    "                                SELECT ratings.username\n",
    "                                FROM ratings\n",
    "                                GROUP BY ratings.username\n",
    "                                HAVING COUNT(ratings.rating_id) > 50\n",
    "    \n",
    "                                )\n",
    "    GROUP BY username) AS Sub_table\n",
    "\n",
    "        '''\n",
    "pd.io.sql.read_sql(query, con = engine) "
   ]
  },
  {
   "cell_type": "markdown",
   "metadata": {},
   "source": [
    "В среднем количество обзоров от активных пользователей - 24,3. Это достаточно много. Немногие любят оставлять отзывы, но это помогает другим читателям выбрать новую книгу для покупки. "
   ]
  },
  {
   "cell_type": "markdown",
   "metadata": {},
   "source": [
    "## Вывод\n",
    "\n",
    "\n",
    "Глядя на результаты наших исследований можно выявить самых популярных авторов, книг и издательств. Эту информацию можно использовать для рекламы и рекомендаций. Так же автор с самой высокой средней оценкой можно считать по-настоящему популярным, ведь его оценили больше 50 людей. Книги, написанные популярными авторами можно вынести в отдельную таблицу \n",
    "\n",
    "\n",
    "Таблица best_author_ever, в ней лежит список авторов с самой выской средней оценкой, так как у этих авторов учтены книги которые имеют больше 50 пользовательских оценок, то эти оценки можно считать \"правдивыми\". Обязательно нужно включить книги этих авторов, а в таблице ratings_reviews, как раз есть книги со средней оценкой и пользовательскими обзорами, стоит обратить внимание на книги, где кол-во обзоров больше 3, так как достаточно много завышенных оценок с 2 обзорами . Так же среднее количество текстовых обзоров на книги более чем 50 оценками имеют в среднем 24 текстовых обзора, что будет достаточно информативно для будущих пользователей."
   ]
  }
 ],
 "metadata": {
  "ExecuteTimeLog": [
   {
    "duration": 310,
    "start_time": "2021-08-04T08:04:57.444Z"
   },
   {
    "duration": 808,
    "start_time": "2021-08-04T08:05:05.996Z"
   },
   {
    "duration": 202,
    "start_time": "2021-08-04T08:05:06.807Z"
   },
   {
    "duration": 55,
    "start_time": "2021-08-04T08:05:07.012Z"
   },
   {
    "duration": 55,
    "start_time": "2021-08-04T08:05:07.069Z"
   },
   {
    "duration": 55,
    "start_time": "2021-08-04T08:05:07.127Z"
   },
   {
    "duration": 56,
    "start_time": "2021-08-04T08:05:07.185Z"
   },
   {
    "duration": 55,
    "start_time": "2021-08-04T08:05:07.243Z"
   },
   {
    "duration": 54,
    "start_time": "2021-08-04T08:05:07.301Z"
   },
   {
    "duration": 67,
    "start_time": "2021-08-04T08:05:07.358Z"
   },
   {
    "duration": 56,
    "start_time": "2021-08-04T08:05:07.427Z"
   },
   {
    "duration": 60,
    "start_time": "2021-08-04T08:05:07.485Z"
   },
   {
    "duration": 57,
    "start_time": "2021-08-04T08:05:07.547Z"
   },
   {
    "duration": 72,
    "start_time": "2021-08-04T08:07:09.527Z"
   },
   {
    "duration": 73,
    "start_time": "2021-08-04T08:07:15.476Z"
   },
   {
    "duration": 74,
    "start_time": "2021-08-04T08:07:20.358Z"
   },
   {
    "duration": 74,
    "start_time": "2021-08-04T08:07:42.462Z"
   },
   {
    "duration": 393,
    "start_time": "2021-08-04T08:07:53.373Z"
   },
   {
    "duration": 74,
    "start_time": "2021-08-04T08:07:54.767Z"
   },
   {
    "duration": 76,
    "start_time": "2021-08-04T08:08:41.270Z"
   },
   {
    "duration": 73,
    "start_time": "2021-08-04T08:09:49.010Z"
   },
   {
    "duration": 69,
    "start_time": "2021-08-04T08:13:36.968Z"
   },
   {
    "duration": 73,
    "start_time": "2021-08-04T08:51:05.831Z"
   },
   {
    "duration": 73,
    "start_time": "2021-08-04T08:51:18.108Z"
   },
   {
    "duration": 57,
    "start_time": "2021-08-04T08:54:14.410Z"
   },
   {
    "duration": 776,
    "start_time": "2021-08-04T13:39:10.308Z"
   },
   {
    "duration": 314,
    "start_time": "2021-08-04T13:39:11.087Z"
   },
   {
    "duration": 78,
    "start_time": "2021-08-04T13:39:11.405Z"
   },
   {
    "duration": 86,
    "start_time": "2021-08-04T13:39:11.486Z"
   },
   {
    "duration": 79,
    "start_time": "2021-08-04T13:39:11.574Z"
   },
   {
    "duration": 80,
    "start_time": "2021-08-04T13:39:11.655Z"
   },
   {
    "duration": 78,
    "start_time": "2021-08-04T13:39:11.738Z"
   },
   {
    "duration": 77,
    "start_time": "2021-08-04T13:39:11.819Z"
   },
   {
    "duration": 96,
    "start_time": "2021-08-04T13:39:11.901Z"
   },
   {
    "duration": 80,
    "start_time": "2021-08-04T13:39:12.001Z"
   },
   {
    "duration": 84,
    "start_time": "2021-08-04T13:39:12.084Z"
   },
   {
    "duration": 80,
    "start_time": "2021-08-04T13:39:12.170Z"
   },
   {
    "duration": 118,
    "start_time": "2021-08-04T13:40:55.002Z"
   },
   {
    "duration": 91,
    "start_time": "2021-08-04T13:40:58.253Z"
   },
   {
    "duration": 655,
    "start_time": "2021-08-04T16:55:33.870Z"
   },
   {
    "duration": 275,
    "start_time": "2021-08-04T16:55:34.526Z"
   },
   {
    "duration": 75,
    "start_time": "2021-08-04T16:55:34.803Z"
   },
   {
    "duration": 75,
    "start_time": "2021-08-04T16:55:34.880Z"
   },
   {
    "duration": 75,
    "start_time": "2021-08-04T16:55:34.957Z"
   },
   {
    "duration": 75,
    "start_time": "2021-08-04T16:55:35.034Z"
   },
   {
    "duration": 74,
    "start_time": "2021-08-04T16:55:35.111Z"
   },
   {
    "duration": 74,
    "start_time": "2021-08-04T16:55:35.186Z"
   },
   {
    "duration": 113,
    "start_time": "2021-08-04T16:55:35.262Z"
   },
   {
    "duration": 75,
    "start_time": "2021-08-04T16:55:35.376Z"
   },
   {
    "duration": 78,
    "start_time": "2021-08-04T16:55:35.453Z"
   },
   {
    "duration": 75,
    "start_time": "2021-08-04T16:55:35.533Z"
   },
   {
    "duration": 647,
    "start_time": "2021-08-04T17:00:23.413Z"
   },
   {
    "duration": 280,
    "start_time": "2021-08-04T17:00:24.062Z"
   },
   {
    "duration": 75,
    "start_time": "2021-08-04T17:00:24.344Z"
   },
   {
    "duration": 73,
    "start_time": "2021-08-04T17:00:24.421Z"
   },
   {
    "duration": 75,
    "start_time": "2021-08-04T17:00:24.496Z"
   },
   {
    "duration": 81,
    "start_time": "2021-08-04T17:00:24.573Z"
   },
   {
    "duration": 73,
    "start_time": "2021-08-04T17:00:24.655Z"
   },
   {
    "duration": 74,
    "start_time": "2021-08-04T17:00:24.730Z"
   },
   {
    "duration": 112,
    "start_time": "2021-08-04T17:00:24.806Z"
   },
   {
    "duration": 74,
    "start_time": "2021-08-04T17:00:24.920Z"
   },
   {
    "duration": 78,
    "start_time": "2021-08-04T17:00:24.996Z"
   },
   {
    "duration": 76,
    "start_time": "2021-08-04T17:00:25.075Z"
   },
   {
    "duration": 73,
    "start_time": "2021-08-04T17:01:56.480Z"
   },
   {
    "duration": 73,
    "start_time": "2021-08-04T17:01:58.548Z"
   },
   {
    "duration": 75,
    "start_time": "2021-08-04T17:02:08.220Z"
   },
   {
    "duration": 74,
    "start_time": "2021-08-04T17:02:17.505Z"
   },
   {
    "duration": 648,
    "start_time": "2021-08-04T17:02:30.365Z"
   },
   {
    "duration": 254,
    "start_time": "2021-08-04T17:02:31.015Z"
   },
   {
    "duration": 69,
    "start_time": "2021-08-04T17:02:31.271Z"
   },
   {
    "duration": 70,
    "start_time": "2021-08-04T17:02:31.342Z"
   },
   {
    "duration": 70,
    "start_time": "2021-08-04T17:02:31.413Z"
   },
   {
    "duration": 69,
    "start_time": "2021-08-04T17:02:31.484Z"
   },
   {
    "duration": 68,
    "start_time": "2021-08-04T17:02:31.555Z"
   },
   {
    "duration": 70,
    "start_time": "2021-08-04T17:02:31.625Z"
   },
   {
    "duration": 106,
    "start_time": "2021-08-04T17:02:31.697Z"
   },
   {
    "duration": 72,
    "start_time": "2021-08-04T17:02:31.804Z"
   },
   {
    "duration": 74,
    "start_time": "2021-08-04T17:02:31.878Z"
   },
   {
    "duration": 71,
    "start_time": "2021-08-04T17:02:31.953Z"
   },
   {
    "duration": 896,
    "start_time": "2021-08-04T20:25:43.321Z"
   },
   {
    "duration": 222,
    "start_time": "2021-08-04T20:25:44.219Z"
   },
   {
    "duration": 61,
    "start_time": "2021-08-04T20:25:44.444Z"
   },
   {
    "duration": 61,
    "start_time": "2021-08-04T20:25:44.507Z"
   },
   {
    "duration": 63,
    "start_time": "2021-08-04T20:25:44.570Z"
   },
   {
    "duration": 66,
    "start_time": "2021-08-04T20:25:44.635Z"
   },
   {
    "duration": 60,
    "start_time": "2021-08-04T20:25:44.704Z"
   },
   {
    "duration": 59,
    "start_time": "2021-08-04T20:25:44.767Z"
   },
   {
    "duration": 95,
    "start_time": "2021-08-04T20:25:44.828Z"
   },
   {
    "duration": 60,
    "start_time": "2021-08-04T20:25:44.926Z"
   },
   {
    "duration": 75,
    "start_time": "2021-08-04T20:25:44.989Z"
   },
   {
    "duration": 65,
    "start_time": "2021-08-04T20:25:45.067Z"
   },
   {
    "duration": 620,
    "start_time": "2021-08-04T21:02:24.345Z"
   },
   {
    "duration": 269,
    "start_time": "2021-08-04T21:02:24.967Z"
   },
   {
    "duration": 69,
    "start_time": "2021-08-04T21:02:25.239Z"
   },
   {
    "duration": 70,
    "start_time": "2021-08-04T21:02:25.310Z"
   },
   {
    "duration": 71,
    "start_time": "2021-08-04T21:02:25.381Z"
   },
   {
    "duration": 71,
    "start_time": "2021-08-04T21:02:25.453Z"
   },
   {
    "duration": 69,
    "start_time": "2021-08-04T21:02:25.526Z"
   },
   {
    "duration": 69,
    "start_time": "2021-08-04T21:02:25.597Z"
   },
   {
    "duration": 107,
    "start_time": "2021-08-04T21:02:25.668Z"
   },
   {
    "duration": 71,
    "start_time": "2021-08-04T21:02:25.776Z"
   },
   {
    "duration": 74,
    "start_time": "2021-08-04T21:02:25.849Z"
   },
   {
    "duration": 71,
    "start_time": "2021-08-04T21:02:25.925Z"
   },
   {
    "duration": 312,
    "start_time": "2021-08-04T21:03:06.918Z"
   },
   {
    "duration": 104,
    "start_time": "2021-08-04T21:03:29.142Z"
   },
   {
    "duration": 107,
    "start_time": "2021-08-04T21:03:38.607Z"
   },
   {
    "duration": 106,
    "start_time": "2021-08-04T21:08:18.596Z"
   },
   {
    "duration": 104,
    "start_time": "2021-08-04T21:14:36.493Z"
   },
   {
    "duration": 638,
    "start_time": "2021-08-04T21:14:48.056Z"
   },
   {
    "duration": 262,
    "start_time": "2021-08-04T21:14:48.696Z"
   },
   {
    "duration": 76,
    "start_time": "2021-08-04T21:14:48.960Z"
   },
   {
    "duration": 72,
    "start_time": "2021-08-04T21:14:49.037Z"
   },
   {
    "duration": 73,
    "start_time": "2021-08-04T21:14:49.111Z"
   },
   {
    "duration": 73,
    "start_time": "2021-08-04T21:14:49.185Z"
   },
   {
    "duration": 71,
    "start_time": "2021-08-04T21:14:49.260Z"
   },
   {
    "duration": 72,
    "start_time": "2021-08-04T21:14:49.334Z"
   },
   {
    "duration": 110,
    "start_time": "2021-08-04T21:14:49.408Z"
   },
   {
    "duration": 74,
    "start_time": "2021-08-04T21:14:49.519Z"
   },
   {
    "duration": 78,
    "start_time": "2021-08-04T21:14:49.595Z"
   },
   {
    "duration": 75,
    "start_time": "2021-08-04T21:14:49.674Z"
   },
   {
    "duration": 609,
    "start_time": "2021-08-04T21:16:08.416Z"
   },
   {
    "duration": 260,
    "start_time": "2021-08-04T21:16:09.027Z"
   },
   {
    "duration": 72,
    "start_time": "2021-08-04T21:16:09.289Z"
   },
   {
    "duration": 71,
    "start_time": "2021-08-04T21:16:09.362Z"
   },
   {
    "duration": 71,
    "start_time": "2021-08-04T21:16:09.435Z"
   },
   {
    "duration": 72,
    "start_time": "2021-08-04T21:16:09.508Z"
   },
   {
    "duration": 70,
    "start_time": "2021-08-04T21:16:09.583Z"
   },
   {
    "duration": 71,
    "start_time": "2021-08-04T21:16:09.656Z"
   },
   {
    "duration": 111,
    "start_time": "2021-08-04T21:16:09.728Z"
   },
   {
    "duration": 71,
    "start_time": "2021-08-04T21:16:09.841Z"
   },
   {
    "duration": 76,
    "start_time": "2021-08-04T21:16:09.914Z"
   },
   {
    "duration": 74,
    "start_time": "2021-08-04T21:16:09.992Z"
   },
   {
    "duration": 108,
    "start_time": "2021-08-04T21:17:04.496Z"
   },
   {
    "duration": 111,
    "start_time": "2021-08-04T21:17:09.106Z"
   },
   {
    "duration": 109,
    "start_time": "2021-08-04T21:17:16.183Z"
   },
   {
    "duration": 114,
    "start_time": "2021-08-04T21:17:22.405Z"
   },
   {
    "duration": 108,
    "start_time": "2021-08-04T21:17:28.935Z"
   },
   {
    "duration": 614,
    "start_time": "2021-08-04T21:17:40.617Z"
   },
   {
    "duration": 248,
    "start_time": "2021-08-04T21:17:41.233Z"
   },
   {
    "duration": 72,
    "start_time": "2021-08-04T21:17:41.483Z"
   },
   {
    "duration": 72,
    "start_time": "2021-08-04T21:17:41.557Z"
   },
   {
    "duration": 70,
    "start_time": "2021-08-04T21:17:41.631Z"
   },
   {
    "duration": 71,
    "start_time": "2021-08-04T21:17:41.703Z"
   },
   {
    "duration": 70,
    "start_time": "2021-08-04T21:17:41.776Z"
   },
   {
    "duration": 68,
    "start_time": "2021-08-04T21:17:41.848Z"
   },
   {
    "duration": 104,
    "start_time": "2021-08-04T21:17:41.918Z"
   },
   {
    "duration": 69,
    "start_time": "2021-08-04T21:17:42.024Z"
   },
   {
    "duration": 73,
    "start_time": "2021-08-04T21:17:42.094Z"
   },
   {
    "duration": 71,
    "start_time": "2021-08-04T21:17:42.169Z"
   },
   {
    "duration": 202,
    "start_time": "2021-08-05T08:44:48.843Z"
   },
   {
    "duration": 616,
    "start_time": "2021-08-05T08:44:53.218Z"
   },
   {
    "duration": 256,
    "start_time": "2021-08-05T08:44:53.836Z"
   },
   {
    "duration": 71,
    "start_time": "2021-08-05T08:44:54.094Z"
   },
   {
    "duration": 70,
    "start_time": "2021-08-05T08:44:54.167Z"
   },
   {
    "duration": 69,
    "start_time": "2021-08-05T08:44:54.238Z"
   },
   {
    "duration": 69,
    "start_time": "2021-08-05T08:44:54.309Z"
   },
   {
    "duration": 68,
    "start_time": "2021-08-05T08:44:54.380Z"
   },
   {
    "duration": 68,
    "start_time": "2021-08-05T08:44:54.451Z"
   },
   {
    "duration": 108,
    "start_time": "2021-08-05T08:44:54.521Z"
   },
   {
    "duration": 71,
    "start_time": "2021-08-05T08:44:54.630Z"
   },
   {
    "duration": 74,
    "start_time": "2021-08-05T08:44:54.703Z"
   },
   {
    "duration": 70,
    "start_time": "2021-08-05T08:44:54.778Z"
   },
   {
    "duration": 104,
    "start_time": "2021-08-05T09:52:23.379Z"
   },
   {
    "duration": 63,
    "start_time": "2021-08-05T09:52:45.027Z"
   },
   {
    "duration": 70,
    "start_time": "2021-08-05T09:52:50.861Z"
   },
   {
    "duration": 72,
    "start_time": "2021-08-05T09:52:59.021Z"
   }
  ],
  "kernelspec": {
   "display_name": "Python 3",
   "language": "python",
   "name": "python3"
  },
  "language_info": {
   "codemirror_mode": {
    "name": "ipython",
    "version": 3
   },
   "file_extension": ".py",
   "mimetype": "text/x-python",
   "name": "python",
   "nbconvert_exporter": "python",
   "pygments_lexer": "ipython3",
   "version": "3.7.8"
  },
  "toc": {
   "base_numbering": 1,
   "nav_menu": {},
   "number_sections": true,
   "sideBar": true,
   "skip_h1_title": true,
   "title_cell": "Table of Contents",
   "title_sidebar": "Contents",
   "toc_cell": false,
   "toc_position": {},
   "toc_section_display": true,
   "toc_window_display": false
  }
 },
 "nbformat": 4,
 "nbformat_minor": 2
}
