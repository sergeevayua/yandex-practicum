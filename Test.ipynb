{
  "nbformat": 4,
  "nbformat_minor": 0,
  "metadata": {
    "colab": {
      "name": "Test.ipynb",
      "provenance": [],
      "authorship_tag": "ABX9TyOTVvs5yaLooCMEPhg/26b8",
      "include_colab_link": true
    },
    "kernelspec": {
      "name": "python3",
      "display_name": "Python 3"
    },
    "language_info": {
      "name": "python"
    }
  },
  "cells": [
    {
      "cell_type": "markdown",
      "metadata": {
        "id": "view-in-github",
        "colab_type": "text"
      },
      "source": [
        "<a href=\"https://colab.research.google.com/github/sergeevayua/yandex-practicum/blob/main/Test.ipynb\" target=\"_parent\"><img src=\"https://colab.research.google.com/assets/colab-badge.svg\" alt=\"Open In Colab\"/></a>"
      ]
    },
    {
      "cell_type": "markdown",
      "metadata": {
        "id": "aaVPaLUNJM8r"
      },
      "source": [
        "# Тестовое задание"
      ]
    },
    {
      "cell_type": "markdown",
      "metadata": {
        "id": "WM1oq6PZHF-k"
      },
      "source": [
        "\n",
        "\n",
        "\n",
        "Gnomes are mining gold periodically reporting their bounty. On this mining operation \n",
        "there were two generation of tools being used, some gnomes were equipped with 1st generation tools, \n",
        "others with 2nd generation. After the introduction of new generation tooling Gnome Inc CEO noticed that \n",
        "performance didn’t match his expectations. You as an analyst of Gnome Inc should confirm or reject CEO \n",
        "worries supporting your findings by cold hard data.\n",
        "\n",
        "### Подготовка данных и первый взгляд "
      ]
    },
    {
      "cell_type": "code",
      "metadata": {
        "id": "eqbTH8Cy-Z43"
      },
      "source": [
        "import pandas as pd #импортируем пандас для работы с таблицей\n",
        "import matplotlib.pyplot as plt # для построения графиков\n",
        "import seaborn as sns # для построения графиков\n"
      ],
      "execution_count": 1,
      "outputs": []
    },
    {
      "cell_type": "code",
      "metadata": {
        "id": "6Csut1-S-i9N"
      },
      "source": [
        "gold_mining_data=pd.read_csv('gold_mining_data.csv')"
      ],
      "execution_count": 2,
      "outputs": []
    },
    {
      "cell_type": "code",
      "metadata": {
        "colab": {
          "base_uri": "https://localhost:8080/"
        },
        "id": "nFc1_z-m-qWR",
        "outputId": "21629cb1-af08-4580-b1ef-6fecad12d8b3"
      },
      "source": [
        "print(gold_mining_data.info())"
      ],
      "execution_count": 3,
      "outputs": [
        {
          "output_type": "stream",
          "name": "stdout",
          "text": [
            "<class 'pandas.core.frame.DataFrame'>\n",
            "RangeIndex: 13493 entries, 0 to 13492\n",
            "Data columns (total 5 columns):\n",
            " #   Column         Non-Null Count  Dtype \n",
            "---  ------         --------------  ----- \n",
            " 0   dwarf_id       13493 non-null  int64 \n",
            " 1   hired_date     13493 non-null  object\n",
            " 2   reported_date  13493 non-null  object\n",
            " 3   gold_mined     13493 non-null  int64 \n",
            " 4   hammer_date    13493 non-null  object\n",
            "dtypes: int64(2), object(3)\n",
            "memory usage: 527.2+ KB\n",
            "None\n"
          ]
        }
      ]
    },
    {
      "cell_type": "markdown",
      "metadata": {
        "id": "BLTBuaL7Jg0b"
      },
      "source": [
        "Пропусков в данных нет, нужно только изменить тип данных для дат. "
      ]
    },
    {
      "cell_type": "code",
      "metadata": {
        "id": "SCQzlWseGMGP"
      },
      "source": [
        "def to_date(data,col):\n",
        "    data[col]=pd.to_datetime(data[col], format='%Y-%m-%d')\n",
        "to_date(gold_mining_data,'hired_date')\n",
        "to_date(gold_mining_data,'reported_date')\n",
        "to_date(gold_mining_data,'hammer_date')\n"
      ],
      "execution_count": 4,
      "outputs": []
    },
    {
      "cell_type": "markdown",
      "metadata": {
        "id": "HPAnB67C9VRb"
      },
      "source": [
        "Мы изменили тип данных для дат.\n",
        "## Распределение количества добытого золота\n",
        "Наша задача - понять почему CEO подумал, что продуктивность кирок 2-го поколения не соответствует ожиданиями и доказать обратное. Для того чтобы оценить разницу в продуктивности кирок старого и нового поколения, разделим наш датасет на два - с кирками нового и старого поколения и построим гистограммы по количеству добытого золота за все время. "
      ]
    },
    {
      "cell_type": "code",
      "metadata": {
        "colab": {
          "base_uri": "https://localhost:8080/",
          "height": 351
        },
        "id": "iG4qvPcGd0yH",
        "outputId": "6f7b2501-7ae5-43a0-c0fe-9c53f0805e2c"
      },
      "source": [
        "gold_mining_data_1_old=gold_mining_data.loc[gold_mining_data['hammer_date']=='2014-01-01']\n",
        "gold_mining_data_1_old['dwarf_id'].nunique()\n",
        "gold_mining_data_2_old=gold_mining_data.loc[gold_mining_data['hammer_date']=='2015-01-01']\n",
        "gold_mining_data_2_old['dwarf_id'].nunique()\n",
        "fig, ax = plt.subplots(figsize=(10,5))\n",
        "gold_mining_data_1_old['gold_mined'].plot(kind='hist', ec='black', bins=50, label='old')\n",
        "gold_mining_data_2_old['gold_mined'].plot(kind='hist', ec='black', bins=50,label='new')\n",
        "\n",
        "plt.xlabel('Количество добытого золота')\n",
        "plt.ylabel('Частота')\n",
        "plt.legend(['old','new'])\n",
        "\n"
      ],
      "execution_count": 5,
      "outputs": [
        {
          "output_type": "execute_result",
          "data": {
            "text/plain": [
              "<matplotlib.legend.Legend at 0x7f33901d20d0>"
            ]
          },
          "metadata": {},
          "execution_count": 5
        },
        {
          "output_type": "display_data",
          "data": {
            "image/png": "[encoded data removed]",
            "text/plain": [
              "<Figure size 720x360 with 1 Axes>"
            ]
          },
          "metadata": {
            "needs_background": "light"
          }
        }
      ]
    },
    {
      "cell_type": "markdown",
      "metadata": {
        "id": "O4OeAj-hES5V"
      },
      "source": [
        "По графику распределения видно, что эффективность кирок второго поколения выше, однако ненамного, пик распределения находится правее по оси Х, значит что в среднем гномы с кирками нового поколения добывают больше золота, чем гномы с кирками старого поколения. Однако, давайте более внимательно посмотрим на наш датасет."
      ]
    },
    {
      "cell_type": "code",
      "metadata": {
        "colab": {
          "base_uri": "https://localhost:8080/"
        },
        "id": "a5C_wp3YfT1v",
        "outputId": "ad2c9ffe-e444-4745-a837-fddb5c921e8d"
      },
      "source": [
        "#посмотрим на число гномов в 1-м и 2-м датасете\n",
        "print(gold_mining_data_1_old['dwarf_id'].nunique())\n",
        "print(gold_mining_data_2_old['dwarf_id'].nunique())"
      ],
      "execution_count": 6,
      "outputs": [
        {
          "output_type": "stream",
          "name": "stdout",
          "text": [
            "531\n",
            "2146\n"
          ]
        }
      ]
    },
    {
      "cell_type": "markdown",
      "metadata": {
        "id": "NnsV_obqE6_x"
      },
      "source": [
        "Видно, что число гномов с кирками нового поколения примерно в 4 раза меньше, чем число гномов второго поколения. А добыли золота они немного меньше. \n",
        "## Сравнение количества отработанных смен \n",
        "Может быть дело в числе \"смен\" отработаных гномами с кирками разных поколений, скорее всего данных по киркам старого поколения у нас больше. "
      ]
    },
    {
      "cell_type": "code",
      "metadata": {
        "colab": {
          "base_uri": "https://localhost:8080/"
        },
        "id": "4C24TL_6E8pq",
        "outputId": "08fd4ef6-ec4b-4599-dca2-45d2ae62dd86"
      },
      "source": [
        "print('Среднее количество смен, отработанных гномами с кирками старого поколения: ',gold_mining_data_1_old.groupby('dwarf_id')['reported_date'].count().mean())\n",
        "print('Среднее количество смен, отработанных гномами с кирками нового поколения: ',gold_mining_data_2_old.groupby('dwarf_id')['reported_date'].count().mean())\n"
      ],
      "execution_count": 7,
      "outputs": [
        {
          "output_type": "stream",
          "name": "stdout",
          "text": [
            "Среднее количество смен, отработанных гномами с кирками старого поколения:  12.76271186440678\n",
            "Среднее количество смен, отработанных гномами с кирками нового поколения:  3.1295433364398884\n"
          ]
        }
      ]
    },
    {
      "cell_type": "markdown",
      "metadata": {
        "id": "GBF9vdqIFy3W"
      },
      "source": [
        "Логично, что гномы с кирками старого поколения добыли так много золота, ведь среднее количество отработанных ими смен равно 12,7, а данных по гномам с кирками нового поколения значительно меньше - у них среднее количество отработанных смен - 3,13. Посмоторим на столбец 'reported_date' внимательнее. "
      ]
    },
    {
      "cell_type": "code",
      "metadata": {
        "colab": {
          "base_uri": "https://localhost:8080/"
        },
        "id": "XA610ZZy-s3q",
        "outputId": "e7326d5d-db67-42a8-ca2e-385e1a3633f7"
      },
      "source": [
        "print(gold_mining_data.head())"
      ],
      "execution_count": 8,
      "outputs": [
        {
          "output_type": "stream",
          "name": "stdout",
          "text": [
            "   dwarf_id hired_date reported_date  gold_mined hammer_date\n",
            "0         1 2014-01-01    2014-01-31         656  2014-01-01\n",
            "1         1 2014-01-01    2014-02-28         565  2014-01-01\n",
            "2         1 2014-01-01    2014-03-31         516  2014-01-01\n",
            "3         1 2014-01-01    2014-04-30         568  2014-01-01\n",
            "4         1 2014-01-01    2014-05-31         556  2014-01-01\n"
          ]
        }
      ]
    },
    {
      "cell_type": "markdown",
      "metadata": {
        "id": "FafcG4MOGNK7"
      },
      "source": [
        "\n",
        "Можно заметить, что у гнома неизменна hired_date и разные reported_date, получается каждый гном примерно раз в месяц отчитывается о количестве добытого золота.Посмотрим на первые 40 строк,  чтобы проверить продолжается ли эта тенденция для второго гнома. Так как gold_mined не сильно меняется, то становится понятно, что каждый месяц счетчик по сути обнуляется и тогда становится понятно, что это количество добытого золота не за весь период работы reported_date-hired_date, а за последний месяц. \n"
      ]
    },
    {
      "cell_type": "code",
      "metadata": {
        "colab": {
          "base_uri": "https://localhost:8080/"
        },
        "id": "1TsjIM76HC4z",
        "outputId": "268e394f-b2b9-48db-f72d-41cf45a31edd"
      },
      "source": [
        "print(gold_mining_data.head(40))"
      ],
      "execution_count": 9,
      "outputs": [
        {
          "output_type": "stream",
          "name": "stdout",
          "text": [
            "    dwarf_id hired_date reported_date  gold_mined hammer_date\n",
            "0          1 2014-01-01    2014-01-31         656  2014-01-01\n",
            "1          1 2014-01-01    2014-02-28         565  2014-01-01\n",
            "2          1 2014-01-01    2014-03-31         516  2014-01-01\n",
            "3          1 2014-01-01    2014-04-30         568  2014-01-01\n",
            "4          1 2014-01-01    2014-05-31         556  2014-01-01\n",
            "5          1 2014-01-01    2014-06-30         565  2014-01-01\n",
            "6          1 2014-01-01    2014-07-31         512  2014-01-01\n",
            "7          1 2014-01-01    2014-08-31         547  2014-01-01\n",
            "8          1 2014-01-01    2014-09-30         507  2014-01-01\n",
            "9          1 2014-01-01    2014-10-31         487  2014-01-01\n",
            "10         1 2014-01-01    2014-11-30         500  2014-01-01\n",
            "11         1 2014-01-01    2014-12-31         485  2014-01-01\n",
            "12         1 2014-01-01    2015-01-31         489  2014-01-01\n",
            "13         1 2014-01-01    2015-02-28         428  2014-01-01\n",
            "14         1 2014-01-01    2015-03-31         479  2014-01-01\n",
            "15         1 2014-01-01    2015-04-30         445  2014-01-01\n",
            "16         1 2014-01-01    2015-05-31         446  2014-01-01\n",
            "17         1 2014-01-01    2015-06-30         505  2014-01-01\n",
            "18         1 2014-01-01    2015-07-31         407  2014-01-01\n",
            "19         1 2014-01-01    2015-08-31         409  2014-01-01\n",
            "20         2 2014-01-01    2014-01-31         561  2014-01-01\n",
            "21         2 2014-01-01    2014-02-28         580  2014-01-01\n",
            "22         2 2014-01-01    2014-03-31         542  2014-01-01\n",
            "23         2 2014-01-01    2014-04-30         600  2014-01-01\n",
            "24         2 2014-01-01    2014-05-31         573  2014-01-01\n",
            "25         2 2014-01-01    2014-06-30         553  2014-01-01\n",
            "26         2 2014-01-01    2014-07-31         520  2014-01-01\n",
            "27         2 2014-01-01    2014-08-31         577  2014-01-01\n",
            "28         2 2014-01-01    2014-09-30         498  2014-01-01\n",
            "29         2 2014-01-01    2014-10-31         525  2014-01-01\n",
            "30         2 2014-01-01    2014-11-30         480  2014-01-01\n",
            "31         2 2014-01-01    2014-12-31         479  2014-01-01\n",
            "32         2 2014-01-01    2015-01-31         501  2014-01-01\n",
            "33         2 2014-01-01    2015-02-28         437  2014-01-01\n",
            "34         2 2014-01-01    2015-03-31         460  2014-01-01\n",
            "35         2 2014-01-01    2015-04-30         501  2014-01-01\n",
            "36         2 2014-01-01    2015-05-31         453  2014-01-01\n",
            "37         2 2014-01-01    2015-06-30         406  2014-01-01\n",
            "38         2 2014-01-01    2015-07-31         384  2014-01-01\n",
            "39         2 2014-01-01    2015-08-31         435  2014-01-01\n"
          ]
        }
      ]
    },
    {
      "cell_type": "markdown",
      "metadata": {
        "id": "92Vex3OfHGCB"
      },
      "source": [
        "## Преобразование данных - поиск медианного колчества добытого каждым гномом золота\n",
        "\n",
        "Наше предположение верно, чтобы не хранить данные о каждом месяце работы гнома и том, сколько золота он добыл, можно для каждого гнома оставить только среднее количество добытого золота или медиану. Но для начала посмотрим насколько это будет справедливо сделать и какую метрику лучше выбрать, среднее или медиану. Для этого построим рапределение для всего датасета, если оно нормальное, то стоит выбрать медиану. "
      ]
    },
    {
      "cell_type": "code",
      "metadata": {
        "colab": {
          "base_uri": "https://localhost:8080/",
          "height": 367
        },
        "id": "Ux20BtouJ6dc",
        "outputId": "f1c3b06f-8bd4-44f7-96c3-bba28c74e137"
      },
      "source": [
        "\n",
        "# напишем функцию для построения гистограммы\n",
        "def my_hist(data,col):# функция для построения гистограммы\n",
        "    plt.show()\n",
        "    plt.figure(figsize=(15,5))\n",
        "    hist=data[col].plot(kind='hist',# гистограмма\n",
        "                    bins=40,\n",
        "                    alpha=0.5,\n",
        "                    ec='black',\n",
        "                    color='blue')\n",
        "    plt.axvline(x=data[col].median(),\n",
        "               linewidth=3,\n",
        "               color='red',\n",
        "               linestyle='--')\n",
        "    plt.axvline(x=data[col].mean(),\n",
        "               linewidth=3,\n",
        "               color='y',\n",
        "               linestyle='--')\n",
        "    plt.axvline(x=data[col].quantile(.05),\n",
        "               linewidth=3,\n",
        "               color='y',\n",
        "               linestyle='--')\n",
        "    plt.axvline(x=data[col].quantile(.95),\n",
        "               linewidth=3,\n",
        "               color='y',\n",
        "               linestyle='--')\n",
        "    plt.title('Распределение по столбцу '+col)\n",
        "    plt.xlabel('Значение')\n",
        "    plt.ylabel('Частота')\n",
        "    plt.grid()\n",
        "    plt.show()\n",
        "    print('-----------------------------------------------------------')\n",
        "my_hist(gold_mining_data,'gold_mined')"
      ],
      "execution_count": 10,
      "outputs": [
        {
          "output_type": "display_data",
          "data": {
            "image/png": "[encoded data removed]",
            "text/plain": [
              "<Figure size 1080x360 with 1 Axes>"
            ]
          },
          "metadata": {
            "needs_background": "light"
          }
        },
        {
          "output_type": "stream",
          "name": "stdout",
          "text": [
            "-----------------------------------------------------------\n"
          ]
        }
      ]
    },
    {
      "cell_type": "markdown",
      "metadata": {
        "id": "ZZ0cnTfcK83L"
      },
      "source": [
        "Распределение нормальное, выбросов нет, значения медианы и среднего отличаются не сильно. Можно взять медиану. "
      ]
    },
    {
      "cell_type": "code",
      "metadata": {
        "id": "Co7muTzXQ4lY"
      },
      "source": [
        "import warnings\n",
        "warnings.filterwarnings('ignore')"
      ],
      "execution_count": 11,
      "outputs": []
    },
    {
      "cell_type": "code",
      "metadata": {
        "colab": {
          "base_uri": "https://localhost:8080/",
          "height": 206
        },
        "id": "amjWuF38Tcsz",
        "outputId": "b5b70345-cdf7-47ea-d734-6ac0e520f059"
      },
      "source": [
        "gold_mining_data_temp=pd.DataFrame()#создаем датафрейм для записи туда медианного количества добытого золота\n",
        "gold_mining_data_temp=gold_mining_data.groupby('dwarf_id')['gold_mined'].median()# записываем в новый датафрейм нужные нам медианные значения для каждого гнома\n",
        "gold_mining_data_new=gold_mining_data[['dwarf_id','hired_date','reported_date','hammer_date']]# оставляем все столбцы, кроме 'gold_mined', чтобы при merge не возникло gold_mined_x и gold_mined_y\n",
        "gold_mining_data_new=pd.merge(gold_mining_data_new, gold_mining_data_temp, on='dwarf_id')# соединяем датафреймы по столбцу 'draft_id'\n",
        "gold_mining_data_new.head()"
      ],
      "execution_count": 12,
      "outputs": [
        {
          "output_type": "execute_result",
          "data": {
            "text/html": [
              "<div>\n",
              "<style scoped>\n",
              "    .dataframe tbody tr th:only-of-type {\n",
              "        vertical-align: middle;\n",
              "    }\n",
              "\n",
              "    .dataframe tbody tr th {\n",
              "        vertical-align: top;\n",
              "    }\n",
              "\n",
              "    .dataframe thead th {\n",
              "        text-align: right;\n",
              "    }\n",
              "</style>\n",
              "<table border=\"1\" class=\"dataframe\">\n",
              "  <thead>\n",
              "    <tr style=\"text-align: right;\">\n",
              "      <th></th>\n",
              "      <th>dwarf_id</th>\n",
              "      <th>hired_date</th>\n",
              "      <th>reported_date</th>\n",
              "      <th>hammer_date</th>\n",
              "      <th>gold_mined</th>\n",
              "    </tr>\n",
              "  </thead>\n",
              "  <tbody>\n",
              "    <tr>\n",
              "      <th>0</th>\n",
              "      <td>1</td>\n",
              "      <td>2014-01-01</td>\n",
              "      <td>2014-01-31</td>\n",
              "      <td>2014-01-01</td>\n",
              "      <td>502.5</td>\n",
              "    </tr>\n",
              "    <tr>\n",
              "      <th>1</th>\n",
              "      <td>1</td>\n",
              "      <td>2014-01-01</td>\n",
              "      <td>2014-02-28</td>\n",
              "      <td>2014-01-01</td>\n",
              "      <td>502.5</td>\n",
              "    </tr>\n",
              "    <tr>\n",
              "      <th>2</th>\n",
              "      <td>1</td>\n",
              "      <td>2014-01-01</td>\n",
              "      <td>2014-03-31</td>\n",
              "      <td>2014-01-01</td>\n",
              "      <td>502.5</td>\n",
              "    </tr>\n",
              "    <tr>\n",
              "      <th>3</th>\n",
              "      <td>1</td>\n",
              "      <td>2014-01-01</td>\n",
              "      <td>2014-04-30</td>\n",
              "      <td>2014-01-01</td>\n",
              "      <td>502.5</td>\n",
              "    </tr>\n",
              "    <tr>\n",
              "      <th>4</th>\n",
              "      <td>1</td>\n",
              "      <td>2014-01-01</td>\n",
              "      <td>2014-05-31</td>\n",
              "      <td>2014-01-01</td>\n",
              "      <td>502.5</td>\n",
              "    </tr>\n",
              "  </tbody>\n",
              "</table>\n",
              "</div>"
            ],
            "text/plain": [
              "   dwarf_id hired_date reported_date hammer_date  gold_mined\n",
              "0         1 2014-01-01    2014-01-31  2014-01-01       502.5\n",
              "1         1 2014-01-01    2014-02-28  2014-01-01       502.5\n",
              "2         1 2014-01-01    2014-03-31  2014-01-01       502.5\n",
              "3         1 2014-01-01    2014-04-30  2014-01-01       502.5\n",
              "4         1 2014-01-01    2014-05-31  2014-01-01       502.5"
            ]
          },
          "metadata": {},
          "execution_count": 12
        }
      ]
    },
    {
      "cell_type": "markdown",
      "metadata": {
        "id": "BocT62UZHJi1"
      },
      "source": [
        "У нас получился датафрейм со медианным количеством добытого золота для каждого гнома, но при этом строк для каждого гнома осталость столько же, сколько смен он отработал. Чтобы оставить только по одной строке для каждого гнома со всей нужной нам информацией, создадим датафрейм со столбцом 'draft_id' и максимальной датой в столбце 'reported_date', потом сделаем merge по 'draft_id' с параметром how='inner' и получим датафрейм с данными по каждому гному, в котором будет его id, дата начала работы, дата последнего отчета о добытом зололоте, поколение кирки и медианное количетсво добытого золота за весь период работы. "
      ]
    },
    {
      "cell_type": "code",
      "metadata": {
        "colab": {
          "base_uri": "https://localhost:8080/",
          "height": 206
        },
        "id": "STwcD-mkVyuY",
        "outputId": "33faaa0e-59c0-4943-b574-d7eb2fa6cb5b"
      },
      "source": [
        "gold_mining_data_date=gold_mining_data.groupby('dwarf_id')['reported_date'].max() \n",
        "\n",
        "gold_mining_data_new=pd.merge(gold_mining_data_new,gold_mining_data_date, on=['dwarf_id','reported_date'],how='inner')\n",
        "gold_mining_data_new.head()"
      ],
      "execution_count": 13,
      "outputs": [
        {
          "output_type": "execute_result",
          "data": {
            "text/html": [
              "<div>\n",
              "<style scoped>\n",
              "    .dataframe tbody tr th:only-of-type {\n",
              "        vertical-align: middle;\n",
              "    }\n",
              "\n",
              "    .dataframe tbody tr th {\n",
              "        vertical-align: top;\n",
              "    }\n",
              "\n",
              "    .dataframe thead th {\n",
              "        text-align: right;\n",
              "    }\n",
              "</style>\n",
              "<table border=\"1\" class=\"dataframe\">\n",
              "  <thead>\n",
              "    <tr style=\"text-align: right;\">\n",
              "      <th></th>\n",
              "      <th>dwarf_id</th>\n",
              "      <th>hired_date</th>\n",
              "      <th>reported_date</th>\n",
              "      <th>hammer_date</th>\n",
              "      <th>gold_mined</th>\n",
              "    </tr>\n",
              "  </thead>\n",
              "  <tbody>\n",
              "    <tr>\n",
              "      <th>0</th>\n",
              "      <td>1</td>\n",
              "      <td>2014-01-01</td>\n",
              "      <td>2015-08-31</td>\n",
              "      <td>2014-01-01</td>\n",
              "      <td>502.5</td>\n",
              "    </tr>\n",
              "    <tr>\n",
              "      <th>1</th>\n",
              "      <td>2</td>\n",
              "      <td>2014-01-01</td>\n",
              "      <td>2015-08-31</td>\n",
              "      <td>2014-01-01</td>\n",
              "      <td>501.0</td>\n",
              "    </tr>\n",
              "    <tr>\n",
              "      <th>2</th>\n",
              "      <td>3</td>\n",
              "      <td>2014-01-01</td>\n",
              "      <td>2015-08-31</td>\n",
              "      <td>2014-01-01</td>\n",
              "      <td>488.0</td>\n",
              "    </tr>\n",
              "    <tr>\n",
              "      <th>3</th>\n",
              "      <td>4</td>\n",
              "      <td>2014-01-01</td>\n",
              "      <td>2015-08-31</td>\n",
              "      <td>2014-01-01</td>\n",
              "      <td>511.0</td>\n",
              "    </tr>\n",
              "    <tr>\n",
              "      <th>4</th>\n",
              "      <td>5</td>\n",
              "      <td>2014-01-01</td>\n",
              "      <td>2015-08-31</td>\n",
              "      <td>2014-01-01</td>\n",
              "      <td>504.0</td>\n",
              "    </tr>\n",
              "  </tbody>\n",
              "</table>\n",
              "</div>"
            ],
            "text/plain": [
              "   dwarf_id hired_date reported_date hammer_date  gold_mined\n",
              "0         1 2014-01-01    2015-08-31  2014-01-01       502.5\n",
              "1         2 2014-01-01    2015-08-31  2014-01-01       501.0\n",
              "2         3 2014-01-01    2015-08-31  2014-01-01       488.0\n",
              "3         4 2014-01-01    2015-08-31  2014-01-01       511.0\n",
              "4         5 2014-01-01    2015-08-31  2014-01-01       504.0"
            ]
          },
          "metadata": {},
          "execution_count": 13
        }
      ]
    },
    {
      "cell_type": "code",
      "metadata": {
        "colab": {
          "base_uri": "https://localhost:8080/",
          "height": 367
        },
        "id": "8olvtfOgc114",
        "outputId": "ac9bfb95-6a57-4098-857f-744de6142483"
      },
      "source": [
        "my_hist(gold_mining_data_new,'gold_mined')"
      ],
      "execution_count": 14,
      "outputs": [
        {
          "output_type": "display_data",
          "data": {
            "image/png": "[encoded data removed]",
            "text/plain": [
              "<Figure size 1080x360 with 1 Axes>"
            ]
          },
          "metadata": {
            "needs_background": "light"
          }
        },
        {
          "output_type": "stream",
          "name": "stdout",
          "text": [
            "-----------------------------------------------------------\n"
          ]
        }
      ]
    },
    {
      "cell_type": "markdown",
      "metadata": {
        "id": "C-Nq2M_3JjGc"
      },
      "source": [
        "Распределение немного изменило свою форму, но осталось нормальным.  Проверим сколько гномов осталось в датасете."
      ]
    },
    {
      "cell_type": "code",
      "metadata": {
        "colab": {
          "base_uri": "https://localhost:8080/"
        },
        "id": "Q_1IWrvK_6MB",
        "outputId": "a0042364-e563-4e1c-f3ad-dee1d396ba00"
      },
      "source": [
        "gold_mining_data_1=gold_mining_data_new.loc[gold_mining_data_new['hammer_date']=='2014-01-01']\n",
        "print(gold_mining_data_1['dwarf_id'].nunique())\n",
        "gold_mining_data_2=gold_mining_data_new.loc[gold_mining_data_new['hammer_date']=='2015-01-01']\n",
        "print(gold_mining_data_2['dwarf_id'].nunique())"
      ],
      "execution_count": 15,
      "outputs": [
        {
          "output_type": "stream",
          "name": "stdout",
          "text": [
            "531\n",
            "2146\n"
          ]
        }
      ]
    },
    {
      "cell_type": "markdown",
      "metadata": {
        "id": "35xcomjuKJyz"
      },
      "source": [
        "То же количество, что и до преобразования. Посмотрим как изменилось распределение для 1-го и 2-го поколения кирок по числу добытого золота. "
      ]
    },
    {
      "cell_type": "code",
      "metadata": {
        "colab": {
          "base_uri": "https://localhost:8080/",
          "height": 351
        },
        "id": "rEEO6dfqBS5B",
        "outputId": "6d6ab661-163e-4a07-e5c1-2fa9d0d6984a"
      },
      "source": [
        "fig, ax = plt.subplots(figsize=(10,5))\n",
        "gold_mining_data_1['gold_mined'].plot(kind='hist', ec='black', bins=50)\n",
        "gold_mining_data_2['gold_mined'].plot(kind='hist', ec='black', bins=50)\n",
        "\n",
        "plt.xlabel('Количество добытого золота')\n",
        "plt.ylabel('Частота')\n",
        "plt.legend(['old','new'])\n",
        "\n"
      ],
      "execution_count": 16,
      "outputs": [
        {
          "output_type": "execute_result",
          "data": {
            "text/plain": [
              "<matplotlib.legend.Legend at 0x7f337bcb6bd0>"
            ]
          },
          "metadata": {},
          "execution_count": 16
        },
        {
          "output_type": "display_data",
          "data": {
            "image/png": "[encoded data removed]",
            "text/plain": [
              "<Figure size 720x360 with 1 Axes>"
            ]
          },
          "metadata": {
            "needs_background": "light"
          }
        }
      ]
    },
    {
      "cell_type": "markdown",
      "metadata": {
        "id": "khtOe8GnKWyd"
      },
      "source": [
        "Можно заметить, что количество добытого золота гномами с кирками первого поколения уже с медианным значением, вместо суммарного за весь период наблюдения - значительно меньше. Если сравнить количество суммарно добытого золота за весь периол наблюдений для кирок первого и второго поколения, и количество добытого золота, если брать медианные значения для каждого гнома, то разница будет значительная. \n",
        "\n",
        "## Количество добытого золота для кирок разных поколений"
      ]
    },
    {
      "cell_type": "code",
      "metadata": {
        "colab": {
          "base_uri": "https://localhost:8080/"
        },
        "id": "pUBC5eB9_t70",
        "outputId": "03aad139-1aea-4f63-bade-d126a6b49f54"
      },
      "source": [
        "print('Количество добытого золота для разных поколений кирок добытого золота за весь период суммарно: ',gold_mining_data.groupby('hammer_date')['gold_mined'].sum())\n",
        "print('Количество добытого золота для разных поколений кирок если брать только медианные значения по каждому гному: ',gold_mining_data_new.groupby('hammer_date')['gold_mined'].sum())\n"
      ],
      "execution_count": 17,
      "outputs": [
        {
          "output_type": "stream",
          "name": "stdout",
          "text": [
            "Количество добытого золота для разных поколений кирок добытого золота за весь период суммарно:  hammer_date\n",
            "2014-01-01    3640010\n",
            "2015-01-01    4094482\n",
            "Name: gold_mined, dtype: int64\n",
            "Количество добытого золота для разных поколений кирок если брать только медианные значения по каждому гному:  hammer_date\n",
            "2014-01-01     287335.5\n",
            "2015-01-01    1333445.0\n",
            "Name: gold_mined, dtype: float64\n"
          ]
        }
      ]
    },
    {
      "cell_type": "markdown",
      "metadata": {
        "id": "3vO40qElHFCu"
      },
      "source": [
        "Разница значительная, это доказывает, что кирки нового поколения намного более эффективны, но чтобы еще раз в этом убедиться, давайте посчитаем такую величину, которая будет показывать сколько золота добыл гном киркой нового и старого поколения за определенный период времени. Для этого вернемся к датасетам gold_mining_data. \n",
        "\n",
        "## Расчет эффективности кирок разных поколений\n",
        "Возьмем суммарное количество добытого золота и разделим его на количество отработанных месяцев. То есть разделим все добытое золото, на все отработанное время. "
      ]
    },
    {
      "cell_type": "code",
      "metadata": {
        "colab": {
          "base_uri": "https://localhost:8080/"
        },
        "id": "yhEwGMNrN6pY",
        "outputId": "4a6285c4-8739-416c-9357-bb8c6de5472c"
      },
      "source": [
        "gold_mining_data_temp=pd.DataFrame()#создаем датафрейм для записи туда суммы добытого золота\n",
        "gold_mining_data_temp=gold_mining_data.groupby('dwarf_id')['gold_mined'].sum()# записываем в новый датафрейм сумму добытого золота за все время работы гнома\n",
        "gold_mining_data_new=gold_mining_data[['dwarf_id','hired_date','reported_date','hammer_date']]# оставляем все столбцы, кроме 'gold_mined', чтобы при merge не возникло gold_mined_x и gold_mined_y\n",
        "gold_mining_data_new=pd.merge(gold_mining_data_new, gold_mining_data_temp, on='dwarf_id')# соединяем датафреймы по столбцу 'draft_id'\n",
        "print(gold_mining_data_new.head())\n",
        "\n",
        "gold_mining_data_date=gold_mining_data.groupby('dwarf_id')['reported_date'].max() \n",
        "gold_mining_data_new=pd.merge(gold_mining_data_new,gold_mining_data_date, on=['dwarf_id','reported_date'],how='inner')\n",
        "print(gold_mining_data_new.head())\n"
      ],
      "execution_count": 18,
      "outputs": [
        {
          "output_type": "stream",
          "name": "stdout",
          "text": [
            "   dwarf_id hired_date reported_date hammer_date  gold_mined\n",
            "0         1 2014-01-01    2014-01-31  2014-01-01       10072\n",
            "1         1 2014-01-01    2014-02-28  2014-01-01       10072\n",
            "2         1 2014-01-01    2014-03-31  2014-01-01       10072\n",
            "3         1 2014-01-01    2014-04-30  2014-01-01       10072\n",
            "4         1 2014-01-01    2014-05-31  2014-01-01       10072\n",
            "   dwarf_id hired_date reported_date hammer_date  gold_mined\n",
            "0         1 2014-01-01    2015-08-31  2014-01-01       10072\n",
            "1         2 2014-01-01    2015-08-31  2014-01-01       10065\n",
            "2         3 2014-01-01    2015-08-31  2014-01-01        9898\n",
            "3         4 2014-01-01    2015-08-31  2014-01-01       10050\n",
            "4         5 2014-01-01    2015-08-31  2014-01-01       10136\n"
          ]
        }
      ]
    },
    {
      "cell_type": "code",
      "metadata": {
        "colab": {
          "base_uri": "https://localhost:8080/"
        },
        "id": "uTwuEysBOxYL",
        "outputId": "bc702bfb-2a4e-4e26-cf71-1e0537ac4d35"
      },
      "source": [
        "import numpy as np\n",
        "gold_mining_data_new['nb_months']=(gold_mining_data_new['reported_date']-gold_mining_data_new['hired_date'])/np.timedelta64(1, 'M')\n",
        "gold_mining_data_new['nb_months'] = gold_mining_data_new['nb_months'].astype(int)+1# прибавляем 1, так как при вычислениях получается везде на 1 месяц меньше\n",
        "# из-за того, что в reported_date указывается не 1-е число следующего месяца, а последнее число текущего. \n",
        "print(gold_mining_data_new.head())\n",
        "gold_mining_data_new['efficiency']=gold_mining_data_new['gold_mined']/gold_mining_data_new['nb_months'] \n"
      ],
      "execution_count": 31,
      "outputs": [
        {
          "output_type": "stream",
          "name": "stdout",
          "text": [
            "   dwarf_id hired_date reported_date  ... gold_mined  nb_months  efficiency\n",
            "0         1 2014-01-01    2015-08-31  ...      10072         20      503.60\n",
            "1         2 2014-01-01    2015-08-31  ...      10065         20      503.25\n",
            "2         3 2014-01-01    2015-08-31  ...       9898         20      494.90\n",
            "3         4 2014-01-01    2015-08-31  ...      10050         20      502.50\n",
            "4         5 2014-01-01    2015-08-31  ...      10136         20      506.80\n",
            "\n",
            "[5 rows x 7 columns]\n"
          ]
        }
      ]
    },
    {
      "cell_type": "code",
      "metadata": {
        "colab": {
          "base_uri": "https://localhost:8080/",
          "height": 449
        },
        "id": "LOIE1kjjNuFe",
        "outputId": "7b257efd-1ec4-4672-d989-b7c9cdfb4f5e"
      },
      "source": [
        "\n",
        "ax = sns.boxplot(x='efficiency', y='hammer_date', data=gold_mining_data_new, palette=\"rainbow\")\n",
        "sns.set(rc={'figure.figsize':(14,6)})\n",
        "plt.title('Ящик с усами для сравнения эффективности кирок',  fontsize=17)\n",
        "plt.xlabel('Эффективность кирки, кол. золота/время работы', fontsize=12)\n",
        "plt.ylabel('Поколение кирки', fontsize=12)\n",
        "\n",
        "plt.show()\n",
        "\n",
        "print('Эффективность кирки старого поколения: ',gold_mining_data_1['efficiency'].median())\n",
        "print('Эффективность кирки нового поколения: ',gold_mining_data_2['efficiency'].median())"
      ],
      "execution_count": 42,
      "outputs": [
        {
          "output_type": "display_data",
          "data": {
            "image/png": "[encoded data removed]",
            "text/plain": [
              "<Figure size 1008x432 with 1 Axes>"
            ]
          },
          "metadata": {}
        },
        {
          "output_type": "stream",
          "name": "stdout",
          "text": [
            "Эффективность кирки старого поколения:  543.3333333333334\n",
            "Эффективность кирки нового поколения:  574.1875\n"
          ]
        }
      ]
    },
    {
      "cell_type": "markdown",
      "metadata": {
        "id": "JvcqlaxeWzdG"
      },
      "source": [
        "По ящику с усами видно, что разброс значений для нового поколения больше, чем для старого. Но так же видно, что если смотреть на медиану в этих выборках, то эффективность кирок нового поколения выше, чем эффективность кирок старого поколения. "
      ]
    },
    {
      "cell_type": "code",
      "metadata": {
        "id": "AmvDnsESapTO"
      },
      "source": [
        ""
      ],
      "execution_count": null,
      "outputs": []
    },
    {
      "cell_type": "markdown",
      "metadata": {
        "id": "HULnFyXWgMLW"
      },
      "source": [
        "## Вывод\n",
        "Таким образом, проведя исследование можно понять, почему CEO нашей компании усомнился в эффективности кирок нового поколения. Это его заблуждение могло быть вызвано тем, что данных по старым киркам больше и гномы со старыми кирками успели в сумме добыть больше золота, чем гномы c кирками нового поколения. Хоть гномов с кирками нового поколения было больше, они успели сходить на меньшее количество \"смен\". Не стоит забывать конечно и про то, что гномов с кирками нового поколения у нас почти в 4 раза больше, поэтому ясно, что золота они могли бы добыть больше, даже если работали бы менее эффективно. Для того, чтобы сравнить эффективность работы с кирами разных поколений, я для каждого поколения кирок посчитала величину, показывающую сколько гном добывает золота в месяц в среднем( разделила количество всего добытого гномом золота на количетсво отработанных им месяцев). И этот показатель проиллюстрировал разницу в эффективности киркок. Стало ясно, что кирки нового поколения эффективнее, чем кирки старого. \n",
        "\n",
        "P.S. Если честно я сама немного запуталась с этими кирками и гномами, но получилось вот такое исследование. Спасибо за интересное тестовое, буду рада фидбеку по проделанной работе( говорят, что он помогает расти)). Спасибо за уделенное время. \n"
      ]
    },
    {
      "cell_type": "code",
      "metadata": {
        "id": "G3uhahFTi3BJ"
      },
      "source": [
        ""
      ],
      "execution_count": null,
      "outputs": []
    }
  ]
}